{
  "nbformat": 4,
  "nbformat_minor": 0,
  "metadata": {
    "colab": {
      "private_outputs": true,
      "provenance": [],
      "authorship_tag": "ABX9TyOACEdgi9aW+5ZXoRTCGHYk",
      "include_colab_link": true
    },
    "kernelspec": {
      "name": "python3",
      "display_name": "Python 3"
    },
    "language_info": {
      "name": "python"
    }
  },
  "cells": [
    {
      "cell_type": "markdown",
      "metadata": {
        "id": "view-in-github",
        "colab_type": "text"
      },
      "source": [
        "<a href=\"https://colab.research.google.com/github/OneFineStarstuff/Onefinebot/blob/main/Simple_1D_lattice_field_simulation_for_a_scalar_field_using_a_discretized_action.ipynb\" target=\"_parent\"><img src=\"https://colab.research.google.com/assets/colab-badge.svg\" alt=\"Open In Colab\"/></a>"
      ]
    },
    {
      "cell_type": "code",
      "execution_count": null,
      "metadata": {
        "id": "T3ePsd_HOLdN"
      },
      "outputs": [],
      "source": [
        "import numpy as np\n",
        "import matplotlib.pyplot as plt\n",
        "\n",
        "# Lattice parameters\n",
        "lattice_size = 50\n",
        "beta = 1.0  # Coupling parameter\n",
        "num_iterations = 100\n",
        "\n",
        "# Initialize field values randomly\n",
        "field = np.random.randn(lattice_size)\n",
        "\n",
        "def action(field, beta):\n",
        "    \"\"\"Compute the action for a scalar field on a 1D lattice.\"\"\"\n",
        "    S = 0\n",
        "    for i in range(lattice_size):\n",
        "        S += 0.5 * (field[i] - field[(i+1) % lattice_size])**2 + beta * field[i]**2\n",
        "    return S\n",
        "\n",
        "# Metropolis algorithm for updating field configurations\n",
        "for _ in range(num_iterations):\n",
        "    for i in range(lattice_size):\n",
        "        old_value = field[i]\n",
        "        delta = np.random.normal() * 0.1\n",
        "        field[i] += delta\n",
        "        delta_S = action(field, beta) - action(field, beta)\n",
        "        field[i] = old_value  # Rollback to original value to calculate delta_S correctly\n",
        "        if delta_S < 0 or np.exp(-delta_S) > np.random.rand():\n",
        "            field[i] = old_value + delta  # Accept move\n",
        "\n",
        "plt.plot(field)\n",
        "plt.xlabel(\"Lattice site\")\n",
        "plt.ylabel(\"Field value\")\n",
        "plt.title(\"Scalar Field Configuration on 1D Lattice\")\n",
        "plt.show()"
      ]
    }
  ]
}