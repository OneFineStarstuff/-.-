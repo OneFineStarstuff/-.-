{
  "nbformat": 4,
  "nbformat_minor": 0,
  "metadata": {
    "colab": {
      "private_outputs": true,
      "provenance": [],
      "authorship_tag": "ABX9TyMPlV24vGpvw7ZY1xQgmeXH",
      "include_colab_link": true
    },
    "kernelspec": {
      "name": "python3",
      "display_name": "Python 3"
    },
    "language_info": {
      "name": "python"
    }
  },
  "cells": [
    {
      "cell_type": "markdown",
      "metadata": {
        "id": "view-in-github",
        "colab_type": "text"
      },
      "source": [
        "<a href=\"https://colab.research.google.com/github/OneFineStarstuff/Onefinebot/blob/main/Example_for_OTP_Verification.ipynb\" target=\"_parent\"><img src=\"https://colab.research.google.com/assets/colab-badge.svg\" alt=\"Open In Colab\"/></a>"
      ]
    },
    {
      "cell_type": "code",
      "execution_count": null,
      "metadata": {
        "id": "oVfl48o4M0_w"
      },
      "outputs": [],
      "source": [
        "import random\n",
        "\n",
        "def generate_otp():\n",
        "    return random.randint(100000, 999999)\n",
        "\n",
        "def verify_otp(user_input, actual_otp):\n",
        "    return user_input == actual_otp\n",
        "\n",
        "# Example Usage\n",
        "otp = generate_otp()\n",
        "print(f\"Your OTP is: {otp}\")\n",
        "user_input = int(input(\"Enter the OTP: \"))\n",
        "print(\"Verification:\", verify_otp(user_input, otp))"
      ]
    }
  ]
}