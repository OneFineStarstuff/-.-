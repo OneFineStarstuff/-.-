{
  "nbformat": 4,
  "nbformat_minor": 0,
  "metadata": {
    "colab": {
      "private_outputs": true,
      "provenance": [],
      "authorship_tag": "ABX9TyMAjseaUaiIjl5OoAO5ZSO9",
      "include_colab_link": true
    },
    "kernelspec": {
      "name": "python3",
      "display_name": "Python 3"
    },
    "language_info": {
      "name": "python"
    }
  },
  "cells": [
    {
      "cell_type": "markdown",
      "metadata": {
        "id": "view-in-github",
        "colab_type": "text"
      },
      "source": [
        "<a href=\"https://colab.research.google.com/github/OneFineStarstuff/Onefinebot/blob/main/Advanced_Reinforcement_Learning_with_OpenAI_Gym.ipynb\" target=\"_parent\"><img src=\"https://colab.research.google.com/assets/colab-badge.svg\" alt=\"Open In Colab\"/></a>"
      ]
    },
    {
      "cell_type": "code",
      "source": [
        "pip install stable_baselines3"
      ],
      "metadata": {
        "id": "jPB39JSwwNtf"
      },
      "execution_count": null,
      "outputs": []
    },
    {
      "cell_type": "code",
      "source": [
        "pip install shimmy"
      ],
      "metadata": {
        "id": "9-XVzyIfwXvy"
      },
      "execution_count": null,
      "outputs": []
    },
    {
      "cell_type": "code",
      "source": [
        "!pip uninstall gym -y\n",
        "!pip install gymnasium"
      ],
      "metadata": {
        "id": "1vpXggzGw4sX"
      },
      "execution_count": null,
      "outputs": []
    },
    {
      "cell_type": "code",
      "execution_count": null,
      "metadata": {
        "id": "-uY0YvNev22J"
      },
      "outputs": [],
      "source": [
        "import gym\n",
        "import numpy as np\n",
        "from stable_baselines3 import DQN\n",
        "\n",
        "class AutonomousExplorer:\n",
        "    def __init__(self, environment_name=\"CartPole-v1\"):\n",
        "        self.env = gym.make(environment_name)\n",
        "        self.model = DQN(\"MlpPolicy\", self.env, verbose=1)\n",
        "\n",
        "    def train_agent(self, timesteps=10000):\n",
        "        self.model.learn(total_timesteps=timesteps)\n",
        "\n",
        "    def evaluate_agent(self, episodes=5):\n",
        "        for episode in range(episodes):\n",
        "            state, info = self.env.reset()  # Correctly unpack state and info\n",
        "            done = False\n",
        "            total_reward = 0\n",
        "            while not done:\n",
        "                action, _ = self.model.predict(state)\n",
        "                state, reward, terminated, truncated, info = self.env.step(action)  # Correctly unpack step result\n",
        "                done = terminated or truncated  # Combine termination conditions\n",
        "                total_reward += reward\n",
        "            print(f\"Episode {episode + 1}: Total Reward = {total_reward}\")\n",
        "\n",
        "# Example Usage\n",
        "if __name__ == \"__main__\":\n",
        "    explorer = AutonomousExplorer()\n",
        "    explorer.train_agent(timesteps=10000)\n",
        "    explorer.evaluate_agent(episodes=3)"
      ]
    },
    {
      "cell_type": "code",
      "source": [
        "!pip list | grep gym\n",
        "!pip list | grep stable-baselines3"
      ],
      "metadata": {
        "id": "5CcR4QirxrKb"
      },
      "execution_count": null,
      "outputs": []
    }
  ]
}