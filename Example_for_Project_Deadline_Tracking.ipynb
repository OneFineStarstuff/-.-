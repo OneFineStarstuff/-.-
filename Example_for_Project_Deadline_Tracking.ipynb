{
  "nbformat": 4,
  "nbformat_minor": 0,
  "metadata": {
    "colab": {
      "private_outputs": true,
      "provenance": [],
      "authorship_tag": "ABX9TyPifHKk4byyzuMnivQjGR+o",
      "include_colab_link": true
    },
    "kernelspec": {
      "name": "python3",
      "display_name": "Python 3"
    },
    "language_info": {
      "name": "python"
    }
  },
  "cells": [
    {
      "cell_type": "markdown",
      "metadata": {
        "id": "view-in-github",
        "colab_type": "text"
      },
      "source": [
        "<a href=\"https://colab.research.google.com/github/OneFineStarstuff/Onefinebot/blob/main/Example_for_Project_Deadline_Tracking.ipynb\" target=\"_parent\"><img src=\"https://colab.research.google.com/assets/colab-badge.svg\" alt=\"Open In Colab\"/></a>"
      ]
    },
    {
      "cell_type": "code",
      "execution_count": null,
      "metadata": {
        "id": "FMo2pi286xIU"
      },
      "outputs": [],
      "source": [
        "class ProjectTracker:\n",
        "    def __init__(self):\n",
        "        self.projects = {}  # Initialize an empty dictionary to store projects and deadlines\n",
        "\n",
        "    def add_project(self, name, deadline):\n",
        "        # Add the project and its deadline to the dictionary\n",
        "        self.projects[name] = deadline\n",
        "\n",
        "    def get_deadlines(self):\n",
        "        # Return the dictionary of projects and deadlines\n",
        "        return self.projects\n",
        "\n",
        "# Example Usage\n",
        "tracker = ProjectTracker()\n",
        "tracker.add_project(\"Website Launch\", \"2024-12-31\")\n",
        "print(tracker.get_deadlines())  # Output: {'Website Launch': '2024-12-31'}"
      ]
    }
  ]
}