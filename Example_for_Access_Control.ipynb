{
  "nbformat": 4,
  "nbformat_minor": 0,
  "metadata": {
    "colab": {
      "private_outputs": true,
      "provenance": [],
      "authorship_tag": "ABX9TyMznwKeXiXelxeacHBPqOa9",
      "include_colab_link": true
    },
    "kernelspec": {
      "name": "python3",
      "display_name": "Python 3"
    },
    "language_info": {
      "name": "python"
    }
  },
  "cells": [
    {
      "cell_type": "markdown",
      "metadata": {
        "id": "view-in-github",
        "colab_type": "text"
      },
      "source": [
        "<a href=\"https://colab.research.google.com/github/OneFineStarstuff/Onefinebot/blob/main/Example_for_Access_Control.ipynb\" target=\"_parent\"><img src=\"https://colab.research.google.com/assets/colab-badge.svg\" alt=\"Open In Colab\"/></a>"
      ]
    },
    {
      "cell_type": "code",
      "execution_count": null,
      "metadata": {
        "id": "xjsEa2qOE2Nx"
      },
      "outputs": [],
      "source": [
        "class AccessControl:\n",
        "    def __init__(self):\n",
        "        self.access_logs = []  # Initialize an empty list to store access logs\n",
        "\n",
        "    def log_access(self, user, area, timestamp):\n",
        "        # Append the access log details to the access_logs list\n",
        "        self.access_logs.append({\"user\": user, \"area\": area, \"timestamp\": timestamp})\n",
        "\n",
        "    def get_logs(self):\n",
        "        # Return the list of all access logs\n",
        "        return self.access_logs\n",
        "\n",
        "# Example Usage\n",
        "control = AccessControl()\n",
        "control.log_access(\"John Doe\", \"Server Room\", \"2024-12-30 14:00\")\n",
        "print(control.get_logs())\n",
        "# Output: [{'user': 'John Doe', 'area': 'Server Room', 'timestamp': '2024-12-30 14:00'}]"
      ]
    }
  ]
}