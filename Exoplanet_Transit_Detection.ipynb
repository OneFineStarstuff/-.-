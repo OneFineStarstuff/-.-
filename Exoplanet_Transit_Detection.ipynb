{
  "nbformat": 4,
  "nbformat_minor": 0,
  "metadata": {
    "colab": {
      "private_outputs": true,
      "provenance": [],
      "authorship_tag": "ABX9TyN7oG21bdWRISLYUyuYIlVj",
      "include_colab_link": true
    },
    "kernelspec": {
      "name": "python3",
      "display_name": "Python 3"
    },
    "language_info": {
      "name": "python"
    }
  },
  "cells": [
    {
      "cell_type": "markdown",
      "metadata": {
        "id": "view-in-github",
        "colab_type": "text"
      },
      "source": [
        "<a href=\"https://colab.research.google.com/github/OneFineStarstuff/Onefinebot/blob/main/Exoplanet_Transit_Detection.ipynb\" target=\"_parent\"><img src=\"https://colab.research.google.com/assets/colab-badge.svg\" alt=\"Open In Colab\"/></a>"
      ]
    },
    {
      "cell_type": "code",
      "execution_count": null,
      "metadata": {
        "id": "3uqrmk3dBXCC"
      },
      "outputs": [],
      "source": [
        "import numpy as np\n",
        "import matplotlib.pyplot as plt\n",
        "from scipy.signal import find_peaks\n",
        "\n",
        "# Simulate a light curve with periodic dips (e.g., due to exoplanet transits)\n",
        "time = np.linspace(0, 100, 1000)  # time in days\n",
        "flux = np.ones_like(time)  # baseline flux\n",
        "\n",
        "# Insert artificial transit events\n",
        "for t0 in [20, 40, 60, 80]:\n",
        "    transit_duration = 2\n",
        "    transit_depth = 0.02\n",
        "    transit_indices = (time >= t0) & (time < t0 + transit_duration)\n",
        "    flux[transit_indices] -= transit_depth\n",
        "\n",
        "# Add some noise\n",
        "flux += np.random.normal(0, 0.005, flux.shape)\n",
        "\n",
        "# Detect transits by finding peaks in the inverse of the flux signal\n",
        "peaks, _ = find_peaks(1 - flux, height=0.01)\n",
        "\n",
        "# Plotting the light curve\n",
        "plt.plot(time, flux, label='Light Curve')\n",
        "plt.plot(time[peaks], flux[peaks], 'ro', label='Detected Transits')\n",
        "plt.xlabel(\"Time (days)\")\n",
        "plt.ylabel(\"Relative Flux\")\n",
        "plt.title(\"Simulated Exoplanet Transit Detection\")\n",
        "plt.legend()\n",
        "plt.show()"
      ]
    }
  ]
}