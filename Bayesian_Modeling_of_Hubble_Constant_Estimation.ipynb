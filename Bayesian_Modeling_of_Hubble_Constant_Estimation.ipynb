{
  "nbformat": 4,
  "nbformat_minor": 0,
  "metadata": {
    "colab": {
      "private_outputs": true,
      "provenance": [],
      "authorship_tag": "ABX9TyOy77QGL/oGkZhh5pb75UyI",
      "include_colab_link": true
    },
    "kernelspec": {
      "name": "python3",
      "display_name": "Python 3"
    },
    "language_info": {
      "name": "python"
    }
  },
  "cells": [
    {
      "cell_type": "markdown",
      "metadata": {
        "id": "view-in-github",
        "colab_type": "text"
      },
      "source": [
        "<a href=\"https://colab.research.google.com/github/OneFineStarstuff/Onefinebot/blob/main/Bayesian_Modeling_of_Hubble_Constant_Estimation.ipynb\" target=\"_parent\"><img src=\"https://colab.research.google.com/assets/colab-badge.svg\" alt=\"Open In Colab\"/></a>"
      ]
    },
    {
      "cell_type": "code",
      "execution_count": null,
      "metadata": {
        "id": "GPOophPc6Bti"
      },
      "outputs": [],
      "source": [
        "pip install pymc3"
      ]
    },
    {
      "cell_type": "code",
      "source": [
        "import pymc3 as pm\n",
        "import numpy as np\n",
        "import matplotlib.pyplot as plt\n",
        "\n",
        "# Generate synthetic supernova data (distance, redshift)\n",
        "distance = np.linspace(100, 1000, 50)  # Placeholder distances in Mpc\n",
        "redshift = distance / 4400  # Assuming a Hubble constant H0 ~ 70 km/s/Mpc\n",
        "\n",
        "# Bayesian model for H0 estimation\n",
        "with pm.Model() as model:\n",
        "    # Prior for Hubble constant H0\n",
        "    H0 = pm.Normal(\"H0\", mu=70, sigma=10)\n",
        "\n",
        "    # Likelihood\n",
        "    observed_redshift = pm.Normal(\"observed_redshift\", mu=distance / H0, sigma=0.05, observed=redshift)\n",
        "\n",
        "    # Sample from posterior\n",
        "    trace = pm.sample(1000, return_inferencedata=True)\n",
        "\n",
        "# Plot posterior distribution of H0\n",
        "pm.plot_posterior(trace, var_names=[\"H0\"])\n",
        "plt.show()"
      ],
      "metadata": {
        "id": "eILVNQLg6KqX"
      },
      "execution_count": null,
      "outputs": []
    }
  ]
}