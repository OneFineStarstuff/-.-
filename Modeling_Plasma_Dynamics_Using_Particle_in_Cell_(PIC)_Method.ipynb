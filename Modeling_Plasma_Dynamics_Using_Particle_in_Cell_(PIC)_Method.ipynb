{
  "nbformat": 4,
  "nbformat_minor": 0,
  "metadata": {
    "colab": {
      "private_outputs": true,
      "provenance": [],
      "authorship_tag": "ABX9TyMg2QalQW/J9a8IIl48ES4t",
      "include_colab_link": true
    },
    "kernelspec": {
      "name": "python3",
      "display_name": "Python 3"
    },
    "language_info": {
      "name": "python"
    }
  },
  "cells": [
    {
      "cell_type": "markdown",
      "metadata": {
        "id": "view-in-github",
        "colab_type": "text"
      },
      "source": [
        "<a href=\"https://colab.research.google.com/github/OneFineStarstuff/Onefinebot/blob/main/Modeling_Plasma_Dynamics_Using_Particle_in_Cell_(PIC)_Method.ipynb\" target=\"_parent\"><img src=\"https://colab.research.google.com/assets/colab-badge.svg\" alt=\"Open In Colab\"/></a>"
      ]
    },
    {
      "cell_type": "code",
      "execution_count": null,
      "metadata": {
        "id": "KW3c7frjxGVx"
      },
      "outputs": [],
      "source": [
        "import numpy as np\n",
        "import matplotlib.pyplot as plt\n",
        "\n",
        "# Plasma simulation parameters\n",
        "n_particles = 100  # Number of particles\n",
        "box_length = 1.0  # Length of simulation box in meters\n",
        "dx = box_length / n_particles  # Particle spacing\n",
        "dt = 1e-5  # Time step in seconds\n",
        "n_steps = 100  # Number of simulation steps\n",
        "charge, mass = 1.6e-19, 9.11e-31  # Charge and mass of particles (e.g., electrons)\n",
        "\n",
        "# Initialize positions and velocities of particles\n",
        "positions = np.linspace(0, box_length, n_particles)\n",
        "velocities = np.random.normal(0, 1e4, n_particles)  # Initial velocities\n",
        "\n",
        "# Initialize electric field (constant field for simplicity)\n",
        "E_field = np.zeros(n_particles)  # Electric field at each particle's position\n",
        "E_field += 1e5  # Simple constant electric field\n",
        "\n",
        "# Particle update loop (basic particle-in-cell method)\n",
        "for step in range(n_steps):\n",
        "    # Update velocities due to electric field (F = qE, a = F/m)\n",
        "    velocities += (charge * E_field / mass) * dt\n",
        "\n",
        "    # Update positions based on velocity\n",
        "    positions += velocities * dt\n",
        "    positions %= box_length  # Implement periodic boundary conditions\n",
        "\n",
        "# Plot final positions\n",
        "plt.hist(positions, bins=30, density=True, alpha=0.7)\n",
        "plt.xlabel(\"Position (m)\")\n",
        "plt.ylabel(\"Density\")\n",
        "plt.title(\"Particle Distribution in Plasma Simulation\")\n",
        "plt.show()"
      ]
    }
  ]
}