{
  "nbformat": 4,
  "nbformat_minor": 0,
  "metadata": {
    "colab": {
      "private_outputs": true,
      "provenance": [],
      "authorship_tag": "ABX9TyOL+XPDENA4BZcTRXVucILZ",
      "include_colab_link": true
    },
    "kernelspec": {
      "name": "python3",
      "display_name": "Python 3"
    },
    "language_info": {
      "name": "python"
    }
  },
  "cells": [
    {
      "cell_type": "markdown",
      "metadata": {
        "id": "view-in-github",
        "colab_type": "text"
      },
      "source": [
        "<a href=\"https://colab.research.google.com/github/OneFineStarstuff/Onefinebot/blob/main/Example_Visualizing_an_NFW_Density_Profile.ipynb\" target=\"_parent\"><img src=\"https://colab.research.google.com/assets/colab-badge.svg\" alt=\"Open In Colab\"/></a>"
      ]
    },
    {
      "cell_type": "code",
      "execution_count": null,
      "metadata": {
        "id": "hEkNd5U8dOav"
      },
      "outputs": [],
      "source": [
        "import numpy as np\n",
        "import matplotlib.pyplot as plt\n",
        "\n",
        "# Constants\n",
        "rho_0 = 0.3  # Central density parameter, units of M_sun/pc^3\n",
        "r_s = 10.0  # Scale radius, units of kpc\n",
        "\n",
        "# Define NFW profile density function\n",
        "def nfw_density(r, rho_0, r_s):\n",
        "    return rho_0 / ((r / r_s) * (1 + r / r_s)**2)\n",
        "\n",
        "# Generate radii and compute densities\n",
        "radii = np.linspace(0.1, 100, 1000)  # Radii from 0.1 to 100 kpc\n",
        "densities = nfw_density(radii, rho_0, r_s)\n",
        "\n",
        "# Plot the NFW profile\n",
        "plt.plot(radii, densities, 'b-')\n",
        "plt.yscale(\"log\")\n",
        "plt.xlabel(\"Radius (kpc)\")\n",
        "plt.ylabel(\"Density (M_sun/kpc^3)\")\n",
        "plt.title(\"NFW Density Profile of a Dark Matter Halo\")\n",
        "plt.grid()\n",
        "plt.show()"
      ]
    }
  ]
}