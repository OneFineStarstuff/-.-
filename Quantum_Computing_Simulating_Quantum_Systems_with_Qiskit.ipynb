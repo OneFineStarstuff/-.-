{
  "nbformat": 4,
  "nbformat_minor": 0,
  "metadata": {
    "colab": {
      "private_outputs": true,
      "provenance": [],
      "authorship_tag": "ABX9TyOu8LVijvsFm1IIaGSi2jNc",
      "include_colab_link": true
    },
    "kernelspec": {
      "name": "python3",
      "display_name": "Python 3"
    },
    "language_info": {
      "name": "python"
    }
  },
  "cells": [
    {
      "cell_type": "markdown",
      "metadata": {
        "id": "view-in-github",
        "colab_type": "text"
      },
      "source": [
        "<a href=\"https://colab.research.google.com/github/OneFineStarstuff/Onefinebot/blob/main/Quantum_Computing_Simulating_Quantum_Systems_with_Qiskit.ipynb\" target=\"_parent\"><img src=\"https://colab.research.google.com/assets/colab-badge.svg\" alt=\"Open In Colab\"/></a>"
      ]
    },
    {
      "cell_type": "code",
      "source": [
        "pip install qiskit"
      ],
      "metadata": {
        "id": "poAF34d14unr"
      },
      "execution_count": null,
      "outputs": []
    },
    {
      "cell_type": "code",
      "source": [
        "!pip install qiskit-aer"
      ],
      "metadata": {
        "id": "yyFEo0CG47Xl"
      },
      "execution_count": null,
      "outputs": []
    },
    {
      "cell_type": "code",
      "execution_count": null,
      "metadata": {
        "id": "siwABZjx4mhk"
      },
      "outputs": [],
      "source": [
        "from qiskit import QuantumCircuit, transpile, Aer, execute\n",
        "from qiskit.visualization import plot_histogram\n",
        "import matplotlib.pyplot as plt\n",
        "\n",
        "# Initialize a 2-qubit quantum circuit\n",
        "qc = QuantumCircuit(2)\n",
        "\n",
        "# Apply Hadamard gate to create superposition\n",
        "qc.h(0)\n",
        "\n",
        "# Apply a CNOT gate for entanglement\n",
        "qc.cx(0, 1)\n",
        "\n",
        "# Measure both qubits\n",
        "qc.measure_all()\n",
        "\n",
        "# Simulate the circuit\n",
        "simulator = Aer.get_backend('qasm_simulator')\n",
        "compiled_circuit = transpile(qc, simulator)\n",
        "job = execute(compiled_circuit, simulator, shots=1000)\n",
        "result = job.result()\n",
        "counts = result.get_counts(qc)\n",
        "\n",
        "# Display the result as a histogram\n",
        "plot_histogram(counts)\n",
        "plt.title(\"Quantum Entanglement Measurement\")\n",
        "plt.show()"
      ]
    }
  ]
}