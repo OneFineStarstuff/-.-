{
  "nbformat": 4,
  "nbformat_minor": 0,
  "metadata": {
    "colab": {
      "private_outputs": true,
      "provenance": [],
      "authorship_tag": "ABX9TyP6eSWgPlJgNUVgOBCEz7UH",
      "include_colab_link": true
    },
    "kernelspec": {
      "name": "python3",
      "display_name": "Python 3"
    },
    "language_info": {
      "name": "python"
    }
  },
  "cells": [
    {
      "cell_type": "markdown",
      "metadata": {
        "id": "view-in-github",
        "colab_type": "text"
      },
      "source": [
        "<a href=\"https://colab.research.google.com/github/OneFineStarstuff/Onefinebot/blob/main/Example_for_Quiz_and_Assessment.ipynb\" target=\"_parent\"><img src=\"https://colab.research.google.com/assets/colab-badge.svg\" alt=\"Open In Colab\"/></a>"
      ]
    },
    {
      "cell_type": "code",
      "execution_count": null,
      "metadata": {
        "id": "AbN3fsSvTp25"
      },
      "outputs": [],
      "source": [
        "class Quiz:\n",
        "    def __init__(self):\n",
        "        self.questions = {\n",
        "            \"Math\": {\"What is 5+3?\": \"8\", \"Solve 12*2.\": \"24\"},\n",
        "            \"Science\": {\"What is H2O?\": \"Water\", \"State of matter for ice.\": \"Solid\"}\n",
        "        }  # Initialize the questions dictionary with subjects and their corresponding questions and answers\n",
        "\n",
        "    def ask_question(self, subject):\n",
        "        # Check if the subject exists in the questions dictionary\n",
        "        if subject in self.questions:\n",
        "            # Retrieve the first question and answer pair\n",
        "            question, answer = next(iter(self.questions[subject].items()))\n",
        "            return question, answer\n",
        "        # Return a message if the subject is not found\n",
        "        return \"No questions available\", None\n",
        "\n",
        "# Example Usage\n",
        "quiz = Quiz()\n",
        "question, answer = quiz.ask_question(\"Math\")\n",
        "print(f\"Question: {question}\")\n",
        "# Output: Question: What is 5+3?"
      ]
    }
  ]
}