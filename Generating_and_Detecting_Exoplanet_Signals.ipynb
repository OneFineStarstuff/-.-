{
  "nbformat": 4,
  "nbformat_minor": 0,
  "metadata": {
    "colab": {
      "private_outputs": true,
      "provenance": [],
      "authorship_tag": "ABX9TyOiM6anCpImv24jge2TNyHM",
      "include_colab_link": true
    },
    "kernelspec": {
      "name": "python3",
      "display_name": "Python 3"
    },
    "language_info": {
      "name": "python"
    }
  },
  "cells": [
    {
      "cell_type": "markdown",
      "metadata": {
        "id": "view-in-github",
        "colab_type": "text"
      },
      "source": [
        "<a href=\"https://colab.research.google.com/github/OneFineStarstuff/Onefinebot/blob/main/Generating_and_Detecting_Exoplanet_Signals.ipynb\" target=\"_parent\"><img src=\"https://colab.research.google.com/assets/colab-badge.svg\" alt=\"Open In Colab\"/></a>"
      ]
    },
    {
      "cell_type": "code",
      "execution_count": null,
      "metadata": {
        "id": "p4WVF3cfOWCk"
      },
      "outputs": [],
      "source": [
        "import numpy as np\n",
        "import matplotlib.pyplot as plt\n",
        "from scipy.signal import find_peaks\n",
        "\n",
        "# Generate synthetic light curve with exoplanet transit\n",
        "time = np.linspace(0, 30, 500)  # Time in days\n",
        "flux = 1 - 0.01 * ((np.sin(time * np.pi / 5) > 0.9) * (np.random.rand(len(time)) > 0.5))\n",
        "\n",
        "# Apply BLS-like peak detection to identify transit\n",
        "transits, _ = find_peaks(1 - flux, height=0.005, distance=20)\n",
        "\n",
        "# Plot light curve\n",
        "plt.figure(figsize=(10, 6))\n",
        "plt.plot(time, flux, color=\"black\", label=\"Light Curve\")\n",
        "plt.plot(time[transits], flux[transits], \"ro\", label=\"Detected Transits\")\n",
        "plt.xlabel(\"Time (days)\")\n",
        "plt.ylabel(\"Normalized Flux\")\n",
        "plt.title(\"Synthetic Light Curve with Exoplanet Transits\")\n",
        "plt.legend()\n",
        "plt.grid(True)\n",
        "plt.show()"
      ]
    }
  ]
}