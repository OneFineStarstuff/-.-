{
  "nbformat": 4,
  "nbformat_minor": 0,
  "metadata": {
    "colab": {
      "private_outputs": true,
      "provenance": [],
      "authorship_tag": "ABX9TyO8j5v7PU3KPAp25d+xTcxM",
      "include_colab_link": true
    },
    "kernelspec": {
      "name": "python3",
      "display_name": "Python 3"
    },
    "language_info": {
      "name": "python"
    }
  },
  "cells": [
    {
      "cell_type": "markdown",
      "metadata": {
        "id": "view-in-github",
        "colab_type": "text"
      },
      "source": [
        "<a href=\"https://colab.research.google.com/github/OneFineStarstuff/Onefinebot/blob/main/Bias_Evaluation_Example.ipynb\" target=\"_parent\"><img src=\"https://colab.research.google.com/assets/colab-badge.svg\" alt=\"Open In Colab\"/></a>"
      ]
    },
    {
      "cell_type": "code",
      "execution_count": null,
      "metadata": {
        "id": "nuWv0Yqb-YUx"
      },
      "outputs": [],
      "source": [
        "pip install scikit-learn pandas fairlearn"
      ]
    },
    {
      "cell_type": "code",
      "source": [
        "import pandas as pd\n",
        "from sklearn.ensemble import RandomForestClassifier\n",
        "from sklearn.model_selection import train_test_split\n",
        "from sklearn.datasets import fetch_openml\n",
        "from sklearn.preprocessing import OneHotEncoder\n",
        "from sklearn.compose import ColumnTransformer\n",
        "from sklearn.pipeline import Pipeline\n",
        "from fairlearn.metrics import demographic_parity_difference, equalized_odds_difference\n",
        "from sklearn.metrics import accuracy_score\n",
        "\n",
        "class EthicalModule:\n",
        "    def __init__(self, model):\n",
        "        self.model = model\n",
        "\n",
        "    def evaluate_fairness(self, X, y_true, sensitive_data):\n",
        "        y_pred = self.model.predict(X)\n",
        "        dpd = demographic_parity_difference(y_true, y_pred, sensitive_features=sensitive_data)\n",
        "        eod = equalized_odds_difference(y_true, y_pred, sensitive_features=sensitive_data)\n",
        "        accuracy = accuracy_score(y_true, y_pred)\n",
        "        return {\"Accuracy\": accuracy, \"Demographic Parity Difference\": dpd, \"Equalized Odds Difference\": eod}\n",
        "\n",
        "if __name__ == \"__main__\":\n",
        "    # Load the dataset\n",
        "    data = fetch_openml(data_id=1590)  # Adult Income Dataset\n",
        "    X = pd.DataFrame(data.data, columns=data.feature_names)\n",
        "    y = data.target\n",
        "\n",
        "    # Identify categorical columns for one-hot encoding\n",
        "    categorical_cols = X.select_dtypes(include=['object']).columns.tolist()\n",
        "\n",
        "    # Create a column transformer for preprocessing\n",
        "    preprocessor = ColumnTransformer(\n",
        "        transformers=[\n",
        "            ('cat', OneHotEncoder(), categorical_cols)  # Apply OneHotEncoder to categorical columns\n",
        "        ],\n",
        "        remainder='passthrough'  # Keep other columns unchanged (if any)\n",
        "    )\n",
        "\n",
        "    # Split the data into training and testing sets\n",
        "    X_train, X_test, y_train, y_test = train_test_split(X, y, test_size=0.3, random_state=42)\n",
        "\n",
        "    # Create a pipeline with preprocessing and model fitting\n",
        "    pipeline = Pipeline(steps=[\n",
        "        ('preprocessor', preprocessor),\n",
        "        ('classifier', RandomForestClassifier(random_state=42))\n",
        "    ])\n",
        "\n",
        "    # Fit the model using the pipeline\n",
        "    pipeline.fit(X_train, y_train)\n",
        "\n",
        "    # Extract sensitive feature for fairness evaluation (e.g., 'sex')\n",
        "    sensitive_feature = X_test['sex']  # Ensure this column exists in your test set\n",
        "\n",
        "    # Drop sensitive feature from test set for predictions\n",
        "    X_test_transformed = X_test.drop(columns=['sex'])\n",
        "\n",
        "    # Instantiate the ethical module with the fitted pipeline model\n",
        "    ethical_module = EthicalModule(pipeline)\n",
        "\n",
        "    # Evaluate fairness metrics on the test set\n",
        "    fairness_metrics = ethical_module.evaluate_fairness(X_test_transformed, y_test, sensitive_feature)\n",
        "\n",
        "    print(\"Fairness Metrics:\", fairness_metrics)"
      ],
      "metadata": {
        "id": "xQvUq9Lk_UiO"
      },
      "execution_count": null,
      "outputs": []
    }
  ]
}