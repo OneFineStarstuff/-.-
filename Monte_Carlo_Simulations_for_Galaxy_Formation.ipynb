{
  "nbformat": 4,
  "nbformat_minor": 0,
  "metadata": {
    "colab": {
      "private_outputs": true,
      "provenance": [],
      "authorship_tag": "ABX9TyNWQ1VkQLE/uUAjt74INT4V",
      "include_colab_link": true
    },
    "kernelspec": {
      "name": "python3",
      "display_name": "Python 3"
    },
    "language_info": {
      "name": "python"
    }
  },
  "cells": [
    {
      "cell_type": "markdown",
      "metadata": {
        "id": "view-in-github",
        "colab_type": "text"
      },
      "source": [
        "<a href=\"https://colab.research.google.com/github/OneFineStarstuff/Onefinebot/blob/main/Monte_Carlo_Simulations_for_Galaxy_Formation.ipynb\" target=\"_parent\"><img src=\"https://colab.research.google.com/assets/colab-badge.svg\" alt=\"Open In Colab\"/></a>"
      ]
    },
    {
      "cell_type": "code",
      "execution_count": null,
      "metadata": {
        "id": "AxU_qLtlNPgF"
      },
      "outputs": [],
      "source": [
        "import numpy as np\n",
        "import matplotlib.pyplot as plt\n",
        "\n",
        "# Parameters for galaxy formation simulation\n",
        "n_galaxies = 100\n",
        "timesteps = 500\n",
        "formation_rate = 0.05  # Star formation rate per timestep\n",
        "merger_rate = 0.01  # Galaxy merger rate per timestep\n",
        "\n",
        "# Initialize galaxy masses (in solar masses)\n",
        "galaxy_masses = np.random.uniform(1e9, 1e11, n_galaxies)\n",
        "\n",
        "# Function to simulate galaxy evolution\n",
        "def evolve_galaxies(galaxy_masses, formation_rate, merger_rate, timesteps):\n",
        "    history = [galaxy_masses.copy()]\n",
        "    for _ in range(timesteps):\n",
        "        # Star formation - increase mass\n",
        "        galaxy_masses += galaxy_masses * formation_rate * np.random.rand(n_galaxies)\n",
        "\n",
        "        # Mergers - combine two galaxies into one\n",
        "        for i in range(n_galaxies):\n",
        "            if np.random.rand() < merger_rate:\n",
        "                j = np.random.randint(0, n_galaxies)\n",
        "                if i != j:\n",
        "                    galaxy_masses[i] += galaxy_masses[j]\n",
        "                    galaxy_masses[j] = 0  # Galaxy j is \"absorbed\"\n",
        "\n",
        "        history.append(galaxy_masses.copy())\n",
        "    return np.array(history)\n",
        "\n",
        "# Run simulation and plot results\n",
        "history = evolve_galaxies(galaxy_masses, formation_rate, merger_rate, timesteps)\n",
        "\n",
        "# Plot the evolution of galaxy masses over time\n",
        "plt.figure(figsize=(10, 6))\n",
        "for i in range(10):  # Plot a sample of 10 galaxies\n",
        "    plt.plot(history[:, i], label=f\"Galaxy {i+1}\")\n",
        "plt.xlabel(\"Timestep\")\n",
        "plt.ylabel(\"Galaxy Mass (solar masses)\")\n",
        "plt.title(\"Monte Carlo Simulation of Galaxy Evolution\")\n",
        "plt.legend()\n",
        "plt.grid(True)\n",
        "plt.show()"
      ]
    }
  ]
}