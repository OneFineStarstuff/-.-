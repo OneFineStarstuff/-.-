{
  "nbformat": 4,
  "nbformat_minor": 0,
  "metadata": {
    "colab": {
      "private_outputs": true,
      "provenance": [],
      "authorship_tag": "ABX9TyPPOA/h/LCDOY7uJZAwm2e9",
      "include_colab_link": true
    },
    "kernelspec": {
      "name": "python3",
      "display_name": "Python 3"
    },
    "language_info": {
      "name": "python"
    }
  },
  "cells": [
    {
      "cell_type": "markdown",
      "metadata": {
        "id": "view-in-github",
        "colab_type": "text"
      },
      "source": [
        "<a href=\"https://colab.research.google.com/github/OneFineStarstuff/Onefinebot/blob/main/Face_Detection_and_Alignment.ipynb\" target=\"_parent\"><img src=\"https://colab.research.google.com/assets/colab-badge.svg\" alt=\"Open In Colab\"/></a>"
      ]
    },
    {
      "cell_type": "code",
      "execution_count": null,
      "metadata": {
        "id": "O-IS7e0MJXyN"
      },
      "outputs": [],
      "source": [
        "import dlib\n",
        "import cv2\n",
        "import numpy as np\n",
        "\n",
        "# Load dlib's pretrained facial landmark detector\n",
        "detector = dlib.get_frontal_face_detector()\n",
        "predictor = dlib.shape_predictor(\"/path/to/shape_predictor_68_face_landmarks.dat\")\n",
        "\n",
        "def align_face(image):\n",
        "    faces = detector(image)\n",
        "    for face in faces:\n",
        "        landmarks = predictor(image, face)\n",
        "\n",
        "        # Get the coordinates of the left and right eye\n",
        "        left_eye = (landmarks.part(36).x, landmarks.part(36).y)\n",
        "        right_eye = (landmarks.part(45).x, landmarks.part(45).y)\n",
        "\n",
        "        # Calculate the center point between the two eyes\n",
        "        eye_center = ((left_eye[0] + right_eye[0]) // 2, (left_eye[1] + right_eye[1]) // 2)\n",
        "\n",
        "        # Determine the angle of rotation\n",
        "        delta_x = right_eye[0] - left_eye[0]\n",
        "        delta_y = right_eye[1] - left_eye[1]\n",
        "        angle = np.arctan2(delta_y, delta_x) * 180 / np.pi\n",
        "\n",
        "        # Calculate the desired size for the aligned face\n",
        "        desired_face_width = 256\n",
        "        desired_face_height = 256\n",
        "\n",
        "        # Get the rotation matrix\n",
        "        M = cv2.getRotationMatrix2D(eye_center, angle, 1.0)\n",
        "\n",
        "        # Update the translation component of the matrix\n",
        "        t_x = desired_face_width * 0.5\n",
        "        t_y = desired_face_height * 0.35\n",
        "        M[0, 2] += (t_x - eye_center[0])\n",
        "        M[1, 2] += (t_y - eye_center[1])\n",
        "\n",
        "        # Apply the affine transformation\n",
        "        aligned_face = cv2.warpAffine(image, M, (desired_face_width, desired_face_height))\n",
        "\n",
        "        return aligned_face\n",
        "    return None\n",
        "\n",
        "# Load an image and align the face\n",
        "image = cv2.imread('/path/to/image.jpg')\n",
        "aligned_image = align_face(image)\n",
        "\n",
        "# Display the aligned face\n",
        "if aligned_image is not None:\n",
        "    cv2.imshow('Aligned Face', aligned_image)\n",
        "    cv2.waitKey(0)\n",
        "    cv2.destroyAllWindows()\n",
        "else:\n",
        "    print(\"No face detected.\")"
      ]
    },
    {
      "cell_type": "code",
      "source": [
        "[shape_predictor_68_face_landmarks.dat.bz2](http://dlib.net/files/shape_predictor_68_face_landmarks.dat.bz2)"
      ],
      "metadata": {
        "id": "0mVr07t4KSHt"
      },
      "execution_count": null,
      "outputs": []
    }
  ]
}