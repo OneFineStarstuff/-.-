{
  "nbformat": 4,
  "nbformat_minor": 0,
  "metadata": {
    "colab": {
      "private_outputs": true,
      "provenance": [],
      "authorship_tag": "ABX9TyNF5fGs259eWCqMsiBoPZIW",
      "include_colab_link": true
    },
    "kernelspec": {
      "name": "python3",
      "display_name": "Python 3"
    },
    "language_info": {
      "name": "python"
    }
  },
  "cells": [
    {
      "cell_type": "markdown",
      "metadata": {
        "id": "view-in-github",
        "colab_type": "text"
      },
      "source": [
        "<a href=\"https://colab.research.google.com/github/OneFineStarstuff/Onefinebot/blob/main/Example_for_Parsing_Python_Errors.ipynb\" target=\"_parent\"><img src=\"https://colab.research.google.com/assets/colab-badge.svg\" alt=\"Open In Colab\"/></a>"
      ]
    },
    {
      "cell_type": "code",
      "execution_count": null,
      "metadata": {
        "id": "7Xy9Vrx9HvbB"
      },
      "outputs": [],
      "source": [
        "import re\n",
        "\n",
        "def parse_error_log(error_log):\n",
        "    # Regex pattern to match error log information\n",
        "    match = re.search(r\"File \\\"(.+)\\\", line (\\d+), in (.+)\", error_log)\n",
        "    if match:\n",
        "        return {\n",
        "            \"file\": match.group(1),  # Extract file name\n",
        "            \"line\": int(match.group(2)),  # Extract line number\n",
        "            \"function\": match.group(3)  # Extract function name\n",
        "        }\n",
        "    return \"Error log format not recognized.\"\n",
        "\n",
        "# Example Usage\n",
        "error_log = 'File \"main.py\", line 42, in my_function'\n",
        "parsed = parse_error_log(error_log)\n",
        "print(parsed)"
      ]
    }
  ]
}