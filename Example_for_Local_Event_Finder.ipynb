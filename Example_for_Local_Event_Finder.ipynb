{
  "nbformat": 4,
  "nbformat_minor": 0,
  "metadata": {
    "colab": {
      "private_outputs": true,
      "provenance": [],
      "authorship_tag": "ABX9TyMyUy9luDdiNPgIJI/2ggbW",
      "include_colab_link": true
    },
    "kernelspec": {
      "name": "python3",
      "display_name": "Python 3"
    },
    "language_info": {
      "name": "python"
    }
  },
  "cells": [
    {
      "cell_type": "markdown",
      "metadata": {
        "id": "view-in-github",
        "colab_type": "text"
      },
      "source": [
        "<a href=\"https://colab.research.google.com/github/OneFineStarstuff/Onefinebot/blob/main/Example_for_Local_Event_Finder.ipynb\" target=\"_parent\"><img src=\"https://colab.research.google.com/assets/colab-badge.svg\" alt=\"Open In Colab\"/></a>"
      ]
    },
    {
      "cell_type": "code",
      "execution_count": null,
      "metadata": {
        "id": "24VnTTO-7gRu"
      },
      "outputs": [],
      "source": [
        "class EventFinder:\n",
        "    def __init__(self):\n",
        "        self.events = {\n",
        "            \"New York\": [\"Art Exhibition\", \"Food Festival\"],\n",
        "            \"Los Angeles\": [\"Music Concert\", \"Startup Meetup\"],\n",
        "        }  # Initialize the events dictionary with predefined locations and corresponding events\n",
        "\n",
        "    def find_events(self, location):\n",
        "        # Return the events that match the specified location\n",
        "        return self.events.get(location, \"No events found in this location.\")\n",
        "\n",
        "# Example Usage\n",
        "event_bot = EventFinder()\n",
        "print(event_bot.find_events(\"New York\"))\n",
        "# Output: ['Art Exhibition', 'Food Festival']"
      ]
    }
  ]
}