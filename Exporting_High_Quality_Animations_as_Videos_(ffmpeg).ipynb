{
  "nbformat": 4,
  "nbformat_minor": 0,
  "metadata": {
    "colab": {
      "private_outputs": true,
      "provenance": [],
      "authorship_tag": "ABX9TyOh71ThheO6LN+E3pxK4d8t",
      "include_colab_link": true
    },
    "kernelspec": {
      "name": "python3",
      "display_name": "Python 3"
    },
    "language_info": {
      "name": "python"
    }
  },
  "cells": [
    {
      "cell_type": "markdown",
      "metadata": {
        "id": "view-in-github",
        "colab_type": "text"
      },
      "source": [
        "<a href=\"https://colab.research.google.com/github/OneFineStarstuff/Onefinebot/blob/main/Exporting_High_Quality_Animations_as_Videos_(ffmpeg).ipynb\" target=\"_parent\"><img src=\"https://colab.research.google.com/assets/colab-badge.svg\" alt=\"Open In Colab\"/></a>"
      ]
    },
    {
      "cell_type": "code",
      "execution_count": null,
      "metadata": {
        "id": "G1HWuaF8p1GL"
      },
      "outputs": [],
      "source": [
        "import numpy as np\n",
        "import matplotlib.pyplot as plt\n",
        "from matplotlib.animation import FuncAnimation\n",
        "\n",
        "# Set up the figure and axis\n",
        "fig, ax = plt.subplots(figsize=(8, 8))\n",
        "ax.set_aspect('equal')\n",
        "ax.axis('off')\n",
        "\n",
        "# Parameters\n",
        "num_layers = 3  # Number of animated layers\n",
        "num_circles_per_layer = 10  # Circles per layer\n",
        "color_maps = [[\"#FF5733\", \"#FFBD33\", \"#33FF57\", \"#335BFF\", \"#9A33FF\"],  # Layer 1 colors\n",
        "              [\"#FF33A6\", \"#A633FF\", \"#33FFF5\", \"#FF5733\", \"#FFBD33\"],  # Layer 2 colors\n",
        "              [\"#33D1FF\", \"#33FFBD\", \"#FF335E\", \"#FFD733\", \"#33FF57\"]]  # Layer 3 colors\n",
        "\n",
        "# Initialize circles for each layer\n",
        "layers = []\n",
        "for layer in range(num_layers):\n",
        "    circles = []\n",
        "    for _ in range(num_circles_per_layer):\n",
        "        x, y = np.random.uniform(-1, 1), np.random.uniform(-1, 1)\n",
        "        radius = np.random.uniform(0.05, 0.15)\n",
        "        color = np.random.choice(color_maps[layer])\n",
        "        circle = plt.Circle((x, y), radius, color=color, fill=True, alpha=0.3 + 0.2 * layer)\n",
        "        ax.add_artist(circle)\n",
        "        circles.append(circle)\n",
        "    layers.append(circles)\n",
        "\n",
        "# Function to animate each layer independently\n",
        "def animate_layers(frame):\n",
        "    for layer_index, circles in enumerate(layers):\n",
        "        for circle in circles:\n",
        "            # Slight movement in position\n",
        "            x, y = circle.center\n",
        "            new_x = x + np.random.uniform(-0.01, 0.01)\n",
        "            new_y = y + np.random.uniform(-0.01, 0.01)\n",
        "            circle.center = (new_x, new_y)\n",
        "\n",
        "            # Oscillate radius and shift color\n",
        "            circle.radius = max(0.05, circle.radius + 0.01 * np.sin(frame / 10 + layer_index))\n",
        "            circle.set_facecolor(np.random.choice(color_maps[layer_index]))  # Change colors dynamically\n",
        "            circle.set_alpha(0.4 + 0.2 * np.cos(frame / 20 + layer_index))  # Vary transparency\n",
        "\n",
        "# Run the animation\n",
        "anim = FuncAnimation(fig, animate_layers, frames=200, interval=50)\n",
        "\n",
        "# Save the animation as an MP4 video using ffmpeg\n",
        "anim.save(\"advanced_art_animation.mp4\", writer=\"ffmpeg\", fps=20)\n",
        "\n",
        "plt.show()"
      ]
    }
  ]
}