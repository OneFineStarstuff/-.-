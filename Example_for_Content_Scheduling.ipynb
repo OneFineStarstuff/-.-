{
  "nbformat": 4,
  "nbformat_minor": 0,
  "metadata": {
    "colab": {
      "private_outputs": true,
      "provenance": [],
      "authorship_tag": "ABX9TyOp/vgYY1SSyN8YUh4cSAFK",
      "include_colab_link": true
    },
    "kernelspec": {
      "name": "python3",
      "display_name": "Python 3"
    },
    "language_info": {
      "name": "python"
    }
  },
  "cells": [
    {
      "cell_type": "markdown",
      "metadata": {
        "id": "view-in-github",
        "colab_type": "text"
      },
      "source": [
        "<a href=\"https://colab.research.google.com/github/OneFineStarstuff/Onefinebot/blob/main/Example_for_Content_Scheduling.ipynb\" target=\"_parent\"><img src=\"https://colab.research.google.com/assets/colab-badge.svg\" alt=\"Open In Colab\"/></a>"
      ]
    },
    {
      "cell_type": "code",
      "execution_count": null,
      "metadata": {
        "id": "tWvPpSGqN0mP"
      },
      "outputs": [],
      "source": [
        "class ContentScheduler:\n",
        "    def __init__(self):\n",
        "        self.schedule = []  # Initialize an empty list to store scheduled posts\n",
        "\n",
        "    def add_post(self, platform, content, time):\n",
        "        # Append the post details to the schedule list\n",
        "        self.schedule.append({\"platform\": platform, \"content\": content, \"time\": time})\n",
        "\n",
        "    def view_schedule(self):\n",
        "        # Return the list of all scheduled posts\n",
        "        return self.schedule\n",
        "\n",
        "# Example Usage\n",
        "scheduler = ContentScheduler()\n",
        "scheduler.add_post(\"Instagram\", \"New Year Sale Announcement\", \"2025-01-01 10:00 AM\")\n",
        "print(scheduler.view_schedule())\n",
        "# Output: [{'platform': 'Instagram', 'content': 'New Year Sale Announcement', 'time': '2025-01-01 10:00 AM'}]"
      ]
    }
  ]
}