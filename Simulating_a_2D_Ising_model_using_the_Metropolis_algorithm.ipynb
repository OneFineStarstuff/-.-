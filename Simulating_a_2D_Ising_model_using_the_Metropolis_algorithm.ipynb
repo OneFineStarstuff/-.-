{
  "nbformat": 4,
  "nbformat_minor": 0,
  "metadata": {
    "colab": {
      "private_outputs": true,
      "provenance": [],
      "authorship_tag": "ABX9TyO6SQyBcx6n30OluABkyPWN",
      "include_colab_link": true
    },
    "kernelspec": {
      "name": "python3",
      "display_name": "Python 3"
    },
    "language_info": {
      "name": "python"
    }
  },
  "cells": [
    {
      "cell_type": "markdown",
      "metadata": {
        "id": "view-in-github",
        "colab_type": "text"
      },
      "source": [
        "<a href=\"https://colab.research.google.com/github/OneFineStarstuff/Onefinebot/blob/main/Simulating_a_2D_Ising_model_using_the_Metropolis_algorithm.ipynb\" target=\"_parent\"><img src=\"https://colab.research.google.com/assets/colab-badge.svg\" alt=\"Open In Colab\"/></a>"
      ]
    },
    {
      "cell_type": "code",
      "execution_count": null,
      "metadata": {
        "id": "6JoRW2rJKc9f"
      },
      "outputs": [],
      "source": [
        "import numpy as np\n",
        "import matplotlib.pyplot as plt\n",
        "\n",
        "# Parameters\n",
        "grid_size = 20\n",
        "temp = 2.0\n",
        "num_steps = 1000\n",
        "\n",
        "# Initialize a random spin configuration (-1 and 1 spins)\n",
        "spins = np.random.choice([-1, 1], (grid_size, grid_size))\n",
        "\n",
        "def energy_difference(spins, i, j):\n",
        "    \"\"\"Calculate energy change if we flip the spin at (i, j).\"\"\"\n",
        "    neighbors = spins[(i+1)%grid_size, j] + spins[(i-1)%grid_size, j] + spins[i, (j+1)%grid_size] + spins[i, (j-1)%grid_size]\n",
        "    return 2 * spins[i, j] * neighbors\n",
        "\n",
        "# Monte Carlo simulation\n",
        "for step in range(num_steps):\n",
        "    i, j = np.random.randint(0, grid_size, 2)\n",
        "    delta_E = energy_difference(spins, i, j)\n",
        "    if delta_E < 0 or np.random.rand() < np.exp(-delta_E / temp):\n",
        "        spins[i, j] *= -1  # Flip the spin\n",
        "\n",
        "plt.imshow(spins, cmap=\"gray\")\n",
        "plt.title(\"2D Ising Model - Spin Configuration\")\n",
        "plt.colorbar(label=\"Spin\")\n",
        "plt.show()"
      ]
    }
  ]
}