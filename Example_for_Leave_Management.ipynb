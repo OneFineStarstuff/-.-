{
  "nbformat": 4,
  "nbformat_minor": 0,
  "metadata": {
    "colab": {
      "private_outputs": true,
      "provenance": [],
      "authorship_tag": "ABX9TyN3knuKiX7dMe00t+3heEgK",
      "include_colab_link": true
    },
    "kernelspec": {
      "name": "python3",
      "display_name": "Python 3"
    },
    "language_info": {
      "name": "python"
    }
  },
  "cells": [
    {
      "cell_type": "markdown",
      "metadata": {
        "id": "view-in-github",
        "colab_type": "text"
      },
      "source": [
        "<a href=\"https://colab.research.google.com/github/OneFineStarstuff/Onefinebot/blob/main/Example_for_Leave_Management.ipynb\" target=\"_parent\"><img src=\"https://colab.research.google.com/assets/colab-badge.svg\" alt=\"Open In Colab\"/></a>"
      ]
    },
    {
      "cell_type": "code",
      "execution_count": null,
      "metadata": {
        "id": "VfsgCz3sNbjx"
      },
      "outputs": [],
      "source": [
        "class LeaveManager:\n",
        "    def __init__(self):\n",
        "        self.leave_data = {}  # Initialize an empty dictionary to store leave balances\n",
        "\n",
        "    def add_employee(self, employee_name, leave_balance):\n",
        "        # Add the employee and their leave balance to the leave_data dictionary\n",
        "        self.leave_data[employee_name] = leave_balance\n",
        "\n",
        "    def apply_leave(self, employee_name, days):\n",
        "        # Check if the employee has sufficient leave balance\n",
        "        if self.leave_data.get(employee_name, 0) >= days:\n",
        "            # Deduct the leave days from the employee's balance\n",
        "            self.leave_data[employee_name] -= days\n",
        "            return f\"Leave approved for {days} days. Remaining balance: {self.leave_data[employee_name]} days.\"\n",
        "        # Return an error message if insufficient balance\n",
        "        return \"Insufficient leave balance.\"\n",
        "\n",
        "# Example Usage\n",
        "manager = LeaveManager()\n",
        "manager.add_employee(\"John Doe\", 20)\n",
        "print(manager.apply_leave(\"John Doe\", 5))\n",
        "# Output: Leave approved for 5 days. Remaining balance: 15 days."
      ]
    }
  ]
}