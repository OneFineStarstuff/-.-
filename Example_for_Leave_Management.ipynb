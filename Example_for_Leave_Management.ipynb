{
  "nbformat": 4,
  "nbformat_minor": 0,
  "metadata": {
    "colab": {
      "private_outputs": true,
      "provenance": [],
      "authorship_tag": "ABX9TyMnR8KbUefVlcYIQyKUi3E2",
      "include_colab_link": true
    },
    "kernelspec": {
      "name": "python3",
      "display_name": "Python 3"
    },
    "language_info": {
      "name": "python"
    }
  },
  "cells": [
    {
      "cell_type": "markdown",
      "metadata": {
        "id": "view-in-github",
        "colab_type": "text"
      },
      "source": [
        "<a href=\"https://colab.research.google.com/github/OneFineStarstuff/Onefinebot/blob/main/Example_for_Leave_Management.ipynb\" target=\"_parent\"><img src=\"https://colab.research.google.com/assets/colab-badge.svg\" alt=\"Open In Colab\"/></a>"
      ]
    },
    {
      "cell_type": "code",
      "execution_count": null,
      "metadata": {
        "id": "Le5x_90F7aH4"
      },
      "outputs": [],
      "source": [
        "class LeaveManager:\n",
        "    def __init__(self):\n",
        "        self.leaves = {}  # Initialize an empty dictionary to store leave records\n",
        "\n",
        "    def apply_leave(self, employee, days):\n",
        "        # Add the specified number of leave days to the employee's record\n",
        "        self.leaves[employee] = self.leaves.get(employee, 0) + days\n",
        "        return f\"{employee} has applied for {days} days of leave.\"\n",
        "\n",
        "    def view_leaves(self, employee):\n",
        "        # Retrieve the number of leave days for the specified employee\n",
        "        return self.leaves.get(employee, \"No leave record found.\")\n",
        "\n",
        "# Example Usage\n",
        "manager = LeaveManager()\n",
        "manager.apply_leave(\"John Doe\", 5)\n",
        "print(manager.view_leaves(\"John Doe\"))\n",
        "# Output: 5"
      ]
    }
  ]
}