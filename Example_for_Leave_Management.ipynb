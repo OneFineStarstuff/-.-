{
  "nbformat": 4,
  "nbformat_minor": 0,
  "metadata": {
    "colab": {
      "private_outputs": true,
      "provenance": [],
      "authorship_tag": "ABX9TyNX84SLwAjHzF9QYUU6IU+j",
      "include_colab_link": true
    },
    "kernelspec": {
      "name": "python3",
      "display_name": "Python 3"
    },
    "language_info": {
      "name": "python"
    }
  },
  "cells": [
    {
      "cell_type": "markdown",
      "metadata": {
        "id": "view-in-github",
        "colab_type": "text"
      },
      "source": [
        "<a href=\"https://colab.research.google.com/github/OneFineStarstuff/Onefinebot/blob/main/Example_for_Leave_Management.ipynb\" target=\"_parent\"><img src=\"https://colab.research.google.com/assets/colab-badge.svg\" alt=\"Open In Colab\"/></a>"
      ]
    },
    {
      "cell_type": "code",
      "execution_count": null,
      "metadata": {
        "id": "2FPbSli5K5lR"
      },
      "outputs": [],
      "source": [
        "class LeaveManagement:\n",
        "    def __init__(self):\n",
        "        self.leave_records = {}  # Initialize an empty dictionary to store leave records\n",
        "\n",
        "    def apply_leave(self, employee, days):\n",
        "        # Check if the employee already has leave records\n",
        "        if employee in self.leave_records:\n",
        "            # Add the specified number of days to the existing record\n",
        "            self.leave_records[employee] += days\n",
        "        else:\n",
        "            # Initialize a new entry with the specified number of days\n",
        "            self.leave_records[employee] = days\n",
        "        # Return a message indicating the number of leave days applied\n",
        "        return f\"{days} leave days applied for {employee}.\"\n",
        "\n",
        "    def view_leaves(self, employee):\n",
        "        # Retrieve the leave record for the specified employee\n",
        "        return self.leave_records.get(employee, \"No leave records found.\")\n",
        "\n",
        "# Example Usage\n",
        "leave_bot = LeaveManagement()\n",
        "leave_bot.apply_leave(\"John Doe\", 3)\n",
        "print(leave_bot.view_leaves(\"John Doe\"))  # Output: 3 leave days applied for John Doe."
      ]
    }
  ]
}