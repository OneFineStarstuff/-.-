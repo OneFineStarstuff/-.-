{
  "nbformat": 4,
  "nbformat_minor": 0,
  "metadata": {
    "colab": {
      "private_outputs": true,
      "provenance": [],
      "authorship_tag": "ABX9TyMnHf/CLPeFcwaOouLzZmqU",
      "include_colab_link": true
    },
    "kernelspec": {
      "name": "python3",
      "display_name": "Python 3"
    },
    "language_info": {
      "name": "python"
    }
  },
  "cells": [
    {
      "cell_type": "markdown",
      "metadata": {
        "id": "view-in-github",
        "colab_type": "text"
      },
      "source": [
        "<a href=\"https://colab.research.google.com/github/OneFineStarstuff/Onefinebot/blob/main/Example_for_Contract_Analysis.ipynb\" target=\"_parent\"><img src=\"https://colab.research.google.com/assets/colab-badge.svg\" alt=\"Open In Colab\"/></a>"
      ]
    },
    {
      "cell_type": "code",
      "execution_count": null,
      "metadata": {
        "id": "BUOd_QpGCtNL"
      },
      "outputs": [],
      "source": [
        "def analyze_contract(text):\n",
        "    risky_terms = [\"liability\", \"indemnity\", \"termination\"]  # List of risky terms to look for\n",
        "    # Find and count risky terms in the text (case-insensitive)\n",
        "    risks = [term for term in risky_terms if term in text.lower()]\n",
        "    return {\"risk_terms_found\": risks, \"total_risks\": len(risks)}  # Return analysis results\n",
        "\n",
        "# Example Usage\n",
        "contract = \"This agreement includes a clause about liability and termination policies.\"\n",
        "analysis = analyze_contract(contract)\n",
        "print(analysis)  # Output: {'risk_terms_found': ['liability', 'termination'], 'total_risks': 2}"
      ]
    }
  ]
}