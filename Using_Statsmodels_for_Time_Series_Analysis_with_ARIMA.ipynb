{
  "nbformat": 4,
  "nbformat_minor": 0,
  "metadata": {
    "colab": {
      "private_outputs": true,
      "provenance": [],
      "authorship_tag": "ABX9TyP8vD6bdQNHjZNbFXVIxvHR",
      "include_colab_link": true
    },
    "kernelspec": {
      "name": "python3",
      "display_name": "Python 3"
    },
    "language_info": {
      "name": "python"
    }
  },
  "cells": [
    {
      "cell_type": "markdown",
      "metadata": {
        "id": "view-in-github",
        "colab_type": "text"
      },
      "source": [
        "<a href=\"https://colab.research.google.com/github/OneFineStarstuff/Onefinebot/blob/main/Using_Statsmodels_for_Time_Series_Analysis_with_ARIMA.ipynb\" target=\"_parent\"><img src=\"https://colab.research.google.com/assets/colab-badge.svg\" alt=\"Open In Colab\"/></a>"
      ]
    },
    {
      "cell_type": "code",
      "execution_count": null,
      "metadata": {
        "id": "0MMElYRZYQIp"
      },
      "outputs": [],
      "source": [
        "import pandas as pd\n",
        "import numpy as np\n",
        "import matplotlib.pyplot as plt\n",
        "from statsmodels.tsa.arima.model import ARIMA\n",
        "\n",
        "# Generate synthetic time series data with trend and seasonality\n",
        "np.random.seed(0)\n",
        "time = pd.date_range(start='2023-01-01', periods=100)\n",
        "data = np.random.randn(100).cumsum() + 10 + np.sin(np.linspace(0, 3 * np.pi, 100)) * 3\n",
        "\n",
        "# Create a DataFrame for time series data\n",
        "df = pd.DataFrame({'Date': time, 'Value': data})\n",
        "df.set_index('Date', inplace=True)\n",
        "\n",
        "# Fit an ARIMA model (p=2,d=1,q=2)\n",
        "model = ARIMA(df['Value'], order=(2, 1, 2))\n",
        "model_fit = model.fit()\n",
        "\n",
        "# Make predictions for the next steps\n",
        "forecast_steps = model_fit.forecast(steps=10)\n",
        "\n",
        "# Plotting the results\n",
        "plt.figure(figsize=(12, 6))\n",
        "plt.plot(df.index, df['Value'], label='Observed Data', color='blue')\n",
        "future_dates = pd.date_range(start=df.index[-1] + pd.Timedelta(days=1), periods=10)\n",
        "plt.plot(future_dates, forecast_steps.values, label='Forecast', color='red')\n",
        "plt.title('ARIMA Time Series Forecasting')\n",
        "plt.xlabel('Date')\n",
        "plt.ylabel('Value')\n",
        "plt.legend()\n",
        "plt.grid()\n",
        "plt.show()"
      ]
    }
  ]
}