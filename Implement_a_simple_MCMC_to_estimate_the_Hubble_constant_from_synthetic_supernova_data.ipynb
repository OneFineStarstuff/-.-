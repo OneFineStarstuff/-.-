{
  "nbformat": 4,
  "nbformat_minor": 0,
  "metadata": {
    "colab": {
      "private_outputs": true,
      "provenance": [],
      "authorship_tag": "ABX9TyMrOIXC0ePquUBEdUJP8cLM",
      "include_colab_link": true
    },
    "kernelspec": {
      "name": "python3",
      "display_name": "Python 3"
    },
    "language_info": {
      "name": "python"
    }
  },
  "cells": [
    {
      "cell_type": "markdown",
      "metadata": {
        "id": "view-in-github",
        "colab_type": "text"
      },
      "source": [
        "<a href=\"https://colab.research.google.com/github/OneFineStarstuff/Onefinebot/blob/main/Implement_a_simple_MCMC_to_estimate_the_Hubble_constant_from_synthetic_supernova_data.ipynb\" target=\"_parent\"><img src=\"https://colab.research.google.com/assets/colab-badge.svg\" alt=\"Open In Colab\"/></a>"
      ]
    },
    {
      "cell_type": "code",
      "execution_count": null,
      "metadata": {
        "id": "CWBwWWOsTL39"
      },
      "outputs": [],
      "source": [
        "import numpy as np\n",
        "import matplotlib.pyplot as plt\n",
        "\n",
        "# Synthetic supernova data for redshift and distance modulus\n",
        "redshifts = np.linspace(0.01, 1, 50)\n",
        "true_h0 = 70\n",
        "distance_modulus = 5 * np.log10((redshifts * 3e8) / (true_h0 * 1e3)) + np.random.normal(0, 0.2, 50)\n",
        "\n",
        "# Define likelihood and prior\n",
        "def likelihood(h0):\n",
        "    model = 5 * np.log10((redshifts * 3e8) / (h0 * 1e3))\n",
        "    return -0.5 * np.sum((distance_modulus - model) ** 2 / 0.2**2)\n",
        "\n",
        "def prior(h0):\n",
        "    return 1 if 50 < h0 < 100 else 0\n",
        "\n",
        "# Metropolis-Hastings MCMC\n",
        "h0_chain = [70]\n",
        "for _ in range(10000):\n",
        "    h0_proposal = h0_chain[-1] + np.random.normal(0, 1)\n",
        "    if np.random.rand() < (np.exp(likelihood(h0_proposal) - likelihood(h0_chain[-1])) * (prior(h0_proposal) / prior(h0_chain[-1]))):\n",
        "        h0_chain.append(h0_proposal)\n",
        "    else:\n",
        "        h0_chain.append(h0_chain[-1])\n",
        "\n",
        "# Plot the posterior distribution\n",
        "plt.hist(h0_chain, bins=30, density=True)\n",
        "plt.xlabel(\"Hubble Constant (H0)\")\n",
        "plt.ylabel(\"Probability Density\")\n",
        "plt.title(\"Posterior Distribution of H0\")\n",
        "plt.show()"
      ]
    }
  ]
}