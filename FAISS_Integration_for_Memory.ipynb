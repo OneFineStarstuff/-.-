{
  "nbformat": 4,
  "nbformat_minor": 0,
  "metadata": {
    "colab": {
      "private_outputs": true,
      "provenance": [],
      "authorship_tag": "ABX9TyM4tYeZSWNTPx1AyklQ60ck",
      "include_colab_link": true
    },
    "kernelspec": {
      "name": "python3",
      "display_name": "Python 3"
    },
    "language_info": {
      "name": "python"
    }
  },
  "cells": [
    {
      "cell_type": "markdown",
      "metadata": {
        "id": "view-in-github",
        "colab_type": "text"
      },
      "source": [
        "<a href=\"https://colab.research.google.com/github/OneFineStarstuff/Onefinebot/blob/main/FAISS_Integration_for_Memory.ipynb\" target=\"_parent\"><img src=\"https://colab.research.google.com/assets/colab-badge.svg\" alt=\"Open In Colab\"/></a>"
      ]
    },
    {
      "cell_type": "code",
      "execution_count": null,
      "metadata": {
        "id": "ZoxzlXFyQhXE"
      },
      "outputs": [],
      "source": [
        "pip install faiss-cpu sentence-transformers"
      ]
    },
    {
      "cell_type": "code",
      "source": [
        "import faiss\n",
        "from sentence_transformers import SentenceTransformer\n",
        "\n",
        "class MemoryModule:\n",
        "    def __init__(self, embedding_model=\"all-MiniLM-L6-v2\"):\n",
        "        self.model = SentenceTransformer(embedding_model)\n",
        "        self.dimension = self.model.get_sentence_embedding_dimension()\n",
        "        self.index = faiss.IndexFlatL2(self.dimension)  # L2 distance metric\n",
        "        self.memory = []\n",
        "\n",
        "    def add_memory(self, text):\n",
        "        vector = self.model.encode([text])\n",
        "        self.index.add(vector)\n",
        "        self.memory.append(text)\n",
        "\n",
        "    def query_memory(self, query, k=5):\n",
        "        vector = self.model.encode([query])\n",
        "        distances, indices = self.index.search(vector, k)\n",
        "        return [self.memory[i] for i in indices[0]]\n",
        "\n",
        "# Example Usage\n",
        "if __name__ == \"__main__\":\n",
        "    memory = MemoryModule()\n",
        "    memory.add_memory(\"Quantum entanglement is a phenomenon where particles are linked.\")\n",
        "    memory.add_memory(\"Einstein referred to quantum entanglement as 'spooky action at a distance'.\")\n",
        "    result = memory.query_memory(\"Tell me about quantum entanglement.\")\n",
        "    print(\"Memory Results:\", result)"
      ],
      "metadata": {
        "id": "bWwphHTpQiyP"
      },
      "execution_count": null,
      "outputs": []
    }
  ]
}