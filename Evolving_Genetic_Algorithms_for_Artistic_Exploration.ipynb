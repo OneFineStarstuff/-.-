{
  "nbformat": 4,
  "nbformat_minor": 0,
  "metadata": {
    "colab": {
      "private_outputs": true,
      "provenance": [],
      "authorship_tag": "ABX9TyPZI22vtUavk3lFdcOe40YS",
      "include_colab_link": true
    },
    "kernelspec": {
      "name": "python3",
      "display_name": "Python 3"
    },
    "language_info": {
      "name": "python"
    }
  },
  "cells": [
    {
      "cell_type": "markdown",
      "metadata": {
        "id": "view-in-github",
        "colab_type": "text"
      },
      "source": [
        "<a href=\"https://colab.research.google.com/github/OneFineStarstuff/Onefinebot/blob/main/Evolving_Genetic_Algorithms_for_Artistic_Exploration.ipynb\" target=\"_parent\"><img src=\"https://colab.research.google.com/assets/colab-badge.svg\" alt=\"Open In Colab\"/></a>"
      ]
    },
    {
      "cell_type": "code",
      "execution_count": null,
      "metadata": {
        "id": "_Iw2zwR1bi-g"
      },
      "outputs": [],
      "source": [
        "import random\n",
        "\n",
        "# Define a simple gene (e.g., pixel color or sound frequency)\n",
        "def create_individual():\n",
        "    return [random.randint(0, 255) for _ in range(3)]\n",
        "\n",
        "# Define the fitness function\n",
        "def evaluate(individual):\n",
        "    # Example fitness function: sum of the gene values\n",
        "    return sum(individual)\n",
        "\n",
        "# Define the mutation function\n",
        "def mutate(individual, mutation_rate=0.01):\n",
        "    for i in range(len(individual)):\n",
        "        if random.random() < mutation_rate:\n",
        "            individual[i] = random.randint(0, 255)\n",
        "\n",
        "# Define the selection function\n",
        "def select(population, fitnesses):\n",
        "    total_fitness = sum(fitnesses)\n",
        "    if total_fitness == 0:\n",
        "        return random.choice(population)\n",
        "    pick = random.uniform(0, total_fitness)\n",
        "    current = 0\n",
        "    for individual, fitness in zip(population, fitnesses):\n",
        "        current += fitness\n",
        "        if current > pick:\n",
        "            return individual\n",
        "\n",
        "# Define the crossover function\n",
        "def crossover(parent1, parent2):\n",
        "    crossover_point = random.randint(1, len(parent1) - 1)\n",
        "    return parent1[:crossover_point] + parent2[crossover_point:]\n",
        "\n",
        "# Initialize population\n",
        "population = [create_individual() for _ in range(10)]\n",
        "\n",
        "# Simulate generations\n",
        "num_generations = 50\n",
        "mutation_rate = 0.05\n",
        "\n",
        "for generation in range(num_generations):\n",
        "    # Evaluate the fitness of the population\n",
        "    fitnesses = [evaluate(individual) for individual in population]\n",
        "\n",
        "    # Create a new population through selection, crossover, and mutation\n",
        "    new_population = []\n",
        "    for _ in range(len(population)):\n",
        "        parent1 = select(population, fitnesses)\n",
        "        parent2 = select(population, fitnesses)\n",
        "        offspring = crossover(parent1, parent2)\n",
        "        mutate(offspring, mutation_rate)\n",
        "        new_population.append(offspring)\n",
        "\n",
        "    population = new_population\n",
        "    print(f\"Generation {generation + 1}: Best fitness = {max(fitnesses)}\")\n",
        "\n",
        "# Display the best individual from the final population\n",
        "best_individual = max(population, key=evaluate)\n",
        "print(f\"Best individual: {best_individual} with fitness: {evaluate(best_individual)}\")"
      ]
    }
  ]
}