{
  "nbformat": 4,
  "nbformat_minor": 0,
  "metadata": {
    "colab": {
      "private_outputs": true,
      "provenance": [],
      "authorship_tag": "ABX9TyMxOasdYTGxx/IxOKR35vWM",
      "include_colab_link": true
    },
    "kernelspec": {
      "name": "python3",
      "display_name": "Python 3"
    },
    "language_info": {
      "name": "python"
    }
  },
  "cells": [
    {
      "cell_type": "markdown",
      "metadata": {
        "id": "view-in-github",
        "colab_type": "text"
      },
      "source": [
        "<a href=\"https://colab.research.google.com/github/OneFineStarstuff/Onefinebot/blob/main/Basic_3D_Rendering_with_PyOpenGL_and_GLUT.ipynb\" target=\"_parent\"><img src=\"https://colab.research.google.com/assets/colab-badge.svg\" alt=\"Open In Colab\"/></a>"
      ]
    },
    {
      "cell_type": "code",
      "source": [
        "!sudo apt-get install freeglut3-dev"
      ],
      "metadata": {
        "id": "FKsu7sYgfffh"
      },
      "execution_count": null,
      "outputs": []
    },
    {
      "cell_type": "code",
      "source": [
        "pip install --upgrade PyOpenGL PyOpenGL_accelerate"
      ],
      "metadata": {
        "id": "lRSFvcqwfRpp"
      },
      "execution_count": null,
      "outputs": []
    },
    {
      "cell_type": "code",
      "source": [
        "print(hasattr(glut, 'glutInitDisplayMode'))"
      ],
      "metadata": {
        "id": "s2OuGIg7fy4z"
      },
      "execution_count": null,
      "outputs": []
    },
    {
      "cell_type": "code",
      "execution_count": null,
      "metadata": {
        "id": "qJXuqrHCe-Fk"
      },
      "outputs": [],
      "source": [
        "import OpenGL.GL as gl\n",
        "import OpenGL.GLUT as glut\n",
        "import OpenGL.GLU as glu\n",
        "\n",
        "def draw():\n",
        "    gl.glClear(gl.GL_COLOR_BUFFER_BIT | gl.GL_DEPTH_BUFFER_BIT)\n",
        "    gl.glLoadIdentity()\n",
        "    glu.gluLookAt(0, 0, 5, 0, 0, 0, 0, 1, 0)  # Camera position\n",
        "\n",
        "    gl.glBegin(gl.GL_TRIANGLES)\n",
        "    gl.glColor3f(1, 0, 0)  # Red\n",
        "    gl.glVertex3f(0, 1, 0)\n",
        "    gl.glColor3f(0, 1, 0)  # Green\n",
        "    gl.glVertex3f(-1, -1, 0)\n",
        "    gl.glColor3f(0, 0, 1)  # Blue\n",
        "    gl.glVertex3f(1, -1, 0)\n",
        "    gl.glEnd()\n",
        "\n",
        "    glut.glutSwapBuffers()\n",
        "\n",
        "def main():\n",
        "    glut.glutInit()\n",
        "    if hasattr(glut, 'glutInitDisplayMode'):\n",
        "        glut.glutInitDisplayMode(glut.GLUT_DOUBLE | glut.GLUT_RGB | glut.GLUT_DEPTH)\n",
        "    else:\n",
        "        raise RuntimeError(\"Function glutInitDisplayMode not found.\")\n",
        "    glut.glutCreateWindow(b\"3D OpenGL Example\")\n",
        "    glut.glutDisplayFunc(draw)\n",
        "    gl.glEnable(gl.GL_DEPTH_TEST)  # Enable depth testing\n",
        "    glut.glutMainLoop()\n",
        "\n",
        "if __name__ == \"__main__\":\n",
        "    main()"
      ]
    }
  ]
}