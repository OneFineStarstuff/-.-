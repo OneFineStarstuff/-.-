{
  "nbformat": 4,
  "nbformat_minor": 0,
  "metadata": {
    "colab": {
      "private_outputs": true,
      "provenance": [],
      "authorship_tag": "ABX9TyMDzRBzERQ2/aATLls9H9Wl",
      "include_colab_link": true
    },
    "kernelspec": {
      "name": "python3",
      "display_name": "Python 3"
    },
    "language_info": {
      "name": "python"
    }
  },
  "cells": [
    {
      "cell_type": "markdown",
      "metadata": {
        "id": "view-in-github",
        "colab_type": "text"
      },
      "source": [
        "<a href=\"https://colab.research.google.com/github/OneFineStarstuff/Onefinebot/blob/main/Example_for_Calorie_Counter.ipynb\" target=\"_parent\"><img src=\"https://colab.research.google.com/assets/colab-badge.svg\" alt=\"Open In Colab\"/></a>"
      ]
    },
    {
      "cell_type": "code",
      "execution_count": null,
      "metadata": {
        "id": "2z8HMJlvVo4s"
      },
      "outputs": [],
      "source": [
        "class CalorieCounter:\n",
        "    def __init__(self):\n",
        "        self.calories = 0  # Initialize total calories to 0\n",
        "\n",
        "    def add_meal(self, calories):\n",
        "        # Add the specified number of calories to the total count\n",
        "        self.calories += calories\n",
        "        return f\"Total Calories: {self.calories} kcal\"\n",
        "\n",
        "# Example Usage\n",
        "counter = CalorieCounter()\n",
        "print(counter.add_meal(300))  # Breakfast\n",
        "print(counter.add_meal(600))  # Lunch\n",
        "# Output: Total Calories: 900 kcal"
      ]
    }
  ]
}