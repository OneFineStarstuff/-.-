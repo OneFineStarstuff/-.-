{
  "nbformat": 4,
  "nbformat_minor": 0,
  "metadata": {
    "colab": {
      "private_outputs": true,
      "provenance": [],
      "authorship_tag": "ABX9TyO9jShpQ9we3tUY2ropeKmS",
      "include_colab_link": true
    },
    "kernelspec": {
      "name": "python3",
      "display_name": "Python 3"
    },
    "language_info": {
      "name": "python"
    }
  },
  "cells": [
    {
      "cell_type": "markdown",
      "metadata": {
        "id": "view-in-github",
        "colab_type": "text"
      },
      "source": [
        "<a href=\"https://colab.research.google.com/github/OneFineStarstuff/Onefinebot/blob/main/Example_for_Poll_Creation.ipynb\" target=\"_parent\"><img src=\"https://colab.research.google.com/assets/colab-badge.svg\" alt=\"Open In Colab\"/></a>"
      ]
    },
    {
      "cell_type": "code",
      "execution_count": null,
      "metadata": {
        "id": "_0D1NnbUPi8j"
      },
      "outputs": [],
      "source": [
        "class Poll:\n",
        "    def __init__(self, question):\n",
        "        self.question = question  # Initialize the poll with a question\n",
        "        self.options = {}  # Initialize an empty dictionary for options\n",
        "        self.votes = {}  # Initialize an empty dictionary for votes\n",
        "\n",
        "    def add_option(self, option):\n",
        "        # Add the option to the options dictionary with an initial vote count of 0\n",
        "        self.options[option] = 0\n",
        "\n",
        "    def vote(self, option):\n",
        "        # Check if the option exists in the options dictionary\n",
        "        if option in self.options:\n",
        "            # Increment the vote count for the option\n",
        "            self.options[option] += 1\n",
        "            return f\"Vote recorded for {option}.\"\n",
        "        # Return a message if the option is not available\n",
        "        return \"Option not available.\"\n",
        "\n",
        "    def view_results(self):\n",
        "        # Return the current voting results\n",
        "        return self.options\n",
        "\n",
        "# Example Usage\n",
        "poll = Poll(\"What is your favorite programming language?\")\n",
        "poll.add_option(\"Python\")\n",
        "poll.add_option(\"JavaScript\")\n",
        "poll.vote(\"Python\")\n",
        "print(poll.view_results())\n",
        "# Output: {'Python': 1, 'JavaScript': 0}"
      ]
    }
  ]
}