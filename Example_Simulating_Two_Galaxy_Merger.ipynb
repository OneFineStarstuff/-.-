{
  "nbformat": 4,
  "nbformat_minor": 0,
  "metadata": {
    "colab": {
      "private_outputs": true,
      "provenance": [],
      "authorship_tag": "ABX9TyOUk8Vzd/Ehwewxi9OJ6+J1",
      "include_colab_link": true
    },
    "kernelspec": {
      "name": "python3",
      "display_name": "Python 3"
    },
    "language_info": {
      "name": "python"
    }
  },
  "cells": [
    {
      "cell_type": "markdown",
      "metadata": {
        "id": "view-in-github",
        "colab_type": "text"
      },
      "source": [
        "<a href=\"https://colab.research.google.com/github/OneFineStarstuff/Onefinebot/blob/main/Example_Simulating_Two_Galaxy_Merger.ipynb\" target=\"_parent\"><img src=\"https://colab.research.google.com/assets/colab-badge.svg\" alt=\"Open In Colab\"/></a>"
      ]
    },
    {
      "cell_type": "code",
      "execution_count": null,
      "metadata": {
        "id": "FEFA5p4AS2av"
      },
      "outputs": [],
      "source": [
        "from scipy.integrate import solve_ivp\n",
        "import numpy as np\n",
        "import matplotlib.pyplot as plt\n",
        "\n",
        "# Constants\n",
        "G = 6.67430e-11  # Gravitational constant\n",
        "M1 = 1e11  # Mass of galaxy 1 (in solar masses)\n",
        "M2 = 5e10  # Mass of galaxy 2\n",
        "r1_init, r2_init = np.array([0, 0]), np.array([1e5, 0])  # Initial positions in kpc\n",
        "v1_init, v2_init = np.array([0, 200]), np.array([0, -200])  # Initial velocities in km/s\n",
        "\n",
        "# Define the differential equation for gravitational interaction\n",
        "def derivatives(t, y):\n",
        "    r1, v1, r2, v2 = y[:2], y[2:4], y[4:6], y[6:]\n",
        "    r = np.linalg.norm(r2 - r1)\n",
        "    force = G * M1 * M2 / r**2\n",
        "    accel1 = force * (r2 - r1) / (r * M1)\n",
        "    accel2 = -force * (r2 - r1) / (r * M2)\n",
        "    return np.concatenate((v1, accel1, v2, accel2))\n",
        "\n",
        "# Solve using ODE solver\n",
        "initial_conditions = np.concatenate((r1_init, v1_init, r2_init, v2_init))\n",
        "time_span = (0, 1e8)  # Time span in seconds\n",
        "solution = solve_ivp(derivatives, time_span, initial_conditions, max_step=1e6)\n",
        "\n",
        "# Plot trajectories\n",
        "plt.plot(solution.y[0], solution.y[1], label=\"Galaxy 1\")\n",
        "plt.plot(solution.y[4], solution.y[5], label=\"Galaxy 2\")\n",
        "plt.xlabel(\"x (kpc)\")\n",
        "plt.ylabel(\"y (kpc)\")\n",
        "plt.title(\"Galaxy Merger Simulation\")\n",
        "plt.legend()\n",
        "plt.show()"
      ]
    }
  ]
}