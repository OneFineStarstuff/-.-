{
  "nbformat": 4,
  "nbformat_minor": 0,
  "metadata": {
    "colab": {
      "private_outputs": true,
      "provenance": [],
      "authorship_tag": "ABX9TyNHWEI1oooEOuL0zPE7lVlb",
      "include_colab_link": true
    },
    "kernelspec": {
      "name": "python3",
      "display_name": "Python 3"
    },
    "language_info": {
      "name": "python"
    }
  },
  "cells": [
    {
      "cell_type": "markdown",
      "metadata": {
        "id": "view-in-github",
        "colab_type": "text"
      },
      "source": [
        "<a href=\"https://colab.research.google.com/github/OneFineStarstuff/Onefinebot/blob/main/Recursive_Circles_with_Randomness_and_Noise.ipynb\" target=\"_parent\"><img src=\"https://colab.research.google.com/assets/colab-badge.svg\" alt=\"Open In Colab\"/></a>"
      ]
    },
    {
      "cell_type": "code",
      "source": [
        "pip install noise"
      ],
      "metadata": {
        "id": "G2ga8GrdM2Cv"
      },
      "execution_count": null,
      "outputs": []
    },
    {
      "cell_type": "code",
      "execution_count": null,
      "metadata": {
        "id": "0bRTwDVCMqIt"
      },
      "outputs": [],
      "source": [
        "import numpy as np\n",
        "import matplotlib.pyplot as plt\n",
        "from noise import pnoise2\n",
        "import random\n",
        "\n",
        "# Recursive function to draw circles with randomness and noise\n",
        "def draw_circle(ax, center, radius, depth, color_map):\n",
        "    if depth > 0:\n",
        "        # Randomly alter the color and circle radius with Perlin noise\n",
        "        color = color_map[depth % len(color_map)]\n",
        "        noisy_radius = radius * (0.8 + 0.2 * pnoise2(center[0] * 0.5, center[1] * 0.5, octaves=2))\n",
        "        circle = plt.Circle(center, noisy_radius, color=color, fill=False, linewidth=1.5)\n",
        "        ax.add_artist(circle)\n",
        "\n",
        "        # Recursive calls with modified positions and radius for randomness\n",
        "        for angle in np.linspace(0, 2 * np.pi, num=5, endpoint=False):  # More angles for added complexity\n",
        "            new_radius = radius * (0.4 + 0.2 * random.random())\n",
        "            x = center[0] + noisy_radius * np.cos(angle)\n",
        "            y = center[1] + noisy_radius * np.sin(angle)\n",
        "            draw_circle(ax, (x, y), new_radius, depth - 1, color_map)\n",
        "\n",
        "# Parameters for the artwork\n",
        "fig, ax = plt.subplots(figsize=(8, 8))\n",
        "ax.set_aspect('equal')\n",
        "ax.axis('off')\n",
        "color_map = [\"#e74c3c\", \"#3498db\", \"#9b59b6\", \"#1abc9c\", \"#f1c40f\", \"#34495e\"]\n",
        "\n",
        "# Start recursive drawing with randomness\n",
        "draw_circle(ax, (0, 0), 1, 5, color_map)\n",
        "plt.show()"
      ]
    }
  ]
}