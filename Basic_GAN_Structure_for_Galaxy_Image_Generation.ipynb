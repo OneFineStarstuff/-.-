{
  "nbformat": 4,
  "nbformat_minor": 0,
  "metadata": {
    "colab": {
      "private_outputs": true,
      "provenance": [],
      "authorship_tag": "ABX9TyPUFrhTatMhyWBGC1EWiKPE",
      "include_colab_link": true
    },
    "kernelspec": {
      "name": "python3",
      "display_name": "Python 3"
    },
    "language_info": {
      "name": "python"
    }
  },
  "cells": [
    {
      "cell_type": "markdown",
      "metadata": {
        "id": "view-in-github",
        "colab_type": "text"
      },
      "source": [
        "<a href=\"https://colab.research.google.com/github/OneFineStarstuff/Onefinebot/blob/main/Basic_GAN_Structure_for_Galaxy_Image_Generation.ipynb\" target=\"_parent\"><img src=\"https://colab.research.google.com/assets/colab-badge.svg\" alt=\"Open In Colab\"/></a>"
      ]
    },
    {
      "cell_type": "code",
      "execution_count": null,
      "metadata": {
        "id": "x9IijpW9GxeQ"
      },
      "outputs": [],
      "source": [
        "import tensorflow as tf\n",
        "from tensorflow.keras.layers import Dense, Reshape, Flatten, Conv2D, Conv2DTranspose, LeakyReLU\n",
        "from tensorflow.keras.models import Sequential\n",
        "\n",
        "# Generator model\n",
        "def build_generator():\n",
        "    model = Sequential([\n",
        "        tf.keras.Input(shape=(100,)),  # Define input shape using Input layer\n",
        "        Dense(128, activation='relu'),\n",
        "        Dense(7 * 7 * 128),\n",
        "        LeakyReLU(),\n",
        "        Reshape((7, 7, 128)),\n",
        "        Conv2DTranspose(64, (5, 5), strides=(2, 2), padding='same', activation='relu'),\n",
        "        Conv2DTranspose(1, (5, 5), strides=(2, 2), padding='same', activation='tanh')\n",
        "    ])\n",
        "    return model\n",
        "\n",
        "# Discriminator model\n",
        "def build_discriminator():\n",
        "    model = Sequential([\n",
        "        tf.keras.Input(shape=(28, 28, 1)),  # Define input shape using Input layer\n",
        "        Conv2D(64, (5, 5), strides=(2, 2), padding='same'),\n",
        "        LeakyReLU(),\n",
        "        Flatten(),\n",
        "        Dense(1, activation='sigmoid')\n",
        "    ])\n",
        "    return model\n",
        "\n",
        "# Build GAN\n",
        "generator = build_generator()\n",
        "discriminator = build_discriminator()\n",
        "discriminator.compile(optimizer='adam', loss='binary_crossentropy', metrics=['accuracy'])\n",
        "\n",
        "# GAN model combining generator and discriminator\n",
        "gan = Sequential([generator, discriminator])\n",
        "discriminator.trainable = False\n",
        "gan.compile(optimizer='adam', loss='binary_crossentropy')"
      ]
    }
  ]
}