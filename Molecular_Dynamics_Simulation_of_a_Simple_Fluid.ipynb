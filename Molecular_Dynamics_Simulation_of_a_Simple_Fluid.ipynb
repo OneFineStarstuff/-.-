{
  "nbformat": 4,
  "nbformat_minor": 0,
  "metadata": {
    "colab": {
      "private_outputs": true,
      "provenance": [],
      "authorship_tag": "ABX9TyOMo9l4mqyMS9tZHdebnApe",
      "include_colab_link": true
    },
    "kernelspec": {
      "name": "python3",
      "display_name": "Python 3"
    },
    "language_info": {
      "name": "python"
    }
  },
  "cells": [
    {
      "cell_type": "markdown",
      "metadata": {
        "id": "view-in-github",
        "colab_type": "text"
      },
      "source": [
        "<a href=\"https://colab.research.google.com/github/OneFineStarstuff/Onefinebot/blob/main/Molecular_Dynamics_Simulation_of_a_Simple_Fluid.ipynb\" target=\"_parent\"><img src=\"https://colab.research.google.com/assets/colab-badge.svg\" alt=\"Open In Colab\"/></a>"
      ]
    },
    {
      "cell_type": "code",
      "execution_count": null,
      "metadata": {
        "id": "_fkcd4cL6IrD"
      },
      "outputs": [],
      "source": [
        "import numpy as np\n",
        "import matplotlib.pyplot as plt\n",
        "\n",
        "# Parameters\n",
        "n_particles = 100  # Number of particles\n",
        "box_size = 10.0  # Simulation box size\n",
        "dt = 0.01  # Time step\n",
        "n_steps = 1000  # Number of simulation steps\n",
        "epsilon, sigma = 1.0, 1.0  # Lennard-Jones parameters\n",
        "cutoff = 0.1 * sigma  # Cutoff distance to avoid division by zero\n",
        "\n",
        "# Initialize particle positions and velocities\n",
        "positions = np.random.rand(n_particles, 2) * box_size\n",
        "velocities = np.random.randn(n_particles, 2)\n",
        "\n",
        "# Molecular dynamics simulation loop\n",
        "for step in range(n_steps):\n",
        "    forces = np.zeros((n_particles, 2))\n",
        "\n",
        "    # Calculate forces\n",
        "    for i in range(n_particles):\n",
        "        for j in range(i + 1, n_particles):\n",
        "            rij = positions[i] - positions[j]\n",
        "            r = np.linalg.norm(rij)\n",
        "            if r < 3 * sigma and r > cutoff:\n",
        "                f = 48 * epsilon * (sigma**12 / r**13 - 0.5 * sigma**6 / r**7) * rij / r\n",
        "                forces[i] += f\n",
        "                forces[j] -= f\n",
        "\n",
        "    # Update velocities and positions\n",
        "    velocities += forces * dt\n",
        "    positions += velocities * dt\n",
        "\n",
        "    # Apply periodic boundary conditions\n",
        "    positions = np.mod(positions, box_size)\n",
        "\n",
        "# Plot final positions\n",
        "plt.scatter(positions[:, 0], positions[:, 1], s=10)\n",
        "plt.xlabel(\"x position\")\n",
        "plt.ylabel(\"y position\")\n",
        "plt.title(\"Lennard-Jones Fluid Simulation\")\n",
        "plt.show()"
      ]
    }
  ]
}