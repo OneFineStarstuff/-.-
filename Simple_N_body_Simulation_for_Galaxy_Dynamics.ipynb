{
  "nbformat": 4,
  "nbformat_minor": 0,
  "metadata": {
    "colab": {
      "private_outputs": true,
      "provenance": [],
      "authorship_tag": "ABX9TyPjtKA8RWyggKpoWoXdP1Fg",
      "include_colab_link": true
    },
    "kernelspec": {
      "name": "python3",
      "display_name": "Python 3"
    },
    "language_info": {
      "name": "python"
    }
  },
  "cells": [
    {
      "cell_type": "markdown",
      "metadata": {
        "id": "view-in-github",
        "colab_type": "text"
      },
      "source": [
        "<a href=\"https://colab.research.google.com/github/OneFineStarstuff/Onefinebot/blob/main/Simple_N_body_Simulation_for_Galaxy_Dynamics.ipynb\" target=\"_parent\"><img src=\"https://colab.research.google.com/assets/colab-badge.svg\" alt=\"Open In Colab\"/></a>"
      ]
    },
    {
      "cell_type": "code",
      "execution_count": null,
      "metadata": {
        "id": "eejLOG1kkjeC"
      },
      "outputs": [],
      "source": [
        "import numpy as np\n",
        "import matplotlib.pyplot as plt\n",
        "\n",
        "# Simulation parameters\n",
        "num_particles = 100\n",
        "G = 1  # Gravitational constant (arbitrary units)\n",
        "dt = 0.01  # Time step\n",
        "num_steps = 1000  # Number of steps\n",
        "\n",
        "# Initialize positions and velocities\n",
        "positions = np.random.rand(num_particles, 2) - 0.5  # Centered positions\n",
        "velocities = np.zeros((num_particles, 2))  # Initial velocities\n",
        "\n",
        "# Function to calculate gravitational force\n",
        "def gravitational_force(pos1, pos2):\n",
        "    distance = np.linalg.norm(pos2 - pos1)\n",
        "    force_magnitude = G / (distance**2 + 1e-5)  # Softened gravity\n",
        "    return force_magnitude * (pos2 - pos1) / distance\n",
        "\n",
        "# Simulation loop\n",
        "for step in range(num_steps):\n",
        "    forces = np.zeros((num_particles, 2))\n",
        "    for i in range(num_particles):\n",
        "        for j in range(i + 1, num_particles):\n",
        "            force = gravitational_force(positions[i], positions[j])\n",
        "            forces[i] += force\n",
        "            forces[j] -= force\n",
        "    velocities += forces * dt\n",
        "    positions += velocities * dt\n",
        "\n",
        "# Plotting final particle positions\n",
        "plt.scatter(positions[:, 0], positions[:, 1], s=5)\n",
        "plt.xlabel(\"X Position\")\n",
        "plt.ylabel(\"Y Position\")\n",
        "plt.title(\"Galaxy Dynamics Simulation (N-body)\")\n",
        "plt.show()"
      ]
    }
  ]
}