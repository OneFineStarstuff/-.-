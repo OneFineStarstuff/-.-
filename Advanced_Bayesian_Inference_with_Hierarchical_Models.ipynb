{
  "nbformat": 4,
  "nbformat_minor": 0,
  "metadata": {
    "colab": {
      "private_outputs": true,
      "provenance": [],
      "authorship_tag": "ABX9TyM1StgaUXS67DpgA8uCzGiG",
      "include_colab_link": true
    },
    "kernelspec": {
      "name": "python3",
      "display_name": "Python 3"
    },
    "language_info": {
      "name": "python"
    }
  },
  "cells": [
    {
      "cell_type": "markdown",
      "metadata": {
        "id": "view-in-github",
        "colab_type": "text"
      },
      "source": [
        "<a href=\"https://colab.research.google.com/github/OneFineStarstuff/Onefinebot/blob/main/Advanced_Bayesian_Inference_with_Hierarchical_Models.ipynb\" target=\"_parent\"><img src=\"https://colab.research.google.com/assets/colab-badge.svg\" alt=\"Open In Colab\"/></a>"
      ]
    },
    {
      "cell_type": "code",
      "execution_count": null,
      "metadata": {
        "id": "nQygFAVEhXrv"
      },
      "outputs": [],
      "source": [
        "import pymc3 as pm\n",
        "import numpy as np\n",
        "\n",
        "# Simulate multiple observations of Hubble parameters\n",
        "observed_H_data = [np.random.normal(H_true, 3, size=50) for _ in range(3)]\n",
        "observed_scale_factors = np.linspace(0.1, 1, 50)\n",
        "\n",
        "with pm.Model() as hierarchical_model:\n",
        "    # Global priors\n",
        "    H0 = pm.Normal(\"H0\", mu=70, sigma=10)\n",
        "    Omega_m = pm.Normal(\"Omega_m\", mu=0.3, sigma=0.1)\n",
        "    Omega_Lambda = pm.Normal(\"Omega_Lambda\", mu=0.7, sigma=0.1)\n",
        "\n",
        "    for i, data in enumerate(observed_H_data):\n",
        "        # Likelihood for each dataset\n",
        "        H_model = H0 * np.sqrt(Omega_m / observed_scale_factors**3 + Omega_Lambda)\n",
        "        pm.Normal(f\"observed_data_{i}\", mu=H_model, sigma=3, observed=data)\n",
        "\n",
        "    # Inference with NUTS\n",
        "    trace = pm.sample(2000, tune=1000, return_inferencedata=True)\n",
        "\n",
        "# Plot posterior distributions\n",
        "pm.plot_posterior(trace)"
      ]
    }
  ]
}