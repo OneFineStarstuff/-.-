{
  "nbformat": 4,
  "nbformat_minor": 0,
  "metadata": {
    "colab": {
      "private_outputs": true,
      "provenance": [],
      "authorship_tag": "ABX9TyNwsnbRwqrKh4GG50jBJUeo",
      "include_colab_link": true
    },
    "kernelspec": {
      "name": "python3",
      "display_name": "Python 3"
    },
    "language_info": {
      "name": "python"
    }
  },
  "cells": [
    {
      "cell_type": "markdown",
      "metadata": {
        "id": "view-in-github",
        "colab_type": "text"
      },
      "source": [
        "<a href=\"https://colab.research.google.com/github/OneFineStarstuff/Onefinebot/blob/main/Example_for_Volunteer_Scheduling.ipynb\" target=\"_parent\"><img src=\"https://colab.research.google.com/assets/colab-badge.svg\" alt=\"Open In Colab\"/></a>"
      ]
    },
    {
      "cell_type": "code",
      "execution_count": null,
      "metadata": {
        "id": "K0n_OaPoLaBp"
      },
      "outputs": [],
      "source": [
        "class VolunteerScheduler:\n",
        "    def __init__(self):\n",
        "        self.schedule = []  # Initialize an empty list to store volunteer schedules\n",
        "\n",
        "    def add_volunteer(self, name, task, date):\n",
        "        # Append the volunteer's details to the schedule list\n",
        "        self.schedule.append({\"name\": name, \"task\": task, \"date\": date})\n",
        "\n",
        "    def view_schedule(self):\n",
        "        # Return the list of all scheduled volunteers and their tasks\n",
        "        return self.schedule\n",
        "\n",
        "# Example Usage\n",
        "scheduler = VolunteerScheduler()\n",
        "scheduler.add_volunteer(\"Alice\", \"Food Distribution\", \"2025-01-15\")\n",
        "print(scheduler.view_schedule())  # Output: [{'name': 'Alice', 'task': 'Food Distribution', 'date': '2025-01-15'}]"
      ]
    }
  ]
}