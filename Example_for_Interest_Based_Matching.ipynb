{
  "nbformat": 4,
  "nbformat_minor": 0,
  "metadata": {
    "colab": {
      "private_outputs": true,
      "provenance": [],
      "authorship_tag": "ABX9TyOlS1sss6KDwCuE6X149OyQ",
      "include_colab_link": true
    },
    "kernelspec": {
      "name": "python3",
      "display_name": "Python 3"
    },
    "language_info": {
      "name": "python"
    }
  },
  "cells": [
    {
      "cell_type": "markdown",
      "metadata": {
        "id": "view-in-github",
        "colab_type": "text"
      },
      "source": [
        "<a href=\"https://colab.research.google.com/github/OneFineStarstuff/Onefinebot/blob/main/Example_for_Interest_Based_Matching.ipynb\" target=\"_parent\"><img src=\"https://colab.research.google.com/assets/colab-badge.svg\" alt=\"Open In Colab\"/></a>"
      ]
    },
    {
      "cell_type": "code",
      "execution_count": null,
      "metadata": {
        "id": "71nm1-VEX2FS"
      },
      "outputs": [],
      "source": [
        "class InterestMatcher:\n",
        "    def __init__(self):\n",
        "        self.user_interests = {}\n",
        "\n",
        "    def add_user(self, user, interests):\n",
        "        self.user_interests[user] = interests\n",
        "\n",
        "    def find_matches(self, user):\n",
        "        if user not in self.user_interests:\n",
        "            return \"User not found.\"\n",
        "        user_interests = set(self.user_interests[user])\n",
        "        matches = {u: interests for u, interests in self.user_interests.items() if u != user and user_interests.intersection(interests)}\n",
        "        return matches or \"No matches found.\"\n",
        "\n",
        "# Example Usage\n",
        "matcher = InterestMatcher()\n",
        "matcher.add_user(\"Alice\", [\"Music\", \"Travel\"])\n",
        "matcher.add_user(\"Bob\", [\"Travel\", \"Sports\"])\n",
        "matcher.add_user(\"Charlie\", [\"Music\", \"Photography\"])\n",
        "print(matcher.find_matches(\"Alice\"))\n",
        "# Output: {'Bob': ['Travel', 'Sports'], 'Charlie': ['Music', 'Photography']}"
      ]
    }
  ]
}