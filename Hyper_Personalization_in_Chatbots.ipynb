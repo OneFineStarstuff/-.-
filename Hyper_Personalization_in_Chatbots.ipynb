{
  "nbformat": 4,
  "nbformat_minor": 0,
  "metadata": {
    "colab": {
      "private_outputs": true,
      "provenance": [],
      "authorship_tag": "ABX9TyMxAquAewlv7A0IHoKDGZ8q",
      "include_colab_link": true
    },
    "kernelspec": {
      "name": "python3",
      "display_name": "Python 3"
    },
    "language_info": {
      "name": "python"
    }
  },
  "cells": [
    {
      "cell_type": "markdown",
      "metadata": {
        "id": "view-in-github",
        "colab_type": "text"
      },
      "source": [
        "<a href=\"https://colab.research.google.com/github/OneFineStarstuff/Onefinebot/blob/main/Hyper_Personalization_in_Chatbots.ipynb\" target=\"_parent\"><img src=\"https://colab.research.google.com/assets/colab-badge.svg\" alt=\"Open In Colab\"/></a>"
      ]
    },
    {
      "cell_type": "code",
      "execution_count": null,
      "metadata": {
        "id": "M7DRVeH6FIH9"
      },
      "outputs": [],
      "source": [
        "class PersonalizationEngine:\n",
        "    def __init__(self):\n",
        "        self.user_data = {}\n",
        "\n",
        "    def log_interaction(self, user, action):\n",
        "        if user not in self.user_data:\n",
        "            self.user_data[user] = []\n",
        "        self.user_data[user].append(action)\n",
        "\n",
        "    def recommend(self, user):\n",
        "        if user in self.user_data:\n",
        "            return f\"Based on your history, you might like {self.user_data[user][-1]} again!\"\n",
        "        return \"Tell me more about your preferences!\"\n",
        "\n",
        "# Example Usage\n",
        "engine = PersonalizationEngine()\n",
        "engine.log_interaction(\"John\", \"Read about Machine Learning\")\n",
        "print(engine.recommend(\"John\"))  # Output: Based on your history, you might like Read about Machine Learning again!"
      ]
    }
  ]
}