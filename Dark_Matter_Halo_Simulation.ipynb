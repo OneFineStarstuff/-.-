{
  "nbformat": 4,
  "nbformat_minor": 0,
  "metadata": {
    "colab": {
      "private_outputs": true,
      "provenance": [],
      "authorship_tag": "ABX9TyMEblFJuIK/PWN/4oiLLrJy",
      "include_colab_link": true
    },
    "kernelspec": {
      "name": "python3",
      "display_name": "Python 3"
    },
    "language_info": {
      "name": "python"
    }
  },
  "cells": [
    {
      "cell_type": "markdown",
      "metadata": {
        "id": "view-in-github",
        "colab_type": "text"
      },
      "source": [
        "<a href=\"https://colab.research.google.com/github/OneFineStarstuff/Onefinebot/blob/main/Dark_Matter_Halo_Simulation.ipynb\" target=\"_parent\"><img src=\"https://colab.research.google.com/assets/colab-badge.svg\" alt=\"Open In Colab\"/></a>"
      ]
    },
    {
      "cell_type": "code",
      "execution_count": null,
      "metadata": {
        "id": "ZOOCNJQ6Gjyg"
      },
      "outputs": [],
      "source": [
        "import numpy as np\n",
        "import matplotlib.pyplot as plt\n",
        "\n",
        "# Define parameters for the NFW profile\n",
        "rho_0 = 1e7  # Density normalization (Msun/kpc^3)\n",
        "r_s = 20  # Scale radius in kpc\n",
        "\n",
        "# Define the NFW density profile\n",
        "def nfw_profile(r):\n",
        "    return rho_0 / ((r / r_s) * (1 + r / r_s)**2)\n",
        "\n",
        "# Generate radius values (in kpc) and calculate density\n",
        "r_values = np.linspace(0.1, 300, 500)  # Radii from 0.1 to 300 kpc\n",
        "rho_values = nfw_profile(r_values)\n",
        "\n",
        "# Plot the NFW profile\n",
        "plt.figure(figsize=(10, 6))\n",
        "plt.plot(r_values, rho_values, color=\"darkred\", label=\"NFW Profile\")\n",
        "plt.yscale(\"log\")\n",
        "plt.title(\"Dark Matter Density Profile (NFW)\")\n",
        "plt.xlabel(\"Radius (kpc)\")\n",
        "plt.ylabel(\"Density (Msun/kpc^3)\")\n",
        "plt.legend()\n",
        "plt.grid(True)\n",
        "plt.show()"
      ]
    }
  ]
}