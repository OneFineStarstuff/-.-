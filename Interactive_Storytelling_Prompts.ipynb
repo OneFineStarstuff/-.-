{
  "nbformat": 4,
  "nbformat_minor": 0,
  "metadata": {
    "colab": {
      "private_outputs": true,
      "provenance": [],
      "authorship_tag": "ABX9TyOrxrObXqUmzezsqrmPBJ7S",
      "include_colab_link": true
    },
    "kernelspec": {
      "name": "python3",
      "display_name": "Python 3"
    },
    "language_info": {
      "name": "python"
    }
  },
  "cells": [
    {
      "cell_type": "markdown",
      "metadata": {
        "id": "view-in-github",
        "colab_type": "text"
      },
      "source": [
        "<a href=\"https://colab.research.google.com/github/OneFineStarstuff/Onefinebot/blob/main/Interactive_Storytelling_Prompts.ipynb\" target=\"_parent\"><img src=\"https://colab.research.google.com/assets/colab-badge.svg\" alt=\"Open In Colab\"/></a>"
      ]
    },
    {
      "cell_type": "code",
      "execution_count": null,
      "metadata": {
        "id": "X0wEdLCpf97s"
      },
      "outputs": [],
      "source": [
        "from transformers import pipeline, set_seed\n",
        "\n",
        "# Load the text generation model\n",
        "set_seed(42)\n",
        "poetry_model = pipeline(\"text-generation\", model=\"gpt2\")\n",
        "\n",
        "def generate_poetry(theme):\n",
        "    try:\n",
        "        prompt = f\"A poem about {theme}:\\n\"\n",
        "        generated_poetry = poetry_model(prompt, max_length=50, num_return_sequences=1, truncation=True, pad_token_id=50256)\n",
        "        return generated_poetry[0][\"generated_text\"]\n",
        "    except Exception as e:\n",
        "        return f\"An error occurred: {e}\"\n",
        "\n",
        "# Example usage\n",
        "theme = \"nature\"\n",
        "poem = generate_poetry(theme)\n",
        "print(poem)"
      ]
    }
  ]
}