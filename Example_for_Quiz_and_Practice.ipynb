{
  "nbformat": 4,
  "nbformat_minor": 0,
  "metadata": {
    "colab": {
      "private_outputs": true,
      "provenance": [],
      "authorship_tag": "ABX9TyOVj8wBNrY9x2PhviGQ2KqO",
      "include_colab_link": true
    },
    "kernelspec": {
      "name": "python3",
      "display_name": "Python 3"
    },
    "language_info": {
      "name": "python"
    }
  },
  "cells": [
    {
      "cell_type": "markdown",
      "metadata": {
        "id": "view-in-github",
        "colab_type": "text"
      },
      "source": [
        "<a href=\"https://colab.research.google.com/github/OneFineStarstuff/Onefinebot/blob/main/Example_for_Quiz_and_Practice.ipynb\" target=\"_parent\"><img src=\"https://colab.research.google.com/assets/colab-badge.svg\" alt=\"Open In Colab\"/></a>"
      ]
    },
    {
      "cell_type": "code",
      "execution_count": null,
      "metadata": {
        "id": "8LhpR8ieDs_Q"
      },
      "outputs": [],
      "source": [
        "class QuizBot:\n",
        "    def __init__(self):\n",
        "        self.questions = [\n",
        "            {\"question\": \"What is the capital of France?\", \"answer\": \"Paris\"},\n",
        "            {\"question\": \"What is 5 + 7?\", \"answer\": \"12\"},\n",
        "            {\"question\": \"Who wrote 'Hamlet'?\", \"answer\": \"Shakespeare\"},\n",
        "        ]  # Initialize questions list with predefined questions and answers\n",
        "\n",
        "    def ask_question(self, index):\n",
        "        # Return the question at the specified index or a message if the index is out of range\n",
        "        return self.questions[index][\"question\"] if index < len(self.questions) else \"No more questions.\"\n",
        "\n",
        "    def check_answer(self, index, user_answer):\n",
        "        # Retrieve the correct answer for the specified index\n",
        "        correct = self.questions[index][\"answer\"]\n",
        "        # Compare the user answer to the correct answer and return the appropriate message\n",
        "        return \"Correct!\" if user_answer == correct else f\"Wrong. The correct answer is {correct}.\"\n",
        "\n",
        "# Example Usage\n",
        "quiz = QuizBot()\n",
        "print(quiz.ask_question(0))\n",
        "print(quiz.check_answer(0, \"Paris\"))\n",
        "# Output: What is the capital of France?\n",
        "#         Correct!"
      ]
    }
  ]
}