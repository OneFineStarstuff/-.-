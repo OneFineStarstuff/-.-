{
  "nbformat": 4,
  "nbformat_minor": 0,
  "metadata": {
    "colab": {
      "private_outputs": true,
      "provenance": [],
      "authorship_tag": "ABX9TyOjx/CH8rO4orG/OeiTw1HU",
      "include_colab_link": true
    },
    "kernelspec": {
      "name": "python3",
      "display_name": "Python 3"
    },
    "language_info": {
      "name": "python"
    }
  },
  "cells": [
    {
      "cell_type": "markdown",
      "metadata": {
        "id": "view-in-github",
        "colab_type": "text"
      },
      "source": [
        "<a href=\"https://colab.research.google.com/github/OneFineStarstuff/Onefinebot/blob/main/Example_Code_for_Modeling_Cosmological_Expansion.ipynb\" target=\"_parent\"><img src=\"https://colab.research.google.com/assets/colab-badge.svg\" alt=\"Open In Colab\"/></a>"
      ]
    },
    {
      "cell_type": "code",
      "execution_count": null,
      "metadata": {
        "id": "ElqHTuCOIG8J"
      },
      "outputs": [],
      "source": [
        "import numpy as np\n",
        "import matplotlib.pyplot as plt\n",
        "\n",
        "# Constants\n",
        "H0 = 70  # Hubble constant in km/s/Mpc\n",
        "OMEGA_M = 0.3  # Matter density parameter\n",
        "OMEGA_LAMBDA = 0.7  # Dark energy density parameter\n",
        "TIME_STEP = 1e8  # Time step in years\n",
        "TOTAL_TIME = 1e10  # Total simulation time in years\n",
        "\n",
        "# Initial conditions\n",
        "a = 1e-3  # Initial scale factor (small value for early universe)\n",
        "time = 0\n",
        "times = []\n",
        "scale_factors = []\n",
        "\n",
        "# Friedmann equation solver\n",
        "def da_dt(a):\n",
        "    H = H0 * np.sqrt(OMEGA_M / a**3 + OMEGA_LAMBDA)\n",
        "    return a * H / 3.086e19  # Convert H from km/s/Mpc to per year\n",
        "\n",
        "# Run the simulation\n",
        "while time < TOTAL_TIME:\n",
        "    times.append(time)\n",
        "    scale_factors.append(a)\n",
        "    a += da_dt(a) * TIME_STEP\n",
        "    time += TIME_STEP\n",
        "\n",
        "# Plotting the scale factor over time\n",
        "plt.plot(times, scale_factors)\n",
        "plt.xlabel(\"Time (years)\")\n",
        "plt.ylabel(\"Scale Factor (a)\")\n",
        "plt.title(\"Cosmic Expansion Model\")\n",
        "plt.grid()\n",
        "plt.show()"
      ]
    }
  ]
}