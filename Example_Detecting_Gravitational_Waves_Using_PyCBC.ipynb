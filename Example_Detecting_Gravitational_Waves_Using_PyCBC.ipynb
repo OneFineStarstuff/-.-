{
  "nbformat": 4,
  "nbformat_minor": 0,
  "metadata": {
    "colab": {
      "private_outputs": true,
      "provenance": [],
      "authorship_tag": "ABX9TyOs2FfISkFJAN4SBRp48k3t",
      "include_colab_link": true
    },
    "kernelspec": {
      "name": "python3",
      "display_name": "Python 3"
    },
    "language_info": {
      "name": "python"
    }
  },
  "cells": [
    {
      "cell_type": "markdown",
      "metadata": {
        "id": "view-in-github",
        "colab_type": "text"
      },
      "source": [
        "<a href=\"https://colab.research.google.com/github/OneFineStarstuff/Onefinebot/blob/main/Example_Detecting_Gravitational_Waves_Using_PyCBC.ipynb\" target=\"_parent\"><img src=\"https://colab.research.google.com/assets/colab-badge.svg\" alt=\"Open In Colab\"/></a>"
      ]
    },
    {
      "cell_type": "code",
      "source": [
        "pip install pycbc"
      ],
      "metadata": {
        "id": "t3d7Rr5FajiS"
      },
      "execution_count": null,
      "outputs": []
    },
    {
      "cell_type": "code",
      "execution_count": null,
      "metadata": {
        "id": "SOGbjR4rZ0GN"
      },
      "outputs": [],
      "source": [
        "from pycbc.types import TimeSeries\n",
        "from pycbc.filter import matched_filter\n",
        "from pycbc.psd import interpolate, inverse_spectrum_truncation\n",
        "from pycbc.waveform import get_td_waveform\n",
        "import numpy as np\n",
        "import matplotlib.pyplot as plt\n",
        "\n",
        "# Load a sample strain data (simulated here, but in real case, use LIGO data)\n",
        "# Ensuring the strain data length is appropriate for PSD calculation\n",
        "data_length = 4096 * 8  # 8 times the original length to ensure enough data\n",
        "strain = TimeSeries(np.random.randn(data_length) * 1e-19, delta_t=1.0/4096)\n",
        "\n",
        "# Generate a template waveform for a binary black hole merger\n",
        "mass1, mass2 = 30, 30  # Masses of black holes in solar masses\n",
        "hp, _ = get_td_waveform(approximant=\"SEOBNRv4_opt\", mass1=mass1, mass2=mass2, delta_t=1.0/4096, f_lower=30)\n",
        "\n",
        "# Adjust template length to match strain length\n",
        "hp.resize(len(strain))\n",
        "\n",
        "# Calculate power spectral density (PSD)\n",
        "psd = strain.psd(4)\n",
        "psd = interpolate(psd, strain.delta_f)\n",
        "psd = inverse_spectrum_truncation(psd, int(2 * strain.sample_rate), low_frequency_cutoff=20.0)\n",
        "\n",
        "# Perform matched filtering to detect the signal\n",
        "snr = matched_filter(hp, strain, psd=psd, low_frequency_cutoff=30)\n",
        "\n",
        "# Plot Signal-to-Noise Ratio (SNR)\n",
        "plt.plot(snr.sample_times, abs(snr))\n",
        "plt.xlabel('Time (s)')\n",
        "plt.ylabel('SNR')\n",
        "plt.title('Matched Filter SNR for Binary Black Hole Merger')\n",
        "plt.grid()\n",
        "plt.show()"
      ]
    }
  ]
}