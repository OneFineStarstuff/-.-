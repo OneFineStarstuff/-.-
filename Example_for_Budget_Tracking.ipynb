{
  "nbformat": 4,
  "nbformat_minor": 0,
  "metadata": {
    "colab": {
      "private_outputs": true,
      "provenance": [],
      "authorship_tag": "ABX9TyPXFDb4iUE2jVyU2sXGI9vR",
      "include_colab_link": true
    },
    "kernelspec": {
      "name": "python3",
      "display_name": "Python 3"
    },
    "language_info": {
      "name": "python"
    }
  },
  "cells": [
    {
      "cell_type": "markdown",
      "metadata": {
        "id": "view-in-github",
        "colab_type": "text"
      },
      "source": [
        "<a href=\"https://colab.research.google.com/github/OneFineStarstuff/Onefinebot/blob/main/Example_for_Budget_Tracking.ipynb\" target=\"_parent\"><img src=\"https://colab.research.google.com/assets/colab-badge.svg\" alt=\"Open In Colab\"/></a>"
      ]
    },
    {
      "cell_type": "code",
      "execution_count": null,
      "metadata": {
        "id": "4l7S8MwRQX1Y"
      },
      "outputs": [],
      "source": [
        "class BudgetBot:\n",
        "    def __init__(self):\n",
        "        self.budgets = {}\n",
        "\n",
        "    def set_budget(self, user, amount):\n",
        "        self.budgets[user] = {\"budget\": amount, \"spent\": 0}\n",
        "\n",
        "    def add_expense(self, user, amount):\n",
        "        if user in self.budgets:\n",
        "            self.budgets[user][\"spent\"] += amount\n",
        "            return self.budgets[user]\n",
        "        return \"No budget set for this user.\"\n",
        "\n",
        "# Example Usage\n",
        "bot = BudgetBot()\n",
        "bot.set_budget(\"John\", 500)\n",
        "print(bot.add_expense(\"John\", 50))  # Output: {'budget': 500, 'spent': 50}"
      ]
    }
  ]
}