{
  "nbformat": 4,
  "nbformat_minor": 0,
  "metadata": {
    "colab": {
      "private_outputs": true,
      "provenance": [],
      "authorship_tag": "ABX9TyNKdQmhLIK4/GcIQ1oh4WqU",
      "include_colab_link": true
    },
    "kernelspec": {
      "name": "python3",
      "display_name": "Python 3"
    },
    "language_info": {
      "name": "python"
    }
  },
  "cells": [
    {
      "cell_type": "markdown",
      "metadata": {
        "id": "view-in-github",
        "colab_type": "text"
      },
      "source": [
        "<a href=\"https://colab.research.google.com/github/OneFineStarstuff/Onefinebot/blob/main/N_Body_Simulation_of_Gravitational_Interactions_in_Python.ipynb\" target=\"_parent\"><img src=\"https://colab.research.google.com/assets/colab-badge.svg\" alt=\"Open In Colab\"/></a>"
      ]
    },
    {
      "cell_type": "code",
      "execution_count": null,
      "metadata": {
        "id": "xcm4lkYKDpfm"
      },
      "outputs": [],
      "source": [
        "import numpy as np\n",
        "import matplotlib.pyplot as plt\n",
        "\n",
        "# Constants\n",
        "G = 6.67430e-11  # Gravitational constant, in m^3 kg^-1 s^-2\n",
        "MASS_SCALE = 1.989e30  # Scale mass to solar mass\n",
        "TIME_STEP = 1e4  # Time step in seconds\n",
        "NUM_BODIES = 10  # Number of bodies\n",
        "\n",
        "# Initialize positions and velocities randomly\n",
        "np.random.seed(0)\n",
        "positions = np.random.rand(NUM_BODIES, 2) * 1e18  # positions in meters\n",
        "velocities = np.random.randn(NUM_BODIES, 2) * 1e3  # velocities in m/s\n",
        "masses = np.ones(NUM_BODIES) * MASS_SCALE  # masses in kg (1 solar mass each)\n",
        "\n",
        "def compute_gravitational_force(positions, masses):\n",
        "    forces = np.zeros_like(positions)\n",
        "    for i in range(NUM_BODIES):\n",
        "        for j in range(i + 1, NUM_BODIES):\n",
        "            delta_pos = positions[j] - positions[i]\n",
        "            distance = np.linalg.norm(delta_pos) + 1e10  # softening factor to avoid singularity\n",
        "            force_magnitude = G * masses[i] * masses[j] / distance**2\n",
        "            force_direction = delta_pos / distance\n",
        "            force = force_magnitude * force_direction\n",
        "            forces[i] += force\n",
        "            forces[j] -= force  # Newton's third law\n",
        "    return forces\n",
        "\n",
        "def update_positions_and_velocities(positions, velocities, masses):\n",
        "    forces = compute_gravitational_force(positions, masses)\n",
        "    # Update velocities and positions using Euler's method\n",
        "    velocities += forces / masses[:, None] * TIME_STEP\n",
        "    positions += velocities * TIME_STEP\n",
        "    return positions, velocities\n",
        "\n",
        "# Run simulation and plot\n",
        "num_steps = 500\n",
        "plt.ion()\n",
        "for step in range(num_steps):\n",
        "    positions, velocities = update_positions_and_velocities(positions, velocities, masses)\n",
        "    plt.clf()\n",
        "    plt.scatter(positions[:, 0], positions[:, 1], s=10)\n",
        "    plt.xlim(-1e18, 1e18)\n",
        "    plt.ylim(-1e18, 1e18)\n",
        "    plt.title(f\"Step {step}\")\n",
        "    plt.pause(0.01)\n",
        "\n",
        "plt.ioff()\n",
        "plt.show()"
      ]
    }
  ]
}