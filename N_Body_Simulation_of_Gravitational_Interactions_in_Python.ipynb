{
  "nbformat": 4,
  "nbformat_minor": 0,
  "metadata": {
    "colab": {
      "private_outputs": true,
      "provenance": [],
      "authorship_tag": "ABX9TyNOpySrDCtXfzotm7l6QHdN",
      "include_colab_link": true
    },
    "kernelspec": {
      "name": "python3",
      "display_name": "Python 3"
    },
    "language_info": {
      "name": "python"
    }
  },
  "cells": [
    {
      "cell_type": "markdown",
      "metadata": {
        "id": "view-in-github",
        "colab_type": "text"
      },
      "source": [
        "<a href=\"https://colab.research.google.com/github/OneFineStarstuff/Onefinebot/blob/main/N_Body_Simulation_of_Gravitational_Interactions_in_Python.ipynb\" target=\"_parent\"><img src=\"https://colab.research.google.com/assets/colab-badge.svg\" alt=\"Open In Colab\"/></a>"
      ]
    },
    {
      "cell_type": "code",
      "execution_count": null,
      "metadata": {
        "id": "xcm4lkYKDpfm"
      },
      "outputs": [],
      "source": [
        "import numpy as np\n",
        "import matplotlib.pyplot as plt\n",
        "\n",
        "# Constants\n",
        "G = 6.67430e-11  # Gravitational constant, in m^3 kg^-1 s^-2\n",
        "MASS_SCALE = 1.989e30  # Scale mass to solar mass\n",
        "TIME_STEP = 1e4  # Time step in seconds\n",
        "NUM_BODIES = 10  # Number of bodies\n",
        "\n",
        "# Initialize positions and velocities randomly\n",
        "np.random.seed(0)\n",
        "positions = np.random.rand(NUM_BODIES, 2) * 1e18  # positions in meters\n",
        "velocities = np.random.randn(NUM_BODIES, 2) * 1e3  # velocities in m/s\n",
        "masses = np.ones(NUM_BODIES) * MASS_SCALE  # masses in kg (1 solar mass each)\n",
        "\n",
        "def compute_gravitational_force(positions, masses):\n",
        "    forces = np.zeros_like(positions)\n",
        "    for i in range(NUM_BODIES):\n",
        "        for j in range(i + 1, NUM_BODIES):\n",
        "            delta_pos = positions[j] - positions[i]\n",
        "            distance = np.linalg.norm(delta_pos) + 1e10  # softening factor to avoid singularity\n",
        "            force_magnitude = G * masses[i] * masses[j] / distance**2\n",
        "            force_direction = delta_pos / distance\n",
        "            force = force_magnitude * force_direction\n",
        "            forces[i] += force\n",
        "            forces[j] -= force  # Newton's third law\n",
        "    return forces\n",
        "\n",
        "def update_positions_and_velocities(positions, velocities, masses):\n",
        "    forces = compute_gravitational_force(positions, masses)\n",
        "    # Update velocities and positions using Euler's method\n",
        "    velocities += forces / masses[:, None] * TIME_STEP\n",
        "    positions += velocities * TIME_STEP\n",
        "    return positions, velocities\n",
        "\n",
        "# Run simulation and plot\n",
        "num_steps = 500\n",
        "plt.ion()\n",
        "for step in range(num_steps):\n",
        "    positions, velocities = update_positions_and_velocities(positions, velocities, masses)\n",
        "    plt.clf()\n",
        "    plt.scatter(positions[:, 0], positions[:, 1], s=10)\n",
        "    plt.xlim(-1e18, 1e18)\n",
        "    plt.ylim(-1e18, 1e18)\n",
        "    plt.title(f\"Step {step}\")\n",
        "    plt.pause(0.01)\n",
        "\n",
        "plt.ioff()\n",
        "plt.show()"
      ]
    },
    {
      "cell_type": "code",
      "source": [
        "pip install cupy"
      ],
      "metadata": {
        "id": "U6QKXy2PIWoz"
      },
      "execution_count": null,
      "outputs": []
    },
    {
      "cell_type": "code",
      "source": [
        "import cupy as cp\n",
        "cp.show_config()"
      ],
      "metadata": {
        "id": "WyDRLcZyI7Av"
      },
      "execution_count": null,
      "outputs": []
    },
    {
      "cell_type": "code",
      "source": [
        "import cupy as cp\n",
        "import matplotlib.pyplot as plt\n",
        "\n",
        "# Constants\n",
        "G = 6.67430e-11  # Gravitational constant, in m^3 kg^-1 s^-2\n",
        "MASS_SCALE = 1.989e30  # Scale mass to solar mass\n",
        "TIME_STEP = 1e4  # Time step in seconds\n",
        "NUM_BODIES = 10  # Number of bodies\n",
        "\n",
        "# Initialize positions and velocities randomly\n",
        "cp.random.seed(0)\n",
        "positions = cp.random.rand(NUM_BODIES, 3) * 1e18  # positions in meters\n",
        "velocities = cp.random.randn(NUM_BODIES, 3) * 1e3  # velocities in m/s\n",
        "masses = cp.random.rand(NUM_BODIES) * MASS_SCALE  # random masses in kg\n",
        "\n",
        "def compute_gravitational_force(positions, masses):\n",
        "    forces = cp.zeros_like(positions)\n",
        "    for i in range(NUM_BODIES):\n",
        "        for j in range(i + 1, NUM_BODIES):\n",
        "            delta_pos = positions[j] - positions[i]\n",
        "            distance = cp.linalg.norm(delta_pos) + 1e10  # softening factor to avoid singularity\n",
        "            force_magnitude = G * masses[i] * masses[j] / distance**2\n",
        "            force_direction = delta_pos / distance\n",
        "            force = force_magnitude * force_direction\n",
        "            forces[i] += force\n",
        "            forces[j] -= force  # Newton's third law\n",
        "    return forces\n",
        "\n",
        "def update_positions_and_velocities(positions, velocities, masses):\n",
        "    def rk4_step(positions, velocities):\n",
        "        k1_pos = velocities * TIME_STEP\n",
        "        k1_vel = compute_gravitational_force(positions, masses) / masses[:, None] * TIME_STEP\n",
        "\n",
        "        k2_pos = (velocities + k1_vel / 2) * TIME_STEP\n",
        "        k2_vel = compute_gravitational_force(positions + k1_pos / 2, masses) / masses[:, None] * TIME_STEP\n",
        "\n",
        "        k3_pos = (velocities + k2_vel / 2) * TIME_STEP\n",
        "        k3_vel = compute_gravitational_force(positions + k2_pos / 2, masses) / masses[:, None] * TIME_STEP\n",
        "\n",
        "        k4_pos = (velocities + k3_vel) * TIME_STEP\n",
        "        k4_vel = compute_gravitational_force(positions + k3_pos, masses) / masses[:, None] * TIME_STEP\n",
        "\n",
        "        new_positions = positions + (k1_pos + 2 * k2_pos + 2 * k3_pos + k4_pos) / 6\n",
        "        new_velocities = velocities + (k1_vel + 2 * k2_vel + 2 * k3_vel + k4_vel) / 6\n",
        "        return new_positions, new_velocities\n",
        "\n",
        "    positions, velocities = rk4_step(positions, velocities)\n",
        "    return positions, velocities\n",
        "\n",
        "# Run simulation and plot\n",
        "num_steps = 500\n",
        "fig = plt.figure()\n",
        "ax = fig.add_subplot(111, projection='3d')\n",
        "plt.ion()\n",
        "for step in range(num_steps):\n",
        "    positions, velocities = update_positions_and_velocities(positions, velocities, masses)\n",
        "    ax.cla()\n",
        "    ax.scatter(positions[:, 0].get(), positions[:, 1].get(), positions[:, 2].get(), s=10)\n",
        "    ax.set_xlim([-1e18, 1e18])\n",
        "    ax.set_ylim([-1e18, 1e18])\n",
        "    ax.set_zlim([-1e18, 1e18])\n",
        "    ax.set_title(f\"Step {step}\")\n",
        "    plt.pause(0.01)\n",
        "\n",
        "plt.ioff()\n",
        "plt.show()"
      ],
      "metadata": {
        "id": "KiwdZRLhIPBa"
      },
      "execution_count": null,
      "outputs": []
    }
  ]
}