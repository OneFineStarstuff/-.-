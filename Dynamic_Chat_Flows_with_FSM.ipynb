{
  "nbformat": 4,
  "nbformat_minor": 0,
  "metadata": {
    "colab": {
      "private_outputs": true,
      "provenance": [],
      "authorship_tag": "ABX9TyOUY0lVl5/Bm8wvjpbjpSnc",
      "include_colab_link": true
    },
    "kernelspec": {
      "name": "python3",
      "display_name": "Python 3"
    },
    "language_info": {
      "name": "python"
    }
  },
  "cells": [
    {
      "cell_type": "markdown",
      "metadata": {
        "id": "view-in-github",
        "colab_type": "text"
      },
      "source": [
        "<a href=\"https://colab.research.google.com/github/OneFineStarstuff/Onefinebot/blob/main/Dynamic_Chat_Flows_with_FSM.ipynb\" target=\"_parent\"><img src=\"https://colab.research.google.com/assets/colab-badge.svg\" alt=\"Open In Colab\"/></a>"
      ]
    },
    {
      "cell_type": "code",
      "source": [
        "pip install transitions"
      ],
      "metadata": {
        "id": "ZJHxeRny_qw1"
      },
      "execution_count": null,
      "outputs": []
    },
    {
      "cell_type": "code",
      "execution_count": null,
      "metadata": {
        "id": "JrPOxpCU_dWp"
      },
      "outputs": [],
      "source": [
        "from transitions import Machine\n",
        "\n",
        "class ChatBot:\n",
        "    # Define states\n",
        "    states = ['greeting', 'question', 'farewell']\n",
        "\n",
        "    def __init__(self):\n",
        "        # Initialize the state machine\n",
        "        self.machine = Machine(model=self, states=ChatBot.states, initial='greeting')\n",
        "\n",
        "        # Add transitions\n",
        "        self.machine.add_transition(trigger='ask', source='greeting', dest='question')\n",
        "        self.machine.add_transition(trigger='say_goodbye', source='question', dest='farewell')\n",
        "\n",
        "# Example Usage\n",
        "bot = ChatBot()\n",
        "print(bot.state)  # Output: greeting\n",
        "bot.ask()\n",
        "print(bot.state)  # Output: question\n",
        "bot.say_goodbye()\n",
        "print(bot.state)  # Output: farewell"
      ]
    }
  ]
}