{
  "nbformat": 4,
  "nbformat_minor": 0,
  "metadata": {
    "colab": {
      "private_outputs": true,
      "provenance": [],
      "authorship_tag": "ABX9TyMFCszVkvelM2NqcBtzWQCL",
      "include_colab_link": true
    },
    "kernelspec": {
      "name": "python3",
      "display_name": "Python 3"
    },
    "language_info": {
      "name": "python"
    }
  },
  "cells": [
    {
      "cell_type": "markdown",
      "metadata": {
        "id": "view-in-github",
        "colab_type": "text"
      },
      "source": [
        "<a href=\"https://colab.research.google.com/github/OneFineStarstuff/Onefinebot/blob/main/Example_for_Energy_Usage_Reports.ipynb\" target=\"_parent\"><img src=\"https://colab.research.google.com/assets/colab-badge.svg\" alt=\"Open In Colab\"/></a>"
      ]
    },
    {
      "cell_type": "code",
      "execution_count": null,
      "metadata": {
        "id": "_-is5mjJ94BJ"
      },
      "outputs": [],
      "source": [
        "class EnergyMonitor:\n",
        "    def __init__(self):\n",
        "        self.usage = {\"January\": 300, \"February\": 280, \"March\": 310}\n",
        "\n",
        "    def get_report(self, month):\n",
        "        return f\"{month}: {self.usage.get(month, 'No data')} kWh used.\"\n",
        "\n",
        "# Example Usage\n",
        "energy_bot = EnergyMonitor()\n",
        "print(energy_bot.get_report(\"February\"))\n",
        "# Output: February: 280 kWh used."
      ]
    }
  ]
}