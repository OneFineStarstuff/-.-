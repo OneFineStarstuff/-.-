{
  "nbformat": 4,
  "nbformat_minor": 0,
  "metadata": {
    "colab": {
      "private_outputs": true,
      "provenance": [],
      "authorship_tag": "ABX9TyMBV8asiMaeRNmkSvxLJf+e",
      "include_colab_link": true
    },
    "kernelspec": {
      "name": "python3",
      "display_name": "Python 3"
    },
    "language_info": {
      "name": "python"
    }
  },
  "cells": [
    {
      "cell_type": "markdown",
      "metadata": {
        "id": "view-in-github",
        "colab_type": "text"
      },
      "source": [
        "<a href=\"https://colab.research.google.com/github/OneFineStarstuff/Onefinebot/blob/main/A_basic_MD_simulation_with_Lennard_Jones_potential_using_Python.ipynb\" target=\"_parent\"><img src=\"https://colab.research.google.com/assets/colab-badge.svg\" alt=\"Open In Colab\"/></a>"
      ]
    },
    {
      "cell_type": "code",
      "execution_count": null,
      "metadata": {
        "id": "R3SdIhoAGZ6L"
      },
      "outputs": [],
      "source": [
        "import numpy as np\n",
        "import matplotlib.pyplot as plt\n",
        "\n",
        "# Define parameters\n",
        "num_particles = 10\n",
        "box_size = 10.0\n",
        "time_steps = 100\n",
        "dt = 0.01\n",
        "epsilon = 1.0\n",
        "sigma = 1.0\n",
        "\n",
        "# Initialize particle positions and velocities\n",
        "positions = np.random.rand(num_particles, 3) * box_size\n",
        "velocities = np.random.randn(num_particles, 3) * 0.1\n",
        "\n",
        "def lennard_jones(r, epsilon, sigma):\n",
        "    \"\"\"Lennard-Jones potential function.\"\"\"\n",
        "    return 4 * epsilon * ((sigma / r)**12 - (sigma / r)**6)\n",
        "\n",
        "# Simulate particle motion\n",
        "for _ in range(time_steps):\n",
        "    for i in range(num_particles):\n",
        "        for j in range(i + 1, num_particles):\n",
        "            r_vec = positions[i] - positions[j]\n",
        "            r = np.linalg.norm(r_vec)\n",
        "            force_mag = -lennard_jones(r, epsilon, sigma)\n",
        "            force = force_mag * (r_vec / r)\n",
        "            velocities[i] += force * dt\n",
        "            velocities[j] -= force * dt\n",
        "    positions += velocities * dt\n",
        "\n",
        "plt.scatter(positions[:, 0], positions[:, 1])\n",
        "plt.xlabel(\"x\")\n",
        "plt.ylabel(\"y\")\n",
        "plt.title(\"Final positions of particles in MD simulation\")\n",
        "plt.show()"
      ]
    }
  ]
}