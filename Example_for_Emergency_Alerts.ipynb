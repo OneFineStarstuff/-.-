{
  "nbformat": 4,
  "nbformat_minor": 0,
  "metadata": {
    "colab": {
      "private_outputs": true,
      "provenance": [],
      "authorship_tag": "ABX9TyOr8ukd5RBKbWLEnov6L0vP",
      "include_colab_link": true
    },
    "kernelspec": {
      "name": "python3",
      "display_name": "Python 3"
    },
    "language_info": {
      "name": "python"
    }
  },
  "cells": [
    {
      "cell_type": "markdown",
      "metadata": {
        "id": "view-in-github",
        "colab_type": "text"
      },
      "source": [
        "<a href=\"https://colab.research.google.com/github/OneFineStarstuff/Onefinebot/blob/main/Example_for_Emergency_Alerts.ipynb\" target=\"_parent\"><img src=\"https://colab.research.google.com/assets/colab-badge.svg\" alt=\"Open In Colab\"/></a>"
      ]
    },
    {
      "cell_type": "code",
      "execution_count": null,
      "metadata": {
        "id": "efIRH0y51hET"
      },
      "outputs": [],
      "source": [
        "class EmergencyAlertSystem:\n",
        "    def __init__(self):\n",
        "        self.alerts = []  # Initialize an empty list to store alert messages\n",
        "\n",
        "    def add_alert(self, alert):\n",
        "        # Append the alert message to the alerts list\n",
        "        self.alerts.append(alert)\n",
        "        return \"Alert added.\"\n",
        "\n",
        "    def get_alerts(self):\n",
        "        # Return the list of all stored alerts\n",
        "        return self.alerts or \"No alerts at the moment.\"\n",
        "\n",
        "# Example Usage\n",
        "alert_system = EmergencyAlertSystem()\n",
        "print(alert_system.add_alert(\"Severe weather warning in your area.\"))\n",
        "print(alert_system.get_alerts())\n",
        "# Output: ['Severe weather warning in your area.']"
      ]
    }
  ]
}