{
  "nbformat": 4,
  "nbformat_minor": 0,
  "metadata": {
    "colab": {
      "private_outputs": true,
      "provenance": [],
      "authorship_tag": "ABX9TyPz/o77iGRv/+/Hmq+bEK+h",
      "include_colab_link": true
    },
    "kernelspec": {
      "name": "python3",
      "display_name": "Python 3"
    },
    "language_info": {
      "name": "python"
    }
  },
  "cells": [
    {
      "cell_type": "markdown",
      "metadata": {
        "id": "view-in-github",
        "colab_type": "text"
      },
      "source": [
        "<a href=\"https://colab.research.google.com/github/OneFineStarstuff/Onefinebot/blob/main/Example_for_Emergency_Alerts.ipynb\" target=\"_parent\"><img src=\"https://colab.research.google.com/assets/colab-badge.svg\" alt=\"Open In Colab\"/></a>"
      ]
    },
    {
      "cell_type": "code",
      "execution_count": null,
      "metadata": {
        "id": "VW6MFXLp_0ED"
      },
      "outputs": [],
      "source": [
        "def send_alert(location, message):\n",
        "    # Simulated alert database\n",
        "    alerts = {}\n",
        "    # Add the alert message to the alerts dictionary\n",
        "    alerts[location] = message\n",
        "    # Return a formatted string with the alert message\n",
        "    return f\"Alert for {location}: {message}\"\n",
        "\n",
        "# Example Usage\n",
        "alert = send_alert(\"California\", \"Earthquake warning: Seek shelter immediately!\")\n",
        "print(alert)  # Output: Alert for California: Earthquake warning: Seek shelter immediately!"
      ]
    }
  ]
}