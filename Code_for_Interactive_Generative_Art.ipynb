{
  "nbformat": 4,
  "nbformat_minor": 0,
  "metadata": {
    "colab": {
      "private_outputs": true,
      "provenance": [],
      "authorship_tag": "ABX9TyObIGIhDQU3QOUrF5evqtx2",
      "include_colab_link": true
    },
    "kernelspec": {
      "name": "python3",
      "display_name": "Python 3"
    },
    "language_info": {
      "name": "python"
    }
  },
  "cells": [
    {
      "cell_type": "markdown",
      "metadata": {
        "id": "view-in-github",
        "colab_type": "text"
      },
      "source": [
        "<a href=\"https://colab.research.google.com/github/OneFineStarstuff/Onefinebot/blob/main/Code_for_Interactive_Generative_Art.ipynb\" target=\"_parent\"><img src=\"https://colab.research.google.com/assets/colab-badge.svg\" alt=\"Open In Colab\"/></a>"
      ]
    },
    {
      "cell_type": "code",
      "execution_count": null,
      "metadata": {
        "id": "3xdnn27jt8nk"
      },
      "outputs": [],
      "source": [
        "import numpy as np\n",
        "import matplotlib.pyplot as plt\n",
        "from matplotlib.animation import FuncAnimation\n",
        "\n",
        "# Set up the figure and axis\n",
        "fig, ax = plt.subplots(figsize=(8, 8))\n",
        "ax.set_aspect('equal')\n",
        "ax.axis('off')\n",
        "\n",
        "# Initialize list to store circles\n",
        "circles = []\n",
        "\n",
        "# Function to add a circle on click\n",
        "def on_click(event):\n",
        "    if event.inaxes == ax:\n",
        "        x, y = event.xdata, event.ydata\n",
        "        radius = np.random.uniform(0.05, 0.2)\n",
        "        color = np.random.choice([\"#FF5733\", \"#FFBD33\", \"#33FF57\", \"#335BFF\", \"#9A33FF\"])\n",
        "        circle = plt.Circle((x, y), radius, color=color, fill=True, alpha=0.6)\n",
        "        ax.add_artist(circle)\n",
        "        circles.append(circle)\n",
        "\n",
        "# Connect the click event to the function\n",
        "fig.canvas.mpl_connect(\"button_press_event\", on_click)\n",
        "\n",
        "# Animation function to update circles' positions\n",
        "def animate_interactive(frame):\n",
        "    for circle in circles:\n",
        "        # Update each circle's size or position\n",
        "        x, y = circle.center\n",
        "        circle.radius = max(0.05, circle.radius + 0.01 * np.sin(frame / 10))\n",
        "        circle.center = (x + np.random.uniform(-0.005, 0.005), y + np.random.uniform(-0.005, 0.005))\n",
        "\n",
        "# Run the animation\n",
        "anim = FuncAnimation(fig, animate_interactive, frames=200, interval=50)\n",
        "\n",
        "# Save the animation as a GIF using Pillow\n",
        "anim.save(\"interactive_generative_art.gif\", writer=\"pillow\", fps=20)\n",
        "\n",
        "# Save the animation as an MP4 video using ffmpeg\n",
        "anim.save(\"interactive_generative_art.mp4\", writer=\"ffmpeg\", fps=20)\n",
        "\n",
        "plt.show()"
      ]
    }
  ]
}