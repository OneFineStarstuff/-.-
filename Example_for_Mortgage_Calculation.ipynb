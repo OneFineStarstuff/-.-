{
  "nbformat": 4,
  "nbformat_minor": 0,
  "metadata": {
    "colab": {
      "private_outputs": true,
      "provenance": [],
      "authorship_tag": "ABX9TyPTShG7APqAK8X4bpCLbwl2",
      "include_colab_link": true
    },
    "kernelspec": {
      "name": "python3",
      "display_name": "Python 3"
    },
    "language_info": {
      "name": "python"
    }
  },
  "cells": [
    {
      "cell_type": "markdown",
      "metadata": {
        "id": "view-in-github",
        "colab_type": "text"
      },
      "source": [
        "<a href=\"https://colab.research.google.com/github/OneFineStarstuff/Onefinebot/blob/main/Example_for_Mortgage_Calculation.ipynb\" target=\"_parent\"><img src=\"https://colab.research.google.com/assets/colab-badge.svg\" alt=\"Open In Colab\"/></a>"
      ]
    },
    {
      "cell_type": "code",
      "execution_count": null,
      "metadata": {
        "id": "VvmyOhB2Iogh"
      },
      "outputs": [],
      "source": [
        "def calculate_mortgage(principal, annual_rate, years):\n",
        "    # Calculate monthly interest rate\n",
        "    monthly_rate = annual_rate / 12 / 100\n",
        "    # Calculate total number of payments\n",
        "    payments = years * 12\n",
        "    # Calculate monthly payment using the mortgage formula\n",
        "    monthly_payment = principal * (monthly_rate * (1 + monthly_rate)**payments) / ((1 + monthly_rate)**payments - 1)\n",
        "    return round(monthly_payment, 2)  # Round the result to two decimal places\n",
        "\n",
        "# Example Usage\n",
        "mortgage = calculate_mortgage(300000, 3.5, 30)\n",
        "print(f\"Your monthly mortgage payment is ${mortgage}.\")  # Output: Your monthly mortgage payment is $1347.13."
      ]
    }
  ]
}