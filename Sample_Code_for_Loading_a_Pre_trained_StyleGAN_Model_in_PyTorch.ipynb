{
  "nbformat": 4,
  "nbformat_minor": 0,
  "metadata": {
    "colab": {
      "private_outputs": true,
      "provenance": [],
      "authorship_tag": "ABX9TyO7Na4b3unBDFN/tgxIjIMT",
      "include_colab_link": true
    },
    "kernelspec": {
      "name": "python3",
      "display_name": "Python 3"
    },
    "language_info": {
      "name": "python"
    }
  },
  "cells": [
    {
      "cell_type": "markdown",
      "metadata": {
        "id": "view-in-github",
        "colab_type": "text"
      },
      "source": [
        "<a href=\"https://colab.research.google.com/github/OneFineStarstuff/Onefinebot/blob/main/Sample_Code_for_Loading_a_Pre_trained_StyleGAN_Model_in_PyTorch.ipynb\" target=\"_parent\"><img src=\"https://colab.research.google.com/assets/colab-badge.svg\" alt=\"Open In Colab\"/></a>"
      ]
    },
    {
      "cell_type": "code",
      "source": [
        "!pip install https://github.com/podgorskiy/dnnlib/releases/download/0.0.1/dnnlib-0.0.1-py3-none-any.whl"
      ],
      "metadata": {
        "id": "LrOcYAY_HjjA"
      },
      "execution_count": null,
      "outputs": []
    },
    {
      "cell_type": "code",
      "source": [
        "pip install legacy"
      ],
      "metadata": {
        "id": "ja91m-ztH9ML"
      },
      "execution_count": null,
      "outputs": []
    },
    {
      "cell_type": "code",
      "execution_count": null,
      "metadata": {
        "id": "QgAG6z_hHWlu"
      },
      "outputs": [],
      "source": [
        "import torch\n",
        "import dnnlib\n",
        "import legacy\n",
        "\n",
        "# Load a pre-trained StyleGAN2 model\n",
        "with open('/home/user/models/stylegan2-ffhq-config-f.pkl', 'rb') as f:\n",
        "    G = legacy.load_network_pkl(f)['G_ema'].to('cuda')  # Load generator model\n",
        "\n",
        "# Generate images\n",
        "z = torch.randn([1, G.z_dim]).cuda()  # Random latent vector\n",
        "img = G(z, None)  # Generate image with no conditioning\n",
        "\n",
        "# Convert the generated image to a displayable format\n",
        "img = (img.permute(0, 2, 3, 1) * 127.5 + 127.5).clamp(0, 255).to(torch.uint8)\n",
        "\n",
        "# If you want to display the image using matplotlib (optional)\n",
        "import matplotlib.pyplot as plt\n",
        "\n",
        "plt.imshow(img[0].cpu().numpy())\n",
        "plt.axis('off')\n",
        "plt.show()"
      ]
    }
  ]
}