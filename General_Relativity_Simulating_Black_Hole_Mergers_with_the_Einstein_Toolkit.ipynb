{
  "nbformat": 4,
  "nbformat_minor": 0,
  "metadata": {
    "colab": {
      "private_outputs": true,
      "provenance": [],
      "authorship_tag": "ABX9TyOKmMdAgyMfU7H41Jmpwpu6",
      "include_colab_link": true
    },
    "kernelspec": {
      "name": "python3",
      "display_name": "Python 3"
    },
    "language_info": {
      "name": "python"
    }
  },
  "cells": [
    {
      "cell_type": "markdown",
      "metadata": {
        "id": "view-in-github",
        "colab_type": "text"
      },
      "source": [
        "<a href=\"https://colab.research.google.com/github/OneFineStarstuff/Onefinebot/blob/main/General_Relativity_Simulating_Black_Hole_Mergers_with_the_Einstein_Toolkit.ipynb\" target=\"_parent\"><img src=\"https://colab.research.google.com/assets/colab-badge.svg\" alt=\"Open In Colab\"/></a>"
      ]
    },
    {
      "cell_type": "code",
      "execution_count": null,
      "metadata": {
        "id": "QDbpoAw004Rg"
      },
      "outputs": [],
      "source": [
        "import numpy as np\n",
        "import matplotlib.pyplot as plt\n",
        "\n",
        "# Set up masses, positions, and velocities for two black holes\n",
        "M1, M2 = 30, 30  # Masses of the black holes in solar masses\n",
        "G, c = 6.67430e-11, 3.0e8  # Gravitational constant and speed of light\n",
        "\n",
        "# Initial positions and velocities\n",
        "positions = np.array([[-1e11, 0], [1e11, 0]])  # Initial separation\n",
        "velocities = np.array([[0, 1e4], [0, -1e4]])  # Opposite velocities\n",
        "\n",
        "# Function to calculate gravitational force between two masses\n",
        "def gravitational_force(pos1, pos2, m1, m2):\n",
        "    r = np.linalg.norm(pos2 - pos1)\n",
        "    force = G * m1 * m2 / r**2\n",
        "    direction = (pos2 - pos1) / r\n",
        "    return force * direction\n",
        "\n",
        "# Evolution loop (simplified without full relativity)\n",
        "dt = 1e4  # Time step\n",
        "n_steps = 1000\n",
        "trajectories = [[], []]\n",
        "\n",
        "for _ in range(n_steps):\n",
        "    force = gravitational_force(positions[0], positions[1], M1, M2)\n",
        "\n",
        "    # Update positions and velocities\n",
        "    velocities[0] += force * dt / M1\n",
        "    velocities[1] -= force * dt / M2\n",
        "    positions[0] += velocities[0] * dt\n",
        "    positions[1] += velocities[1] * dt\n",
        "\n",
        "    # Store positions for plotting\n",
        "    trajectories[0].append(positions[0].copy())\n",
        "    trajectories[1].append(positions[1].copy())\n",
        "\n",
        "# Convert trajectories to numpy array for plotting\n",
        "trajectories = [np.array(trajectory) for trajectory in trajectories]\n",
        "\n",
        "# Plot the trajectories of the black holes\n",
        "plt.plot(trajectories[0][:, 0], trajectories[0][:, 1], label=\"Black Hole 1\")\n",
        "plt.plot(trajectories[1][:, 0], trajectories[1][:, 1], label=\"Black Hole 2\")\n",
        "plt.xlabel(\"x Position (m)\")\n",
        "plt.ylabel(\"y Position (m)\")\n",
        "plt.legend()\n",
        "plt.title(\"Binary Black Hole Trajectories (Simplified)\")\n",
        "plt.show()"
      ]
    }
  ]
}