{
  "nbformat": 4,
  "nbformat_minor": 0,
  "metadata": {
    "colab": {
      "private_outputs": true,
      "provenance": [],
      "authorship_tag": "ABX9TyMvfiGzxAY3T+DJjq3MCiKB",
      "include_colab_link": true
    },
    "kernelspec": {
      "name": "python3",
      "display_name": "Python 3"
    },
    "language_info": {
      "name": "python"
    }
  },
  "cells": [
    {
      "cell_type": "markdown",
      "metadata": {
        "id": "view-in-github",
        "colab_type": "text"
      },
      "source": [
        "<a href=\"https://colab.research.google.com/github/OneFineStarstuff/Onefinebot/blob/main/Agent_Communication_with_ZeroMQ.ipynb\" target=\"_parent\"><img src=\"https://colab.research.google.com/assets/colab-badge.svg\" alt=\"Open In Colab\"/></a>"
      ]
    },
    {
      "cell_type": "code",
      "execution_count": null,
      "metadata": {
        "id": "EfAhgF1-5uyj"
      },
      "outputs": [],
      "source": [
        "pip install pyzmq"
      ]
    },
    {
      "cell_type": "code",
      "source": [
        "import zmq\n",
        "import threading\n",
        "\n",
        "class Agent:\n",
        "    def __init__(self, name, port):\n",
        "        self.name = name\n",
        "        self.port = port\n",
        "        self.context = zmq.Context()\n",
        "        self.socket = self.context.socket(zmq.REP)\n",
        "        self.socket.bind(f\"tcp://*:{self.port}\")\n",
        "\n",
        "    def listen(self):\n",
        "        while True:\n",
        "            message = self.socket.recv_string()\n",
        "            print(f\"{self.name} received: {message}\")\n",
        "            self.socket.send_string(f\"{self.name} processed: {message}\")\n",
        "\n",
        "def start_agent(agent):\n",
        "    threading.Thread(target=agent.listen).start()\n",
        "\n",
        "if __name__ == \"__main__\":\n",
        "    agent1 = Agent(\"NLP Agent\", 5555)\n",
        "    agent2 = Agent(\"CV Agent\", 5556)\n",
        "\n",
        "    start_agent(agent1)\n",
        "    start_agent(agent2)\n",
        "\n",
        "    # Client to communicate with agents\n",
        "    context = zmq.Context()\n",
        "    socket = context.socket(zmq.REQ)\n",
        "    socket.connect(\"tcp://localhost:5555\")\n",
        "    socket.send_string(\"Analyze text data\")\n",
        "    print(socket.recv_string())\n",
        "\n",
        "    socket.connect(\"tcp://localhost:5556\")\n",
        "    socket.send_string(\"Analyze image data\")\n",
        "    print(socket.recv_string())"
      ],
      "metadata": {
        "id": "4Ezb3UpY6dtK"
      },
      "execution_count": null,
      "outputs": []
    }
  ]
}