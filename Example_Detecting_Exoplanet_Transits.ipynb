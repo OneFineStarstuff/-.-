{
  "nbformat": 4,
  "nbformat_minor": 0,
  "metadata": {
    "colab": {
      "private_outputs": true,
      "provenance": [],
      "authorship_tag": "ABX9TyNtkB4Rx00OouJ1+6OU8q4d",
      "include_colab_link": true
    },
    "kernelspec": {
      "name": "python3",
      "display_name": "Python 3"
    },
    "language_info": {
      "name": "python"
    }
  },
  "cells": [
    {
      "cell_type": "markdown",
      "metadata": {
        "id": "view-in-github",
        "colab_type": "text"
      },
      "source": [
        "<a href=\"https://colab.research.google.com/github/OneFineStarstuff/Onefinebot/blob/main/Example_Detecting_Exoplanet_Transits.ipynb\" target=\"_parent\"><img src=\"https://colab.research.google.com/assets/colab-badge.svg\" alt=\"Open In Colab\"/></a>"
      ]
    },
    {
      "cell_type": "code",
      "execution_count": null,
      "metadata": {
        "id": "dCvWiupgcSkX"
      },
      "outputs": [],
      "source": [
        "import numpy as np\n",
        "import matplotlib.pyplot as plt\n",
        "from scipy.signal import find_peaks\n",
        "\n",
        "# Generate synthetic light curve data (with transit dips)\n",
        "time = np.linspace(0, 30, 1000)  # time in days\n",
        "flux = 1 - 0.01 * (np.sin(2 * np.pi * time / 10) > 0.99).astype(float)  # Fake dips every 10 days\n",
        "\n",
        "# Plot the light curve with dips\n",
        "plt.plot(time, flux, 'k-', label='Light Curve')\n",
        "plt.xlabel(\"Time (days)\")\n",
        "plt.ylabel(\"Flux\")\n",
        "plt.title(\"Synthetic Light Curve with Transits\")\n",
        "plt.legend()\n",
        "plt.show()\n",
        "\n",
        "# Detect transit dips using peak detection\n",
        "transit_dips, _ = find_peaks(1 - flux, height=0.005)\n",
        "transit_times = time[transit_dips]\n",
        "\n",
        "# Display detected transit times\n",
        "print(\"Detected transit times:\", transit_times)\n",
        "\n",
        "# Plot transit detections\n",
        "plt.plot(time, flux, 'k-', label='Light Curve')\n",
        "plt.plot(transit_times, flux[transit_dips], 'ro', label='Detected Transits')\n",
        "plt.xlabel(\"Time (days)\")\n",
        "plt.ylabel(\"Flux\")\n",
        "plt.legend()\n",
        "plt.show()"
      ]
    }
  ]
}