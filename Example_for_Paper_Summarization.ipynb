{
  "nbformat": 4,
  "nbformat_minor": 0,
  "metadata": {
    "colab": {
      "private_outputs": true,
      "provenance": [],
      "authorship_tag": "ABX9TyOcfD5EKguZzayPmwr3ix4C",
      "include_colab_link": true
    },
    "kernelspec": {
      "name": "python3",
      "display_name": "Python 3"
    },
    "language_info": {
      "name": "python"
    }
  },
  "cells": [
    {
      "cell_type": "markdown",
      "metadata": {
        "id": "view-in-github",
        "colab_type": "text"
      },
      "source": [
        "<a href=\"https://colab.research.google.com/github/OneFineStarstuff/Onefinebot/blob/main/Example_for_Paper_Summarization.ipynb\" target=\"_parent\"><img src=\"https://colab.research.google.com/assets/colab-badge.svg\" alt=\"Open In Colab\"/></a>"
      ]
    },
    {
      "cell_type": "code",
      "execution_count": null,
      "metadata": {
        "id": "4d217QJcK2_3"
      },
      "outputs": [],
      "source": [
        "class ResearchBot:\n",
        "    def summarize_paper(self, text):\n",
        "        # Create a summary by truncating the input text to the first 150 characters\n",
        "        return f\"Summary: {text[:150]}...\"\n",
        "\n",
        "# Example Usage\n",
        "research_bot = ResearchBot()\n",
        "paper_text = \"This research explores the impact of AI on healthcare by analyzing trends over the past decade. The findings suggest significant improvements in efficiency...\"\n",
        "print(research_bot.summarize_paper(paper_text))\n",
        "# Output: Summary: This research explores the impact of AI on healthcare by analyzing trends over the past decade. The findings suggest significant improveme..."
      ]
    }
  ]
}