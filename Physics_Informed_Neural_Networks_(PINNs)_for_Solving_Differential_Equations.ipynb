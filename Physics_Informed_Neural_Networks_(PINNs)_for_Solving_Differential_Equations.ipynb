{
  "nbformat": 4,
  "nbformat_minor": 0,
  "metadata": {
    "colab": {
      "private_outputs": true,
      "provenance": [],
      "authorship_tag": "ABX9TyNYhofqS32U7KIbI4Q+amdJ",
      "include_colab_link": true
    },
    "kernelspec": {
      "name": "python3",
      "display_name": "Python 3"
    },
    "language_info": {
      "name": "python"
    }
  },
  "cells": [
    {
      "cell_type": "markdown",
      "metadata": {
        "id": "view-in-github",
        "colab_type": "text"
      },
      "source": [
        "<a href=\"https://colab.research.google.com/github/OneFineStarstuff/Onefinebot/blob/main/Physics_Informed_Neural_Networks_(PINNs)_for_Solving_Differential_Equations.ipynb\" target=\"_parent\"><img src=\"https://colab.research.google.com/assets/colab-badge.svg\" alt=\"Open In Colab\"/></a>"
      ]
    },
    {
      "cell_type": "code",
      "execution_count": null,
      "metadata": {
        "id": "IFQxb7FK2Mjt"
      },
      "outputs": [],
      "source": [
        "import torch\n",
        "import torch.nn as nn\n",
        "import torch.optim as optim\n",
        "import numpy as np\n",
        "import matplotlib.pyplot as plt\n",
        "\n",
        "# Define the physics-informed neural network (PINN) model\n",
        "class PINN(nn.Module):\n",
        "    def __init__(self):\n",
        "        super(PINN, self).__init__()\n",
        "        self.fc1 = nn.Linear(1, 64)\n",
        "        self.fc2 = nn.Linear(64, 64)\n",
        "        self.fc3 = nn.Linear(64, 1)\n",
        "\n",
        "    def forward(self, x):\n",
        "        x = torch.tanh(self.fc1(x))\n",
        "        x = torch.tanh(self.fc2(x))\n",
        "        return self.fc3(x)\n",
        "\n",
        "# Define a differential equation, e.g., u''(x) = -u(x) (simple harmonic oscillator)\n",
        "def physics_loss(x, model):\n",
        "    x.requires_grad = True\n",
        "    u = model(x)\n",
        "    u_x = torch.autograd.grad(u, x, torch.ones_like(u), create_graph=True)[0]\n",
        "    u_xx = torch.autograd.grad(u_x, x, torch.ones_like(u_x), create_graph=True)[0]\n",
        "    return ((u_xx + u)**2).mean()\n",
        "\n",
        "# Generate training data for the differential equation\n",
        "x_train = torch.linspace(0, 2 * np.pi, 100).reshape(-1, 1)\n",
        "\n",
        "# Instantiate and train the model\n",
        "model = PINN()\n",
        "optimizer = optim.Adam(model.parameters(), lr=0.01)\n",
        "\n",
        "# Training loop\n",
        "n_epochs = 1000\n",
        "for epoch in range(n_epochs):\n",
        "    optimizer.zero_grad()\n",
        "    loss = physics_loss(x_train, model)\n",
        "    loss.backward()\n",
        "    optimizer.step()\n",
        "\n",
        "    if epoch % 100 == 0:\n",
        "        print(f\"Epoch {epoch}, Loss: {loss.item():.4f}\")\n",
        "\n",
        "# Plot the solution\n",
        "x_test = torch.linspace(0, 2 * np.pi, 100).reshape(-1, 1)\n",
        "y_pred = model(x_test).detach().numpy()\n",
        "\n",
        "plt.plot(x_test, y_pred, label=\"PINN Solution\")\n",
        "plt.xlabel(\"x\")\n",
        "plt.ylabel(\"u(x)\")\n",
        "plt.title(\"Physics-Informed Neural Network Solution\")\n",
        "plt.legend()\n",
        "plt.show()"
      ]
    }
  ]
}