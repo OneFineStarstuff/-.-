{
  "nbformat": 4,
  "nbformat_minor": 0,
  "metadata": {
    "colab": {
      "private_outputs": true,
      "provenance": [],
      "authorship_tag": "ABX9TyOVAilf7g6nMFvlfjLmMI+J",
      "include_colab_link": true
    },
    "kernelspec": {
      "name": "python3",
      "display_name": "Python 3"
    },
    "language_info": {
      "name": "python"
    }
  },
  "cells": [
    {
      "cell_type": "markdown",
      "metadata": {
        "id": "view-in-github",
        "colab_type": "text"
      },
      "source": [
        "<a href=\"https://colab.research.google.com/github/OneFineStarstuff/Onefinebot/blob/main/Example_for_Literature_Search.ipynb\" target=\"_parent\"><img src=\"https://colab.research.google.com/assets/colab-badge.svg\" alt=\"Open In Colab\"/></a>"
      ]
    },
    {
      "cell_type": "code",
      "execution_count": null,
      "metadata": {
        "id": "WjxuHNf-05BQ"
      },
      "outputs": [],
      "source": [
        "class ResearchAssistant:\n",
        "    def __init__(self):\n",
        "        self.papers = {\"Quantum Computing\": [\"Paper 1\", \"Paper 2\"], \"AI\": [\"Paper 3\", \"Paper 4\"]}  # Initialize the papers dictionary with predefined topics and corresponding paper titles\n",
        "\n",
        "    def find_papers(self, topic):\n",
        "        # Retrieve the list of papers that match the specified topic\n",
        "        return self.papers.get(topic, \"No papers found on this topic.\")\n",
        "\n",
        "# Example Usage\n",
        "assistant = ResearchAssistant()\n",
        "print(assistant.find_papers(\"AI\"))\n",
        "# Output: ['Paper 3', 'Paper 4']"
      ]
    }
  ]
}