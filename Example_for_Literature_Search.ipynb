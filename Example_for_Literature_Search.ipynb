{
  "nbformat": 4,
  "nbformat_minor": 0,
  "metadata": {
    "colab": {
      "private_outputs": true,
      "provenance": [],
      "authorship_tag": "ABX9TyMBSiTEBmlJclRdG6a9TUIo",
      "include_colab_link": true
    },
    "kernelspec": {
      "name": "python3",
      "display_name": "Python 3"
    },
    "language_info": {
      "name": "python"
    }
  },
  "cells": [
    {
      "cell_type": "markdown",
      "metadata": {
        "id": "view-in-github",
        "colab_type": "text"
      },
      "source": [
        "<a href=\"https://colab.research.google.com/github/OneFineStarstuff/Onefinebot/blob/main/Example_for_Literature_Search.ipynb\" target=\"_parent\"><img src=\"https://colab.research.google.com/assets/colab-badge.svg\" alt=\"Open In Colab\"/></a>"
      ]
    },
    {
      "cell_type": "code",
      "execution_count": null,
      "metadata": {
        "id": "6poMPbDcQHYh"
      },
      "outputs": [],
      "source": [
        "class LiteratureSearch:\n",
        "    def __init__(self):\n",
        "        self.database = {\n",
        "            \"Quantum Computing\": [\"Paper 1: Advances in Quantum Gates\", \"Paper 2: Quantum Algorithms\"],\n",
        "            \"Machine Learning\": [\"Paper 1: Neural Networks\", \"Paper 2: Reinforcement Learning\"]\n",
        "        }  # Initialize the database with predefined topics and papers\n",
        "\n",
        "    def search(self, topic):\n",
        "        # Retrieve the list of papers for the specified topic\n",
        "        return self.database.get(topic, \"No papers found for this topic\")\n",
        "\n",
        "# Example Usage\n",
        "searcher = LiteratureSearch()\n",
        "print(searcher.search(\"Quantum Computing\"))\n",
        "# Output: ['Paper 1: Advances in Quantum Gates', 'Paper 2: Quantum Algorithms']"
      ]
    }
  ]
}