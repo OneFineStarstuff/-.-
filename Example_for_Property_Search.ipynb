{
  "nbformat": 4,
  "nbformat_minor": 0,
  "metadata": {
    "colab": {
      "private_outputs": true,
      "provenance": [],
      "authorship_tag": "ABX9TyMzJ7NPcnABUGOKRNsXNT2k",
      "include_colab_link": true
    },
    "kernelspec": {
      "name": "python3",
      "display_name": "Python 3"
    },
    "language_info": {
      "name": "python"
    }
  },
  "cells": [
    {
      "cell_type": "markdown",
      "metadata": {
        "id": "view-in-github",
        "colab_type": "text"
      },
      "source": [
        "<a href=\"https://colab.research.google.com/github/OneFineStarstuff/Onefinebot/blob/main/Example_for_Property_Search.ipynb\" target=\"_parent\"><img src=\"https://colab.research.google.com/assets/colab-badge.svg\" alt=\"Open In Colab\"/></a>"
      ]
    },
    {
      "cell_type": "code",
      "execution_count": null,
      "metadata": {
        "id": "EUsKgNTE53jA"
      },
      "outputs": [],
      "source": [
        "class RealEstateBot:\n",
        "    def __init__(self):\n",
        "        self.properties = [\n",
        "            {\"type\": \"Apartment\", \"location\": \"New York\", \"price\": 2000},\n",
        "            {\"type\": \"House\", \"location\": \"Los Angeles\", \"price\": 3000},\n",
        "            {\"type\": \"Condo\", \"location\": \"Chicago\", \"price\": 2500},\n",
        "        ]  # Initialize properties list with predefined property details\n",
        "\n",
        "    def search_property(self, location, max_price):\n",
        "        # Find and return properties that match the specified location and are within the specified price range\n",
        "        results = [p for p in self.properties if p[\"location\"] == location and p[\"price\"] <= max_price]\n",
        "        return results if results else \"No properties found matching your criteria.\"\n",
        "\n",
        "# Example Usage\n",
        "real_estate_bot = RealEstateBot()\n",
        "print(real_estate_bot.search_property(\"Los Angeles\", 3500))\n",
        "# Output: [{'type': 'House', 'location': 'Los Angeles', 'price': 3000}]"
      ]
    }
  ]
}