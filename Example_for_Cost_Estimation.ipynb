{
  "nbformat": 4,
  "nbformat_minor": 0,
  "metadata": {
    "colab": {
      "private_outputs": true,
      "provenance": [],
      "authorship_tag": "ABX9TyMtNPo4uf72AxUt7u4YVPms",
      "include_colab_link": true
    },
    "kernelspec": {
      "name": "python3",
      "display_name": "Python 3"
    },
    "language_info": {
      "name": "python"
    }
  },
  "cells": [
    {
      "cell_type": "markdown",
      "metadata": {
        "id": "view-in-github",
        "colab_type": "text"
      },
      "source": [
        "<a href=\"https://colab.research.google.com/github/OneFineStarstuff/Onefinebot/blob/main/Example_for_Cost_Estimation.ipynb\" target=\"_parent\"><img src=\"https://colab.research.google.com/assets/colab-badge.svg\" alt=\"Open In Colab\"/></a>"
      ]
    },
    {
      "cell_type": "code",
      "execution_count": null,
      "metadata": {
        "id": "B9jNEz4GJnkH"
      },
      "outputs": [],
      "source": [
        "class CostEstimator:\n",
        "    def __init__(self):\n",
        "        self.costs_per_unit = {\"Concrete\": 100, \"Steel\": 200, \"Labor\": 50}  # Initialize costs per unit for materials and labor\n",
        "\n",
        "    def estimate_cost(self, material, quantity):\n",
        "        # Retrieve the cost per unit for the specified material and calculate the total cost\n",
        "        return self.costs_per_unit.get(material, 0) * quantity\n",
        "\n",
        "# Example Usage\n",
        "estimator = CostEstimator()\n",
        "print(f\"Estimated Cost: ${estimator.estimate_cost('Concrete', 500)}\")\n",
        "# Output: Estimated Cost: $50000"
      ]
    }
  ]
}