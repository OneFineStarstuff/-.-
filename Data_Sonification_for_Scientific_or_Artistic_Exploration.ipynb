{
  "nbformat": 4,
  "nbformat_minor": 0,
  "metadata": {
    "colab": {
      "private_outputs": true,
      "provenance": [],
      "authorship_tag": "ABX9TyMfgyz/qRNLyCvr+1oLoQOj",
      "include_colab_link": true
    },
    "kernelspec": {
      "name": "python3",
      "display_name": "Python 3"
    },
    "language_info": {
      "name": "python"
    }
  },
  "cells": [
    {
      "cell_type": "markdown",
      "metadata": {
        "id": "view-in-github",
        "colab_type": "text"
      },
      "source": [
        "<a href=\"https://colab.research.google.com/github/OneFineStarstuff/Onefinebot/blob/main/Data_Sonification_for_Scientific_or_Artistic_Exploration.ipynb\" target=\"_parent\"><img src=\"https://colab.research.google.com/assets/colab-badge.svg\" alt=\"Open In Colab\"/></a>"
      ]
    },
    {
      "cell_type": "code",
      "source": [
        "pip install midiutil"
      ],
      "metadata": {
        "id": "j0ru-yKoeXL7"
      },
      "execution_count": null,
      "outputs": []
    },
    {
      "cell_type": "code",
      "execution_count": null,
      "metadata": {
        "id": "_WBXnCO_eBab"
      },
      "outputs": [],
      "source": [
        "import numpy as np\n",
        "from midiutil import MIDIFile\n",
        "\n",
        "# Generate example data, could be any dataset\n",
        "data = np.random.rand(100)\n",
        "\n",
        "# Create a MIDI file with one track\n",
        "midi = MIDIFile(1)\n",
        "track, time, channel = 0, 0, 0\n",
        "\n",
        "# Add notes to the MIDI file based on the data\n",
        "for value in data:\n",
        "    pitch = int(value * 127)  # Convert data value to a MIDI pitch (0-127)\n",
        "    midi.addNote(track, channel, pitch, time, duration=1, volume=100)\n",
        "    time += 1\n",
        "\n",
        "# Save the MIDI file\n",
        "with open(\"data_sonification.mid\", \"wb\") as output_file:\n",
        "    midi.writeFile(output_file)"
      ]
    }
  ]
}