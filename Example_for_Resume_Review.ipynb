{
  "nbformat": 4,
  "nbformat_minor": 0,
  "metadata": {
    "colab": {
      "private_outputs": true,
      "provenance": [],
      "authorship_tag": "ABX9TyNiL/L5jYc2nB9BfWnMKC/T",
      "include_colab_link": true
    },
    "kernelspec": {
      "name": "python3",
      "display_name": "Python 3"
    },
    "language_info": {
      "name": "python"
    }
  },
  "cells": [
    {
      "cell_type": "markdown",
      "metadata": {
        "id": "view-in-github",
        "colab_type": "text"
      },
      "source": [
        "<a href=\"https://colab.research.google.com/github/OneFineStarstuff/Onefinebot/blob/main/Example_for_Resume_Review.ipynb\" target=\"_parent\"><img src=\"https://colab.research.google.com/assets/colab-badge.svg\" alt=\"Open In Colab\"/></a>"
      ]
    },
    {
      "cell_type": "code",
      "execution_count": null,
      "metadata": {
        "id": "n64koZfzFJFR"
      },
      "outputs": [],
      "source": [
        "def review_resume(resume_text):\n",
        "    common_skills = [\"Python\", \"Data Analysis\", \"Project Management\", \"Team Leadership\"]  # List of common skills to check for\n",
        "    # Find skills that are present in the resume text (case-insensitive)\n",
        "    found_skills = [skill for skill in common_skills if skill.lower() in resume_text.lower()]\n",
        "    # Find skills that are missing from the resume text (case-insensitive)\n",
        "    missing_skills = [skill for skill in common_skills if skill.lower() not in resume_text.lower()]\n",
        "    # Return analysis results\n",
        "    return {\"skills_found\": found_skills, \"skills_to_improve\": missing_skills}\n",
        "\n",
        "# Example Usage\n",
        "resume = \"Experienced in Python and Project Management.\"\n",
        "review = review_resume(resume)\n",
        "print(review)  # Output: {'skills_found': ['Python', 'Project Management'], 'skills_to_improve': ['Data Analysis', 'Team Leadership']}"
      ]
    }
  ]
}