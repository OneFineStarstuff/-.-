{
  "nbformat": 4,
  "nbformat_minor": 0,
  "metadata": {
    "colab": {
      "private_outputs": true,
      "provenance": [],
      "authorship_tag": "ABX9TyPIA9CsS/oQY7iostEoRIDR",
      "include_colab_link": true
    },
    "kernelspec": {
      "name": "python3",
      "display_name": "Python 3"
    },
    "language_info": {
      "name": "python"
    }
  },
  "cells": [
    {
      "cell_type": "markdown",
      "metadata": {
        "id": "view-in-github",
        "colab_type": "text"
      },
      "source": [
        "<a href=\"https://colab.research.google.com/github/OneFineStarstuff/Onefinebot/blob/main/Spectral_Analysis_for_Stellar_Classification.ipynb\" target=\"_parent\"><img src=\"https://colab.research.google.com/assets/colab-badge.svg\" alt=\"Open In Colab\"/></a>"
      ]
    },
    {
      "cell_type": "code",
      "execution_count": null,
      "metadata": {
        "id": "EXfejJQxZOWB"
      },
      "outputs": [],
      "source": [
        "import numpy as np\n",
        "import matplotlib.pyplot as plt\n",
        "from scipy.signal import find_peaks\n",
        "\n",
        "# Generate synthetic spectrum with absorption lines\n",
        "wavelength = np.linspace(400, 700, 1000)  # wavelengths in nm\n",
        "flux = 1.0 - 0.1 * np.exp(-(wavelength - 500)**2 / (2 * 2**2))  # synthetic absorption line at 500nm\n",
        "flux -= 0.05 * np.exp(-(wavelength - 600)**2 / (2 * 2**2))  # another line at 600nm\n",
        "\n",
        "# Detecting absorption lines using find_peaks\n",
        "peaks, _ = find_peaks(-flux, height=0.01)\n",
        "\n",
        "# Plotting the spectrum with detected absorption lines\n",
        "plt.plot(wavelength, flux, label='Spectrum')\n",
        "plt.plot(wavelength[peaks], flux[peaks], 'ro', label='Absorption Lines')\n",
        "plt.xlabel(\"Wavelength (nm)\")\n",
        "plt.ylabel(\"Flux\")\n",
        "plt.title(\"Stellar Spectrum with Absorption Lines\")\n",
        "plt.legend()\n",
        "plt.show()"
      ]
    }
  ]
}