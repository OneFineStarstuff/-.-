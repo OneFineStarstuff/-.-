{
  "nbformat": 4,
  "nbformat_minor": 0,
  "metadata": {
    "colab": {
      "private_outputs": true,
      "provenance": [],
      "authorship_tag": "ABX9TyPHJRvhfnXZQ5Lf74mNDE0s",
      "include_colab_link": true
    },
    "kernelspec": {
      "name": "python3",
      "display_name": "Python 3"
    },
    "language_info": {
      "name": "python"
    }
  },
  "cells": [
    {
      "cell_type": "markdown",
      "metadata": {
        "id": "view-in-github",
        "colab_type": "text"
      },
      "source": [
        "<a href=\"https://colab.research.google.com/github/OneFineStarstuff/Onefinebot/blob/main/Example_for_Legal_FAQs.ipynb\" target=\"_parent\"><img src=\"https://colab.research.google.com/assets/colab-badge.svg\" alt=\"Open In Colab\"/></a>"
      ]
    },
    {
      "cell_type": "code",
      "execution_count": null,
      "metadata": {
        "id": "hDpu-guM2qG1"
      },
      "outputs": [],
      "source": [
        "class LegalFAQ:\n",
        "    def __init__(self):\n",
        "        self.faqs = {\n",
        "            \"Contract\": \"A contract is a legally binding agreement between parties.\",\n",
        "            \"Property\": \"Property laws vary by region; consult a local lawyer for specifics.\"\n",
        "        }  # Initialize the FAQs dictionary with predefined legal topics and answers\n",
        "\n",
        "    def get_answer(self, topic):\n",
        "        # Retrieve the answer for the specified topic from the FAQs dictionary\n",
        "        return self.faqs.get(topic, \"No information available for this topic.\")\n",
        "\n",
        "# Example Usage\n",
        "faq = LegalFAQ()\n",
        "print(faq.get_answer(\"Contract\"))\n",
        "# Output: A contract is a legally binding agreement between parties."
      ]
    }
  ]
}