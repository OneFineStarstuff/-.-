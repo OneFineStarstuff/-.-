{
  "nbformat": 4,
  "nbformat_minor": 0,
  "metadata": {
    "colab": {
      "private_outputs": true,
      "provenance": [],
      "authorship_tag": "ABX9TyNeXPVYKP5otx0MIkYhaL80",
      "include_colab_link": true
    },
    "kernelspec": {
      "name": "python3",
      "display_name": "Python 3"
    },
    "language_info": {
      "name": "python"
    }
  },
  "cells": [
    {
      "cell_type": "markdown",
      "metadata": {
        "id": "view-in-github",
        "colab_type": "text"
      },
      "source": [
        "<a href=\"https://colab.research.google.com/github/OneFineStarstuff/Onefinebot/blob/main/Example_for_Multi_Task_Management.ipynb\" target=\"_parent\"><img src=\"https://colab.research.google.com/assets/colab-badge.svg\" alt=\"Open In Colab\"/></a>"
      ]
    },
    {
      "cell_type": "code",
      "execution_count": null,
      "metadata": {
        "id": "MWPWTuTI4ggF"
      },
      "outputs": [],
      "source": [
        "class TaskManager:\n",
        "    def __init__(self):\n",
        "        self.tasks = []  # Initialize an empty list to store tasks\n",
        "\n",
        "    def add_task(self, task, priority):\n",
        "        # Append the task and its priority to the tasks list\n",
        "        self.tasks.append({\"task\": task, \"priority\": priority})\n",
        "        # Sort tasks based on priority\n",
        "        self.tasks.sort(key=lambda x: x[\"priority\"])\n",
        "\n",
        "    def view_tasks(self):\n",
        "        # Return the list of tasks\n",
        "        return self.tasks\n",
        "\n",
        "# Example Usage\n",
        "manager = TaskManager()\n",
        "manager.add_task(\"Finish report\", 2)\n",
        "manager.add_task(\"Call client\", 1)\n",
        "print(manager.view_tasks())  # Output: [{'task': 'Call client', 'priority': 1}, {'task': 'Finish report', 'priority': 2}]"
      ]
    }
  ]
}