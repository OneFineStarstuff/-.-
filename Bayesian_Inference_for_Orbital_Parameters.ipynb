{
  "nbformat": 4,
  "nbformat_minor": 0,
  "metadata": {
    "colab": {
      "private_outputs": true,
      "provenance": [],
      "authorship_tag": "ABX9TyPT4BgYJpExFictZkrpnmdm",
      "include_colab_link": true
    },
    "kernelspec": {
      "name": "python3",
      "display_name": "Python 3"
    },
    "language_info": {
      "name": "python"
    }
  },
  "cells": [
    {
      "cell_type": "markdown",
      "metadata": {
        "id": "view-in-github",
        "colab_type": "text"
      },
      "source": [
        "<a href=\"https://colab.research.google.com/github/OneFineStarstuff/Onefinebot/blob/main/Bayesian_Inference_for_Orbital_Parameters.ipynb\" target=\"_parent\"><img src=\"https://colab.research.google.com/assets/colab-badge.svg\" alt=\"Open In Colab\"/></a>"
      ]
    },
    {
      "cell_type": "code",
      "source": [
        "pip install pymc3"
      ],
      "metadata": {
        "id": "RYJSQtlAFbvM"
      },
      "execution_count": null,
      "outputs": []
    },
    {
      "cell_type": "code",
      "execution_count": null,
      "metadata": {
        "id": "0Cne7omgFPOr"
      },
      "outputs": [],
      "source": [
        "import pymc3 as pm\n",
        "import numpy as np\n",
        "import matplotlib.pyplot as plt\n",
        "\n",
        "# Simulated data: radial velocity over time for a star in a binary system\n",
        "time = np.linspace(0, 10, 50)  # time in years\n",
        "true_amplitude = 10  # radial velocity amplitude in km/s\n",
        "true_period = 1.5  # orbital period in years\n",
        "noise = 0.5  # noise in measurements\n",
        "radial_velocity = true_amplitude * np.sin(2 * np.pi * time / true_period) + np.random.normal(0, noise, size=time.shape)\n",
        "\n",
        "# Bayesian model\n",
        "with pm.Model() as model:\n",
        "    amplitude = pm.Uniform('amplitude', lower=5, upper=15)\n",
        "    period = pm.Uniform('period', lower=1.0, upper=2.0)\n",
        "    noise_sd = pm.HalfNormal('noise_sd', sd=1)\n",
        "\n",
        "    # Define the likelihood function\n",
        "    expected_rv = amplitude * pm.math.sin(2 * np.pi * time / period)\n",
        "    likelihood = pm.Normal('rv', mu=expected_rv, sd=noise_sd, observed=radial_velocity)\n",
        "\n",
        "    # Sampling\n",
        "    trace = pm.sample(2000, return_inferencedata=True)\n",
        "\n",
        "# Plotting posterior distributions\n",
        "pm.plot_posterior(trace)\n",
        "plt.show()"
      ]
    }
  ]
}