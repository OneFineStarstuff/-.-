{
  "nbformat": 4,
  "nbformat_minor": 0,
  "metadata": {
    "colab": {
      "private_outputs": true,
      "provenance": [],
      "authorship_tag": "ABX9TyMbYoGk8ij0gPYcmJFbsVuH",
      "include_colab_link": true
    },
    "kernelspec": {
      "name": "python3",
      "display_name": "Python 3"
    },
    "language_info": {
      "name": "python"
    }
  },
  "cells": [
    {
      "cell_type": "markdown",
      "metadata": {
        "id": "view-in-github",
        "colab_type": "text"
      },
      "source": [
        "<a href=\"https://colab.research.google.com/github/OneFineStarstuff/Onefinebot/blob/main/Advanced_Astrophysical_Visualization_3D_Star_Cluster_Visualization.ipynb\" target=\"_parent\"><img src=\"https://colab.research.google.com/assets/colab-badge.svg\" alt=\"Open In Colab\"/></a>"
      ]
    },
    {
      "cell_type": "code",
      "execution_count": null,
      "metadata": {
        "id": "K_AL7jLoDXFa"
      },
      "outputs": [],
      "source": [
        "import numpy as np\n",
        "import matplotlib.pyplot as plt\n",
        "from mpl_toolkits.mplot3d import Axes3D\n",
        "\n",
        "# Generate random positions for stars within a 3D spherical cluster\n",
        "num_stars = 1000\n",
        "radii = np.random.uniform(0, 10, num_stars)  # distances from the center\n",
        "theta = np.random.uniform(0, np.pi, num_stars)\n",
        "phi = np.random.uniform(0, 2 * np.pi, num_stars)\n",
        "\n",
        "# Convert spherical to Cartesian coordinates\n",
        "x = radii * np.sin(theta) * np.cos(phi)\n",
        "y = radii * np.sin(theta) * np.sin(phi)\n",
        "z = radii * np.cos(theta)\n",
        "\n",
        "# Plot the star cluster\n",
        "fig = plt.figure()\n",
        "ax = fig.add_subplot(111, projection='3d')\n",
        "ax.scatter(x, y, z, color='blue', s=1)\n",
        "ax.set_xlabel(\"X (light years)\")\n",
        "ax.set_ylabel(\"Y (light years)\")\n",
        "ax.set_zlabel(\"Z (light years)\")\n",
        "plt.title(\"3D Visualization of a Star Cluster\")\n",
        "plt.show()"
      ]
    }
  ]
}