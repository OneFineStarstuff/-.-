{
  "nbformat": 4,
  "nbformat_minor": 0,
  "metadata": {
    "colab": {
      "private_outputs": true,
      "provenance": [],
      "authorship_tag": "ABX9TyO0qy03OFD3spBJ/J1lubUN",
      "include_colab_link": true
    },
    "kernelspec": {
      "name": "python3",
      "display_name": "Python 3"
    },
    "language_info": {
      "name": "python"
    }
  },
  "cells": [
    {
      "cell_type": "markdown",
      "metadata": {
        "id": "view-in-github",
        "colab_type": "text"
      },
      "source": [
        "<a href=\"https://colab.research.google.com/github/OneFineStarstuff/Onefinebot/blob/main/Example_for_Price_Comparison.ipynb\" target=\"_parent\"><img src=\"https://colab.research.google.com/assets/colab-badge.svg\" alt=\"Open In Colab\"/></a>"
      ]
    },
    {
      "cell_type": "code",
      "execution_count": null,
      "metadata": {
        "id": "gGQt0Ead0PvP"
      },
      "outputs": [],
      "source": [
        "class PriceComparer:\n",
        "    def __init__(self):\n",
        "        self.products = {\n",
        "            \"Smartphone\": {\"Store A\": 800, \"Store B\": 750, \"Store C\": 770},\n",
        "            \"Laptop\": {\"Store A\": 1200, \"Store B\": 1150, \"Store C\": 1180}\n",
        "        }  # Initialize products dictionary with predefined products and prices in different stores\n",
        "\n",
        "    def compare_prices(self, product):\n",
        "        # Return the price information for the specified product\n",
        "        return self.products.get(product, \"Product not found.\")\n",
        "\n",
        "# Example Usage\n",
        "comparer = PriceComparer()\n",
        "print(comparer.compare_prices(\"Smartphone\"))\n",
        "# Output: {'Store A': 800, 'Store B': 750, 'Store C': 770}"
      ]
    }
  ]
}