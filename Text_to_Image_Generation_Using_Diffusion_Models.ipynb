{
  "nbformat": 4,
  "nbformat_minor": 0,
  "metadata": {
    "colab": {
      "private_outputs": true,
      "provenance": [],
      "authorship_tag": "ABX9TyPEQdOg4N6T5PJPmFuIdsrq",
      "include_colab_link": true
    },
    "kernelspec": {
      "name": "python3",
      "display_name": "Python 3"
    },
    "language_info": {
      "name": "python"
    }
  },
  "cells": [
    {
      "cell_type": "markdown",
      "metadata": {
        "id": "view-in-github",
        "colab_type": "text"
      },
      "source": [
        "<a href=\"https://colab.research.google.com/github/OneFineStarstuff/Onefinebot/blob/main/Text_to_Image_Generation_Using_Diffusion_Models.ipynb\" target=\"_parent\"><img src=\"https://colab.research.google.com/assets/colab-badge.svg\" alt=\"Open In Colab\"/></a>"
      ]
    },
    {
      "cell_type": "code",
      "execution_count": null,
      "metadata": {
        "id": "5a1n_xbTFQlo"
      },
      "outputs": [],
      "source": [
        "import torch\n",
        "import torch.nn as nn\n",
        "import torch.optim as optim\n",
        "from torchvision import transforms\n",
        "from PIL import Image\n",
        "import matplotlib.pyplot as plt\n",
        "\n",
        "class SimpleDiffusionModel(nn.Module):\n",
        "    def __init__(self, img_size, channels):\n",
        "        super(SimpleDiffusionModel, self).__init__()\n",
        "        self.encoder = nn.Sequential(\n",
        "            nn.Conv2d(channels, 64, 4, stride=2, padding=1),\n",
        "            nn.ReLU(),\n",
        "            nn.Conv2d(64, 128, 4, stride=2, padding=1),\n",
        "            nn.ReLU(),\n",
        "            nn.Conv2d(128, 256, 4, stride=2, padding=1),\n",
        "            nn.ReLU()\n",
        "        )\n",
        "        self.decoder = nn.Sequential(\n",
        "            nn.ConvTranspose2d(256, 128, 4, stride=2, padding=1),\n",
        "            nn.ReLU(),\n",
        "            nn.ConvTranspose2d(128, 64, 4, stride=2, padding=1),\n",
        "            nn.ReLU(),\n",
        "            nn.ConvTranspose2d(64, channels, 4, stride=2, padding=1),\n",
        "            nn.Tanh()\n",
        "        )\n",
        "\n",
        "    def forward(self, x):\n",
        "        encoded = self.encoder(x)\n",
        "        decoded = self.decoder(encoded)\n",
        "        return decoded\n",
        "\n",
        "def load_image(path, img_size):\n",
        "    img = Image.open(path).convert(\"RGB\")\n",
        "    transform = transforms.Compose([\n",
        "        transforms.Resize(img_size),\n",
        "        transforms.ToTensor(),\n",
        "        transforms.Normalize([0.5], [0.5])\n",
        "    ])\n",
        "    img = transform(img).unsqueeze(0)\n",
        "    return img\n",
        "\n",
        "def save_image(tensor, path):\n",
        "    img = tensor.cpu().clone().squeeze(0)\n",
        "    img = transforms.ToPILImage()(img)\n",
        "    img.save(path)\n",
        "\n",
        "def train_model(model, dataloader, num_epochs, lr=0.001):\n",
        "    optimizer = optim.Adam(model.parameters(), lr=lr)\n",
        "    criterion = nn.MSELoss()\n",
        "    model.train()\n",
        "\n",
        "    for epoch in range(num_epochs):\n",
        "        for imgs in dataloader:\n",
        "            optimizer.zero_grad()\n",
        "            output = model(imgs)\n",
        "            loss = criterion(output, imgs)\n",
        "            loss.backward()\n",
        "            optimizer.step()\n",
        "        print(f\"Epoch {epoch+1}/{num_epochs}, Loss: {loss.item():.4f}\")\n",
        "\n",
        "def generate_image(model, text_embedding, img_size, num_steps=1000):\n",
        "    noise = torch.randn(1, 3, img_size, img_size)\n",
        "    noise = noise.to(next(model.parameters()).device)\n",
        "    for step in range(num_steps):\n",
        "        noise.requires_grad_(True)\n",
        "        output = model(noise)\n",
        "        noise = noise - 0.1 * torch.autograd.grad((output - text_embedding).abs().sum(), noise)[0]\n",
        "    return output\n",
        "\n",
        "# Example usage\n",
        "img_size = 64\n",
        "channels = 3\n",
        "model = SimpleDiffusionModel(img_size, channels)\n",
        "model = model.to(\"cuda\" if torch.cuda.is_available() else \"cpu\")\n",
        "\n",
        "# Load an image and use it as a stand-in for text embedding\n",
        "input_img = load_image(\"path_to_image.jpg\", img_size)\n",
        "input_img = input_img.to(next(model.parameters()).device)\n",
        "\n",
        "# Train model (you'd normally use a proper dataset and DataLoader here)\n",
        "dataloader = [input_img] * 100  # Simplified example with repeated image\n",
        "train_model(model, dataloader, num_epochs=5)\n",
        "\n",
        "# Generate new image based on text embedding\n",
        "generated_img = generate_image(model, input_img, img_size)\n",
        "save_image(generated_img, \"generated_image.png\")"
      ]
    }
  ]
}