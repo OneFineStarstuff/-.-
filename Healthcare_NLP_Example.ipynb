{
  "nbformat": 4,
  "nbformat_minor": 0,
  "metadata": {
    "colab": {
      "private_outputs": true,
      "provenance": [],
      "authorship_tag": "ABX9TyN9c6ERkBDCqmyEscyBDfKj",
      "include_colab_link": true
    },
    "kernelspec": {
      "name": "python3",
      "display_name": "Python 3"
    },
    "language_info": {
      "name": "python"
    }
  },
  "cells": [
    {
      "cell_type": "markdown",
      "metadata": {
        "id": "view-in-github",
        "colab_type": "text"
      },
      "source": [
        "<a href=\"https://colab.research.google.com/github/OneFineStarstuff/Onefinebot/blob/main/Healthcare_NLP_Example.ipynb\" target=\"_parent\"><img src=\"https://colab.research.google.com/assets/colab-badge.svg\" alt=\"Open In Colab\"/></a>"
      ]
    },
    {
      "cell_type": "code",
      "execution_count": null,
      "metadata": {
        "id": "b5FcqVb0XlZa"
      },
      "outputs": [],
      "source": [
        "from transformers import pipeline\n",
        "\n",
        "# Initialize the question-answering pipeline\n",
        "healthcare_nlp = pipeline(\"question-answering\", model=\"deepset/roberta-base-squad2\")\n",
        "\n",
        "# Define the question and context\n",
        "question = \"What are the symptoms of diabetes?\"\n",
        "context = \"\"\"\n",
        "Diabetes symptoms include frequent urination, increased thirst, extreme hunger,\n",
        "unexplained weight loss, presence of ketones in urine, and fatigue.\n",
        "\"\"\"\n",
        "\n",
        "# Get the answer\n",
        "result = healthcare_nlp(question=question, context=context)\n",
        "print(result)"
      ]
    }
  ]
}