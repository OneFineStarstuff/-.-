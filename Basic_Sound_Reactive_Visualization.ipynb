{
  "nbformat": 4,
  "nbformat_minor": 0,
  "metadata": {
    "colab": {
      "private_outputs": true,
      "provenance": [],
      "authorship_tag": "ABX9TyOKBicLulIj8t3PbxRO7LZ+",
      "include_colab_link": true
    },
    "kernelspec": {
      "name": "python3",
      "display_name": "Python 3"
    },
    "language_info": {
      "name": "python"
    }
  },
  "cells": [
    {
      "cell_type": "markdown",
      "metadata": {
        "id": "view-in-github",
        "colab_type": "text"
      },
      "source": [
        "<a href=\"https://colab.research.google.com/github/OneFineStarstuff/Onefinebot/blob/main/Basic_Sound_Reactive_Visualization.ipynb\" target=\"_parent\"><img src=\"https://colab.research.google.com/assets/colab-badge.svg\" alt=\"Open In Colab\"/></a>"
      ]
    },
    {
      "cell_type": "code",
      "source": [
        "!sudo apt update"
      ],
      "metadata": {
        "id": "zM1qNkczuWlr"
      },
      "execution_count": null,
      "outputs": []
    },
    {
      "cell_type": "code",
      "source": [
        "!sudo apt install portaudio19-dev"
      ],
      "metadata": {
        "id": "jXIFoPL4uiMZ"
      },
      "execution_count": null,
      "outputs": []
    },
    {
      "cell_type": "code",
      "source": [
        "pip install sounddevice"
      ],
      "metadata": {
        "id": "DH4iDeWAt-fr"
      },
      "execution_count": null,
      "outputs": []
    },
    {
      "cell_type": "code",
      "source": [
        "!sudo dnf install portaudio-devel"
      ],
      "metadata": {
        "id": "m76indk8ustj"
      },
      "execution_count": null,
      "outputs": []
    },
    {
      "cell_type": "code",
      "source": [
        "!brew install portaudio"
      ],
      "metadata": {
        "id": "1-qAhwYFuy8u"
      },
      "execution_count": null,
      "outputs": []
    },
    {
      "cell_type": "code",
      "execution_count": null,
      "metadata": {
        "id": "We81QUljtdU6"
      },
      "outputs": [],
      "source": [
        "import numpy as np\n",
        "import sounddevice as sd\n",
        "import matplotlib.pyplot as plt\n",
        "from scipy.fftpack import fft\n",
        "from matplotlib.animation import FuncAnimation\n",
        "\n",
        "# Sounddevice settings\n",
        "RATE = 44100\n",
        "CHUNK = 1024\n",
        "\n",
        "# Function to update the plot\n",
        "def update_visual(frame, line):\n",
        "    # Capture audio data\n",
        "    data = sd.rec(CHUNK, samplerate=RATE, channels=1, dtype='int16')\n",
        "    sd.wait()\n",
        "\n",
        "    # Perform Fast Fourier Transform\n",
        "    transformed = fft(data.flatten())\n",
        "    line.set_ydata(np.abs(transformed[:CHUNK]) * np.random.rand())\n",
        "\n",
        "    # Random color shifting\n",
        "    line.set_color(np.random.choice([\"cyan\", \"magenta\", \"yellow\"]))\n",
        "\n",
        "    return line,\n",
        "\n",
        "# Set up figure\n",
        "fig, ax = plt.subplots(figsize=(10, 5))\n",
        "line, = ax.plot(np.zeros(CHUNK), color=\"cyan\")\n",
        "ax.set_ylim(-5000, 5000)\n",
        "ax.set_xlim(0, CHUNK)\n",
        "\n",
        "# Animation function\n",
        "anim = FuncAnimation(fig, update_visual, fargs=(line,), interval=20, cache_frame_data=False)\n",
        "\n",
        "# Keep a reference to anim to prevent it from being garbage collected\n",
        "plt.show()"
      ]
    }
  ]
}