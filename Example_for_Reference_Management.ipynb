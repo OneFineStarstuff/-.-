{
  "nbformat": 4,
  "nbformat_minor": 0,
  "metadata": {
    "colab": {
      "private_outputs": true,
      "provenance": [],
      "authorship_tag": "ABX9TyMOwnB6aLKpG3mA/njsoLEg",
      "include_colab_link": true
    },
    "kernelspec": {
      "name": "python3",
      "display_name": "Python 3"
    },
    "language_info": {
      "name": "python"
    }
  },
  "cells": [
    {
      "cell_type": "markdown",
      "metadata": {
        "id": "view-in-github",
        "colab_type": "text"
      },
      "source": [
        "<a href=\"https://colab.research.google.com/github/OneFineStarstuff/Onefinebot/blob/main/Example_for_Reference_Management.ipynb\" target=\"_parent\"><img src=\"https://colab.research.google.com/assets/colab-badge.svg\" alt=\"Open In Colab\"/></a>"
      ]
    },
    {
      "cell_type": "code",
      "execution_count": null,
      "metadata": {
        "id": "8NkKrP7fOyC6"
      },
      "outputs": [],
      "source": [
        "class ReferenceManager:\n",
        "    def __init__(self):\n",
        "        self.references = []  # Initialize an empty list to store references\n",
        "\n",
        "    def add_reference(self, title, author, year):\n",
        "        # Append the reference details to the references list\n",
        "        self.references.append({\"title\": title, \"author\": author, \"year\": year})\n",
        "\n",
        "    def view_references(self):\n",
        "        # Return the list of all stored references\n",
        "        return self.references\n",
        "\n",
        "# Example Usage\n",
        "manager = ReferenceManager()\n",
        "manager.add_reference(\"Artificial Intelligence: A Modern Approach\", \"Stuart Russell\", 2020)\n",
        "print(manager.view_references())\n",
        "# Output: [{'title': 'Artificial Intelligence: A Modern Approach', 'author': 'Stuart Russell', 'year': 2020}]"
      ]
    }
  ]
}