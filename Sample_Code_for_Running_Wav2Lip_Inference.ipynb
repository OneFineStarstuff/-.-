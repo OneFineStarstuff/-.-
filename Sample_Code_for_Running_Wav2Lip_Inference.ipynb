{
  "nbformat": 4,
  "nbformat_minor": 0,
  "metadata": {
    "colab": {
      "private_outputs": true,
      "provenance": [],
      "authorship_tag": "ABX9TyNpK+1SerwbcXMftqqwgWi1",
      "include_colab_link": true
    },
    "kernelspec": {
      "name": "python3",
      "display_name": "Python 3"
    },
    "language_info": {
      "name": "python"
    }
  },
  "cells": [
    {
      "cell_type": "markdown",
      "metadata": {
        "id": "view-in-github",
        "colab_type": "text"
      },
      "source": [
        "<a href=\"https://colab.research.google.com/github/OneFineStarstuff/Onefinebot/blob/main/Sample_Code_for_Running_Wav2Lip_Inference.ipynb\" target=\"_parent\"><img src=\"https://colab.research.google.com/assets/colab-badge.svg\" alt=\"Open In Colab\"/></a>"
      ]
    },
    {
      "cell_type": "code",
      "execution_count": null,
      "metadata": {
        "id": "IipgVnDNIsyk"
      },
      "outputs": [],
      "source": [
        "import subprocess\n",
        "\n",
        "# Define paths to the input files and output location\n",
        "audio_path = \"/path/to/audio.wav\"\n",
        "video_path = \"/path/to/input_video.mp4\"\n",
        "output_path = \"/path/to/output_video.mp4\"\n",
        "checkpoint_path = \"/path/to/wav2lip.pth\"\n",
        "\n",
        "# Run the Wav2Lip inference script\n",
        "subprocess.run([\n",
        "    \"python\", \"inference.py\",\n",
        "    \"--checkpoint_path\", checkpoint_path,\n",
        "    \"--face\", video_path,\n",
        "    \"--audio\", audio_path,\n",
        "    \"--outfile\", output_path\n",
        "])"
      ]
    }
  ]
}