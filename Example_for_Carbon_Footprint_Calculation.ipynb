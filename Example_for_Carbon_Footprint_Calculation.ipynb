{
  "nbformat": 4,
  "nbformat_minor": 0,
  "metadata": {
    "colab": {
      "private_outputs": true,
      "provenance": [],
      "authorship_tag": "ABX9TyMa7prT6JMlM49MKZ236mow",
      "include_colab_link": true
    },
    "kernelspec": {
      "name": "python3",
      "display_name": "Python 3"
    },
    "language_info": {
      "name": "python"
    }
  },
  "cells": [
    {
      "cell_type": "markdown",
      "metadata": {
        "id": "view-in-github",
        "colab_type": "text"
      },
      "source": [
        "<a href=\"https://colab.research.google.com/github/OneFineStarstuff/Onefinebot/blob/main/Example_for_Carbon_Footprint_Calculation.ipynb\" target=\"_parent\"><img src=\"https://colab.research.google.com/assets/colab-badge.svg\" alt=\"Open In Colab\"/></a>"
      ]
    },
    {
      "cell_type": "code",
      "execution_count": null,
      "metadata": {
        "id": "qmLPLV-KFvNi"
      },
      "outputs": [],
      "source": [
        "def calculate_carbon_footprint(transport, energy, diet):\n",
        "    factors = {\"transport\": 0.21, \"energy\": 0.45, \"diet\": 0.15}  # Emission factors per unit\n",
        "    # Calculate total emissions based on input and emission factors\n",
        "    total_emissions = (transport * factors[\"transport\"]) + (energy * factors[\"energy\"]) + (diet * factors[\"diet\"])\n",
        "    return round(total_emissions, 2)  # Round the result to two decimal places\n",
        "\n",
        "# Example Usage\n",
        "footprint = calculate_carbon_footprint(200, 150, 50)\n",
        "print(f\"Your carbon footprint is {footprint} kg CO2.\")  # Output: Your carbon footprint is 88.5 kg CO2."
      ]
    }
  ]
}