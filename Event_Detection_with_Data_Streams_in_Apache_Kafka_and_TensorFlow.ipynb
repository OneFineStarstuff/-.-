{
  "nbformat": 4,
  "nbformat_minor": 0,
  "metadata": {
    "colab": {
      "private_outputs": true,
      "provenance": [],
      "authorship_tag": "ABX9TyMa27YzzLc9wKSWKf1D0+zv",
      "include_colab_link": true
    },
    "kernelspec": {
      "name": "python3",
      "display_name": "Python 3"
    },
    "language_info": {
      "name": "python"
    }
  },
  "cells": [
    {
      "cell_type": "markdown",
      "metadata": {
        "id": "view-in-github",
        "colab_type": "text"
      },
      "source": [
        "<a href=\"https://colab.research.google.com/github/OneFineStarstuff/Onefinebot/blob/main/Event_Detection_with_Data_Streams_in_Apache_Kafka_and_TensorFlow.ipynb\" target=\"_parent\"><img src=\"https://colab.research.google.com/assets/colab-badge.svg\" alt=\"Open In Colab\"/></a>"
      ]
    },
    {
      "cell_type": "code",
      "source": [
        "pip install --upgrade kafka-python"
      ],
      "metadata": {
        "id": "5M-Hv_I1_m07"
      },
      "execution_count": null,
      "outputs": []
    },
    {
      "cell_type": "code",
      "source": [
        "pip install kafka-python==2.0.2"
      ],
      "metadata": {
        "id": "iOrfiNxB_87j"
      },
      "execution_count": null,
      "outputs": []
    },
    {
      "cell_type": "code",
      "source": [
        "pip list"
      ],
      "metadata": {
        "id": "8qm5fTDzBH5O"
      },
      "execution_count": null,
      "outputs": []
    },
    {
      "cell_type": "code",
      "source": [
        "!python -m venv myenv\n",
        "!source myenv/bin/activate  # On Windows use `myenv\\Scripts\\activate`\n",
        "!pip install kafka-python"
      ],
      "metadata": {
        "id": "Yze9GA97BTZN"
      },
      "execution_count": null,
      "outputs": []
    },
    {
      "cell_type": "code",
      "source": [
        "!sudo apt install python3.10-venv"
      ],
      "metadata": {
        "id": "YcBfVqpqC--q"
      },
      "execution_count": null,
      "outputs": []
    },
    {
      "cell_type": "code",
      "source": [
        "!python3 -m venv myenv\n",
        "!source myenv/bin/activate"
      ],
      "metadata": {
        "id": "PzS-g7YpDR00"
      },
      "execution_count": null,
      "outputs": []
    },
    {
      "cell_type": "code",
      "source": [
        "!pip install kafka-python\n",
        "!pip install tensorflow"
      ],
      "metadata": {
        "id": "FhNHBX-SDcLM"
      },
      "execution_count": null,
      "outputs": []
    },
    {
      "cell_type": "code",
      "source": [
        "from kafka import KafkaConsumer\n",
        "import tensorflow as tf\n",
        "import numpy as np\n",
        "\n",
        "# Kafka consumer to stream astronomical data\n",
        "consumer = KafkaConsumer(\n",
        "    'astronomy_data',\n",
        "    bootstrap_servers=['localhost:9092'],\n",
        "    value_deserializer=lambda x: np.frombuffer(x, dtype=np.float32)\n",
        ")\n",
        "\n",
        "# Placeholder RNN for detecting anomalies in time-series data\n",
        "model = tf.keras.Sequential([\n",
        "    tf.keras.layers.LSTM(64, input_shape=(None, 1), return_sequences=True),\n",
        "    tf.keras.layers.Dense(1)\n",
        "])\n",
        "\n",
        "# Process incoming data stream and detect events\n",
        "for message in consumer:\n",
        "    data = message.value.reshape(-1, 1)  # Reshape as required by model\n",
        "    predictions = model.predict(data)\n",
        "\n",
        "    if np.any(predictions > 0.5):  # Example threshold for anomaly\n",
        "        print(\"Potential event detected!\")"
      ],
      "metadata": {
        "id": "RYsli4znBpdh"
      },
      "execution_count": null,
      "outputs": []
    },
    {
      "cell_type": "code",
      "source": [
        "pip install confluent-kafka"
      ],
      "metadata": {
        "id": "rA4C7n1sCLnI"
      },
      "execution_count": null,
      "outputs": []
    },
    {
      "cell_type": "code",
      "source": [
        "from confluent_kafka import Consumer, KafkaError\n",
        "import tensorflow as tf\n",
        "import numpy as np\n",
        "\n",
        "conf = {'bootstrap.servers': \"localhost:9092\",\n",
        "        'group.id': \"mygroup\",\n",
        "        'auto.offset.reset': 'earliest'}\n",
        "\n",
        "consumer = Consumer(conf)\n",
        "consumer.subscribe(['astronomy_data'])\n",
        "\n",
        "model = tf.keras.Sequential([\n",
        "    tf.keras.layers.Input(shape=(None, 1)),  # Use Input layer\n",
        "    tf.keras.layers.LSTM(64, return_sequences=True),\n",
        "    tf.keras.layers.Dense(1)\n",
        "])\n",
        "\n",
        "while True:\n",
        "    msg = consumer.poll(1.0)\n",
        "    if msg is None:\n",
        "        continue\n",
        "    if msg.error():\n",
        "        if msg.error().code() == KafkaError._PARTITION_EOF:\n",
        "            continue\n",
        "        else:\n",
        "            print(msg.error())\n",
        "            break\n",
        "\n",
        "    data = np.frombuffer(msg.value(), dtype=np.float32).reshape(-1, 1)\n",
        "    predictions = model.predict(data)\n",
        "\n",
        "    if np.any(predictions > 0.5):  # Example threshold for anomaly\n",
        "        print(\"Potential event detected!\")\n",
        "\n",
        "consumer.close()"
      ],
      "metadata": {
        "id": "zduqxB4PEABt"
      },
      "execution_count": null,
      "outputs": []
    }
  ]
}