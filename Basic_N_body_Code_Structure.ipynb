{
  "nbformat": 4,
  "nbformat_minor": 0,
  "metadata": {
    "colab": {
      "private_outputs": true,
      "provenance": [],
      "authorship_tag": "ABX9TyP1dc2Q4qkLOcA8I/2ST/Ho",
      "include_colab_link": true
    },
    "kernelspec": {
      "name": "python3",
      "display_name": "Python 3"
    },
    "language_info": {
      "name": "python"
    }
  },
  "cells": [
    {
      "cell_type": "markdown",
      "metadata": {
        "id": "view-in-github",
        "colab_type": "text"
      },
      "source": [
        "<a href=\"https://colab.research.google.com/github/OneFineStarstuff/Onefinebot/blob/main/Basic_N_body_Code_Structure.ipynb\" target=\"_parent\"><img src=\"https://colab.research.google.com/assets/colab-badge.svg\" alt=\"Open In Colab\"/></a>"
      ]
    },
    {
      "cell_type": "code",
      "execution_count": null,
      "metadata": {
        "id": "lW4GPz6iLn6e"
      },
      "outputs": [],
      "source": [
        "import numpy as np\n",
        "import matplotlib.pyplot as plt\n",
        "\n",
        "# Constants\n",
        "G = 4.302e-3  # Gravitational constant in (kpc/M_sun)(km/s)^2\n",
        "\n",
        "# Initialize particles with random positions and velocities\n",
        "n_particles = 100\n",
        "positions = np.random.rand(n_particles, 3) * 50  # kpc\n",
        "velocities = np.random.randn(n_particles, 3) * 50  # km/s\n",
        "masses = np.ones(n_particles) * 1e12  # M_sun\n",
        "\n",
        "# Function to calculate gravitational force\n",
        "def calculate_accelerations(positions, masses):\n",
        "    n = len(positions)\n",
        "    accelerations = np.zeros_like(positions)\n",
        "    for i in range(n):\n",
        "        force = np.zeros(3)\n",
        "        for j in range(n):\n",
        "            if i != j:\n",
        "                r = positions[j] - positions[i]\n",
        "                dist = np.sqrt(np.sum(r**2))\n",
        "                force += G * masses[j] * r / (dist**3)\n",
        "        accelerations[i] = force / masses[i]\n",
        "    return accelerations\n",
        "\n",
        "# Integration parameters\n",
        "dt = 0.1  # Myr\n",
        "n_steps = 1000\n",
        "\n",
        "# Leapfrog integration loop\n",
        "for step in range(n_steps):\n",
        "    positions += velocities * dt / 2\n",
        "    accelerations = calculate_accelerations(positions, masses)\n",
        "    velocities += accelerations * dt\n",
        "    positions += velocities * dt / 2\n",
        "\n",
        "# Plot the final positions\n",
        "plt.figure(figsize=(8, 8))\n",
        "plt.scatter(positions[:, 0], positions[:, 1], s=10, color=\"royalblue\")\n",
        "plt.title(\"N-body Simulation - Final Particle Positions\")\n",
        "plt.xlabel(\"x (kpc)\")\n",
        "plt.ylabel(\"y (kpc)\")\n",
        "plt.grid(True)\n",
        "plt.show()"
      ]
    }
  ]
}