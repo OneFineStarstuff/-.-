{
  "nbformat": 4,
  "nbformat_minor": 0,
  "metadata": {
    "colab": {
      "private_outputs": true,
      "provenance": [],
      "authorship_tag": "ABX9TyP99705Yoi4X4a7N7ZSzuTg",
      "include_colab_link": true
    },
    "kernelspec": {
      "name": "python3",
      "display_name": "Python 3"
    },
    "language_info": {
      "name": "python"
    }
  },
  "cells": [
    {
      "cell_type": "markdown",
      "metadata": {
        "id": "view-in-github",
        "colab_type": "text"
      },
      "source": [
        "<a href=\"https://colab.research.google.com/github/OneFineStarstuff/Onefinebot/blob/main/Basic_hybrid_quantum_classical_variational_circuit_for_binary_classification_of_quantum_states.ipynb\" target=\"_parent\"><img src=\"https://colab.research.google.com/assets/colab-badge.svg\" alt=\"Open In Colab\"/></a>"
      ]
    },
    {
      "cell_type": "code",
      "source": [
        "pip install pennylane"
      ],
      "metadata": {
        "id": "RBlN4qs_cVxB"
      },
      "execution_count": null,
      "outputs": []
    },
    {
      "cell_type": "code",
      "source": [
        "from pennylane import numpy as np\n",
        "import pennylane as qml\n",
        "\n",
        "# Define quantum device and circuit\n",
        "n_qubits = 2\n",
        "dev = qml.device(\"default.qubit\", wires=n_qubits)\n",
        "\n",
        "def quantum_circuit(weights):\n",
        "    qml.RX(weights[0], wires=0)\n",
        "    qml.RY(weights[1], wires=1)\n",
        "    qml.CNOT(wires=[0, 1])\n",
        "    return qml.expval(qml.PauliZ(0))\n",
        "\n",
        "# Hybrid quantum-classical model\n",
        "@qml.qnode(dev)\n",
        "def hybrid_model(weights):\n",
        "    return quantum_circuit(weights)\n",
        "\n",
        "# Training loop\n",
        "weights = np.array([0.1, 0.2], requires_grad=True)\n",
        "optimizer = qml.GradientDescentOptimizer(stepsize=0.1)\n",
        "\n",
        "epochs = 10\n",
        "for epoch in range(epochs):\n",
        "    weights = optimizer.step(lambda w: (hybrid_model(w) - 1)**2, weights)\n",
        "    print(f\"Epoch {epoch+1}: weights = {weights}\")\n",
        "\n",
        "print(\"Trained weights:\", weights)"
      ],
      "metadata": {
        "id": "2uZf55ilcFfW"
      },
      "execution_count": null,
      "outputs": []
    },
    {
      "cell_type": "code",
      "source": [
        "pip install qiskit qiskit-aer"
      ],
      "metadata": {
        "id": "rz8tikJmcq_Y"
      },
      "execution_count": null,
      "outputs": []
    },
    {
      "cell_type": "code",
      "execution_count": null,
      "metadata": {
        "id": "bC2dPpdDbljK"
      },
      "outputs": [],
      "source": [
        "import numpy as np\n",
        "import qiskit\n",
        "import torch\n",
        "from qiskit import Aer, QuantumCircuit\n",
        "from qiskit.circuit import Parameter\n",
        "from qiskit.opflow import StateFn, PauliSumOp\n",
        "from qiskit.utils import QuantumInstance\n",
        "from torch.optim import Adam\n",
        "\n",
        "# Define the quantum circuit\n",
        "def create_quantum_circuit(params):\n",
        "    qc = QuantumCircuit(2)\n",
        "    qc.rx(params[0], 0)\n",
        "    qc.rx(params[1], 1)\n",
        "    qc.cx(0, 1)\n",
        "    return qc\n",
        "\n",
        "# Define the cost function\n",
        "def cost_function(params, data, labels):\n",
        "    qc = create_quantum_circuit(params)\n",
        "    backend = Aer.get_backend('statevector_simulator')\n",
        "    quantum_instance = QuantumInstance(backend)\n",
        "    result = quantum_instance.execute(qc)\n",
        "    statevector = result.get_statevector()\n",
        "    hamiltonian = PauliSumOp.from_list([(\"ZI\", 1), (\"IZ\", 1), (\"ZZ\", 1)])\n",
        "    state_fn = StateFn(statevector, is_measurement=True)\n",
        "    cost = hamiltonian @ state_fn\n",
        "    predictions = torch.tensor([state_fn.coefficient for _ in data])\n",
        "    loss = torch.nn.functional.cross_entropy(predictions, labels)\n",
        "    return loss.item()\n",
        "\n",
        "# Generate synthetic data\n",
        "data = np.random.randn(100, 2)\n",
        "labels = np.random.randint(0, 2, 100)\n",
        "\n",
        "# Convert data to PyTorch tensors\n",
        "data_tensor = torch.tensor(data, dtype=torch.float32)\n",
        "labels_tensor = torch.tensor(labels, dtype=torch.long)\n",
        "\n",
        "# Initialize parameters\n",
        "params = [Parameter('theta0'), Parameter('theta1')]\n",
        "params_tensor = torch.tensor([np.pi / 4, np.pi / 4])\n",
        "\n",
        "# Set up optimizer\n",
        "optimizer = Adam(params_tensor, lr=0.01)\n",
        "\n",
        "# Training loop\n",
        "epochs = 100\n",
        "for epoch in range(epochs):\n",
        "    optimizer.zero_grad()\n",
        "    loss = cost_function(params_tensor, data_tensor, labels_tensor)\n",
        "    loss.backward()\n",
        "    optimizer.step()\n",
        "    if epoch % 10 == 0:\n",
        "        print(f\"Epoch {epoch}, Loss: {loss:.4f}\")\n",
        "\n",
        "print(\"Trained Parameters:\", params_tensor)"
      ]
    }
  ]
}