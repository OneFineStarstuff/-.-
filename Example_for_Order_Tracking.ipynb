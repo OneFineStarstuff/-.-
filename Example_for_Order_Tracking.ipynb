{
  "nbformat": 4,
  "nbformat_minor": 0,
  "metadata": {
    "colab": {
      "private_outputs": true,
      "provenance": [],
      "authorship_tag": "ABX9TyMqvZDMJ6ylB2J2vNL/ihww",
      "include_colab_link": true
    },
    "kernelspec": {
      "name": "python3",
      "display_name": "Python 3"
    },
    "language_info": {
      "name": "python"
    }
  },
  "cells": [
    {
      "cell_type": "markdown",
      "metadata": {
        "id": "view-in-github",
        "colab_type": "text"
      },
      "source": [
        "<a href=\"https://colab.research.google.com/github/OneFineStarstuff/Onefinebot/blob/main/Example_for_Order_Tracking.ipynb\" target=\"_parent\"><img src=\"https://colab.research.google.com/assets/colab-badge.svg\" alt=\"Open In Colab\"/></a>"
      ]
    },
    {
      "cell_type": "code",
      "execution_count": null,
      "metadata": {
        "id": "r9dNzPCMHJA0"
      },
      "outputs": [],
      "source": [
        "class EcommerceBot:\n",
        "    def __init__(self):\n",
        "        self.orders = {\"1001\": \"Shipped\", \"1002\": \"Delivered\", \"1003\": \"Processing\"}  # Initialize orders dictionary with predefined order IDs and statuses\n",
        "\n",
        "    def track_order(self, order_id):\n",
        "        # Retrieve the status of the specified order ID\n",
        "        return self.orders.get(order_id, \"Order not found.\")\n",
        "\n",
        "# Example Usage\n",
        "ecom_bot = EcommerceBot()\n",
        "print(ecom_bot.track_order(\"1002\"))\n",
        "# Output: Delivered"
      ]
    }
  ]
}