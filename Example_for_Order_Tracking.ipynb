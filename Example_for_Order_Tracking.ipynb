{
  "nbformat": 4,
  "nbformat_minor": 0,
  "metadata": {
    "colab": {
      "private_outputs": true,
      "provenance": [],
      "authorship_tag": "ABX9TyNS9LxcVZIrb8CsSoOVAyMS",
      "include_colab_link": true
    },
    "kernelspec": {
      "name": "python3",
      "display_name": "Python 3"
    },
    "language_info": {
      "name": "python"
    }
  },
  "cells": [
    {
      "cell_type": "markdown",
      "metadata": {
        "id": "view-in-github",
        "colab_type": "text"
      },
      "source": [
        "<a href=\"https://colab.research.google.com/github/OneFineStarstuff/Onefinebot/blob/main/Example_for_Order_Tracking.ipynb\" target=\"_parent\"><img src=\"https://colab.research.google.com/assets/colab-badge.svg\" alt=\"Open In Colab\"/></a>"
      ]
    },
    {
      "cell_type": "code",
      "execution_count": null,
      "metadata": {
        "id": "0N_gCrfAJLpA"
      },
      "outputs": [],
      "source": [
        "def track_order(order_id):\n",
        "    # Dictionary of order statuses\n",
        "    order_status = {\"12345\": \"Shipped\", \"67890\": \"Out for delivery\", \"11223\": \"Delivered\"}\n",
        "    # Return the status of the order if it exists, otherwise return \"Order not found.\"\n",
        "    return order_status.get(order_id, \"Order not found.\")\n",
        "\n",
        "# Example Usage\n",
        "status = track_order(\"67890\")\n",
        "print(f\"Order Status: {status}\")  # Output: Order Status: Out for delivery"
      ]
    }
  ]
}