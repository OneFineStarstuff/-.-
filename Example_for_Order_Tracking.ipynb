{
  "nbformat": 4,
  "nbformat_minor": 0,
  "metadata": {
    "colab": {
      "private_outputs": true,
      "provenance": [],
      "authorship_tag": "ABX9TyMa/BEu+sc274kVZCoQsACp",
      "include_colab_link": true
    },
    "kernelspec": {
      "name": "python3",
      "display_name": "Python 3"
    },
    "language_info": {
      "name": "python"
    }
  },
  "cells": [
    {
      "cell_type": "markdown",
      "metadata": {
        "id": "view-in-github",
        "colab_type": "text"
      },
      "source": [
        "<a href=\"https://colab.research.google.com/github/OneFineStarstuff/Onefinebot/blob/main/Example_for_Order_Tracking.ipynb\" target=\"_parent\"><img src=\"https://colab.research.google.com/assets/colab-badge.svg\" alt=\"Open In Colab\"/></a>"
      ]
    },
    {
      "cell_type": "code",
      "execution_count": null,
      "metadata": {
        "id": "aPs1YTzN35DC"
      },
      "outputs": [],
      "source": [
        "def track_order(order_id):\n",
        "    # Simulated order database\n",
        "    orders = {\n",
        "        \"12345\": \"Shipped\",\n",
        "        \"67890\": \"In Transit\",\n",
        "        \"54321\": \"Delivered\"\n",
        "    }\n",
        "    # Return the status of the order if it exists, otherwise return \"Order not found.\"\n",
        "    return orders.get(order_id, \"Order not found.\")\n",
        "\n",
        "# Example Usage\n",
        "order_status = track_order(\"12345\")\n",
        "print(f\"Order Status: {order_status}\")  # Output: Order Status: Shipped"
      ]
    }
  ]
}