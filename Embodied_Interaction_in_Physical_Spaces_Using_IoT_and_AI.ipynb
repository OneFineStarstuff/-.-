{
  "nbformat": 4,
  "nbformat_minor": 0,
  "metadata": {
    "colab": {
      "private_outputs": true,
      "provenance": [],
      "authorship_tag": "ABX9TyM4e83YXbyeahHREs0IlfYh",
      "include_colab_link": true
    },
    "kernelspec": {
      "name": "python3",
      "display_name": "Python 3"
    },
    "language_info": {
      "name": "python"
    }
  },
  "cells": [
    {
      "cell_type": "markdown",
      "metadata": {
        "id": "view-in-github",
        "colab_type": "text"
      },
      "source": [
        "<a href=\"https://colab.research.google.com/github/OneFineStarstuff/Onefinebot/blob/main/Embodied_Interaction_in_Physical_Spaces_Using_IoT_and_AI.ipynb\" target=\"_parent\"><img src=\"https://colab.research.google.com/assets/colab-badge.svg\" alt=\"Open In Colab\"/></a>"
      ]
    },
    {
      "cell_type": "code",
      "source": [
        "pip install RPi.GPIO --upgrade"
      ],
      "metadata": {
        "id": "qed2Mdkffsck"
      },
      "execution_count": null,
      "outputs": []
    },
    {
      "cell_type": "code",
      "execution_count": null,
      "metadata": {
        "id": "wM4SHlCpfWRy"
      },
      "outputs": [],
      "source": [
        "import RPi.GPIO as GPIO\n",
        "import time\n",
        "\n",
        "# Set up GPIO mode\n",
        "GPIO.setmode(GPIO.BCM)\n",
        "PIR_PIN = 7\n",
        "GPIO.setup(PIR_PIN, GPIO.IN)\n",
        "\n",
        "try:\n",
        "    while True:\n",
        "        if GPIO.input(PIR_PIN):\n",
        "            print(\"Movement detected!\")\n",
        "            # Trigger AI model or media in response\n",
        "        time.sleep(1)\n",
        "except KeyboardInterrupt:\n",
        "    print(\"Program interrupted\")\n",
        "finally:\n",
        "    GPIO.cleanup()\n",
        "    print(\"GPIO cleaned up\")"
      ]
    },
    {
      "cell_type": "code",
      "source": [
        "pip install gpiozero"
      ],
      "metadata": {
        "id": "6y48mOXwgP7h"
      },
      "execution_count": null,
      "outputs": []
    },
    {
      "cell_type": "code",
      "source": [
        "try:\n",
        "    import RPi.GPIO as GPIO\n",
        "except (ImportError, RuntimeError):\n",
        "    print(\"RPi.GPIO library not found - using mock instead\")\n",
        "    from unittest.mock import MagicMock\n",
        "\n",
        "    GPIO = MagicMock()\n",
        "    GPIO.setmode = MagicMock()\n",
        "    GPIO.setup = MagicMock()\n",
        "    GPIO.input = MagicMock(return_value=1)\n",
        "    GPIO.cleanup = MagicMock()\n",
        "\n",
        "import time\n",
        "\n",
        "# Set up GPIO mode\n",
        "GPIO.setmode(GPIO.BCM)\n",
        "PIR_PIN = 7\n",
        "GPIO.setup(PIR_PIN, GPIO.IN)\n",
        "\n",
        "try:\n",
        "    while True:\n",
        "        if GPIO.input(PIR_PIN):\n",
        "            print(\"Movement detected!\")\n",
        "            # Trigger AI model or media in response\n",
        "        time.sleep(1)\n",
        "except KeyboardInterrupt:\n",
        "    print(\"Program interrupted\")\n",
        "finally:\n",
        "    GPIO.cleanup()\n",
        "    print(\"GPIO cleaned up\")"
      ],
      "metadata": {
        "id": "--F_shGYgRSB"
      },
      "execution_count": null,
      "outputs": []
    }
  ]
}