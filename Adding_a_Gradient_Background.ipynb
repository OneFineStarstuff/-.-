{
  "nbformat": 4,
  "nbformat_minor": 0,
  "metadata": {
    "colab": {
      "private_outputs": true,
      "provenance": [],
      "authorship_tag": "ABX9TyPKMacJwAHph1A8EbU05s0P",
      "include_colab_link": true
    },
    "kernelspec": {
      "name": "python3",
      "display_name": "Python 3"
    },
    "language_info": {
      "name": "python"
    }
  },
  "cells": [
    {
      "cell_type": "markdown",
      "metadata": {
        "id": "view-in-github",
        "colab_type": "text"
      },
      "source": [
        "<a href=\"https://colab.research.google.com/github/OneFineStarstuff/Onefinebot/blob/main/Adding_a_Gradient_Background.ipynb\" target=\"_parent\"><img src=\"https://colab.research.google.com/assets/colab-badge.svg\" alt=\"Open In Colab\"/></a>"
      ]
    },
    {
      "cell_type": "code",
      "execution_count": null,
      "metadata": {
        "id": "GvCfmRKbOX7J"
      },
      "outputs": [],
      "source": [
        "from PIL import Image, ImageDraw\n",
        "\n",
        "# Function to create a gradient background\n",
        "def gradient_background(width, height, start_color, end_color):\n",
        "    image = Image.new(\"RGB\", (width, height), start_color)\n",
        "    draw = ImageDraw.Draw(image)\n",
        "\n",
        "    for i in range(height):\n",
        "        r = start_color[0] + (end_color[0] - start_color[0]) * i // height\n",
        "        g = start_color[1] + (end_color[1] - start_color[1]) * i // height\n",
        "        b = start_color[2] + (end_color[2] - start_color[2]) * i // height\n",
        "        draw.line((0, i, width, i), fill=(r, g, b))\n",
        "\n",
        "    return image\n",
        "\n",
        "# Generate the background\n",
        "bg_image = gradient_background(800, 800, (30, 30, 30), (200, 200, 255))\n",
        "bg_image.show()"
      ]
    }
  ]
}