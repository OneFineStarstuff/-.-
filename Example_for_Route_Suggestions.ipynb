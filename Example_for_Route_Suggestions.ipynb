{
  "nbformat": 4,
  "nbformat_minor": 0,
  "metadata": {
    "colab": {
      "private_outputs": true,
      "provenance": [],
      "authorship_tag": "ABX9TyOnPUnQT2SbA72nfBl4UiJa",
      "include_colab_link": true
    },
    "kernelspec": {
      "name": "python3",
      "display_name": "Python 3"
    },
    "language_info": {
      "name": "python"
    }
  },
  "cells": [
    {
      "cell_type": "markdown",
      "metadata": {
        "id": "view-in-github",
        "colab_type": "text"
      },
      "source": [
        "<a href=\"https://colab.research.google.com/github/OneFineStarstuff/Onefinebot/blob/main/Example_for_Route_Suggestions.ipynb\" target=\"_parent\"><img src=\"https://colab.research.google.com/assets/colab-badge.svg\" alt=\"Open In Colab\"/></a>"
      ]
    },
    {
      "cell_type": "code",
      "execution_count": null,
      "metadata": {
        "id": "OrWXY-VZ6yKV"
      },
      "outputs": [],
      "source": [
        "class RouteSuggestion:\n",
        "    def __init__(self):\n",
        "        self.routes = []  # Initialize an empty list to store route details\n",
        "\n",
        "    def add_route(self, start, end, distance):\n",
        "        # Append the route's starting point, ending point, and distance to the routes list\n",
        "        self.routes.append({\"start\": start, \"end\": end, \"distance\": distance})\n",
        "\n",
        "    def get_shortest_route(self, start, end):\n",
        "        # Filter the routes list to include only those with matching starting and ending points\n",
        "        possible_routes = [r for r in self.routes if r[\"start\"] == start and r[\"end\"] == end]\n",
        "        # Find and return the route with the shortest distance, or \"Route not found\" if no matching routes are available\n",
        "        return min(possible_routes, key=lambda r: r[\"distance\"], default=\"Route not found\")\n",
        "\n",
        "# Example Usage\n",
        "routes = RouteSuggestion()\n",
        "routes.add_route(\"A\", \"B\", 50)\n",
        "routes.add_route(\"A\", \"B\", 40)  # Shorter route\n",
        "routes.add_route(\"B\", \"C\", 60)\n",
        "print(routes.get_shortest_route(\"A\", \"B\"))\n",
        "# Output: {'start': 'A', 'end': 'B', 'distance': 40}"
      ]
    }
  ]
}