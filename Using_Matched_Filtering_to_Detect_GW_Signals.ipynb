{
  "nbformat": 4,
  "nbformat_minor": 0,
  "metadata": {
    "colab": {
      "private_outputs": true,
      "provenance": [],
      "authorship_tag": "ABX9TyPZ2MnfC9BDgXZ8ksoglx+s",
      "include_colab_link": true
    },
    "kernelspec": {
      "name": "python3",
      "display_name": "Python 3"
    },
    "language_info": {
      "name": "python"
    }
  },
  "cells": [
    {
      "cell_type": "markdown",
      "metadata": {
        "id": "view-in-github",
        "colab_type": "text"
      },
      "source": [
        "<a href=\"https://colab.research.google.com/github/OneFineStarstuff/Onefinebot/blob/main/Using_Matched_Filtering_to_Detect_GW_Signals.ipynb\" target=\"_parent\"><img src=\"https://colab.research.google.com/assets/colab-badge.svg\" alt=\"Open In Colab\"/></a>"
      ]
    },
    {
      "cell_type": "code",
      "execution_count": null,
      "metadata": {
        "id": "Xs3pqmL4jxl2"
      },
      "outputs": [],
      "source": [
        "import numpy as np\n",
        "import scipy.signal as signal\n",
        "import matplotlib.pyplot as plt\n",
        "\n",
        "# Simulate a gravitational wave signal\n",
        "sampling_rate = 4096  # Hz\n",
        "time = np.linspace(0, 1, sampling_rate)  # 1-second signal\n",
        "frequency = 100  # Hz GW signal\n",
        "gw_signal = np.sin(2 * np.pi * frequency * time) * np.exp(-time)  # damped sinusoid\n",
        "\n",
        "# Add noise to the signal\n",
        "noise = np.random.normal(0, 0.5, size=time.shape)\n",
        "noisy_signal = gw_signal + noise\n",
        "\n",
        "# Matched filter with known template\n",
        "template = np.sin(2 * np.pi * frequency * time) * np.exp(-time)\n",
        "correlation = signal.correlate(noisy_signal, template, mode=\"same\")\n",
        "\n",
        "# Plotting the noisy signal and matched filter output\n",
        "plt.subplot(2, 1, 1)\n",
        "plt.plot(time, noisy_signal, label=\"Noisy Signal\")\n",
        "plt.plot(time, gw_signal, label=\"True Signal\")\n",
        "plt.legend()\n",
        "plt.title(\"Gravitational Wave Signal with Noise\")\n",
        "\n",
        "plt.subplot(2, 1, 2)\n",
        "plt.plot(time, correlation, label=\"Matched Filter Output\")\n",
        "plt.legend()\n",
        "plt.title(\"Correlation with Template\")\n",
        "\n",
        "plt.tight_layout()\n",
        "plt.show()"
      ]
    }
  ]
}