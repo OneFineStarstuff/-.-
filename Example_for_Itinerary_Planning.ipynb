{
  "nbformat": 4,
  "nbformat_minor": 0,
  "metadata": {
    "colab": {
      "private_outputs": true,
      "provenance": [],
      "authorship_tag": "ABX9TyNCQYHuIQP571IHcT7iQuUm",
      "include_colab_link": true
    },
    "kernelspec": {
      "name": "python3",
      "display_name": "Python 3"
    },
    "language_info": {
      "name": "python"
    }
  },
  "cells": [
    {
      "cell_type": "markdown",
      "metadata": {
        "id": "view-in-github",
        "colab_type": "text"
      },
      "source": [
        "<a href=\"https://colab.research.google.com/github/OneFineStarstuff/Onefinebot/blob/main/Example_for_Itinerary_Planning.ipynb\" target=\"_parent\"><img src=\"https://colab.research.google.com/assets/colab-badge.svg\" alt=\"Open In Colab\"/></a>"
      ]
    },
    {
      "cell_type": "code",
      "execution_count": null,
      "metadata": {
        "id": "yEK1SlWxEzxm"
      },
      "outputs": [],
      "source": [
        "class TravelPlanner:\n",
        "    def __init__(self):\n",
        "        self.destinations = {\n",
        "            \"Paris\": [\"Eiffel Tower\", \"Louvre Museum\", \"Notre Dame\"],\n",
        "            \"Tokyo\": [\"Mount Fuji\", \"Shibuya Crossing\", \"Tokyo Tower\"],\n",
        "        }  # Initialize the destinations dictionary with predefined locations and their corresponding points of interest\n",
        "\n",
        "    def get_itinerary(self, location):\n",
        "        # Return the points of interest that match the specified location\n",
        "        return self.destinations.get(location, \"No itinerary available for this destination.\")\n",
        "\n",
        "# Example Usage\n",
        "planner = TravelPlanner()\n",
        "print(planner.get_itinerary(\"Paris\"))\n",
        "# Output: ['Eiffel Tower', 'Louvre Museum', 'Notre Dame']"
      ]
    }
  ]
}