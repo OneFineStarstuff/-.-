{
  "nbformat": 4,
  "nbformat_minor": 0,
  "metadata": {
    "colab": {
      "private_outputs": true,
      "provenance": [],
      "authorship_tag": "ABX9TyNbSxAJvnItkuODkMaTSBmP",
      "include_colab_link": true
    },
    "kernelspec": {
      "name": "python3",
      "display_name": "Python 3"
    },
    "language_info": {
      "name": "python"
    }
  },
  "cells": [
    {
      "cell_type": "markdown",
      "metadata": {
        "id": "view-in-github",
        "colab_type": "text"
      },
      "source": [
        "<a href=\"https://colab.research.google.com/github/OneFineStarstuff/Onefinebot/blob/main/Example_for_Itinerary_Planning.ipynb\" target=\"_parent\"><img src=\"https://colab.research.google.com/assets/colab-badge.svg\" alt=\"Open In Colab\"/></a>"
      ]
    },
    {
      "cell_type": "code",
      "execution_count": null,
      "metadata": {
        "id": "y6_bHIoaL6Kr"
      },
      "outputs": [],
      "source": [
        "class ItineraryPlanner:\n",
        "    def __init__(self):\n",
        "        self.itinerary = []  # Initialize an empty list to store the itinerary\n",
        "\n",
        "    def add_activity(self, activity, time):\n",
        "        # Append the activity and its scheduled time to the itinerary list\n",
        "        self.itinerary.append({\"activity\": activity, \"time\": time})\n",
        "\n",
        "    def view_itinerary(self):\n",
        "        # Return the list of all planned activities and their times\n",
        "        return self.itinerary\n",
        "\n",
        "# Example Usage\n",
        "planner = ItineraryPlanner()\n",
        "planner.add_activity(\"Visit Eiffel Tower\", \"10:00 AM\")\n",
        "planner.add_activity(\"Lunch at Le Jules Verne\", \"1:00 PM\")\n",
        "print(planner.view_itinerary())\n",
        "# Output: [{'activity': 'Visit Eiffel Tower', 'time': '10:00 AM'}, {'activity': 'Lunch at Le Jules Verne', 'time': '1:00 PM'}]"
      ]
    }
  ]
}