{
  "nbformat": 4,
  "nbformat_minor": 0,
  "metadata": {
    "colab": {
      "private_outputs": true,
      "provenance": [],
      "authorship_tag": "ABX9TyMUCS0Pg6amS+8j5k0cYWGL",
      "include_colab_link": true
    },
    "kernelspec": {
      "name": "python3",
      "display_name": "Python 3"
    },
    "language_info": {
      "name": "python"
    }
  },
  "cells": [
    {
      "cell_type": "markdown",
      "metadata": {
        "id": "view-in-github",
        "colab_type": "text"
      },
      "source": [
        "<a href=\"https://colab.research.google.com/github/OneFineStarstuff/Onefinebot/blob/main/Using_an_LSTM_Autoencoder_for_Anomaly_Detection.ipynb\" target=\"_parent\"><img src=\"https://colab.research.google.com/assets/colab-badge.svg\" alt=\"Open In Colab\"/></a>"
      ]
    },
    {
      "cell_type": "code",
      "source": [
        "import tensorflow as tf\n",
        "from tensorflow.keras.layers import LSTM, RepeatVector, TimeDistributed\n",
        "from tensorflow.keras.models import Sequential\n",
        "import numpy as np\n",
        "\n",
        "# Generate synthetic time-series data\n",
        "num_samples = 1000  # Increase the number of samples\n",
        "timesteps = 50\n",
        "features = 1\n",
        "\n",
        "# Normal data generation (sine wave)\n",
        "normal_data = np.array([np.sin(np.linspace(0, 100, timesteps)) for _ in range(num_samples)]).reshape(num_samples, timesteps, features)\n",
        "\n",
        "# Anomalous data generation (adding noise)\n",
        "anomalous_data = normal_data + np.random.normal(0, 0.5, normal_data.shape)\n",
        "\n",
        "# Normalize the data (optional but recommended)\n",
        "normal_data_mean = np.mean(normal_data)\n",
        "normal_data_std = np.std(normal_data)\n",
        "normal_data_normalized = (normal_data - normal_data_mean) / normal_data_std\n",
        "anomalous_data_normalized = (anomalous_data - normal_data_mean) / normal_data_std\n",
        "\n",
        "# Define an LSTM autoencoder model\n",
        "model = Sequential([\n",
        "    tf.keras.Input(shape=(timesteps, features)),  # Define input shape using Input layer\n",
        "    LSTM(64, activation='relu', return_sequences=True),\n",
        "    LSTM(32, activation='relu', return_sequences=False),\n",
        "    RepeatVector(timesteps),\n",
        "    LSTM(32, activation='relu', return_sequences=True),\n",
        "    LSTM(64, activation='relu', return_sequences=True),\n",
        "    TimeDistributed(tf.keras.layers.Dense(features))\n",
        "])\n",
        "\n",
        "# Compile and fit model (training only on normal data)\n",
        "model.compile(optimizer='adam', loss='mse')\n",
        "model.fit(normal_data_normalized, normal_data_normalized, epochs=50, batch_size=16, validation_split=0.1)\n",
        "\n",
        "# Detect anomalies by thresholding reconstruction error\n",
        "reconstructed = model.predict(anomalous_data_normalized)\n",
        "mse = np.mean(np.power(anomalous_data_normalized - reconstructed, 2), axis=(1, 2))\n",
        "\n",
        "# Dynamic thresholding based on mean and standard deviation of MSE\n",
        "threshold_mean = np.mean(mse)\n",
        "threshold_std = np.std(mse)\n",
        "dynamic_threshold = threshold_mean + 2 * threshold_std  # Set threshold as mean + 2*std\n",
        "\n",
        "# Identify anomalies\n",
        "anomalies = mse > dynamic_threshold\n",
        "\n",
        "# Print results\n",
        "print(\"Reconstruction error (MSE):\", mse)\n",
        "print(\"Dynamic Threshold:\", dynamic_threshold)\n",
        "print(\"Anomalies detected:\", anomalies)\n",
        "\n",
        "# Optional: Count and display number of anomalies detected\n",
        "num_anomalies_detected = np.sum(anomalies)\n",
        "print(f\"Number of anomalies detected: {num_anomalies_detected} out of {len(anomalies)} samples\")"
      ],
      "metadata": {
        "id": "v4bNjh_jvj4y"
      },
      "execution_count": null,
      "outputs": []
    }
  ]
}