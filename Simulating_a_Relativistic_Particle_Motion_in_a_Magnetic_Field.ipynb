{
  "nbformat": 4,
  "nbformat_minor": 0,
  "metadata": {
    "colab": {
      "private_outputs": true,
      "provenance": [],
      "authorship_tag": "ABX9TyML3/8GZ8oTcUT5K72tapDZ",
      "include_colab_link": true
    },
    "kernelspec": {
      "name": "python3",
      "display_name": "Python 3"
    },
    "language_info": {
      "name": "python"
    }
  },
  "cells": [
    {
      "cell_type": "markdown",
      "metadata": {
        "id": "view-in-github",
        "colab_type": "text"
      },
      "source": [
        "<a href=\"https://colab.research.google.com/github/OneFineStarstuff/Onefinebot/blob/main/Simulating_a_Relativistic_Particle_Motion_in_a_Magnetic_Field.ipynb\" target=\"_parent\"><img src=\"https://colab.research.google.com/assets/colab-badge.svg\" alt=\"Open In Colab\"/></a>"
      ]
    },
    {
      "cell_type": "code",
      "execution_count": null,
      "metadata": {
        "id": "OPPj24IvsIu5"
      },
      "outputs": [],
      "source": [
        "import numpy as np\n",
        "import matplotlib.pyplot as plt\n",
        "\n",
        "# Constants and initial conditions\n",
        "c = 3e8  # Speed of light in m/s\n",
        "charge = 1.6e-19  # Charge of the particle in Coulombs\n",
        "mass = 9.11e-31  # Mass of particle (e.g., electron) in kg\n",
        "B_field = np.array([0, 0, 1])  # Magnetic field in Tesla along the z-axis\n",
        "dt = 1e-11  # Time step in seconds\n",
        "n_steps = 10000  # Number of steps\n",
        "\n",
        "# Initial position and velocity (m/s)\n",
        "position = np.array([0.0, 0.0, 0.0])\n",
        "velocity = np.array([2e7, 2e7, 0.0])\n",
        "\n",
        "# Arrays to store positions\n",
        "positions = [position.copy()]\n",
        "\n",
        "# Relativistic Lorentz force calculation\n",
        "for _ in range(n_steps):\n",
        "    # Calculate relativistic gamma factor\n",
        "    speed = np.linalg.norm(velocity)\n",
        "    if speed >= c:\n",
        "        speed = c * 0.999999  # Prevent speed from reaching or exceeding the speed of light\n",
        "    gamma = 1 / np.sqrt(1 - (speed**2 / c**2))\n",
        "\n",
        "    # Lorentz force\n",
        "    force = charge * np.cross(velocity, B_field)\n",
        "\n",
        "    # Acceleration in relativistic context\n",
        "    acceleration = force / (mass * gamma)\n",
        "\n",
        "    # Update velocity and position\n",
        "    velocity += acceleration * dt\n",
        "    position += velocity * dt\n",
        "\n",
        "    # Store position\n",
        "    positions.append(position.copy())\n",
        "\n",
        "# Convert to numpy array for plotting\n",
        "positions = np.array(positions)\n",
        "\n",
        "# Plot the trajectory\n",
        "fig = plt.figure(figsize=(10, 6))\n",
        "ax = fig.add_subplot(111, projection='3d')\n",
        "ax.plot(positions[:, 0], positions[:, 1], positions[:, 2])\n",
        "ax.set_xlabel(\"x (m)\")\n",
        "ax.set_ylabel(\"y (m)\")\n",
        "ax.set_zlabel(\"z (m)\")\n",
        "ax.set_title(\"Relativistic Charged Particle in a Magnetic Field\")\n",
        "plt.show()"
      ]
    }
  ]
}