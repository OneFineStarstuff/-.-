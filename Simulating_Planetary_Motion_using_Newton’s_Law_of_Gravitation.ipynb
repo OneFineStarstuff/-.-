{
  "nbformat": 4,
  "nbformat_minor": 0,
  "metadata": {
    "colab": {
      "private_outputs": true,
      "provenance": [],
      "authorship_tag": "ABX9TyN42ShW5UoenUQCoyObbzh5",
      "include_colab_link": true
    },
    "kernelspec": {
      "name": "python3",
      "display_name": "Python 3"
    },
    "language_info": {
      "name": "python"
    }
  },
  "cells": [
    {
      "cell_type": "markdown",
      "metadata": {
        "id": "view-in-github",
        "colab_type": "text"
      },
      "source": [
        "<a href=\"https://colab.research.google.com/github/OneFineStarstuff/Onefinebot/blob/main/Simulating_Planetary_Motion_using_Newton%E2%80%99s_Law_of_Gravitation.ipynb\" target=\"_parent\"><img src=\"https://colab.research.google.com/assets/colab-badge.svg\" alt=\"Open In Colab\"/></a>"
      ]
    },
    {
      "cell_type": "code",
      "execution_count": null,
      "metadata": {
        "id": "iB5_PhE_qziK"
      },
      "outputs": [],
      "source": [
        "import numpy as np\n",
        "import matplotlib.pyplot as plt\n",
        "\n",
        "# Constants and initial conditions\n",
        "G = 6.67430e-11  # Gravitational constant\n",
        "M_star = 1.989e30  # Mass of the star (e.g., Sun in kg)\n",
        "m_planet = 5.972e24  # Mass of the planet (e.g., Earth in kg)\n",
        "r = np.array([1.496e11, 0], dtype=np.float64)  # Initial position of the planet (1 AU from the star)\n",
        "v = np.array([0, 29780], dtype=np.float64)  # Initial velocity of the planet (in m/s)\n",
        "\n",
        "# Simulation parameters\n",
        "dt = 3600  # Time step in seconds (1 hour)\n",
        "n_steps = 10000  # Number of steps\n",
        "\n",
        "# Arrays to store positions\n",
        "x, y = [r[0]], [r[1]]\n",
        "\n",
        "# Simulate the motion\n",
        "for _ in range(n_steps):\n",
        "    # Calculate the gravitational force\n",
        "    r_magnitude = np.linalg.norm(r)\n",
        "    force = -G * M_star * m_planet / r_magnitude**3 * r\n",
        "\n",
        "    # Update position and velocity using Euler's method\n",
        "    r += v * dt\n",
        "    v += force / m_planet * dt\n",
        "\n",
        "    # Store positions for plotting\n",
        "    x.append(r[0])\n",
        "    y.append(r[1])\n",
        "\n",
        "# Plot the orbit\n",
        "plt.figure(figsize=(8, 8))\n",
        "plt.plot(x, y, color='blue')\n",
        "plt.plot(0, 0, 'yo', markersize=10)  # Plot the star\n",
        "plt.xlabel(\"x position (m)\")\n",
        "plt.ylabel(\"y position (m)\")\n",
        "plt.title(\"Planetary Orbit Simulation\")\n",
        "plt.axis(\"equal\")\n",
        "plt.show()"
      ]
    }
  ]
}