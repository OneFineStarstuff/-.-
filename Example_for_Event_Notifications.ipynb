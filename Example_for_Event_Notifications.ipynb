{
  "nbformat": 4,
  "nbformat_minor": 0,
  "metadata": {
    "colab": {
      "private_outputs": true,
      "provenance": [],
      "authorship_tag": "ABX9TyOOBRGr7kwo7EWJ1naSL4Db",
      "include_colab_link": true
    },
    "kernelspec": {
      "name": "python3",
      "display_name": "Python 3"
    },
    "language_info": {
      "name": "python"
    }
  },
  "cells": [
    {
      "cell_type": "markdown",
      "metadata": {
        "id": "view-in-github",
        "colab_type": "text"
      },
      "source": [
        "<a href=\"https://colab.research.google.com/github/OneFineStarstuff/Onefinebot/blob/main/Example_for_Event_Notifications.ipynb\" target=\"_parent\"><img src=\"https://colab.research.google.com/assets/colab-badge.svg\" alt=\"Open In Colab\"/></a>"
      ]
    },
    {
      "cell_type": "code",
      "execution_count": null,
      "metadata": {
        "id": "TyZgtZ0QIn0q"
      },
      "outputs": [],
      "source": [
        "class EventNotifier:\n",
        "    def __init__(self):\n",
        "        self.events = []  # Initialize an empty list to store event details\n",
        "\n",
        "    def add_event(self, name, date, time):\n",
        "        # Append the event name, date, and time to the events list\n",
        "        self.events.append({\"name\": name, \"date\": date, \"time\": time})\n",
        "\n",
        "    def get_events(self):\n",
        "        # Return the list of all added events\n",
        "        return self.events\n",
        "\n",
        "# Example Usage\n",
        "notifier = EventNotifier()\n",
        "notifier.add_event(\"Tech Conference\", \"2025-01-15\", \"10:00 AM\")\n",
        "notifier.add_event(\"Music Festival\", \"2025-02-20\", \"06:00 PM\")\n",
        "print(notifier.get_events())\n",
        "# Output: [{'name': 'Tech Conference', 'date': '2025-01-15', 'time': '10:00 AM'}, {'name': 'Music Festival', 'date': '2025-02-20', 'time': '06:00 PM'}]"
      ]
    }
  ]
}