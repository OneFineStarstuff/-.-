{
  "nbformat": 4,
  "nbformat_minor": 0,
  "metadata": {
    "colab": {
      "private_outputs": true,
      "provenance": [],
      "authorship_tag": "ABX9TyMP6bRLLLZ8UiSUc2eas21E",
      "include_colab_link": true
    },
    "kernelspec": {
      "name": "python3",
      "display_name": "Python 3"
    },
    "language_info": {
      "name": "python"
    }
  },
  "cells": [
    {
      "cell_type": "markdown",
      "metadata": {
        "id": "view-in-github",
        "colab_type": "text"
      },
      "source": [
        "<a href=\"https://colab.research.google.com/github/OneFineStarstuff/Onefinebot/blob/main/Construct_a_simple_Matrix_Product_State_(MPS)_for_a_one_dimensional_quantum_system.ipynb\" target=\"_parent\"><img src=\"https://colab.research.google.com/assets/colab-badge.svg\" alt=\"Open In Colab\"/></a>"
      ]
    },
    {
      "cell_type": "code",
      "execution_count": null,
      "metadata": {
        "id": "5NYL7cakXb3U"
      },
      "outputs": [],
      "source": [
        "import numpy as np\n",
        "\n",
        "# Define system parameters\n",
        "d = 2  # Physical dimension (qubit basis)\n",
        "L = 5  # Number of sites\n",
        "\n",
        "# Initialize random MPS tensors\n",
        "mps = [np.random.randn(d, 1, 2)]\n",
        "for _ in range(1, L - 1):\n",
        "    mps.append(np.random.randn(d, 2, 2))\n",
        "mps.append(np.random.randn(d, 2, 1))\n",
        "\n",
        "def contract_mps(mps):\n",
        "    \"\"\"Compute the full wavefunction by contracting the MPS tensors.\"\"\"\n",
        "    state = mps[0]\n",
        "    for tensor in mps[1:]:\n",
        "        state = np.tensordot(state, tensor, axes=(-1, 1))\n",
        "    return state.reshape(-1)\n",
        "\n",
        "# Calculate and display the contracted wavefunction\n",
        "wavefunction = contract_mps(mps)\n",
        "print(\"Contracted Wavefunction:\", wavefunction)"
      ]
    }
  ]
}