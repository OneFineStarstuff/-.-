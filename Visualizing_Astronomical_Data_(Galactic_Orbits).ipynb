{
  "nbformat": 4,
  "nbformat_minor": 0,
  "metadata": {
    "colab": {
      "private_outputs": true,
      "provenance": [],
      "authorship_tag": "ABX9TyNaNoB2TjEtfekUl0ZJYKST",
      "include_colab_link": true
    },
    "kernelspec": {
      "name": "python3",
      "display_name": "Python 3"
    },
    "language_info": {
      "name": "python"
    }
  },
  "cells": [
    {
      "cell_type": "markdown",
      "metadata": {
        "id": "view-in-github",
        "colab_type": "text"
      },
      "source": [
        "<a href=\"https://colab.research.google.com/github/OneFineStarstuff/Onefinebot/blob/main/Visualizing_Astronomical_Data_(Galactic_Orbits).ipynb\" target=\"_parent\"><img src=\"https://colab.research.google.com/assets/colab-badge.svg\" alt=\"Open In Colab\"/></a>"
      ]
    },
    {
      "cell_type": "code",
      "execution_count": null,
      "metadata": {
        "id": "JVCiVkwY47YC"
      },
      "outputs": [],
      "source": [
        "import numpy as np\n",
        "import matplotlib.pyplot as plt\n",
        "\n",
        "# Parameters\n",
        "n_stars = 500\n",
        "radius = np.random.uniform(1, 20, n_stars)  # random radius for each star\n",
        "angle = np.random.uniform(0, 2 * np.pi, n_stars)  # random angle for each star\n",
        "\n",
        "# Star positions\n",
        "x_positions = radius * np.cos(angle)\n",
        "y_positions = radius * np.sin(angle)\n",
        "\n",
        "# Plotting the galaxy\n",
        "plt.figure(figsize=(8, 8))\n",
        "plt.scatter(x_positions, y_positions, color='white', s=1)\n",
        "plt.gca().set_facecolor('black')\n",
        "plt.xlabel(\"x position\")\n",
        "plt.ylabel(\"y position\")\n",
        "plt.title(\"Simple Rotating Disk Galaxy Simulation\")\n",
        "plt.gca().set_aspect('equal', adjustable='box')\n",
        "plt.show()"
      ]
    }
  ]
}