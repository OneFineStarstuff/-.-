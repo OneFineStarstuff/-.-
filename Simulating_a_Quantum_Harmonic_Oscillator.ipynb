{
  "nbformat": 4,
  "nbformat_minor": 0,
  "metadata": {
    "colab": {
      "private_outputs": true,
      "provenance": [],
      "authorship_tag": "ABX9TyOZNUEa1B8s4/nHV2Mnplq+",
      "include_colab_link": true
    },
    "kernelspec": {
      "name": "python3",
      "display_name": "Python 3"
    },
    "language_info": {
      "name": "python"
    }
  },
  "cells": [
    {
      "cell_type": "markdown",
      "metadata": {
        "id": "view-in-github",
        "colab_type": "text"
      },
      "source": [
        "<a href=\"https://colab.research.google.com/github/OneFineStarstuff/Onefinebot/blob/main/Simulating_a_Quantum_Harmonic_Oscillator.ipynb\" target=\"_parent\"><img src=\"https://colab.research.google.com/assets/colab-badge.svg\" alt=\"Open In Colab\"/></a>"
      ]
    },
    {
      "cell_type": "code",
      "source": [
        "pip install qiskit qiskit-aer"
      ],
      "metadata": {
        "id": "WAqUigZGnJBn"
      },
      "execution_count": null,
      "outputs": []
    },
    {
      "cell_type": "code",
      "execution_count": null,
      "metadata": {
        "id": "RDKSxT09m6VR"
      },
      "outputs": [],
      "source": [
        "from qiskit import QuantumCircuit, Aer, execute\n",
        "import numpy as np\n",
        "import matplotlib.pyplot as plt\n",
        "\n",
        "# Quantum Harmonic Oscillator Simulation\n",
        "qubits = 3  # Number of qubits\n",
        "qc = QuantumCircuit(qubits)\n",
        "\n",
        "# Define rotation gates to simulate a state (toy example)\n",
        "for qubit in range(qubits):\n",
        "    qc.h(qubit)\n",
        "    qc.rz(np.pi / 4, qubit)\n",
        "\n",
        "# Execute the circuit\n",
        "backend = Aer.get_backend('statevector_simulator')\n",
        "job = execute(qc, backend)\n",
        "result = job.result()\n",
        "statevector = result.get_statevector(qc)\n",
        "\n",
        "# Plot probability amplitudes\n",
        "plt.bar(range(2**qubits), np.abs(statevector)**2)\n",
        "plt.xlabel(\"Quantum State\")\n",
        "plt.ylabel(\"Probability\")\n",
        "plt.title(\"Quantum Harmonic Oscillator Simulation\")\n",
        "plt.show()"
      ]
    }
  ]
}