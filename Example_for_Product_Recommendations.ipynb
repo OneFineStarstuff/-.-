{
  "nbformat": 4,
  "nbformat_minor": 0,
  "metadata": {
    "colab": {
      "private_outputs": true,
      "provenance": [],
      "authorship_tag": "ABX9TyMDOYAsh1wiOE94B3nmnhE1",
      "include_colab_link": true
    },
    "kernelspec": {
      "name": "python3",
      "display_name": "Python 3"
    },
    "language_info": {
      "name": "python"
    }
  },
  "cells": [
    {
      "cell_type": "markdown",
      "metadata": {
        "id": "view-in-github",
        "colab_type": "text"
      },
      "source": [
        "<a href=\"https://colab.research.google.com/github/OneFineStarstuff/Onefinebot/blob/main/Example_for_Product_Recommendations.ipynb\" target=\"_parent\"><img src=\"https://colab.research.google.com/assets/colab-badge.svg\" alt=\"Open In Colab\"/></a>"
      ]
    },
    {
      "cell_type": "code",
      "execution_count": null,
      "metadata": {
        "id": "s53CE8wYlFZb"
      },
      "outputs": [],
      "source": [
        "class ProductRecommender:\n",
        "    def __init__(self):\n",
        "        self.products = {\n",
        "            \"Electronics\": [\"Smartphone\", \"Laptop\", \"Headphones\"],\n",
        "            \"Home Appliances\": [\"Air Fryer\", \"Vacuum Cleaner\", \"Microwave\"],\n",
        "            \"Books\": [\"Fiction\", \"Science\", \"Biographies\"]\n",
        "        }  # Initialize the products dictionary with predefined categories and products\n",
        "\n",
        "    def recommend(self, category):\n",
        "        # Return the products that match the specified category\n",
        "        return self.products.get(category, \"No products available in this category.\")\n",
        "\n",
        "# Example Usage\n",
        "recommender = ProductRecommender()\n",
        "print(recommender.recommend(\"Electronics\"))\n",
        "# Output: ['Smartphone', 'Laptop', 'Headphones']"
      ]
    }
  ]
}