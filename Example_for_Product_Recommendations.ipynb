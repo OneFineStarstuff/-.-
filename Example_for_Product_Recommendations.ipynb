{
  "nbformat": 4,
  "nbformat_minor": 0,
  "metadata": {
    "colab": {
      "private_outputs": true,
      "provenance": [],
      "authorship_tag": "ABX9TyP8RyohicLiEoddw/bnELdc",
      "include_colab_link": true
    },
    "kernelspec": {
      "name": "python3",
      "display_name": "Python 3"
    },
    "language_info": {
      "name": "python"
    }
  },
  "cells": [
    {
      "cell_type": "markdown",
      "metadata": {
        "id": "view-in-github",
        "colab_type": "text"
      },
      "source": [
        "<a href=\"https://colab.research.google.com/github/OneFineStarstuff/Onefinebot/blob/main/Example_for_Product_Recommendations.ipynb\" target=\"_parent\"><img src=\"https://colab.research.google.com/assets/colab-badge.svg\" alt=\"Open In Colab\"/></a>"
      ]
    },
    {
      "cell_type": "code",
      "execution_count": null,
      "metadata": {
        "id": "khss_MU_Hy_o"
      },
      "outputs": [],
      "source": [
        "class ProductRecommender:\n",
        "    def __init__(self):\n",
        "        self.purchase_history = {}\n",
        "\n",
        "    def add_purchase(self, user, product):\n",
        "        self.purchase_history.setdefault(user, []).append(product)\n",
        "\n",
        "    def recommend_products(self, user):\n",
        "        recommendations = {\n",
        "            \"Electronics\": [\"Headphones\", \"Smartwatch\"],\n",
        "            \"Clothing\": [\"Jackets\", \"Sneakers\"]\n",
        "        }\n",
        "        if user in self.purchase_history:\n",
        "            last_purchase = self.purchase_history[user][-1]\n",
        "            return recommendations.get(last_purchase, \"No recommendations available\")\n",
        "        return \"No purchase history available\"\n",
        "\n",
        "# Example Usage\n",
        "recommender = ProductRecommender()\n",
        "recommender.add_purchase(\"Alice\", \"Electronics\")\n",
        "print(recommender.recommend_products(\"Alice\"))\n",
        "# Output: ['Headphones', 'Smartwatch']"
      ]
    }
  ]
}