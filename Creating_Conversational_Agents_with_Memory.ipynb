{
  "nbformat": 4,
  "nbformat_minor": 0,
  "metadata": {
    "colab": {
      "private_outputs": true,
      "provenance": [],
      "authorship_tag": "ABX9TyMSZ/whJza17y8pORs94jHe",
      "include_colab_link": true
    },
    "kernelspec": {
      "name": "python3",
      "display_name": "Python 3"
    },
    "language_info": {
      "name": "python"
    }
  },
  "cells": [
    {
      "cell_type": "markdown",
      "metadata": {
        "id": "view-in-github",
        "colab_type": "text"
      },
      "source": [
        "<a href=\"https://colab.research.google.com/github/OneFineStarstuff/Onefinebot/blob/main/Creating_Conversational_Agents_with_Memory.ipynb\" target=\"_parent\"><img src=\"https://colab.research.google.com/assets/colab-badge.svg\" alt=\"Open In Colab\"/></a>"
      ]
    },
    {
      "cell_type": "code",
      "source": [
        "pip install redis"
      ],
      "metadata": {
        "id": "68_4LTErVXQE"
      },
      "execution_count": null,
      "outputs": []
    },
    {
      "cell_type": "code",
      "execution_count": null,
      "metadata": {
        "id": "uVTb7ixTU6GE"
      },
      "outputs": [],
      "source": [
        "import redis\n",
        "from transformers import pipeline\n",
        "\n",
        "# Connect to Redis\n",
        "redis_client = redis.StrictRedis(host='localhost', port=6379, decode_responses=True)\n",
        "\n",
        "# Load chatbot model with authentication token\n",
        "token = \"your_token_here\"  # Replace with your actual token\n",
        "chatbot = pipeline(\"text-generation\", model=\"openai-community/gpt2\", token=token)\n",
        "\n",
        "def get_response(user_id, user_input):\n",
        "    # Retrieve previous context from Redis\n",
        "    context = redis_client.get(user_id) or \"\"\n",
        "\n",
        "    # Append new user input to context\n",
        "    context += f\"\\nUser: {user_input}\\nBot:\"\n",
        "\n",
        "    # Generate response\n",
        "    response = chatbot(context, max_length=150, num_return_sequences=1)[0][\"generated_text\"]\n",
        "\n",
        "    # Update context in Redis\n",
        "    redis_client.set(user_id, response)\n",
        "\n",
        "    return response"
      ]
    }
  ]
}