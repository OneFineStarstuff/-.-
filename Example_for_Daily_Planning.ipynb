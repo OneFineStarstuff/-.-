{
  "nbformat": 4,
  "nbformat_minor": 0,
  "metadata": {
    "colab": {
      "private_outputs": true,
      "provenance": [],
      "authorship_tag": "ABX9TyNBQuqXVfFTO6XCmEE83W8O",
      "include_colab_link": true
    },
    "kernelspec": {
      "name": "python3",
      "display_name": "Python 3"
    },
    "language_info": {
      "name": "python"
    }
  },
  "cells": [
    {
      "cell_type": "markdown",
      "metadata": {
        "id": "view-in-github",
        "colab_type": "text"
      },
      "source": [
        "<a href=\"https://colab.research.google.com/github/OneFineStarstuff/Onefinebot/blob/main/Example_for_Daily_Planning.ipynb\" target=\"_parent\"><img src=\"https://colab.research.google.com/assets/colab-badge.svg\" alt=\"Open In Colab\"/></a>"
      ]
    },
    {
      "cell_type": "code",
      "execution_count": null,
      "metadata": {
        "id": "-fm5HGkW-YTO"
      },
      "outputs": [],
      "source": [
        "class DailyPlanner:\n",
        "    def __init__(self):\n",
        "        self.tasks = []  # Initialize an empty list to store tasks\n",
        "\n",
        "    def add_task(self, task):\n",
        "        # Append the task to the tasks list\n",
        "        self.tasks.append(task)\n",
        "        return f\"Task '{task}' added to your schedule.\"\n",
        "\n",
        "    def view_tasks(self):\n",
        "        # Return the list of all stored tasks\n",
        "        return self.tasks or \"No tasks scheduled.\"\n",
        "\n",
        "# Example Usage\n",
        "planner_bot = DailyPlanner()\n",
        "print(planner_bot.add_task(\"Meeting at 10 AM\"))\n",
        "print(planner_bot.view_tasks())\n",
        "# Output: Task 'Meeting at 10 AM' added to your schedule.\n",
        "#         ['Meeting at 10 AM']"
      ]
    }
  ]
}