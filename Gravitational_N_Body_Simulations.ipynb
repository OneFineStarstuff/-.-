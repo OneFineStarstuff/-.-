{
  "nbformat": 4,
  "nbformat_minor": 0,
  "metadata": {
    "colab": {
      "private_outputs": true,
      "provenance": [],
      "authorship_tag": "ABX9TyNLoC/Z3cJv9A+raU5SyAxi",
      "include_colab_link": true
    },
    "kernelspec": {
      "name": "python3",
      "display_name": "Python 3"
    },
    "language_info": {
      "name": "python"
    }
  },
  "cells": [
    {
      "cell_type": "markdown",
      "metadata": {
        "id": "view-in-github",
        "colab_type": "text"
      },
      "source": [
        "<a href=\"https://colab.research.google.com/github/OneFineStarstuff/Onefinebot/blob/main/Gravitational_N_Body_Simulations.ipynb\" target=\"_parent\"><img src=\"https://colab.research.google.com/assets/colab-badge.svg\" alt=\"Open In Colab\"/></a>"
      ]
    },
    {
      "cell_type": "code",
      "execution_count": null,
      "metadata": {
        "id": "wh7rdV85AAAU"
      },
      "outputs": [],
      "source": [
        "import numpy as np\n",
        "import matplotlib.pyplot as plt\n",
        "\n",
        "# Define constants and parameters\n",
        "G = 6.67430e-11  # gravitational constant, m^3 kg^-1 s^-2\n",
        "masses = np.array([1.989e30, 5.972e24, 7.348e22], dtype=np.float64)  # masses of bodies (e.g., Sun, Earth, Moon)\n",
        "positions = np.array([[0, 0], [1.496e11, 0], [1.496e11 + 3.84e8, 0]], dtype=np.float64)  # initial positions\n",
        "velocities = np.array([[0, 0], [0, 29780], [0, 29780 + 1022]], dtype=np.float64)  # initial velocities\n",
        "\n",
        "def compute_accelerations(positions, masses):\n",
        "    n = len(masses)\n",
        "    accelerations = np.zeros_like(positions)\n",
        "    for i in range(n):\n",
        "        for j in range(i + 1, n):\n",
        "            r_vec = positions[j] - positions[i]\n",
        "            r_mag = np.linalg.norm(r_vec)\n",
        "            if r_mag > 0:\n",
        "                force = G * masses[i] * masses[j] / r_mag**2\n",
        "                acc_vec = force / masses[i] * r_vec / r_mag\n",
        "                accelerations[i] += acc_vec\n",
        "                accelerations[j] -= acc_vec  # equal and opposite force\n",
        "    return accelerations\n",
        "\n",
        "# Simulation parameters\n",
        "time_step = 1e5  # seconds\n",
        "num_steps = 1000\n",
        "\n",
        "# Storage for positions\n",
        "trajectories = [positions.copy()]\n",
        "\n",
        "for step in range(num_steps):\n",
        "    # Calculate accelerations based on current positions\n",
        "    accelerations = compute_accelerations(positions, masses)\n",
        "    # Update velocities and positions using the Verlet integration method\n",
        "    velocities += accelerations * time_step\n",
        "    positions += velocities * time_step\n",
        "    trajectories.append(positions.copy())\n",
        "\n",
        "# Plotting the results\n",
        "trajectories = np.array(trajectories)\n",
        "for i in range(len(masses)):\n",
        "    plt.plot(trajectories[:, i, 0], trajectories[:, i, 1], label=f'Body {i+1}')\n",
        "plt.xlabel(\"x position (m)\")\n",
        "plt.ylabel(\"y position (m)\")\n",
        "plt.legend()\n",
        "plt.title(\"3-Body Gravitational Simulation\")\n",
        "plt.gca().set_aspect('equal', adjustable='box')\n",
        "plt.show()"
      ]
    }
  ]
}