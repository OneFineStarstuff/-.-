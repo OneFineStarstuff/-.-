{
  "nbformat": 4,
  "nbformat_minor": 0,
  "metadata": {
    "colab": {
      "private_outputs": true,
      "provenance": [],
      "authorship_tag": "ABX9TyOPHVjKUpKC1+v+ILszQ/1X",
      "include_colab_link": true
    },
    "kernelspec": {
      "name": "python3",
      "display_name": "Python 3"
    },
    "language_info": {
      "name": "python"
    }
  },
  "cells": [
    {
      "cell_type": "markdown",
      "metadata": {
        "id": "view-in-github",
        "colab_type": "text"
      },
      "source": [
        "<a href=\"https://colab.research.google.com/github/OneFineStarstuff/Onefinebot/blob/main/Using_Fast_Fourier_Transform_(FFT)_for_Signal_Analysis_in_Astrophysics.ipynb\" target=\"_parent\"><img src=\"https://colab.research.google.com/assets/colab-badge.svg\" alt=\"Open In Colab\"/></a>"
      ]
    },
    {
      "cell_type": "code",
      "execution_count": null,
      "metadata": {
        "id": "Qp-gkadWhJvj"
      },
      "outputs": [],
      "source": [
        "import numpy as np\n",
        "import matplotlib.pyplot as plt\n",
        "\n",
        "# Generate synthetic signal with a frequency component\n",
        "sampling_rate = 1000  # samples per second\n",
        "time = np.arange(0, 2, 1/sampling_rate)  # 2 seconds of data\n",
        "frequency = 5  # signal frequency in Hz\n",
        "signal = np.sin(2 * np.pi * frequency * time) + 0.5 * np.random.normal(size=time.size)\n",
        "\n",
        "# Perform FFT\n",
        "fft_result = np.fft.fft(signal)\n",
        "frequencies = np.fft.fftfreq(len(time), 1/sampling_rate)\n",
        "\n",
        "# Plot the signal and its frequency spectrum\n",
        "plt.subplot(2, 1, 1)\n",
        "plt.plot(time, signal)\n",
        "plt.xlabel(\"Time (s)\")\n",
        "plt.ylabel(\"Amplitude\")\n",
        "plt.title(\"Synthetic Signal (Pulsar-like)\")\n",
        "\n",
        "plt.subplot(2, 1, 2)\n",
        "plt.plot(frequencies[:len(frequencies)//2], np.abs(fft_result[:len(fft_result)//2]))\n",
        "plt.xlabel(\"Frequency (Hz)\")\n",
        "plt.ylabel(\"Magnitude\")\n",
        "plt.title(\"Frequency Spectrum\")\n",
        "plt.tight_layout()\n",
        "plt.show()"
      ]
    }
  ]
}