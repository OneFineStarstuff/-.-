{
  "nbformat": 4,
  "nbformat_minor": 0,
  "metadata": {
    "colab": {
      "private_outputs": true,
      "provenance": [],
      "authorship_tag": "ABX9TyOJyQX+VE/IZvPLWQgxBler",
      "include_colab_link": true
    },
    "kernelspec": {
      "name": "python3",
      "display_name": "Python 3"
    },
    "language_info": {
      "name": "python"
    }
  },
  "cells": [
    {
      "cell_type": "markdown",
      "metadata": {
        "id": "view-in-github",
        "colab_type": "text"
      },
      "source": [
        "<a href=\"https://colab.research.google.com/github/OneFineStarstuff/Onefinebot/blob/main/Machine_Learning_for_Potential_Energy_Surface_(PES)_Modeling.ipynb\" target=\"_parent\"><img src=\"https://colab.research.google.com/assets/colab-badge.svg\" alt=\"Open In Colab\"/></a>"
      ]
    },
    {
      "cell_type": "code",
      "execution_count": null,
      "metadata": {
        "id": "TsS65QJJy5sp"
      },
      "outputs": [],
      "source": [
        "import numpy as np\n",
        "import torch\n",
        "import torch.nn as nn\n",
        "import torch.optim as optim\n",
        "import matplotlib.pyplot as plt\n",
        "\n",
        "# Generate synthetic data for PES (e.g., Lennard-Jones potential)\n",
        "def lennard_jones(r):\n",
        "    return 4 * ((1 / r)**12 - (1 / r)**6)\n",
        "\n",
        "r_values = np.linspace(0.8, 3.0, 100)\n",
        "energy_values = lennard_jones(r_values)\n",
        "\n",
        "# Define a simple neural network model\n",
        "class PESModel(nn.Module):\n",
        "    def __init__(self):\n",
        "        super(PESModel, self).__init__()\n",
        "        self.fc1 = nn.Linear(1, 64)\n",
        "        self.fc2 = nn.Linear(64, 64)\n",
        "        self.fc3 = nn.Linear(64, 1)\n",
        "\n",
        "    def forward(self, x):\n",
        "        x = torch.relu(self.fc1(x))\n",
        "        x = torch.relu(self.fc2(x))\n",
        "        return self.fc3(x)\n",
        "\n",
        "# Convert data to PyTorch tensors\n",
        "X_train = torch.tensor(r_values.reshape(-1, 1), dtype=torch.float32)\n",
        "y_train = torch.tensor(energy_values.reshape(-1, 1), dtype=torch.float32)\n",
        "\n",
        "# Instantiate and train the model\n",
        "model = PESModel()\n",
        "criterion = nn.MSELoss()\n",
        "optimizer = optim.Adam(model.parameters(), lr=0.01)\n",
        "\n",
        "# Training loop\n",
        "n_epochs = 1000\n",
        "for epoch in range(n_epochs):\n",
        "    optimizer.zero_grad()\n",
        "    y_pred = model(X_train)\n",
        "    loss = criterion(y_pred, y_train)\n",
        "    loss.backward()\n",
        "    optimizer.step()\n",
        "\n",
        "    if epoch % 100 == 0:\n",
        "        print(f\"Epoch {epoch}, Loss: {loss.item():.4f}\")\n",
        "\n",
        "# Plot the original and predicted PES\n",
        "plt.plot(r_values, energy_values, label=\"True PES\", color=\"blue\")\n",
        "plt.plot(r_values, model(X_train).detach().numpy(), label=\"Predicted PES\", color=\"red\")\n",
        "plt.xlabel(\"Interatomic Distance (r)\")\n",
        "plt.ylabel(\"Potential Energy\")\n",
        "plt.legend()\n",
        "plt.title(\"Potential Energy Surface Approximation\")\n",
        "plt.show()"
      ]
    }
  ]
}