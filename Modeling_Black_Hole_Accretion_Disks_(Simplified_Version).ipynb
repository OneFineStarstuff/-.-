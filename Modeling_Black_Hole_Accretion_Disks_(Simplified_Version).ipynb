{
  "nbformat": 4,
  "nbformat_minor": 0,
  "metadata": {
    "colab": {
      "private_outputs": true,
      "provenance": [],
      "authorship_tag": "ABX9TyNVO/ArqqBpKHSNs1XFVQ4J",
      "include_colab_link": true
    },
    "kernelspec": {
      "name": "python3",
      "display_name": "Python 3"
    },
    "language_info": {
      "name": "python"
    }
  },
  "cells": [
    {
      "cell_type": "markdown",
      "metadata": {
        "id": "view-in-github",
        "colab_type": "text"
      },
      "source": [
        "<a href=\"https://colab.research.google.com/github/OneFineStarstuff/Onefinebot/blob/main/Modeling_Black_Hole_Accretion_Disks_(Simplified_Version).ipynb\" target=\"_parent\"><img src=\"https://colab.research.google.com/assets/colab-badge.svg\" alt=\"Open In Colab\"/></a>"
      ]
    },
    {
      "cell_type": "code",
      "execution_count": null,
      "metadata": {
        "id": "_XB1UADCt2zv"
      },
      "outputs": [],
      "source": [
        "import numpy as np\n",
        "import matplotlib.pyplot as plt\n",
        "\n",
        "# Constants\n",
        "G = 6.67430e-11  # Gravitational constant\n",
        "M = 5.972e30  # Mass of black hole (e.g., similar to Sun)\n",
        "\n",
        "# Grid of points\n",
        "x = np.linspace(-3e10, 3e10, 1000)\n",
        "y = np.linspace(-3e10, 3e10, 1000)\n",
        "X, Y = np.meshgrid(x, y)\n",
        "R = np.sqrt(X**2 + Y**2)\n",
        "\n",
        "# Gravitational potential (simplified model)\n",
        "potential = -G * M / R\n",
        "potential[R < 1e8] = np.nan  # Ignore singularity close to black hole\n",
        "\n",
        "# Plot potential field as an accretion disk\n",
        "plt.figure(figsize=(8, 8))\n",
        "plt.contourf(X, Y, potential, levels=50, cmap='inferno')\n",
        "plt.colorbar(label='Gravitational Potential')\n",
        "plt.title(\"Black Hole Accretion Disk Potential Field\")\n",
        "plt.xlabel(\"x (m)\")\n",
        "plt.ylabel(\"y (m)\")\n",
        "plt.show()"
      ]
    }
  ]
}