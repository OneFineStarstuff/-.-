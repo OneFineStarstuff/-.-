{
  "nbformat": 4,
  "nbformat_minor": 0,
  "metadata": {
    "colab": {
      "private_outputs": true,
      "provenance": [],
      "authorship_tag": "ABX9TyOQwTdWI1uhtxQV18SbU2rY",
      "include_colab_link": true
    },
    "kernelspec": {
      "name": "python3",
      "display_name": "Python 3"
    },
    "language_info": {
      "name": "python"
    }
  },
  "cells": [
    {
      "cell_type": "markdown",
      "metadata": {
        "id": "view-in-github",
        "colab_type": "text"
      },
      "source": [
        "<a href=\"https://colab.research.google.com/github/OneFineStarstuff/Onefinebot/blob/main/Example_for_Transaction_History.ipynb\" target=\"_parent\"><img src=\"https://colab.research.google.com/assets/colab-badge.svg\" alt=\"Open In Colab\"/></a>"
      ]
    },
    {
      "cell_type": "code",
      "execution_count": null,
      "metadata": {
        "id": "t33iM-Ky5G3e"
      },
      "outputs": [],
      "source": [
        "class BankingBot:\n",
        "    def __init__(self):\n",
        "        self.transactions = {\"123\": [(\"Deposit\", 500), (\"Withdrawal\", 200)]}  # Initialize transactions dictionary with predefined account IDs and transaction histories\n",
        "\n",
        "    def get_history(self, account_id):\n",
        "        # Retrieve the transaction history for the specified account ID\n",
        "        return self.transactions.get(account_id, \"No transactions found for this account.\")\n",
        "\n",
        "# Example Usage\n",
        "bank_bot = BankingBot()\n",
        "print(bank_bot.get_history(\"123\"))\n",
        "# Output: [('Deposit', 500), ('Withdrawal', 200)]"
      ]
    }
  ]
}