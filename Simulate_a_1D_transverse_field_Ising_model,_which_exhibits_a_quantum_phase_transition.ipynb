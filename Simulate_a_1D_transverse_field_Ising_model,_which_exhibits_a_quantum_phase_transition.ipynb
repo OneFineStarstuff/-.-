{
  "nbformat": 4,
  "nbformat_minor": 0,
  "metadata": {
    "colab": {
      "private_outputs": true,
      "provenance": [],
      "authorship_tag": "ABX9TyPX9IhLGJRd+qtrWxIut+Kd",
      "include_colab_link": true
    },
    "kernelspec": {
      "name": "python3",
      "display_name": "Python 3"
    },
    "language_info": {
      "name": "python"
    }
  },
  "cells": [
    {
      "cell_type": "markdown",
      "metadata": {
        "id": "view-in-github",
        "colab_type": "text"
      },
      "source": [
        "<a href=\"https://colab.research.google.com/github/OneFineStarstuff/Onefinebot/blob/main/Simulate_a_1D_transverse_field_Ising_model%2C_which_exhibits_a_quantum_phase_transition.ipynb\" target=\"_parent\"><img src=\"https://colab.research.google.com/assets/colab-badge.svg\" alt=\"Open In Colab\"/></a>"
      ]
    },
    {
      "cell_type": "code",
      "execution_count": null,
      "metadata": {
        "id": "0xvDC97poarg"
      },
      "outputs": [],
      "source": [
        "import numpy as np\n",
        "import matplotlib.pyplot as plt\n",
        "\n",
        "# Define parameters\n",
        "N = 10  # Number of spins\n",
        "g = 1.0  # Transverse field strength\n",
        "J = 1.0  # Interaction strength\n",
        "\n",
        "# Initialize random spin configuration\n",
        "spins = np.random.choice([-1, 1], size=N)\n",
        "\n",
        "# Function to compute the energy of the spin configuration\n",
        "def compute_energy(spins, J, g):\n",
        "    return -J * np.sum(spins[:-1] * spins[1:]) - g * np.sum(spins)\n",
        "\n",
        "# Simulate phase transition by varying g\n",
        "g_values = np.linspace(0, 2, 100)\n",
        "magnetizations = []\n",
        "for g in g_values:\n",
        "    spins = np.random.choice([-1, 1], size=N)  # New random configuration\n",
        "    energy = compute_energy(spins, J, g)\n",
        "    magnetizations.append(np.abs(np.sum(spins)) / N)\n",
        "\n",
        "# Plot the magnetization as a function of the transverse field strength\n",
        "plt.plot(g_values, magnetizations)\n",
        "plt.xlabel(\"Transverse Field Strength (g)\")\n",
        "plt.ylabel(\"Magnetization\")\n",
        "plt.title(\"Quantum Phase Transition in 1D Ising Model\")\n",
        "plt.show()"
      ]
    }
  ]
}