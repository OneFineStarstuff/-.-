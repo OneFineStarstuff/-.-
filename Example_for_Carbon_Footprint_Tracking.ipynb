{
  "nbformat": 4,
  "nbformat_minor": 0,
  "metadata": {
    "colab": {
      "private_outputs": true,
      "provenance": [],
      "authorship_tag": "ABX9TyM4OUmPTIjLIS7HkWg6bWvt",
      "include_colab_link": true
    },
    "kernelspec": {
      "name": "python3",
      "display_name": "Python 3"
    },
    "language_info": {
      "name": "python"
    }
  },
  "cells": [
    {
      "cell_type": "markdown",
      "metadata": {
        "id": "view-in-github",
        "colab_type": "text"
      },
      "source": [
        "<a href=\"https://colab.research.google.com/github/OneFineStarstuff/Onefinebot/blob/main/Example_for_Carbon_Footprint_Tracking.ipynb\" target=\"_parent\"><img src=\"https://colab.research.google.com/assets/colab-badge.svg\" alt=\"Open In Colab\"/></a>"
      ]
    },
    {
      "cell_type": "code",
      "execution_count": null,
      "metadata": {
        "id": "UBV9UleiKcob"
      },
      "outputs": [],
      "source": [
        "class CarbonTracker:\n",
        "    def __init__(self):\n",
        "        self.activities = {\"Driving\": 2.3, \"Flying\": 0.15, \"Electricity Usage\": 0.5}  # CO2 emission per unit (kg)\n",
        "\n",
        "    def calculate_emissions(self, activity, units):\n",
        "        # Retrieve the CO2 emission rate per unit and calculate the total emissions\n",
        "        return round(self.activities.get(activity, 0) * units, 2)\n",
        "\n",
        "# Example Usage\n",
        "tracker = CarbonTracker()\n",
        "print(f\"Carbon Emissions: {tracker.calculate_emissions('Driving', 100)} kg\")\n",
        "# Output: Carbon Emissions: 230.0 kg"
      ]
    }
  ]
}