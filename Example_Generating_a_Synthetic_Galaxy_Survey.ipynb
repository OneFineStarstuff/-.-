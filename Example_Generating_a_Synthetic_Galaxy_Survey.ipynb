{
  "nbformat": 4,
  "nbformat_minor": 0,
  "metadata": {
    "colab": {
      "private_outputs": true,
      "provenance": [],
      "authorship_tag": "ABX9TyO/ThrIYTPdWVVtuOzWV4uF",
      "include_colab_link": true
    },
    "kernelspec": {
      "name": "python3",
      "display_name": "Python 3"
    },
    "language_info": {
      "name": "python"
    }
  },
  "cells": [
    {
      "cell_type": "markdown",
      "metadata": {
        "id": "view-in-github",
        "colab_type": "text"
      },
      "source": [
        "<a href=\"https://colab.research.google.com/github/OneFineStarstuff/Onefinebot/blob/main/Example_Generating_a_Synthetic_Galaxy_Survey.ipynb\" target=\"_parent\"><img src=\"https://colab.research.google.com/assets/colab-badge.svg\" alt=\"Open In Colab\"/></a>"
      ]
    },
    {
      "cell_type": "code",
      "execution_count": null,
      "metadata": {
        "id": "4NvMGJ9_UTkc"
      },
      "outputs": [],
      "source": [
        "import numpy as np\n",
        "import matplotlib.pyplot as plt\n",
        "\n",
        "# Survey parameters\n",
        "num_galaxies = 10000\n",
        "box_size = 500  # Mpc\n",
        "\n",
        "# Generate random positions in the survey volume\n",
        "x = np.random.rand(num_galaxies) * box_size\n",
        "y = np.random.rand(num_galaxies) * box_size\n",
        "z = np.random.rand(num_galaxies) * box_size\n",
        "\n",
        "# Generate redshifts based on distance\n",
        "distances = np.sqrt(x**2 + y**2 + z**2)\n",
        "redshifts = distances / box_size  # Simplified for illustrative purposes\n",
        "\n",
        "# Plot galaxy distribution in 2D slice\n",
        "plt.figure(figsize=(8, 8))\n",
        "plt.scatter(x, y, c=redshifts, cmap='plasma', s=1)\n",
        "plt.colorbar(label='Redshift')\n",
        "plt.xlabel('X (Mpc)')\n",
        "plt.ylabel('Y (Mpc)')\n",
        "plt.title('Synthetic Galaxy Survey')\n",
        "plt.show()"
      ]
    }
  ]
}