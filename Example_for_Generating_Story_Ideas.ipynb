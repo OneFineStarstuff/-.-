{
  "nbformat": 4,
  "nbformat_minor": 0,
  "metadata": {
    "colab": {
      "private_outputs": true,
      "provenance": [],
      "authorship_tag": "ABX9TyPWI2GiuaOebqMMOuroSA6/",
      "include_colab_link": true
    },
    "kernelspec": {
      "name": "python3",
      "display_name": "Python 3"
    },
    "language_info": {
      "name": "python"
    }
  },
  "cells": [
    {
      "cell_type": "markdown",
      "metadata": {
        "id": "view-in-github",
        "colab_type": "text"
      },
      "source": [
        "<a href=\"https://colab.research.google.com/github/OneFineStarstuff/Onefinebot/blob/main/Example_for_Generating_Story_Ideas.ipynb\" target=\"_parent\"><img src=\"https://colab.research.google.com/assets/colab-badge.svg\" alt=\"Open In Colab\"/></a>"
      ]
    },
    {
      "cell_type": "code",
      "execution_count": null,
      "metadata": {
        "id": "3d7uQBoIzltp"
      },
      "outputs": [],
      "source": [
        "from transformers import pipeline\n",
        "\n",
        "# Initialize the text generation pipeline with GPT-2 model\n",
        "generator = pipeline(\"text-generation\", model=\"gpt2\")\n",
        "\n",
        "def generate_story_prompt(prompt, max_length=50):\n",
        "    # Generate a story based on the prompt\n",
        "    story = generator(prompt, max_length=max_length, num_return_sequences=1)\n",
        "    return story[0][\"generated_text\"]\n",
        "\n",
        "# Example Usage\n",
        "prompt = \"Once upon a time in a futuristic city, a young inventor discovered\"\n",
        "story = generate_story_prompt(prompt)\n",
        "print(story)"
      ]
    }
  ]
}