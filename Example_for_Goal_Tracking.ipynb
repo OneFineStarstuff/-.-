{
  "nbformat": 4,
  "nbformat_minor": 0,
  "metadata": {
    "colab": {
      "private_outputs": true,
      "provenance": [],
      "authorship_tag": "ABX9TyP2OudkGJ03c5UKrp9JywdU",
      "include_colab_link": true
    },
    "kernelspec": {
      "name": "python3",
      "display_name": "Python 3"
    },
    "language_info": {
      "name": "python"
    }
  },
  "cells": [
    {
      "cell_type": "markdown",
      "metadata": {
        "id": "view-in-github",
        "colab_type": "text"
      },
      "source": [
        "<a href=\"https://colab.research.google.com/github/OneFineStarstuff/Onefinebot/blob/main/Example_for_Goal_Tracking.ipynb\" target=\"_parent\"><img src=\"https://colab.research.google.com/assets/colab-badge.svg\" alt=\"Open In Colab\"/></a>"
      ]
    },
    {
      "cell_type": "code",
      "execution_count": null,
      "metadata": {
        "id": "iwH7VRw5JtCw"
      },
      "outputs": [],
      "source": [
        "class GoalTracker:\n",
        "    def __init__(self):\n",
        "        self.goals = []  # Initialize an empty list to store goals and statuses\n",
        "\n",
        "    def add_goal(self, goal):\n",
        "        # Append the goal with its initial status to the goals list\n",
        "        self.goals.append({\"goal\": goal, \"status\": \"in progress\"})\n",
        "\n",
        "    def update_goal(self, goal, status):\n",
        "        # Iterate through the goals list to find the goal\n",
        "        for g in self.goals:\n",
        "            if g[\"goal\"] == goal:\n",
        "                # Update the status if the goal is found\n",
        "                g[\"status\"] = status\n",
        "                return f\"Goal '{goal}' updated to '{status}'.\"\n",
        "        # Return a message if the goal is not found\n",
        "        return \"Goal not found.\"\n",
        "\n",
        "# Example Usage\n",
        "tracker = GoalTracker()\n",
        "tracker.add_goal(\"Read 10 books\")\n",
        "tracker.update_goal(\"Read 10 books\", \"completed\")\n",
        "print(tracker.goals)  # Output: [{'goal': 'Read 10 books', 'status': 'completed'}]"
      ]
    }
  ]
}