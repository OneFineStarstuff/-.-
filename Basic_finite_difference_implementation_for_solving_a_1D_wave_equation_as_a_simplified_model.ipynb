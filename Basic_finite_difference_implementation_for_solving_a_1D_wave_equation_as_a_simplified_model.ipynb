{
  "nbformat": 4,
  "nbformat_minor": 0,
  "metadata": {
    "colab": {
      "private_outputs": true,
      "provenance": [],
      "authorship_tag": "ABX9TyNH2wrOzifFAvIggkO+X7Rf",
      "include_colab_link": true
    },
    "kernelspec": {
      "name": "python3",
      "display_name": "Python 3"
    },
    "language_info": {
      "name": "python"
    }
  },
  "cells": [
    {
      "cell_type": "markdown",
      "metadata": {
        "id": "view-in-github",
        "colab_type": "text"
      },
      "source": [
        "<a href=\"https://colab.research.google.com/github/OneFineStarstuff/Onefinebot/blob/main/Basic_finite_difference_implementation_for_solving_a_1D_wave_equation_as_a_simplified_model.ipynb\" target=\"_parent\"><img src=\"https://colab.research.google.com/assets/colab-badge.svg\" alt=\"Open In Colab\"/></a>"
      ]
    },
    {
      "cell_type": "code",
      "execution_count": null,
      "metadata": {
        "id": "ICZveWDvRtYm"
      },
      "outputs": [],
      "source": [
        "import numpy as np\n",
        "import matplotlib.pyplot as plt\n",
        "\n",
        "# Grid parameters\n",
        "grid_size = 100\n",
        "dx = 0.1\n",
        "dt = 0.01\n",
        "num_steps = 100\n",
        "\n",
        "# Initialize wave field and velocity\n",
        "field = np.zeros(grid_size)\n",
        "velocity = np.zeros(grid_size)\n",
        "\n",
        "# Set initial disturbance\n",
        "field[grid_size // 2] = 1.0\n",
        "\n",
        "# Time evolution using finite difference method\n",
        "for _ in range(num_steps):\n",
        "    new_field = np.copy(field)\n",
        "    for i in range(1, grid_size - 1):\n",
        "        new_field[i] = field[i] + dt * velocity[i]\n",
        "        velocity[i] += dt * (field[i+1] - 2 * field[i] + field[i-1]) / dx**2\n",
        "    field = new_field\n",
        "\n",
        "plt.plot(field)\n",
        "plt.xlabel(\"Grid point\")\n",
        "plt.ylabel(\"Amplitude\")\n",
        "plt.title(\"Wave Propagation (simplified 1D)\")\n",
        "plt.show()"
      ]
    }
  ]
}