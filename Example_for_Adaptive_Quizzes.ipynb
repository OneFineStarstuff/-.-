{
  "nbformat": 4,
  "nbformat_minor": 0,
  "metadata": {
    "colab": {
      "private_outputs": true,
      "provenance": [],
      "authorship_tag": "ABX9TyOzg6rl3JpMsXxcqSM2gA8E",
      "include_colab_link": true
    },
    "kernelspec": {
      "name": "python3",
      "display_name": "Python 3"
    },
    "language_info": {
      "name": "python"
    }
  },
  "cells": [
    {
      "cell_type": "markdown",
      "metadata": {
        "id": "view-in-github",
        "colab_type": "text"
      },
      "source": [
        "<a href=\"https://colab.research.google.com/github/OneFineStarstuff/Onefinebot/blob/main/Example_for_Adaptive_Quizzes.ipynb\" target=\"_parent\"><img src=\"https://colab.research.google.com/assets/colab-badge.svg\" alt=\"Open In Colab\"/></a>"
      ]
    },
    {
      "cell_type": "code",
      "execution_count": null,
      "metadata": {
        "id": "pWzSo0127WDx"
      },
      "outputs": [],
      "source": [
        "class QuizBot:\n",
        "    def __init__(self):\n",
        "        self.questions = {\n",
        "            \"easy\": [\"What is 2 + 2?\", \"What color is the sky?\"],\n",
        "            \"medium\": [\"What is the capital of France?\", \"Solve: 5 x 6\"],\n",
        "            \"hard\": [\"Explain Newton's First Law.\", \"What is the square root of 144?\"]\n",
        "        }\n",
        "\n",
        "    def get_question(self, difficulty):\n",
        "        if difficulty in self.questions:\n",
        "            # Return the first question and remove it from the list\n",
        "            return self.questions[difficulty].pop(0) if self.questions[difficulty] else \"No more questions.\"\n",
        "        return \"Invalid difficulty level.\"\n",
        "\n",
        "# Example Usage\n",
        "quiz = QuizBot()\n",
        "print(quiz.get_question(\"easy\"))  # Output: What is 2 + 2?\n",
        "print(quiz.get_question(\"hard\"))  # Output: Explain Newton's First Law."
      ]
    }
  ]
}