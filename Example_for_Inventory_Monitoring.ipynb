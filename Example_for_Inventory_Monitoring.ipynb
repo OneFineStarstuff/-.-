{
  "nbformat": 4,
  "nbformat_minor": 0,
  "metadata": {
    "colab": {
      "private_outputs": true,
      "provenance": [],
      "authorship_tag": "ABX9TyOWTRKH4nBqK+zVVqhmY+FX",
      "include_colab_link": true
    },
    "kernelspec": {
      "name": "python3",
      "display_name": "Python 3"
    },
    "language_info": {
      "name": "python"
    }
  },
  "cells": [
    {
      "cell_type": "markdown",
      "metadata": {
        "id": "view-in-github",
        "colab_type": "text"
      },
      "source": [
        "<a href=\"https://colab.research.google.com/github/OneFineStarstuff/Onefinebot/blob/main/Example_for_Inventory_Monitoring.ipynb\" target=\"_parent\"><img src=\"https://colab.research.google.com/assets/colab-badge.svg\" alt=\"Open In Colab\"/></a>"
      ]
    },
    {
      "cell_type": "code",
      "execution_count": null,
      "metadata": {
        "id": "JGbdcnfMRx-i"
      },
      "outputs": [],
      "source": [
        "class Inventory:\n",
        "    def __init__(self):\n",
        "        self.stock = {}  # Initialize an empty dictionary to store inventory items\n",
        "\n",
        "    def add_item(self, item, quantity):\n",
        "        # Add the specified quantity of the item to the stock, updating the count if the item already exists\n",
        "        self.stock[item] = self.stock.get(item, 0) + quantity\n",
        "\n",
        "    def remove_item(self, item, quantity):\n",
        "        # Check if the specified quantity of the item is available in stock\n",
        "        if self.stock.get(item, 0) >= quantity:\n",
        "            # Decrease the stock by the specified amount\n",
        "            self.stock[item] -= quantity\n",
        "            return f\"Removed {quantity} {item}(s).\"\n",
        "        # Return an error message if not enough quantity is available\n",
        "        return f\"Not enough {item} in stock.\"\n",
        "\n",
        "    def view_stock(self):\n",
        "        # Return the current inventory of items in the stock dictionary\n",
        "        return self.stock\n",
        "\n",
        "# Example Usage\n",
        "inventory = Inventory()\n",
        "inventory.add_item(\"Laptop\", 50)\n",
        "inventory.remove_item(\"Laptop\", 10)\n",
        "print(inventory.view_stock())\n",
        "# Output: {'Laptop': 40}"
      ]
    }
  ]
}