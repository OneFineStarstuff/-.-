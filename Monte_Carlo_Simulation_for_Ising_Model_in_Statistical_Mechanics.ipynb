{
  "nbformat": 4,
  "nbformat_minor": 0,
  "metadata": {
    "colab": {
      "private_outputs": true,
      "provenance": [],
      "authorship_tag": "ABX9TyM3JWSPl1ZOQKnr202RCccD",
      "include_colab_link": true
    },
    "kernelspec": {
      "name": "python3",
      "display_name": "Python 3"
    },
    "language_info": {
      "name": "python"
    }
  },
  "cells": [
    {
      "cell_type": "markdown",
      "metadata": {
        "id": "view-in-github",
        "colab_type": "text"
      },
      "source": [
        "<a href=\"https://colab.research.google.com/github/OneFineStarstuff/Onefinebot/blob/main/Monte_Carlo_Simulation_for_Ising_Model_in_Statistical_Mechanics.ipynb\" target=\"_parent\"><img src=\"https://colab.research.google.com/assets/colab-badge.svg\" alt=\"Open In Colab\"/></a>"
      ]
    },
    {
      "cell_type": "code",
      "execution_count": null,
      "metadata": {
        "id": "mQf2IFyYz4je"
      },
      "outputs": [],
      "source": [
        "import numpy as np\n",
        "import matplotlib.pyplot as plt\n",
        "\n",
        "# Parameters\n",
        "L = 20  # Lattice size\n",
        "T = 2.0  # Temperature (in units of J/k_B)\n",
        "n_steps = 100000  # Number of Monte Carlo steps\n",
        "\n",
        "# Initialize spins randomly (-1 or 1)\n",
        "spins = np.random.choice([-1, 1], size=(L, L))\n",
        "\n",
        "# Function to calculate energy of a given spin configuration\n",
        "def calculate_energy(spins):\n",
        "    energy = 0\n",
        "    for i in range(L):\n",
        "        for j in range(L):\n",
        "            S = spins[i, j]\n",
        "            neighbors = spins[(i+1)%L, j] + spins[i, (j+1)%L] + spins[(i-1)%L, j] + spins[i, (j-1)%L]\n",
        "            energy -= S * neighbors\n",
        "    return energy / 2  # Each pair counted twice\n",
        "\n",
        "# Metropolis algorithm\n",
        "for step in range(n_steps):\n",
        "    i, j = np.random.randint(0, L, 2)\n",
        "    S = spins[i, j]\n",
        "    neighbors = spins[(i+1)%L, j] + spins[i, (j+1)%L] + spins[(i-1)%L, j] + spins[i, (j-1)%L]\n",
        "    delta_E = 2 * S * neighbors  # Energy difference if spin is flipped\n",
        "\n",
        "    # Flip spin with Metropolis probability\n",
        "    if delta_E < 0 or np.random.rand() < np.exp(-delta_E / T):\n",
        "        spins[i, j] = -S\n",
        "\n",
        "# Plot the final spin configuration\n",
        "plt.imshow(spins, cmap='coolwarm')\n",
        "plt.colorbar(label=\"Spin Value\")\n",
        "plt.title(f\"Ising Model (L={L}, T={T}) - Final Configuration\")\n",
        "plt.show()"
      ]
    }
  ]
}