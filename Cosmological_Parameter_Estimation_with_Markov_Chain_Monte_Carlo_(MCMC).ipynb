{
  "nbformat": 4,
  "nbformat_minor": 0,
  "metadata": {
    "colab": {
      "private_outputs": true,
      "provenance": [],
      "authorship_tag": "ABX9TyN0707p8qMU/iaWfzw7249A",
      "include_colab_link": true
    },
    "kernelspec": {
      "name": "python3",
      "display_name": "Python 3"
    },
    "language_info": {
      "name": "python"
    }
  },
  "cells": [
    {
      "cell_type": "markdown",
      "metadata": {
        "id": "view-in-github",
        "colab_type": "text"
      },
      "source": [
        "<a href=\"https://colab.research.google.com/github/OneFineStarstuff/Onefinebot/blob/main/Cosmological_Parameter_Estimation_with_Markov_Chain_Monte_Carlo_(MCMC).ipynb\" target=\"_parent\"><img src=\"https://colab.research.google.com/assets/colab-badge.svg\" alt=\"Open In Colab\"/></a>"
      ]
    },
    {
      "cell_type": "code",
      "execution_count": null,
      "metadata": {
        "id": "S3FPJwqzXlIl"
      },
      "outputs": [],
      "source": [
        "pip install pymc3"
      ]
    },
    {
      "cell_type": "code",
      "source": [
        "import numpy as np\n",
        "import pymc3 as pm\n",
        "import matplotlib.pyplot as plt\n",
        "\n",
        "# Simulated observational data: redshift (z) vs. luminosity distance (D_L)\n",
        "redshifts = np.linspace(0.1, 2.0, 50)\n",
        "H0_true = 70  # Hubble constant in km/s/Mpc\n",
        "D_L_true = (3000 / H0_true) * redshifts  # simplified distance formula\n",
        "observed_distances = D_L_true + np.random.normal(0, 20, size=redshifts.size)\n",
        "\n",
        "# Bayesian model for parameter estimation\n",
        "with pm.Model() as cosmology_model:\n",
        "    H0 = pm.Normal(\"H0\", mu=70, sd=10)  # prior for Hubble constant\n",
        "    D_L_model = (3000 / H0) * redshifts  # distance-redshift relation\n",
        "\n",
        "    # Likelihood\n",
        "    sigma = pm.HalfNormal(\"sigma\", sd=10)\n",
        "    likelihood = pm.Normal(\"D_L_obs\", mu=D_L_model, sd=sigma, observed=observed_distances)\n",
        "\n",
        "    # MCMC sampling\n",
        "    trace = pm.sample(2000, return_inferencedata=True)\n",
        "\n",
        "# Plotting the posterior distribution of H0\n",
        "pm.plot_posterior(trace, var_names=[\"H0\"])\n",
        "plt.show()"
      ],
      "metadata": {
        "id": "kvvGumarXwvb"
      },
      "execution_count": null,
      "outputs": []
    }
  ]
}