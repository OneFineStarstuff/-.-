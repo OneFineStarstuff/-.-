{
  "nbformat": 4,
  "nbformat_minor": 0,
  "metadata": {
    "colab": {
      "private_outputs": true,
      "provenance": [],
      "authorship_tag": "ABX9TyNCyKe19EfcpY5Pue+zHCYe",
      "include_colab_link": true
    },
    "kernelspec": {
      "name": "python3",
      "display_name": "Python 3"
    },
    "language_info": {
      "name": "python"
    }
  },
  "cells": [
    {
      "cell_type": "markdown",
      "metadata": {
        "id": "view-in-github",
        "colab_type": "text"
      },
      "source": [
        "<a href=\"https://colab.research.google.com/github/OneFineStarstuff/Onefinebot/blob/main/Example_for_Inventory_Management.ipynb\" target=\"_parent\"><img src=\"https://colab.research.google.com/assets/colab-badge.svg\" alt=\"Open In Colab\"/></a>"
      ]
    },
    {
      "cell_type": "code",
      "execution_count": null,
      "metadata": {
        "id": "AvW9NTJI8GFp"
      },
      "outputs": [],
      "source": [
        "class InventoryManager:\n",
        "    def __init__(self):\n",
        "        self.inventory = {\"Item A\": 10, \"Item B\": 5, \"Item C\": 0}  # Initialize inventory with predefined items and quantities\n",
        "\n",
        "    def check_inventory(self, item):\n",
        "        # Retrieve the current stock level of the specified item\n",
        "        return f\"{item}: {self.inventory.get(item, 'Not found')} in stock.\"\n",
        "\n",
        "    def restock_item(self, item, quantity):\n",
        "        # Check if the specified item exists in the inventory\n",
        "        if item in self.inventory:\n",
        "            # Increase the quantity by the specified amount\n",
        "            self.inventory[item] += quantity\n",
        "            return f\"Restocked {item}. New quantity: {self.inventory[item]}.\"\n",
        "        # Return a message if the item is not found\n",
        "        return \"Item not found in inventory.\"\n",
        "\n",
        "# Example Usage\n",
        "inventory_bot = InventoryManager()\n",
        "print(inventory_bot.check_inventory(\"Item B\"))\n",
        "print(inventory_bot.restock_item(\"Item C\", 20))\n",
        "# Output: Item B: 5 in stock.\n",
        "#         Restocked Item C. New quantity: 20."
      ]
    }
  ]
}