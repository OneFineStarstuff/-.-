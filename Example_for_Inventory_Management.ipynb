{
  "nbformat": 4,
  "nbformat_minor": 0,
  "metadata": {
    "colab": {
      "private_outputs": true,
      "provenance": [],
      "authorship_tag": "ABX9TyOMcFr+yJhQBPLrIPPFlIcV",
      "include_colab_link": true
    },
    "kernelspec": {
      "name": "python3",
      "display_name": "Python 3"
    },
    "language_info": {
      "name": "python"
    }
  },
  "cells": [
    {
      "cell_type": "markdown",
      "metadata": {
        "id": "view-in-github",
        "colab_type": "text"
      },
      "source": [
        "<a href=\"https://colab.research.google.com/github/OneFineStarstuff/Onefinebot/blob/main/Example_for_Inventory_Management.ipynb\" target=\"_parent\"><img src=\"https://colab.research.google.com/assets/colab-badge.svg\" alt=\"Open In Colab\"/></a>"
      ]
    },
    {
      "cell_type": "code",
      "execution_count": null,
      "metadata": {
        "id": "5rVVneTEBKRn"
      },
      "outputs": [],
      "source": [
        "class InventoryManager:\n",
        "    def __init__(self):\n",
        "        self.inventory = {}  # Initialize an empty dictionary to store item quantities\n",
        "\n",
        "    def add_item(self, item_name, quantity):\n",
        "        # Add the specified quantity of the item to the inventory\n",
        "        self.inventory[item_name] = self.inventory.get(item_name, 0) + quantity\n",
        "\n",
        "    def check_stock(self, item_name):\n",
        "        # Retrieve the quantity of the specified item\n",
        "        return self.inventory.get(item_name, \"Item not found\")\n",
        "\n",
        "    def restock_needed(self, threshold):\n",
        "        # Filter the inventory to find items that need restocking\n",
        "        return {item: qty for item, qty in self.inventory.items() if qty <= threshold}\n",
        "\n",
        "# Example Usage\n",
        "inventory = InventoryManager()\n",
        "inventory.add_item(\"Laptops\", 50)\n",
        "inventory.add_item(\"Keyboards\", 10)\n",
        "print(inventory.restock_needed(20))\n",
        "# Output: {'Keyboards': 10}"
      ]
    }
  ]
}