{
  "nbformat": 4,
  "nbformat_minor": 0,
  "metadata": {
    "colab": {
      "private_outputs": true,
      "provenance": [],
      "authorship_tag": "ABX9TyMIk5AF8ujn0nGBRN4pXfi0",
      "include_colab_link": true
    },
    "kernelspec": {
      "name": "python3",
      "display_name": "Python 3"
    },
    "language_info": {
      "name": "python"
    }
  },
  "cells": [
    {
      "cell_type": "markdown",
      "metadata": {
        "id": "view-in-github",
        "colab_type": "text"
      },
      "source": [
        "<a href=\"https://colab.research.google.com/github/OneFineStarstuff/Onefinebot/blob/main/Creating_a_3D_Solar_System_Visualization_with_Python_(using_plotly).ipynb\" target=\"_parent\"><img src=\"https://colab.research.google.com/assets/colab-badge.svg\" alt=\"Open In Colab\"/></a>"
      ]
    },
    {
      "cell_type": "code",
      "execution_count": null,
      "metadata": {
        "id": "14rEnT4x8Rqj"
      },
      "outputs": [],
      "source": [
        "import plotly.graph_objects as go\n",
        "\n",
        "# Define planet data\n",
        "planet_data = {\n",
        "    'Mercury': {'distance': 0.39, 'color': 'gray'},\n",
        "    'Venus': {'distance': 0.72, 'color': 'yellow'},\n",
        "    'Earth': {'distance': 1.0, 'color': 'blue'},\n",
        "    'Mars': {'distance': 1.52, 'color': 'red'}\n",
        "}\n",
        "\n",
        "# Create 3D scatter plot\n",
        "fig = go.Figure()\n",
        "\n",
        "for planet, info in planet_data.items():\n",
        "    fig.add_trace(go.Scatter3d(\n",
        "        x=[info['distance']], y=[0], z=[0],\n",
        "        mode='markers+text',\n",
        "        marker=dict(size=10, color=info['color']),\n",
        "        text=planet, textposition='bottom center'\n",
        "    ))\n",
        "\n",
        "fig.update_layout(\n",
        "    scene=dict(\n",
        "        xaxis_title='Distance from Sun (AU)',\n",
        "        yaxis_title='Y',\n",
        "        zaxis_title='Z'\n",
        "    ),\n",
        "    title=\"3D Solar System Visualization\"\n",
        ")\n",
        "\n",
        "fig.show()"
      ]
    }
  ]
}