{
  "nbformat": 4,
  "nbformat_minor": 0,
  "metadata": {
    "colab": {
      "private_outputs": true,
      "provenance": [],
      "authorship_tag": "ABX9TyMSrYm/bTicN+YUt4CfeaQS",
      "include_colab_link": true
    },
    "kernelspec": {
      "name": "python3",
      "display_name": "Python 3"
    },
    "language_info": {
      "name": "python"
    }
  },
  "cells": [
    {
      "cell_type": "markdown",
      "metadata": {
        "id": "view-in-github",
        "colab_type": "text"
      },
      "source": [
        "<a href=\"https://colab.research.google.com/github/OneFineStarstuff/Onefinebot/blob/main/Example_for_Document_Preparation.ipynb\" target=\"_parent\"><img src=\"https://colab.research.google.com/assets/colab-badge.svg\" alt=\"Open In Colab\"/></a>"
      ]
    },
    {
      "cell_type": "code",
      "execution_count": null,
      "metadata": {
        "id": "c9fW0bXXQ67z"
      },
      "outputs": [],
      "source": [
        "class LegalDocument:\n",
        "    def __init__(self):\n",
        "        self.template = \"\"  # Initialize an empty string to store the agreement template\n",
        "\n",
        "    def create_agreement(self, party1, party2, terms):\n",
        "        # Construct the agreement template with party names and terms\n",
        "        self.template = f\"Agreement between {party1} and {party2}:\\n\\nTerms:\\n\" + \"\\n\".join(terms)\n",
        "        return self.template  # Return the formatted agreement template\n",
        "\n",
        "# Example Usage\n",
        "doc = LegalDocument()\n",
        "agreement = doc.create_agreement(\"Alice\", \"Bob\", [\"Payment of $500 monthly\", \"Work to be completed by 2025\"])\n",
        "print(agreement)\n",
        "# Output:\n",
        "# Agreement between Alice and Bob:\n",
        "#\n",
        "# Terms:\n",
        "# Payment of $500 monthly\n",
        "# Work to be completed by 2025"
      ]
    }
  ]
}