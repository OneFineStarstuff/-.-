{
  "nbformat": 4,
  "nbformat_minor": 0,
  "metadata": {
    "colab": {
      "private_outputs": true,
      "provenance": [],
      "authorship_tag": "ABX9TyOHLM3s0SFjNCgcqZR9mL+/",
      "include_colab_link": true
    },
    "kernelspec": {
      "name": "python3",
      "display_name": "Python 3"
    },
    "language_info": {
      "name": "python"
    }
  },
  "cells": [
    {
      "cell_type": "markdown",
      "metadata": {
        "id": "view-in-github",
        "colab_type": "text"
      },
      "source": [
        "<a href=\"https://colab.research.google.com/github/OneFineStarstuff/Onefinebot/blob/main/Building_a_Custom_Galaxy_Clustering_Algorithm.ipynb\" target=\"_parent\"><img src=\"https://colab.research.google.com/assets/colab-badge.svg\" alt=\"Open In Colab\"/></a>"
      ]
    },
    {
      "cell_type": "code",
      "execution_count": null,
      "metadata": {
        "id": "wFSng32SEESZ"
      },
      "outputs": [],
      "source": [
        "import numpy as np\n",
        "import pandas as pd\n",
        "from sklearn.cluster import KMeans\n",
        "import matplotlib.pyplot as plt\n",
        "\n",
        "# Generate synthetic data for galaxy features (e.g., brightness, redshift, size)\n",
        "np.random.seed(42)\n",
        "brightness = np.random.normal(10, 2, 100)\n",
        "redshift = np.random.normal(0.3, 0.05, 100)\n",
        "size = np.random.normal(5, 1, 100)\n",
        "data = pd.DataFrame({'brightness': brightness, 'redshift': redshift, 'size': size})\n",
        "\n",
        "# Apply KMeans clustering\n",
        "kmeans = KMeans(n_clusters=3)\n",
        "data['cluster'] = kmeans.fit_predict(data[['brightness', 'redshift', 'size']])\n",
        "\n",
        "# Plot clustering results\n",
        "plt.scatter(data['brightness'], data['redshift'], c=data['cluster'], cmap='viridis')\n",
        "plt.xlabel(\"Brightness\")\n",
        "plt.ylabel(\"Redshift\")\n",
        "plt.title(\"Galaxy Clustering by Brightness and Redshift\")\n",
        "plt.show()"
      ]
    }
  ]
}