{
  "nbformat": 4,
  "nbformat_minor": 0,
  "metadata": {
    "colab": {
      "private_outputs": true,
      "provenance": [],
      "authorship_tag": "ABX9TyMXXwLpH/aKCFuImlYB4L/c",
      "include_colab_link": true
    },
    "kernelspec": {
      "name": "python3",
      "display_name": "Python 3"
    },
    "language_info": {
      "name": "python"
    }
  },
  "cells": [
    {
      "cell_type": "markdown",
      "metadata": {
        "id": "view-in-github",
        "colab_type": "text"
      },
      "source": [
        "<a href=\"https://colab.research.google.com/github/OneFineStarstuff/Onefinebot/blob/main/Example_for_Fetching_Articles_from_arXiv_API.ipynb\" target=\"_parent\"><img src=\"https://colab.research.google.com/assets/colab-badge.svg\" alt=\"Open In Colab\"/></a>"
      ]
    },
    {
      "cell_type": "code",
      "execution_count": null,
      "metadata": {
        "id": "XRcmW_7sPqyt"
      },
      "outputs": [],
      "source": [
        "import requests\n",
        "\n",
        "def search_arxiv(query, max_results=5):\n",
        "    # Construct the API URL with the search query and maximum number of results\n",
        "    url = f\"http://export.arxiv.org/api/query?search_query={query}&start=0&max_results={max_results}\"\n",
        "    # Send a GET request to the API\n",
        "    response = requests.get(url)\n",
        "    # Return the raw XML response\n",
        "    return response.text  # Process the XML response as needed\n",
        "\n",
        "# Example Usage\n",
        "results = search_arxiv(\"quantum computing\")\n",
        "print(results)  # Outputs raw XML of search results"
      ]
    }
  ]
}