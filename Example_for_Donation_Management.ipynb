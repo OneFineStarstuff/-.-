{
  "nbformat": 4,
  "nbformat_minor": 0,
  "metadata": {
    "colab": {
      "private_outputs": true,
      "provenance": [],
      "authorship_tag": "ABX9TyMmc0m67WWvqvHDAjDcjq0e",
      "include_colab_link": true
    },
    "kernelspec": {
      "name": "python3",
      "display_name": "Python 3"
    },
    "language_info": {
      "name": "python"
    }
  },
  "cells": [
    {
      "cell_type": "markdown",
      "metadata": {
        "id": "view-in-github",
        "colab_type": "text"
      },
      "source": [
        "<a href=\"https://colab.research.google.com/github/OneFineStarstuff/Onefinebot/blob/main/Example_for_Donation_Management.ipynb\" target=\"_parent\"><img src=\"https://colab.research.google.com/assets/colab-badge.svg\" alt=\"Open In Colab\"/></a>"
      ]
    },
    {
      "cell_type": "code",
      "execution_count": null,
      "metadata": {
        "id": "sDBPh3Kc4b1Z"
      },
      "outputs": [],
      "source": [
        "class DonationManager:\n",
        "    def __init__(self):\n",
        "        self.donations = {}  # Initialize an empty dictionary to store donor names and donation amounts\n",
        "\n",
        "    def donate(self, donor_name, amount):\n",
        "        # Add the specified amount to the donor's total donations\n",
        "        self.donations[donor_name] = self.donations.get(donor_name, 0) + amount\n",
        "        return f\"Thank you, {donor_name}, for donating ${amount}. Total donated: ${self.donations[donor_name]}.\"\n",
        "\n",
        "# Example Usage\n",
        "manager = DonationManager()\n",
        "print(manager.donate(\"John Doe\", 100))\n",
        "# Output: Thank you, John Doe, for donating $100. Total donated: $100."
      ]
    }
  ]
}