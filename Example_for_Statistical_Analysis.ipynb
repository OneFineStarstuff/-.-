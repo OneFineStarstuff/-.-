{
  "nbformat": 4,
  "nbformat_minor": 0,
  "metadata": {
    "colab": {
      "private_outputs": true,
      "provenance": [],
      "authorship_tag": "ABX9TyOqvb+Sg7UzbzTgH5rbf0HT",
      "include_colab_link": true
    },
    "kernelspec": {
      "name": "python3",
      "display_name": "Python 3"
    },
    "language_info": {
      "name": "python"
    }
  },
  "cells": [
    {
      "cell_type": "markdown",
      "metadata": {
        "id": "view-in-github",
        "colab_type": "text"
      },
      "source": [
        "<a href=\"https://colab.research.google.com/github/OneFineStarstuff/Onefinebot/blob/main/Example_for_Statistical_Analysis.ipynb\" target=\"_parent\"><img src=\"https://colab.research.google.com/assets/colab-badge.svg\" alt=\"Open In Colab\"/></a>"
      ]
    },
    {
      "cell_type": "code",
      "execution_count": null,
      "metadata": {
        "id": "bryRKQaV8fn6"
      },
      "outputs": [],
      "source": [
        "import numpy as np\n",
        "\n",
        "def compute_statistics(data):\n",
        "    mean = np.mean(data)  # Calculate the mean\n",
        "    std_dev = np.std(data)  # Calculate the standard deviation\n",
        "    return {\"mean\": mean, \"std_dev\": std_dev}  # Return the results as a dictionary\n",
        "\n",
        "# Example Usage\n",
        "data = [12, 15, 14, 10, 13, 15, 14]\n",
        "stats = compute_statistics(data)\n",
        "print(stats)  # Output: {'mean': 13.857, 'std_dev': 1.676}"
      ]
    }
  ]
}