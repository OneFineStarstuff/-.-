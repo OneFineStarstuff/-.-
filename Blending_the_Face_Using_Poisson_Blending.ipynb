{
  "nbformat": 4,
  "nbformat_minor": 0,
  "metadata": {
    "colab": {
      "private_outputs": true,
      "provenance": [],
      "authorship_tag": "ABX9TyOpszo1FOGz/94keHIxAySP",
      "include_colab_link": true
    },
    "kernelspec": {
      "name": "python3",
      "display_name": "Python 3"
    },
    "language_info": {
      "name": "python"
    }
  },
  "cells": [
    {
      "cell_type": "markdown",
      "metadata": {
        "id": "view-in-github",
        "colab_type": "text"
      },
      "source": [
        "<a href=\"https://colab.research.google.com/github/OneFineStarstuff/Onefinebot/blob/main/Blending_the_Face_Using_Poisson_Blending.ipynb\" target=\"_parent\"><img src=\"https://colab.research.google.com/assets/colab-badge.svg\" alt=\"Open In Colab\"/></a>"
      ]
    },
    {
      "cell_type": "code",
      "execution_count": null,
      "metadata": {
        "id": "ZxaML0PgK68Q"
      },
      "outputs": [],
      "source": [
        "import numpy as np\n",
        "import cv2\n",
        "\n",
        "# Load the generated face and target images\n",
        "generated_face = cv2.imread('/path/to/generated_face.jpg')\n",
        "target_image = cv2.imread('/path/to/target_image.jpg')\n",
        "\n",
        "# Ensure the images are loaded\n",
        "if generated_face is None or target_image is None:\n",
        "    print(\"Error loading images.\")\n",
        "else:\n",
        "    # Define the face position mask\n",
        "    mask = np.zeros_like(target_image[:, :, 0])\n",
        "\n",
        "    # Example face position (adjust as needed)\n",
        "    face_position = slice(100, 300), slice(100, 300)  # Define a rectangular region for the face\n",
        "    mask[face_position] = 255  # Set the face position in the mask\n",
        "\n",
        "    # Specify the center of the face in the target image\n",
        "    center_position = (200, 200)  # Adjust as needed\n",
        "\n",
        "    # Perform seamless cloning\n",
        "    blended_image = cv2.seamlessClone(\n",
        "        src=generated_face,\n",
        "        dst=target_image,\n",
        "        mask=mask,\n",
        "        p=center_position,  # Face center position\n",
        "        flags=cv2.NORMAL_CLONE\n",
        "    )\n",
        "\n",
        "    # Display the result\n",
        "    cv2.imshow('Blended Image', blended_image)\n",
        "    cv2.waitKey(0)\n",
        "    cv2.destroyAllWindows()"
      ]
    }
  ]
}