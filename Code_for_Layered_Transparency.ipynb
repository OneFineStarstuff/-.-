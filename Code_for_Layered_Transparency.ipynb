{
  "nbformat": 4,
  "nbformat_minor": 0,
  "metadata": {
    "colab": {
      "private_outputs": true,
      "provenance": [],
      "authorship_tag": "ABX9TyMQOK5Rbwlp7jcDp3W6Acza",
      "include_colab_link": true
    },
    "kernelspec": {
      "name": "python3",
      "display_name": "Python 3"
    },
    "language_info": {
      "name": "python"
    }
  },
  "cells": [
    {
      "cell_type": "markdown",
      "metadata": {
        "id": "view-in-github",
        "colab_type": "text"
      },
      "source": [
        "<a href=\"https://colab.research.google.com/github/OneFineStarstuff/Onefinebot/blob/main/Code_for_Layered_Transparency.ipynb\" target=\"_parent\"><img src=\"https://colab.research.google.com/assets/colab-badge.svg\" alt=\"Open In Colab\"/></a>"
      ]
    },
    {
      "cell_type": "code",
      "source": [
        "pip install noise"
      ],
      "metadata": {
        "id": "JylAGTZTgWXE"
      },
      "execution_count": null,
      "outputs": []
    },
    {
      "cell_type": "code",
      "execution_count": null,
      "metadata": {
        "id": "_cl_SHkCfToN"
      },
      "outputs": [],
      "source": [
        "import numpy as np\n",
        "import matplotlib.pyplot as plt\n",
        "from noise import pnoise2\n",
        "import random\n",
        "from PIL import Image, ImageDraw, ImageFilter\n",
        "\n",
        "# Function to create transparent layers of circles\n",
        "def draw_transparent_layer(ax, center, radius, depth, color_map, alpha):\n",
        "    if depth > 0:\n",
        "        # Set a color with alpha transparency\n",
        "        color = color_map[depth % len(color_map)]\n",
        "        noisy_radius = radius * (0.8 + 0.2 * pnoise2(center[0] * 0.5, center[1] * 0.5, octaves=2))\n",
        "\n",
        "        # Add a circle with partial transparency\n",
        "        circle = plt.Circle(center, noisy_radius, color=color, fill=False, alpha=alpha, linewidth=1.5)\n",
        "        ax.add_artist(circle)\n",
        "\n",
        "        # Recursively draw smaller circles with altered positions and radii\n",
        "        for angle in np.linspace(0, 2 * np.pi, num=5, endpoint=False):\n",
        "            new_radius = radius * (0.4 + 0.2 * random.random())\n",
        "            x = center[0] + noisy_radius * np.cos(angle)\n",
        "            y = center[1] + noisy_radius * np.sin(angle)\n",
        "            draw_transparent_layer(ax, (x, y), new_radius, depth - 1, color_map, alpha * 0.9)\n",
        "\n",
        "# Parameters for the artwork\n",
        "fig, ax = plt.subplots(figsize=(8, 8))\n",
        "ax.set_aspect('equal')\n",
        "ax.axis('off')\n",
        "color_map = [\"#e74c3c\", \"#3498db\", \"#9b59b6\", \"#1abc9c\", \"#f1c40f\", \"#34495e\"]\n",
        "\n",
        "# Draw multiple transparent layers with varying alpha\n",
        "for i in range(3):  # Three layers with decreasing alpha\n",
        "    alpha = 0.5 - i * 0.1\n",
        "    draw_transparent_layer(ax, (0, 0), 1, 5, color_map, alpha)\n",
        "\n",
        "plt.show()"
      ]
    }
  ]
}