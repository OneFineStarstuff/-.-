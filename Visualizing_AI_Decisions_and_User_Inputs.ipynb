{
  "nbformat": 4,
  "nbformat_minor": 0,
  "metadata": {
    "colab": {
      "private_outputs": true,
      "provenance": [],
      "authorship_tag": "ABX9TyO6y5G4KJ5v1RqCgQTFo1Mj",
      "include_colab_link": true
    },
    "kernelspec": {
      "name": "python3",
      "display_name": "Python 3"
    },
    "language_info": {
      "name": "python"
    }
  },
  "cells": [
    {
      "cell_type": "markdown",
      "metadata": {
        "id": "view-in-github",
        "colab_type": "text"
      },
      "source": [
        "<a href=\"https://colab.research.google.com/github/OneFineStarstuff/Onefinebot/blob/main/Visualizing_AI_Decisions_and_User_Inputs.ipynb\" target=\"_parent\"><img src=\"https://colab.research.google.com/assets/colab-badge.svg\" alt=\"Open In Colab\"/></a>"
      ]
    },
    {
      "cell_type": "code",
      "execution_count": null,
      "metadata": {
        "id": "4xJCUm_nsjSd"
      },
      "outputs": [],
      "source": [
        "import numpy as np\n",
        "import sounddevice as sd\n",
        "import matplotlib.pyplot as plt\n",
        "from functools import lru_cache\n",
        "\n",
        "# Audio Input Settings\n",
        "RATE = 44100\n",
        "CHUNK = 1024\n",
        "\n",
        "# Parameters for visual analysis\n",
        "visual_params = {\n",
        "    'style': 'abstract',\n",
        "    'color_scheme': 'vibrant',\n",
        "    'shape': 'wave'\n",
        "}\n",
        "\n",
        "# Capture audio data\n",
        "def get_audio_data():\n",
        "    data, _ = sd.rec(CHUNK, samplerate=RATE, channels=1, dtype='float32')\n",
        "    sd.wait()\n",
        "    return data.flatten()\n",
        "\n",
        "# Compute frequency spectrum\n",
        "def compute_frequency_spectrum(audio_data):\n",
        "    spectrum = np.fft.fft(audio_data)\n",
        "    frequency = np.fft.fftfreq(len(spectrum), 1/RATE)\n",
        "    return frequency, np.abs(spectrum)\n",
        "\n",
        "# Visualize audio spectrum\n",
        "def visualize_audio_spectrum(frequency, magnitude, params):\n",
        "    plt.figure(figsize=(10, 6))\n",
        "    plt.plot(frequency[:len(frequency)//2], magnitude[:len(magnitude)//2])\n",
        "    plt.xlabel('Frequency (Hz)')\n",
        "    plt.ylabel('Magnitude')\n",
        "    plt.title('Audio Spectrum')\n",
        "    plt.grid(True)\n",
        "    show_visual_analysis(params)\n",
        "    plt.show()\n",
        "\n",
        "# Display visual analysis on the plot\n",
        "def show_visual_analysis(params):\n",
        "    analysis_text = f\"Style: {params['style']} | Color: {params['color_scheme']} | Shape: {params['shape']}\"\n",
        "    plt.text(0.02, 0.95, analysis_text, color=\"white\", size=12, transform=plt.gca().transAxes, bbox=dict(facecolor='black', alpha=0.5))\n",
        "\n",
        "# Main loop for capturing and visualizing audio spectrum\n",
        "def main():\n",
        "    while True:\n",
        "        audio_data = get_audio_data()\n",
        "        frequency, magnitude = compute_frequency_spectrum(audio_data)\n",
        "        visualize_audio_spectrum(frequency, magnitude, visual_params)\n",
        "        plt.pause(0.1)  # Short pause to keep the loop running smoothly\n",
        "\n",
        "if __name__ == \"__main__\":\n",
        "    main()"
      ]
    }
  ]
}