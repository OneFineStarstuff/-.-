{
  "nbformat": 4,
  "nbformat_minor": 0,
  "metadata": {
    "colab": {
      "private_outputs": true,
      "provenance": [],
      "authorship_tag": "ABX9TyPD6jmGsQ74wSFM1Ykyrg/r",
      "include_colab_link": true
    },
    "kernelspec": {
      "name": "python3",
      "display_name": "Python 3"
    },
    "language_info": {
      "name": "python"
    }
  },
  "cells": [
    {
      "cell_type": "markdown",
      "metadata": {
        "id": "view-in-github",
        "colab_type": "text"
      },
      "source": [
        "<a href=\"https://colab.research.google.com/github/OneFineStarstuff/Onefinebot/blob/main/Data_Analysis_Techniques_for_Large_Scale_Physics_Data.ipynb\" target=\"_parent\"><img src=\"https://colab.research.google.com/assets/colab-badge.svg\" alt=\"Open In Colab\"/></a>"
      ]
    },
    {
      "cell_type": "code",
      "execution_count": null,
      "metadata": {
        "id": "2xWe_bSJ7pSM"
      },
      "outputs": [],
      "source": [
        "import pandas as pd\n",
        "import numpy as np\n",
        "import matplotlib.pyplot as plt\n",
        "\n",
        "# Load large-scale physics dataset (e.g., simulated particle collision data)\n",
        "data = pd.DataFrame({\n",
        "    'energy': np.random.normal(100, 20, 10000),\n",
        "    'momentum': np.random.normal(0, 1, 10000),\n",
        "    'angle': np.random.uniform(0, 2 * np.pi, 10000)\n",
        "})\n",
        "\n",
        "# Filtering events with high energy\n",
        "high_energy_events = data[data['energy'] > 120]\n",
        "\n",
        "# Plot histograms of energy and momentum for high-energy events\n",
        "plt.figure(figsize=(12, 5))\n",
        "\n",
        "plt.subplot(1, 2, 1)\n",
        "plt.hist(high_energy_events['energy'], bins=30, color='skyblue')\n",
        "plt.xlabel(\"Energy (GeV)\")\n",
        "plt.ylabel(\"Frequency\")\n",
        "plt.title(\"Distribution of High-Energy Events\")\n",
        "\n",
        "plt.subplot(1, 2, 2)\n",
        "plt.hist(high_energy_events['momentum'], bins=30, color='salmon')\n",
        "plt.xlabel(\"Momentum (GeV/c)\")\n",
        "plt.ylabel(\"Frequency\")\n",
        "plt.title(\"Distribution of Momentum for High-Energy Events\")\n",
        "\n",
        "plt.tight_layout()\n",
        "plt.show()"
      ]
    }
  ]
}