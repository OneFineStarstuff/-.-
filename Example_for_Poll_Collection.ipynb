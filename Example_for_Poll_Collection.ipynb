{
  "nbformat": 4,
  "nbformat_minor": 0,
  "metadata": {
    "colab": {
      "private_outputs": true,
      "provenance": [],
      "authorship_tag": "ABX9TyN9uvPs20kg0Dgz2I5uYCR8",
      "include_colab_link": true
    },
    "kernelspec": {
      "name": "python3",
      "display_name": "Python 3"
    },
    "language_info": {
      "name": "python"
    }
  },
  "cells": [
    {
      "cell_type": "markdown",
      "metadata": {
        "id": "view-in-github",
        "colab_type": "text"
      },
      "source": [
        "<a href=\"https://colab.research.google.com/github/OneFineStarstuff/Onefinebot/blob/main/Example_for_Poll_Collection.ipynb\" target=\"_parent\"><img src=\"https://colab.research.google.com/assets/colab-badge.svg\" alt=\"Open In Colab\"/></a>"
      ]
    },
    {
      "cell_type": "code",
      "execution_count": null,
      "metadata": {
        "id": "qTWXhMPT_PD7"
      },
      "outputs": [],
      "source": [
        "class PollBot:\n",
        "    def __init__(self):\n",
        "        self.responses = []  # Initialize an empty list to store poll responses\n",
        "\n",
        "    def collect_response(self, user, response):\n",
        "        # Append the user's response to the responses list\n",
        "        self.responses.append({\"user\": user, \"response\": response})\n",
        "\n",
        "    def get_results(self):\n",
        "        # Count the occurrences of each response\n",
        "        return {resp[\"response\"]: self.responses.count(resp[\"response\"]) for resp in self.responses}\n",
        "\n",
        "# Example Usage\n",
        "poll = PollBot()\n",
        "poll.collect_response(\"user1\", \"Yes\")\n",
        "poll.collect_response(\"user2\", \"No\")\n",
        "print(poll.get_results())  # Output: {'Yes': 1, 'No': 1}"
      ]
    }
  ]
}