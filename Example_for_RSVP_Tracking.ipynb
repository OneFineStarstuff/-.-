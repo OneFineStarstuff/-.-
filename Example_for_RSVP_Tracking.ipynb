{
  "nbformat": 4,
  "nbformat_minor": 0,
  "metadata": {
    "colab": {
      "private_outputs": true,
      "provenance": [],
      "authorship_tag": "ABX9TyN8eVMxnZBixmy9btvvwFc9",
      "include_colab_link": true
    },
    "kernelspec": {
      "name": "python3",
      "display_name": "Python 3"
    },
    "language_info": {
      "name": "python"
    }
  },
  "cells": [
    {
      "cell_type": "markdown",
      "metadata": {
        "id": "view-in-github",
        "colab_type": "text"
      },
      "source": [
        "<a href=\"https://colab.research.google.com/github/OneFineStarstuff/Onefinebot/blob/main/Example_for_RSVP_Tracking.ipynb\" target=\"_parent\"><img src=\"https://colab.research.google.com/assets/colab-badge.svg\" alt=\"Open In Colab\"/></a>"
      ]
    },
    {
      "cell_type": "code",
      "execution_count": null,
      "metadata": {
        "id": "Td1m1hJqfm_A"
      },
      "outputs": [],
      "source": [
        "class RSVPManager:\n",
        "    def __init__(self):\n",
        "        self.rsvp_list = []  # Initialize an empty list to store RSVP entries\n",
        "\n",
        "    def add_rsvp(self, guest, status):\n",
        "        # Append the guest's name and RSVP status to the rsvp_list\n",
        "        self.rsvp_list.append({\"guest\": guest, \"status\": status})\n",
        "\n",
        "    def view_rsvps(self):\n",
        "        # Return the list of all RSVP entries\n",
        "        return self.rsvp_list\n",
        "\n",
        "# Example Usage\n",
        "rsvp_manager = RSVPManager()\n",
        "rsvp_manager.add_rsvp(\"Alice\", \"Confirmed\")\n",
        "rsvp_manager.add_rsvp(\"Bob\", \"Pending\")\n",
        "print(rsvp_manager.view_rsvps())\n",
        "# Output: [{'guest': 'Alice', 'status': 'Confirmed'}, {'guest': 'Bob', 'status': 'Pending'}]"
      ]
    }
  ]
}