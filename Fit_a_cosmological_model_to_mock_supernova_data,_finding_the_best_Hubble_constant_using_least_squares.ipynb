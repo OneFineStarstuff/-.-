{
  "nbformat": 4,
  "nbformat_minor": 0,
  "metadata": {
    "colab": {
      "private_outputs": true,
      "provenance": [],
      "authorship_tag": "ABX9TyOLOobVxpdOzPc8SgZjV8vJ",
      "include_colab_link": true
    },
    "kernelspec": {
      "name": "python3",
      "display_name": "Python 3"
    },
    "language_info": {
      "name": "python"
    }
  },
  "cells": [
    {
      "cell_type": "markdown",
      "metadata": {
        "id": "view-in-github",
        "colab_type": "text"
      },
      "source": [
        "<a href=\"https://colab.research.google.com/github/OneFineStarstuff/Onefinebot/blob/main/Fit_a_cosmological_model_to_mock_supernova_data%2C_finding_the_best_Hubble_constant_using_least_squares.ipynb\" target=\"_parent\"><img src=\"https://colab.research.google.com/assets/colab-badge.svg\" alt=\"Open In Colab\"/></a>"
      ]
    },
    {
      "cell_type": "code",
      "execution_count": null,
      "metadata": {
        "id": "FVjwABVuAH0N"
      },
      "outputs": [],
      "source": [
        "import numpy as np\n",
        "from scipy.optimize import curve_fit\n",
        "import matplotlib.pyplot as plt\n",
        "\n",
        "# Mock supernova redshift and distance modulus data\n",
        "z_data = np.linspace(0.01, 1, 50)  # Redshift\n",
        "distance_modulus_data = 5 * np.log10((z_data * 3e8) / (70 * 1e3))  # Mock data\n",
        "\n",
        "# Define theoretical distance modulus function for cosmology model\n",
        "def distance_modulus(z, H0):\n",
        "    return 5 * np.log10((z * 3e8) / (H0 * 1e3))\n",
        "\n",
        "# Fit the model\n",
        "popt, _ = curve_fit(distance_modulus, z_data, distance_modulus_data, p0=[70])\n",
        "H0_best = popt[0]\n",
        "\n",
        "# Plot the data and best-fit model\n",
        "plt.scatter(z_data, distance_modulus_data, label=\"Mock Data\")\n",
        "plt.plot(z_data, distance_modulus(z_data, H0_best), label=f\"Best-fit H0 = {H0_best:.2f}\", color=\"red\")\n",
        "plt.xlabel(\"Redshift (z)\")\n",
        "plt.ylabel(\"Distance Modulus\")\n",
        "plt.legend()\n",
        "plt.title(\"Cosmological Model Fitting for Hubble Constant\")\n",
        "plt.show()"
      ]
    }
  ]
}