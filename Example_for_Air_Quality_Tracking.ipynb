{
  "nbformat": 4,
  "nbformat_minor": 0,
  "metadata": {
    "colab": {
      "private_outputs": true,
      "provenance": [],
      "authorship_tag": "ABX9TyNDWzm+tS8sh4CLha3Eqzxl",
      "include_colab_link": true
    },
    "kernelspec": {
      "name": "python3",
      "display_name": "Python 3"
    },
    "language_info": {
      "name": "python"
    }
  },
  "cells": [
    {
      "cell_type": "markdown",
      "metadata": {
        "id": "view-in-github",
        "colab_type": "text"
      },
      "source": [
        "<a href=\"https://colab.research.google.com/github/OneFineStarstuff/Onefinebot/blob/main/Example_for_Air_Quality_Tracking.ipynb\" target=\"_parent\"><img src=\"https://colab.research.google.com/assets/colab-badge.svg\" alt=\"Open In Colab\"/></a>"
      ]
    },
    {
      "cell_type": "code",
      "execution_count": null,
      "metadata": {
        "id": "rWsHTFoV1Tga"
      },
      "outputs": [],
      "source": [
        "class AirQualityMonitor:\n",
        "    def __init__(self):\n",
        "        self.data = {}  # Initialize an empty dictionary to store AQI data\n",
        "\n",
        "    def add_city_aqi(self, city, aqi):\n",
        "        # Add the AQI value for the specified city to the data dictionary\n",
        "        self.data[city] = aqi\n",
        "\n",
        "    def get_aqi(self, city):\n",
        "        # Retrieve the AQI value for the specified city or return \"Data not available\"\n",
        "        return self.data.get(city, \"Data not available\")\n",
        "\n",
        "# Example Usage\n",
        "monitor = AirQualityMonitor()\n",
        "monitor.add_city_aqi(\"New York\", 55)  # AQI for New York\n",
        "monitor.add_city_aqi(\"Los Angeles\", 72)\n",
        "print(monitor.get_aqi(\"New York\"))\n",
        "# Output: 55"
      ]
    }
  ]
}