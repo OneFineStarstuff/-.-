{
  "nbformat": 4,
  "nbformat_minor": 0,
  "metadata": {
    "colab": {
      "private_outputs": true,
      "provenance": [],
      "authorship_tag": "ABX9TyPNRutlTUomTAIePhKgKqKO",
      "include_colab_link": true
    },
    "kernelspec": {
      "name": "python3",
      "display_name": "Python 3"
    },
    "language_info": {
      "name": "python"
    }
  },
  "cells": [
    {
      "cell_type": "markdown",
      "metadata": {
        "id": "view-in-github",
        "colab_type": "text"
      },
      "source": [
        "<a href=\"https://colab.research.google.com/github/OneFineStarstuff/Onefinebot/blob/main/Bayesian_Inference_for_Cosmological_Parameters.ipynb\" target=\"_parent\"><img src=\"https://colab.research.google.com/assets/colab-badge.svg\" alt=\"Open In Colab\"/></a>"
      ]
    },
    {
      "cell_type": "code",
      "source": [
        "pip install pymc3"
      ],
      "metadata": {
        "id": "WkKvTCgIP4-C"
      },
      "execution_count": null,
      "outputs": []
    },
    {
      "cell_type": "code",
      "execution_count": null,
      "metadata": {
        "id": "i43RRTMqPiQ9"
      },
      "outputs": [],
      "source": [
        "import pymc3 as pm\n",
        "import numpy as np\n",
        "import matplotlib.pyplot as plt\n",
        "\n",
        "# Simulated data - observed scale factors and Hubble parameter\n",
        "observed_scale_factors = np.linspace(0.1, 1, 50)\n",
        "H0_true, Omega_m_true, Omega_Lambda_true = 70, 0.3, 0.7\n",
        "H_true = H0_true * np.sqrt(Omega_m_true / observed_scale_factors**3 + Omega_Lambda_true)\n",
        "\n",
        "# Add some observational noise\n",
        "observed_H = H_true + np.random.normal(0, 3, size=observed_H.shape)\n",
        "\n",
        "# Define Bayesian model\n",
        "with pm.Model() as model:\n",
        "    # Priors for unknown parameters\n",
        "    H0 = pm.Normal(\"H0\", mu=70, sigma=10)\n",
        "    Omega_m = pm.Normal(\"Omega_m\", mu=0.3, sigma=0.1)\n",
        "    Omega_Lambda = pm.Normal(\"Omega_Lambda\", mu=0.7, sigma=0.1)\n",
        "\n",
        "    # Likelihood\n",
        "    H_model = H0 * np.sqrt(Omega_m / observed_scale_factors**3 + Omega_Lambda)\n",
        "    observed_data = pm.Normal(\"observed_data\", mu=H_model, sigma=3, observed=observed_H)\n",
        "\n",
        "    # Inference\n",
        "    trace = pm.sample(2000, tune=1000, return_inferencedata=True)\n",
        "\n",
        "# Plot posterior distributions\n",
        "pm.plot_posterior(trace)\n",
        "plt.show()"
      ]
    }
  ]
}