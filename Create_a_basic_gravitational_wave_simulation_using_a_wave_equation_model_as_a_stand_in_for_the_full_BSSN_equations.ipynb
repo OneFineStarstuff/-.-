{
  "nbformat": 4,
  "nbformat_minor": 0,
  "metadata": {
    "colab": {
      "private_outputs": true,
      "provenance": [],
      "authorship_tag": "ABX9TyO73THiPklNJiC96rrBLTsV",
      "include_colab_link": true
    },
    "kernelspec": {
      "name": "python3",
      "display_name": "Python 3"
    },
    "language_info": {
      "name": "python"
    }
  },
  "cells": [
    {
      "cell_type": "markdown",
      "metadata": {
        "id": "view-in-github",
        "colab_type": "text"
      },
      "source": [
        "<a href=\"https://colab.research.google.com/github/OneFineStarstuff/Onefinebot/blob/main/Create_a_basic_gravitational_wave_simulation_using_a_wave_equation_model_as_a_stand_in_for_the_full_BSSN_equations.ipynb\" target=\"_parent\"><img src=\"https://colab.research.google.com/assets/colab-badge.svg\" alt=\"Open In Colab\"/></a>"
      ]
    },
    {
      "cell_type": "code",
      "execution_count": null,
      "metadata": {
        "id": "MRYZfHWFjMvc"
      },
      "outputs": [],
      "source": [
        "import numpy as np\n",
        "import matplotlib.pyplot as plt\n",
        "\n",
        "# Define the spatial grid\n",
        "L = 100\n",
        "dx = 0.1\n",
        "dt = 0.01\n",
        "c = 1.0  # Wave speed\n",
        "steps = 300\n",
        "\n",
        "# Initialize the field and its time derivative\n",
        "u = np.zeros(L)\n",
        "u[int(L / 4):int(3 * L / 4)] = np.sin(np.linspace(0, 2 * np.pi, int(L / 2)))\n",
        "v = np.zeros(L)  # Time derivative of the field\n",
        "\n",
        "# Time evolution using finite-difference method\n",
        "for _ in range(steps):\n",
        "    u_new = np.copy(u)\n",
        "    u_new[1:-1] = u[1:-1] + dt * v[1:-1]\n",
        "    v[1:-1] += dt * (c**2 / dx**2) * (u[2:] - 2 * u[1:-1] + u[:-2])\n",
        "    u = u_new\n",
        "\n",
        "# Plot the wave at the final time step\n",
        "plt.plot(u)\n",
        "plt.xlabel(\"Position on grid\")\n",
        "plt.ylabel(\"Gravitational Wave Amplitude\")\n",
        "plt.title(\"Simulated Gravitational Wave\")\n",
        "plt.show()"
      ]
    }
  ]
}