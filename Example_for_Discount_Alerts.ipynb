{
  "nbformat": 4,
  "nbformat_minor": 0,
  "metadata": {
    "colab": {
      "private_outputs": true,
      "provenance": [],
      "authorship_tag": "ABX9TyO0vyLv2gj0pAS26pZOMUP4",
      "include_colab_link": true
    },
    "kernelspec": {
      "name": "python3",
      "display_name": "Python 3"
    },
    "language_info": {
      "name": "python"
    }
  },
  "cells": [
    {
      "cell_type": "markdown",
      "metadata": {
        "id": "view-in-github",
        "colab_type": "text"
      },
      "source": [
        "<a href=\"https://colab.research.google.com/github/OneFineStarstuff/Onefinebot/blob/main/Example_for_Discount_Alerts.ipynb\" target=\"_parent\"><img src=\"https://colab.research.google.com/assets/colab-badge.svg\" alt=\"Open In Colab\"/></a>"
      ]
    },
    {
      "cell_type": "code",
      "execution_count": null,
      "metadata": {
        "id": "OyZ1G2hDOR5T"
      },
      "outputs": [],
      "source": [
        "class DiscountNotifier:\n",
        "    def __init__(self):\n",
        "        self.discounts = {}  # Initialize an empty dictionary to store discounts\n",
        "\n",
        "    def add_discount(self, product, percentage):\n",
        "        # Add the discount percentage for the specified product\n",
        "        self.discounts[product] = percentage\n",
        "\n",
        "    def get_discounts(self):\n",
        "        # Return the dictionary of all stored discounts\n",
        "        return self.discounts\n",
        "\n",
        "# Example Usage\n",
        "notifier = DiscountNotifier()\n",
        "notifier.add_discount(\"Laptop\", 15)\n",
        "notifier.add_discount(\"Smartphone\", 10)\n",
        "print(notifier.get_discounts())\n",
        "# Output: {'Laptop': 15, 'Smartphone': 10}"
      ]
    }
  ]
}