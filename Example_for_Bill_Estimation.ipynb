{
  "nbformat": 4,
  "nbformat_minor": 0,
  "metadata": {
    "colab": {
      "private_outputs": true,
      "provenance": [],
      "authorship_tag": "ABX9TyO5ogKVXtz74fFwnaMEAbFH",
      "include_colab_link": true
    },
    "kernelspec": {
      "name": "python3",
      "display_name": "Python 3"
    },
    "language_info": {
      "name": "python"
    }
  },
  "cells": [
    {
      "cell_type": "markdown",
      "metadata": {
        "id": "view-in-github",
        "colab_type": "text"
      },
      "source": [
        "<a href=\"https://colab.research.google.com/github/OneFineStarstuff/Onefinebot/blob/main/Example_for_Bill_Estimation.ipynb\" target=\"_parent\"><img src=\"https://colab.research.google.com/assets/colab-badge.svg\" alt=\"Open In Colab\"/></a>"
      ]
    },
    {
      "cell_type": "code",
      "execution_count": null,
      "metadata": {
        "id": "SeIDxRjuZDwj"
      },
      "outputs": [],
      "source": [
        "class EnergyBillEstimator:\n",
        "    def __init__(self, rate_per_kwh):\n",
        "        self.rate_per_kwh = rate_per_kwh  # Initialize the rate per kWh\n",
        "\n",
        "    def estimate_bill(self, usage_kwh):\n",
        "        # Calculate the estimated bill and round to two decimal places\n",
        "        return round(usage_kwh * self.rate_per_kwh, 2)\n",
        "\n",
        "# Example Usage\n",
        "estimator = EnergyBillEstimator(0.12)  # 12 cents per kWh\n",
        "estimated_bill = estimator.estimate_bill(350)  # 350 kWh usage\n",
        "print(f\"Estimated Bill: ${estimated_bill}\")\n",
        "# Output: Estimated Bill: $42.0"
      ]
    }
  ]
}