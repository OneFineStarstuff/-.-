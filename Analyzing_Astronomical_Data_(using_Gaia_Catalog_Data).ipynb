{
  "nbformat": 4,
  "nbformat_minor": 0,
  "metadata": {
    "colab": {
      "private_outputs": true,
      "provenance": [],
      "authorship_tag": "ABX9TyOp5v/3sDBO0lbAN8+EdXac",
      "include_colab_link": true
    },
    "kernelspec": {
      "name": "python3",
      "display_name": "Python 3"
    },
    "language_info": {
      "name": "python"
    }
  },
  "cells": [
    {
      "cell_type": "markdown",
      "metadata": {
        "id": "view-in-github",
        "colab_type": "text"
      },
      "source": [
        "<a href=\"https://colab.research.google.com/github/OneFineStarstuff/Onefinebot/blob/main/Analyzing_Astronomical_Data_(using_Gaia_Catalog_Data).ipynb\" target=\"_parent\"><img src=\"https://colab.research.google.com/assets/colab-badge.svg\" alt=\"Open In Colab\"/></a>"
      ]
    },
    {
      "cell_type": "code",
      "execution_count": null,
      "metadata": {
        "id": "LNJJ4KQN3xtr"
      },
      "outputs": [],
      "source": [
        "import pandas as pd\n",
        "import matplotlib.pyplot as plt\n",
        "\n",
        "# Load Gaia catalog data (assuming 'data.csv' contains columns 'source_id', 'ra', 'dec', 'parallax')\n",
        "data = pd.read_csv('data.csv')\n",
        "\n",
        "# Calculate distance in parsecs\n",
        "data['distance_pc'] = 1 / (data['parallax'] / 1000)\n",
        "\n",
        "# Filter out stars within a certain range\n",
        "nearby_stars = data[(data['distance_pc'] > 1) & (data['distance_pc'] < 50)]\n",
        "\n",
        "# Plot histogram of distances\n",
        "plt.hist(nearby_stars['distance_pc'], bins=30, color='skyblue')\n",
        "plt.xlabel('Distance (parsecs)')\n",
        "plt.ylabel('Number of stars')\n",
        "plt.title('Distribution of Nearby Stars (1-50 parsecs)')\n",
        "plt.show()"
      ]
    }
  ]
}