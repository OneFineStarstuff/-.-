{
  "nbformat": 4,
  "nbformat_minor": 0,
  "metadata": {
    "colab": {
      "private_outputs": true,
      "provenance": [],
      "authorship_tag": "ABX9TyPnJwPkWXEloDzS5s81/NWY",
      "include_colab_link": true
    },
    "kernelspec": {
      "name": "python3",
      "display_name": "Python 3"
    },
    "language_info": {
      "name": "python"
    }
  },
  "cells": [
    {
      "cell_type": "markdown",
      "metadata": {
        "id": "view-in-github",
        "colab_type": "text"
      },
      "source": [
        "<a href=\"https://colab.research.google.com/github/OneFineStarstuff/Onefinebot/blob/main/Example_for_Travel_Itinerary_Planning.ipynb\" target=\"_parent\"><img src=\"https://colab.research.google.com/assets/colab-badge.svg\" alt=\"Open In Colab\"/></a>"
      ]
    },
    {
      "cell_type": "code",
      "execution_count": null,
      "metadata": {
        "id": "4MqF3zJ79dv8"
      },
      "outputs": [],
      "source": [
        "class ItineraryPlanner:\n",
        "    def __init__(self):\n",
        "        self.itinerary = []  # Initialize an empty list to store trip details\n",
        "\n",
        "    def add_destination(self, destination, activity):\n",
        "        # Append the destination and planned activity to the itinerary list\n",
        "        self.itinerary.append({\"destination\": destination, \"activity\": activity})\n",
        "\n",
        "    def get_itinerary(self):\n",
        "        # Return the list of all added destinations and activities\n",
        "        return self.itinerary\n",
        "\n",
        "# Example Usage\n",
        "planner = ItineraryPlanner()\n",
        "planner.add_destination(\"Paris\", \"Visit the Eiffel Tower\")\n",
        "planner.add_destination(\"Rome\", \"Tour the Colosseum\")\n",
        "print(planner.get_itinerary())\n",
        "# Output: [{'destination': 'Paris', 'activity': 'Visit the Eiffel Tower'}, {'destination': 'Rome', 'activity': 'Tour the Colosseum'}]"
      ]
    }
  ]
}