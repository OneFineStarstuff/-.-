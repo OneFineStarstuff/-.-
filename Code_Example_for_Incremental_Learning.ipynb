{
  "nbformat": 4,
  "nbformat_minor": 0,
  "metadata": {
    "colab": {
      "private_outputs": true,
      "provenance": [],
      "authorship_tag": "ABX9TyOrR93OTb7AeATeTAcmWUpA",
      "include_colab_link": true
    },
    "kernelspec": {
      "name": "python3",
      "display_name": "Python 3"
    },
    "language_info": {
      "name": "python"
    }
  },
  "cells": [
    {
      "cell_type": "markdown",
      "metadata": {
        "id": "view-in-github",
        "colab_type": "text"
      },
      "source": [
        "<a href=\"https://colab.research.google.com/github/OneFineStarstuff/Onefinebot/blob/main/Code_Example_for_Incremental_Learning.ipynb\" target=\"_parent\"><img src=\"https://colab.research.google.com/assets/colab-badge.svg\" alt=\"Open In Colab\"/></a>"
      ]
    },
    {
      "cell_type": "code",
      "execution_count": null,
      "metadata": {
        "id": "RZl1wpRJ9Irj"
      },
      "outputs": [],
      "source": [
        "from sklearn.linear_model import SGDClassifier\n",
        "\n",
        "# Existing model\n",
        "model = SGDClassifier(max_iter=1000, tol=1e-3)\n",
        "\n",
        "# Incrementally fit new data\n",
        "new_data = [[0.5, 0.5], [1.5, 1.5]]\n",
        "new_labels = [0, 1]\n",
        "model.partial_fit(new_data, new_labels, classes=[0, 1])\n",
        "\n",
        "# Predict with updated model\n",
        "print(model.predict([[1.0, 1.0]]))  # Output: [1]"
      ]
    }
  ]
}