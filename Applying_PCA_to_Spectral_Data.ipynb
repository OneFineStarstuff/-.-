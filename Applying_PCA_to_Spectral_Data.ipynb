{
  "nbformat": 4,
  "nbformat_minor": 0,
  "metadata": {
    "colab": {
      "private_outputs": true,
      "provenance": [],
      "authorship_tag": "ABX9TyMZ2i6UZkcKVcNYvqtnNcaX",
      "include_colab_link": true
    },
    "kernelspec": {
      "name": "python3",
      "display_name": "Python 3"
    },
    "language_info": {
      "name": "python"
    }
  },
  "cells": [
    {
      "cell_type": "markdown",
      "metadata": {
        "id": "view-in-github",
        "colab_type": "text"
      },
      "source": [
        "<a href=\"https://colab.research.google.com/github/OneFineStarstuff/Onefinebot/blob/main/Applying_PCA_to_Spectral_Data.ipynb\" target=\"_parent\"><img src=\"https://colab.research.google.com/assets/colab-badge.svg\" alt=\"Open In Colab\"/></a>"
      ]
    },
    {
      "cell_type": "code",
      "execution_count": null,
      "metadata": {
        "id": "j6-tMxMIl4mX"
      },
      "outputs": [],
      "source": [
        "import numpy as np\n",
        "import matplotlib.pyplot as plt\n",
        "from sklearn.decomposition import PCA\n",
        "from sklearn.preprocessing import StandardScaler\n",
        "\n",
        "# Generate synthetic spectral data\n",
        "num_spectra = 100\n",
        "wavelengths = np.linspace(400, 700, 300)  # 300 wavelength bins\n",
        "spectra = np.array([np.exp(-((wavelengths - np.random.randint(450, 650))**2) / (2 * 5**2)) for _ in range(num_spectra)])\n",
        "\n",
        "# Standardize and apply PCA\n",
        "scaler = StandardScaler()\n",
        "spectra_scaled = scaler.fit_transform(spectra)\n",
        "pca = PCA(n_components=5)\n",
        "spectra_pca = pca.fit_transform(spectra_scaled)\n",
        "\n",
        "# Plot explained variance ratio\n",
        "plt.bar(range(1, 6), pca.explained_variance_ratio_, alpha=0.5, align=\"center\")\n",
        "plt.xlabel(\"Principal Component\")\n",
        "plt.ylabel(\"Variance Explained\")\n",
        "plt.title(\"Variance Explained by Principal Components\")\n",
        "plt.show()\n",
        "\n",
        "# Plot first two principal components\n",
        "plt.scatter(spectra_pca[:, 0], spectra_pca[:, 1], c=\"purple\", alpha=0.7)\n",
        "plt.xlabel(\"PC1\")\n",
        "plt.ylabel(\"PC2\")\n",
        "plt.title(\"Spectral Data in Principal Component Space\")\n",
        "plt.show()"
      ]
    }
  ]
}