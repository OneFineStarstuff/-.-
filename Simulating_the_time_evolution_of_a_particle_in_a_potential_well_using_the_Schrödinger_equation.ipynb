{
  "nbformat": 4,
  "nbformat_minor": 0,
  "metadata": {
    "colab": {
      "private_outputs": true,
      "provenance": [],
      "authorship_tag": "ABX9TyM0jGrxflbyDeqR9VWRRE3O",
      "include_colab_link": true
    },
    "kernelspec": {
      "name": "python3",
      "display_name": "Python 3"
    },
    "language_info": {
      "name": "python"
    }
  },
  "cells": [
    {
      "cell_type": "markdown",
      "metadata": {
        "id": "view-in-github",
        "colab_type": "text"
      },
      "source": [
        "<a href=\"https://colab.research.google.com/github/OneFineStarstuff/Onefinebot/blob/main/Simulating_the_time_evolution_of_a_particle_in_a_potential_well_using_the_Schr%C3%B6dinger_equation.ipynb\" target=\"_parent\"><img src=\"https://colab.research.google.com/assets/colab-badge.svg\" alt=\"Open In Colab\"/></a>"
      ]
    },
    {
      "cell_type": "code",
      "source": [
        "import numpy as np\n",
        "import matplotlib.pyplot as plt\n",
        "from scipy.constants import hbar, m_e\n",
        "\n",
        "# Define parameters for the potential well\n",
        "L = 1e-9  # Width of the well in meters\n",
        "N = 1000  # Number of spatial points\n",
        "x = np.linspace(0, L, N)  # Spatial array\n",
        "\n",
        "# Define the initial wave packet\n",
        "k0 = 5 * np.pi / L  # Initial momentum\n",
        "psi_0 = np.sin(k0 * x) * np.exp(-0.5 * ((x - L/2) / (L/10))**2)  # Gaussian wave packet\n",
        "\n",
        "# Normalize the initial wave packet\n",
        "psi_0 /= np.sqrt(np.sum(np.abs(psi_0)**2) * (x[1] - x[0]))\n",
        "\n",
        "# Hamiltonian matrix for time evolution\n",
        "H = np.zeros((N, N))\n",
        "dx = x[1] - x[0]\n",
        "for i in range(1, N-1):\n",
        "    H[i, i] = -2\n",
        "    H[i, i+1] = H[i, i-1] = 1\n",
        "H *= -hbar**2 / (2 * m_e * dx**2)\n",
        "\n",
        "# Evolve in time using matrix exponential\n",
        "def time_evolve(psi, H, dt, steps):\n",
        "    for _ in range(steps):\n",
        "        psi = np.dot(np.exp(-1j * H * dt / hbar), psi)\n",
        "        psi /= np.sqrt(np.sum(np.abs(psi)**2) * (x[1] - x[0]))  # Normalize at each step\n",
        "    return psi\n",
        "\n",
        "# Run and plot\n",
        "dt = 1e-16  # Time step\n",
        "psi = time_evolve(psi_0, H, dt, 100)\n",
        "plt.plot(x, np.abs(psi)**2)\n",
        "plt.xlabel(\"Position (m)\")\n",
        "plt.ylabel(\"Probability Density\")\n",
        "plt.title(\"Quantum Particle in a Potential Well\")\n",
        "plt.show()"
      ],
      "metadata": {
        "id": "CMfI85zSSD4t"
      },
      "execution_count": null,
      "outputs": []
    }
  ]
}