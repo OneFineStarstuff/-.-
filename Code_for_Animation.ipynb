{
  "nbformat": 4,
  "nbformat_minor": 0,
  "metadata": {
    "colab": {
      "private_outputs": true,
      "provenance": [],
      "authorship_tag": "ABX9TyNHckWyUySxNvk6kM0vqZGm",
      "include_colab_link": true
    },
    "kernelspec": {
      "name": "python3",
      "display_name": "Python 3"
    },
    "language_info": {
      "name": "python"
    }
  },
  "cells": [
    {
      "cell_type": "markdown",
      "metadata": {
        "id": "view-in-github",
        "colab_type": "text"
      },
      "source": [
        "<a href=\"https://colab.research.google.com/github/OneFineStarstuff/Onefinebot/blob/main/Code_for_Animation.ipynb\" target=\"_parent\"><img src=\"https://colab.research.google.com/assets/colab-badge.svg\" alt=\"Open In Colab\"/></a>"
      ]
    },
    {
      "cell_type": "code",
      "execution_count": null,
      "metadata": {
        "id": "L0r3y4rBjaAK"
      },
      "outputs": [],
      "source": [
        "import numpy as np\n",
        "import matplotlib.pyplot as plt\n",
        "from matplotlib.animation import FuncAnimation\n",
        "\n",
        "fig, ax = plt.subplots(figsize=(8, 8))\n",
        "ax.set_aspect('equal')\n",
        "ax.axis('off')\n",
        "\n",
        "# Initialize a list to store circles\n",
        "circles = []\n",
        "\n",
        "# Create initial circles with random colors and positions\n",
        "for i in range(10):\n",
        "    x, y = np.random.uniform(-1, 1), np.random.uniform(-1, 1)\n",
        "    radius = np.random.uniform(0.05, 0.2)\n",
        "    color = np.random.choice([\"#e74c3c\", \"#3498db\", \"#9b59b6\", \"#1abc9c\", \"#f1c40f\", \"#34495e\"])\n",
        "    circle = plt.Circle((x, y), radius, color=color, fill=True, alpha=0.7)\n",
        "    ax.add_artist(circle)\n",
        "    circles.append(circle)\n",
        "\n",
        "# Function to update circles for each frame\n",
        "def animate(frame):\n",
        "    for circle in circles:\n",
        "        # Update position with small random movement\n",
        "        x, y = circle.center\n",
        "        new_x = x + np.random.uniform(-0.02, 0.02)\n",
        "        new_y = y + np.random.uniform(-0.02, 0.02)\n",
        "        circle.center = (new_x, new_y)\n",
        "\n",
        "        # Randomly vary radius and color\n",
        "        circle.radius = max(0.05, circle.radius + np.random.uniform(-0.01, 0.01))\n",
        "        circle.set_alpha(0.5 + 0.5 * np.sin(frame / 10))  # Alpha oscillation for effect\n",
        "\n",
        "# Run the animation\n",
        "anim = FuncAnimation(fig, animate, frames=100, interval=50)\n",
        "plt.show()"
      ]
    }
  ]
}