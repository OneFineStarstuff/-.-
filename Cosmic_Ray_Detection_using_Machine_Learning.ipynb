{
  "nbformat": 4,
  "nbformat_minor": 0,
  "metadata": {
    "colab": {
      "private_outputs": true,
      "provenance": [],
      "authorship_tag": "ABX9TyNb6N7ZbWSfyQmTU8pBFBA6",
      "include_colab_link": true
    },
    "kernelspec": {
      "name": "python3",
      "display_name": "Python 3"
    },
    "language_info": {
      "name": "python"
    }
  },
  "cells": [
    {
      "cell_type": "markdown",
      "metadata": {
        "id": "view-in-github",
        "colab_type": "text"
      },
      "source": [
        "<a href=\"https://colab.research.google.com/github/OneFineStarstuff/Onefinebot/blob/main/Cosmic_Ray_Detection_using_Machine_Learning.ipynb\" target=\"_parent\"><img src=\"https://colab.research.google.com/assets/colab-badge.svg\" alt=\"Open In Colab\"/></a>"
      ]
    },
    {
      "cell_type": "code",
      "execution_count": null,
      "metadata": {
        "id": "x3W5qAH6b4oV"
      },
      "outputs": [],
      "source": [
        "import tensorflow as tf\n",
        "from tensorflow.keras.layers import Conv2D, MaxPooling2D, Flatten, Dense, Input\n",
        "from tensorflow.keras.models import Sequential\n",
        "from tensorflow.keras.preprocessing.image import ImageDataGenerator\n",
        "\n",
        "# Data augmentation for cosmic ray images\n",
        "datagen = ImageDataGenerator(rescale=1./255, rotation_range=15, width_shift_range=0.1, height_shift_range=0.1)\n",
        "\n",
        "# CNN Model for cosmic ray detection\n",
        "def build_cosmic_ray_cnn(input_shape):\n",
        "    model = Sequential([\n",
        "        Input(shape=input_shape),  # Define input shape using Input layer\n",
        "        Conv2D(32, (3, 3), activation='relu'),\n",
        "        MaxPooling2D((2, 2)),\n",
        "        Conv2D(64, (3, 3), activation='relu'),\n",
        "        MaxPooling2D((2, 2)),\n",
        "        Flatten(),\n",
        "        Dense(128, activation='relu'),\n",
        "        Dense(1, activation='sigmoid')  # Binary classification: cosmic ray vs. non-cosmic ray\n",
        "    ])\n",
        "    return model\n",
        "\n",
        "# Compile and train the model (assuming images are in 'cosmic_ray_data/train' directory)\n",
        "input_shape = (64, 64, 3)  # Example input shape for small image sizes\n",
        "model = build_cosmic_ray_cnn(input_shape)\n",
        "model.compile(optimizer='adam', loss='binary_crossentropy', metrics=['accuracy'])\n",
        "\n",
        "# Example model training (X_train, y_train as cosmic ray image data and labels)\n",
        "# model.fit(X_train, y_train, epochs=10, batch_size=32, validation_split=0.2)"
      ]
    }
  ]
}