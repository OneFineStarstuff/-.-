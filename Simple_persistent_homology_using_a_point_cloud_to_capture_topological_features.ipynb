{
  "nbformat": 4,
  "nbformat_minor": 0,
  "metadata": {
    "colab": {
      "private_outputs": true,
      "provenance": [],
      "authorship_tag": "ABX9TyOXpRJhV7CsWuRGfiQLscg9",
      "include_colab_link": true
    },
    "kernelspec": {
      "name": "python3",
      "display_name": "Python 3"
    },
    "language_info": {
      "name": "python"
    }
  },
  "cells": [
    {
      "cell_type": "markdown",
      "metadata": {
        "id": "view-in-github",
        "colab_type": "text"
      },
      "source": [
        "<a href=\"https://colab.research.google.com/github/OneFineStarstuff/Onefinebot/blob/main/Simple_persistent_homology_using_a_point_cloud_to_capture_topological_features.ipynb\" target=\"_parent\"><img src=\"https://colab.research.google.com/assets/colab-badge.svg\" alt=\"Open In Colab\"/></a>"
      ]
    },
    {
      "cell_type": "code",
      "source": [
        "!pip install giotto-tda"
      ],
      "metadata": {
        "id": "IAl0VrnuPovH"
      },
      "execution_count": null,
      "outputs": []
    },
    {
      "cell_type": "code",
      "execution_count": null,
      "metadata": {
        "id": "loI-m9sQPRTV"
      },
      "outputs": [],
      "source": [
        "import numpy as np\n",
        "import matplotlib.pyplot as plt\n",
        "from scipy.spatial import Delaunay\n",
        "from gtda.homology import VietorisRipsPersistence\n",
        "from gtda.plotting import plot_diagram\n",
        "\n",
        "# Generate random points\n",
        "points = np.random.rand(20, 2)\n",
        "\n",
        "# Use Vietoris-Rips complex for persistent homology\n",
        "VR = VietorisRipsPersistence(homology_dimensions=[0, 1])\n",
        "diagrams = VR.fit_transform([points])\n",
        "\n",
        "# Plot persistence diagram\n",
        "plot_diagram(diagrams[0])\n",
        "plt.show()"
      ]
    }
  ]
}