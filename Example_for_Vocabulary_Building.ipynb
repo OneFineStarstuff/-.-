{
  "nbformat": 4,
  "nbformat_minor": 0,
  "metadata": {
    "colab": {
      "private_outputs": true,
      "provenance": [],
      "authorship_tag": "ABX9TyO0KAM92wplSu/OLslt3mXt",
      "include_colab_link": true
    },
    "kernelspec": {
      "name": "python3",
      "display_name": "Python 3"
    },
    "language_info": {
      "name": "python"
    }
  },
  "cells": [
    {
      "cell_type": "markdown",
      "metadata": {
        "id": "view-in-github",
        "colab_type": "text"
      },
      "source": [
        "<a href=\"https://colab.research.google.com/github/OneFineStarstuff/Onefinebot/blob/main/Example_for_Vocabulary_Building.ipynb\" target=\"_parent\"><img src=\"https://colab.research.google.com/assets/colab-badge.svg\" alt=\"Open In Colab\"/></a>"
      ]
    },
    {
      "cell_type": "code",
      "execution_count": null,
      "metadata": {
        "id": "jvW3_icPGfk1"
      },
      "outputs": [],
      "source": [
        "class LanguageBot:\n",
        "    def __init__(self):\n",
        "        self.vocabulary = {\"Hello\": \"Hola\", \"Thank you\": \"Gracias\", \"Goodbye\": \"Adiós\"}  # Initialize the vocabulary dictionary with predefined English words and Spanish translations\n",
        "\n",
        "    def translate_word(self, word):\n",
        "        # Return the translation for the specified word\n",
        "        return self.vocabulary.get(word, \"Translation not available.\")\n",
        "\n",
        "# Example Usage\n",
        "lang_bot = LanguageBot()\n",
        "print(lang_bot.translate_word(\"Hello\"))\n",
        "# Output: Hola"
      ]
    }
  ]
}