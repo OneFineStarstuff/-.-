{
  "nbformat": 4,
  "nbformat_minor": 0,
  "metadata": {
    "colab": {
      "private_outputs": true,
      "provenance": [],
      "authorship_tag": "ABX9TyNPypbga4dJ/mCKD+38jCQv",
      "include_colab_link": true
    },
    "kernelspec": {
      "name": "python3",
      "display_name": "Python 3"
    },
    "language_info": {
      "name": "python"
    }
  },
  "cells": [
    {
      "cell_type": "markdown",
      "metadata": {
        "id": "view-in-github",
        "colab_type": "text"
      },
      "source": [
        "<a href=\"https://colab.research.google.com/github/OneFineStarstuff/Onefinebot/blob/main/Machine_Learning_in_Condensed_Matter_Physics_Identifying_Phases_of_Matter.ipynb\" target=\"_parent\"><img src=\"https://colab.research.google.com/assets/colab-badge.svg\" alt=\"Open In Colab\"/></a>"
      ]
    },
    {
      "cell_type": "code",
      "execution_count": null,
      "metadata": {
        "id": "Ob_NdOLNDJN5"
      },
      "outputs": [],
      "source": [
        "import torch\n",
        "import torch.nn as nn\n",
        "import torch.optim as optim\n",
        "import numpy as np\n",
        "\n",
        "# Simulated data representing two phases\n",
        "X = np.random.rand(1000, 10)\n",
        "y = np.where(np.mean(X, axis=1) > 0.5, 1, 0)  # Labels 0 and 1 for two phases\n",
        "\n",
        "# Convert to tensors\n",
        "X_train = torch.tensor(X, dtype=torch.float32)\n",
        "y_train = torch.tensor(y, dtype=torch.long)\n",
        "\n",
        "# Define neural network\n",
        "class PhaseClassifier(nn.Module):\n",
        "    def __init__(self):\n",
        "        super(PhaseClassifier, self).__init__()\n",
        "        self.fc1 = nn.Linear(10, 64)\n",
        "        self.fc2 = nn.Linear(64, 2)  # Output for two phases\n",
        "\n",
        "    def forward(self, x):\n",
        "        x = torch.relu(self.fc1(x))\n",
        "        return self.fc2(x)\n",
        "\n",
        "# Initialize model, loss function, and optimizer\n",
        "model = PhaseClassifier()\n",
        "criterion = nn.CrossEntropyLoss()\n",
        "optimizer = optim.Adam(model.parameters(), lr=0.01)\n",
        "\n",
        "# Training loop\n",
        "for epoch in range(100):\n",
        "    optimizer.zero_grad()\n",
        "    output = model(X_train)\n",
        "    loss = criterion(output, y_train)\n",
        "    loss.backward()\n",
        "    optimizer.step()\n",
        "    if epoch % 10 == 0:\n",
        "        print(f\"Epoch {epoch}, Loss: {loss.item():.4f}\")\n",
        "\n",
        "# Testing on new sample\n",
        "X_test = torch.tensor(np.random.rand(1, 10), dtype=torch.float32)\n",
        "phase_prediction = model(X_test).argmax().item()\n",
        "print(f\"Predicted phase: {phase_prediction}\")"
      ]
    }
  ]
}