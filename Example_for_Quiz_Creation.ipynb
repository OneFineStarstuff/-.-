{
  "nbformat": 4,
  "nbformat_minor": 0,
  "metadata": {
    "colab": {
      "private_outputs": true,
      "provenance": [],
      "authorship_tag": "ABX9TyM+TVfTjIyZyM6yJfHRoW5k",
      "include_colab_link": true
    },
    "kernelspec": {
      "name": "python3",
      "display_name": "Python 3"
    },
    "language_info": {
      "name": "python"
    }
  },
  "cells": [
    {
      "cell_type": "markdown",
      "metadata": {
        "id": "view-in-github",
        "colab_type": "text"
      },
      "source": [
        "<a href=\"https://colab.research.google.com/github/OneFineStarstuff/Onefinebot/blob/main/Example_for_Quiz_Creation.ipynb\" target=\"_parent\"><img src=\"https://colab.research.google.com/assets/colab-badge.svg\" alt=\"Open In Colab\"/></a>"
      ]
    },
    {
      "cell_type": "code",
      "execution_count": null,
      "metadata": {
        "id": "Qokz2PjFMZun"
      },
      "outputs": [],
      "source": [
        "class Quiz:\n",
        "    def __init__(self):\n",
        "        self.questions = []  # Initialize an empty list to store quiz questions and answers\n",
        "\n",
        "    def add_question(self, question, answer):\n",
        "        # Append the question and its answer to the questions list\n",
        "        self.questions.append({\"question\": question, \"answer\": answer})\n",
        "\n",
        "    def take_quiz(self):\n",
        "        score = 0\n",
        "        # Iterate through the list of questions\n",
        "        for q in self.questions:\n",
        "            # Prompt the user to answer each question\n",
        "            user_answer = input(q[\"question\"] + \" \")\n",
        "            # Compare the user's answer to the correct answer (case-insensitive)\n",
        "            if user_answer.lower() == q[\"answer\"].lower():\n",
        "                score += 1\n",
        "        # Return the user's score out of the number of questions\n",
        "        return f\"Your score: {score}/{len(self.questions)}\"\n",
        "\n",
        "# Example Usage\n",
        "quiz = Quiz()\n",
        "quiz.add_question(\"What is the capital of France?\", \"Paris\")\n",
        "quiz.add_question(\"What is 2 + 2?\", \"4\")\n",
        "# quiz.take_quiz() (Interactive mode)"
      ]
    }
  ]
}