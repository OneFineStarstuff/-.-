{
  "nbformat": 4,
  "nbformat_minor": 0,
  "metadata": {
    "colab": {
      "private_outputs": true,
      "provenance": [],
      "authorship_tag": "ABX9TyPKSGg4fa9XZJ7YiVjlge5H",
      "include_colab_link": true
    },
    "kernelspec": {
      "name": "python3",
      "display_name": "Python 3"
    },
    "language_info": {
      "name": "python"
    }
  },
  "cells": [
    {
      "cell_type": "markdown",
      "metadata": {
        "id": "view-in-github",
        "colab_type": "text"
      },
      "source": [
        "<a href=\"https://colab.research.google.com/github/OneFineStarstuff/Onefinebot/blob/main/Example_for_Quiz_Creation.ipynb\" target=\"_parent\"><img src=\"https://colab.research.google.com/assets/colab-badge.svg\" alt=\"Open In Colab\"/></a>"
      ]
    },
    {
      "cell_type": "code",
      "execution_count": null,
      "metadata": {
        "id": "JBXvwqZu8Df0"
      },
      "outputs": [],
      "source": [
        "class QuizGenerator:\n",
        "    def __init__(self):\n",
        "        self.questions = []  # Initialize an empty list to store quiz questions\n",
        "\n",
        "    def add_question(self, question, options, correct_option):\n",
        "        # Append the question, options, and correct option to the questions list\n",
        "        self.questions.append({\"question\": question, \"options\": options, \"correct_option\": correct_option})\n",
        "\n",
        "    def get_quiz(self):\n",
        "        # Return the list of all quiz questions\n",
        "        return self.questions\n",
        "\n",
        "# Example Usage\n",
        "quiz = QuizGenerator()\n",
        "quiz.add_question(\n",
        "    \"What is the capital of France?\",\n",
        "    [\"Paris\", \"Berlin\", \"Madrid\", \"Rome\"],\n",
        "    \"Paris\"\n",
        ")\n",
        "quiz.add_question(\n",
        "    \"What is 5 + 3?\",\n",
        "    [\"6\", \"7\", \"8\", \"9\"],\n",
        "    \"8\"\n",
        ")\n",
        "print(quiz.get_quiz())\n",
        "# Output: [{'question': 'What is the capital of France?', 'options': ['Paris', 'Berlin', 'Madrid', 'Rome'], 'correct_option': 'Paris'}, {'question': 'What is 5 + 3?', 'options': ['6', '7', '8', '9'], 'correct_option': '8'}]"
      ]
    }
  ]
}