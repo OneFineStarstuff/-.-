{
  "nbformat": 4,
  "nbformat_minor": 0,
  "metadata": {
    "colab": {
      "private_outputs": true,
      "provenance": [],
      "authorship_tag": "ABX9TyM5FrS0Wn92ApL1W7qOozMS",
      "include_colab_link": true
    },
    "kernelspec": {
      "name": "python3",
      "display_name": "Python 3"
    },
    "language_info": {
      "name": "python"
    }
  },
  "cells": [
    {
      "cell_type": "markdown",
      "metadata": {
        "id": "view-in-github",
        "colab_type": "text"
      },
      "source": [
        "<a href=\"https://colab.research.google.com/github/OneFineStarstuff/Onefinebot/blob/main/Body_Language_and_Posture_Recognition.ipynb\" target=\"_parent\"><img src=\"https://colab.research.google.com/assets/colab-badge.svg\" alt=\"Open In Colab\"/></a>"
      ]
    },
    {
      "cell_type": "code",
      "source": [
        "pip install deepface"
      ],
      "metadata": {
        "id": "zbFLUELJiVpG"
      },
      "execution_count": null,
      "outputs": []
    },
    {
      "cell_type": "code",
      "execution_count": null,
      "metadata": {
        "id": "8COg8TAuiCxE"
      },
      "outputs": [],
      "source": [
        "from deepface import DeepFace\n",
        "\n",
        "def recognize_emotion(image):\n",
        "    try:\n",
        "        # Analyze the image for emotions\n",
        "        emotions = DeepFace.analyze(image, actions=['emotion'])\n",
        "        dominant_emotion = emotions['dominant_emotion']\n",
        "        return dominant_emotion\n",
        "    except Exception as e:\n",
        "        return f\"An error occurred: {e}\"\n",
        "\n",
        "# Example usage\n",
        "# image_path = \"path_to_image.jpg\"\n",
        "# emotion = recognize_emotion(image_path)\n",
        "# print(\"Dominant Emotion:\", emotion)"
      ]
    }
  ]
}