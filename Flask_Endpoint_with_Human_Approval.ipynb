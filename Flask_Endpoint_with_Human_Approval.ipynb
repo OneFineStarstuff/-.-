{
  "nbformat": 4,
  "nbformat_minor": 0,
  "metadata": {
    "colab": {
      "private_outputs": true,
      "provenance": [],
      "authorship_tag": "ABX9TyPAC394YF/0xCERSFs3rNUi",
      "include_colab_link": true
    },
    "kernelspec": {
      "name": "python3",
      "display_name": "Python 3"
    },
    "language_info": {
      "name": "python"
    }
  },
  "cells": [
    {
      "cell_type": "markdown",
      "metadata": {
        "id": "view-in-github",
        "colab_type": "text"
      },
      "source": [
        "<a href=\"https://colab.research.google.com/github/OneFineStarstuff/Onefinebot/blob/main/Flask_Endpoint_with_Human_Approval.ipynb\" target=\"_parent\"><img src=\"https://colab.research.google.com/assets/colab-badge.svg\" alt=\"Open In Colab\"/></a>"
      ]
    },
    {
      "cell_type": "code",
      "execution_count": null,
      "metadata": {
        "id": "4tthc4rpMt3j"
      },
      "outputs": [],
      "source": [
        "from flask import Flask, request, jsonify\n",
        "\n",
        "app = Flask(__name__)\n",
        "\n",
        "pending_tasks = []\n",
        "\n",
        "@app.route(\"/submit\", methods=[\"POST\"])\n",
        "def submit_task():\n",
        "    task = request.json.get(\"task\")\n",
        "    pending_tasks.append(task)\n",
        "    return jsonify({\"message\": \"Task submitted for review\", \"task\": task})\n",
        "\n",
        "@app.route(\"/approve\", methods=[\"POST\"])\n",
        "def approve_task():\n",
        "    task = request.json.get(\"task\")\n",
        "    if task in pending_tasks:\n",
        "        pending_tasks.remove(task)\n",
        "        return jsonify({\"message\": \"Task approved\", \"task\": task})\n",
        "    return jsonify({\"error\": \"Task not found\"}), 404\n",
        "\n",
        "if __name__ == \"__main__\":\n",
        "    app.run(host=\"0.0.0.0\", port=5000)"
      ]
    }
  ]
}