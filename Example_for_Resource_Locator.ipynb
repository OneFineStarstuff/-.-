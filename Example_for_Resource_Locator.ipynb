{
  "nbformat": 4,
  "nbformat_minor": 0,
  "metadata": {
    "colab": {
      "private_outputs": true,
      "provenance": [],
      "authorship_tag": "ABX9TyOxN2kPOOZ0hqeLui7P+KnC",
      "include_colab_link": true
    },
    "kernelspec": {
      "name": "python3",
      "display_name": "Python 3"
    },
    "language_info": {
      "name": "python"
    }
  },
  "cells": [
    {
      "cell_type": "markdown",
      "metadata": {
        "id": "view-in-github",
        "colab_type": "text"
      },
      "source": [
        "<a href=\"https://colab.research.google.com/github/OneFineStarstuff/Onefinebot/blob/main/Example_for_Resource_Locator.ipynb\" target=\"_parent\"><img src=\"https://colab.research.google.com/assets/colab-badge.svg\" alt=\"Open In Colab\"/></a>"
      ]
    },
    {
      "cell_type": "code",
      "execution_count": null,
      "metadata": {
        "id": "IRLjW6_0h270"
      },
      "outputs": [],
      "source": [
        "class ResourceLocator:\n",
        "    def __init__(self):\n",
        "        self.resources = {\n",
        "            \"Hospital\": [\"City Hospital\", \"Green Valley Clinic\"],\n",
        "            \"Shelter\": [\"Red Cross Shelter\", \"Community Hall\"]\n",
        "        }  # Initialize the resources dictionary with predefined resource types and corresponding resources\n",
        "\n",
        "    def find_resources(self, resource_type):\n",
        "        # Retrieve the list of resources for the specified resource type\n",
        "        return self.resources.get(resource_type, \"No resources available.\")\n",
        "\n",
        "# Example Usage\n",
        "locator = ResourceLocator()\n",
        "print(locator.find_resources(\"Hospital\"))\n",
        "# Output: ['City Hospital', 'Green Valley Clinic']"
      ]
    }
  ]
}