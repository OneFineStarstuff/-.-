{
  "nbformat": 4,
  "nbformat_minor": 0,
  "metadata": {
    "colab": {
      "private_outputs": true,
      "provenance": [],
      "authorship_tag": "ABX9TyNFJRQUG9wsfyqC2kB6EyjV",
      "include_colab_link": true
    },
    "kernelspec": {
      "name": "python3",
      "display_name": "Python 3"
    },
    "language_info": {
      "name": "python"
    }
  },
  "cells": [
    {
      "cell_type": "markdown",
      "metadata": {
        "id": "view-in-github",
        "colab_type": "text"
      },
      "source": [
        "<a href=\"https://colab.research.google.com/github/OneFineStarstuff/Onefinebot/blob/main/Example_for_Production_Scheduling.ipynb\" target=\"_parent\"><img src=\"https://colab.research.google.com/assets/colab-badge.svg\" alt=\"Open In Colab\"/></a>"
      ]
    },
    {
      "cell_type": "code",
      "execution_count": null,
      "metadata": {
        "id": "FnDiAqhhUerO"
      },
      "outputs": [],
      "source": [
        "class ProductionScheduler:\n",
        "    def __init__(self):\n",
        "        self.schedule = []  # Initialize an empty list to store production tasks\n",
        "\n",
        "    def add_task(self, product, quantity, deadline):\n",
        "        # Append the product, quantity, and deadline to the schedule list\n",
        "        self.schedule.append({\"product\": product, \"quantity\": quantity, \"deadline\": deadline})\n",
        "\n",
        "    def get_schedule(self):\n",
        "        # Return the list of all scheduled tasks\n",
        "        return self.schedule\n",
        "\n",
        "# Example Usage\n",
        "scheduler = ProductionScheduler()\n",
        "scheduler.add_task(\"Widget A\", 500, \"2024-12-31\")\n",
        "print(scheduler.get_schedule())\n",
        "# Output: [{'product': 'Widget A', 'quantity': 500, 'deadline': '2024-12-31'}]"
      ]
    }
  ]
}