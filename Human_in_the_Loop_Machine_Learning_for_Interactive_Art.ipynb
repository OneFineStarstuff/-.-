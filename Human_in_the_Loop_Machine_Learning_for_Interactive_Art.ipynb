{
  "nbformat": 4,
  "nbformat_minor": 0,
  "metadata": {
    "colab": {
      "private_outputs": true,
      "provenance": [],
      "authorship_tag": "ABX9TyMt9hGloQnFIQhZ00j5f6q1",
      "include_colab_link": true
    },
    "kernelspec": {
      "name": "python3",
      "display_name": "Python 3"
    },
    "language_info": {
      "name": "python"
    }
  },
  "cells": [
    {
      "cell_type": "markdown",
      "metadata": {
        "id": "view-in-github",
        "colab_type": "text"
      },
      "source": [
        "<a href=\"https://colab.research.google.com/github/OneFineStarstuff/Onefinebot/blob/main/Human_in_the_Loop_Machine_Learning_for_Interactive_Art.ipynb\" target=\"_parent\"><img src=\"https://colab.research.google.com/assets/colab-badge.svg\" alt=\"Open In Colab\"/></a>"
      ]
    },
    {
      "cell_type": "code",
      "execution_count": null,
      "metadata": {
        "id": "ALTcuVCJJFle"
      },
      "outputs": [],
      "source": [
        "from torchvision import transforms\n",
        "from PIL import Image\n",
        "import os\n",
        "\n",
        "def apply_style(content_img, style_img, strength):\n",
        "    # Simplified approach - blend two images based on user strength input\n",
        "    return Image.blend(content_img, style_img, alpha=strength)\n",
        "\n",
        "def main():\n",
        "    # Load images and handle errors if files are not found\n",
        "    try:\n",
        "        content_img = Image.open(\"content.jpg\")\n",
        "        style_img = Image.open(\"style.jpg\")\n",
        "    except FileNotFoundError as e:\n",
        "        print(f\"Error: {e}\")\n",
        "        return\n",
        "\n",
        "    # Ensure images are the same size\n",
        "    if content_img.size != style_img.size:\n",
        "        print(\"Error: Images must be the same size.\")\n",
        "        return\n",
        "\n",
        "    # Apply style transfer\n",
        "    strength = 0.5  # Adjust the strength of the style\n",
        "    stylized_img = apply_style(content_img, style_img, strength)\n",
        "    stylized_img.show()\n",
        "\n",
        "# Run the main function\n",
        "if __name__ == \"__main__\":\n",
        "    main()"
      ]
    }
  ]
}