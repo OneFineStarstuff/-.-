{
  "nbformat": 4,
  "nbformat_minor": 0,
  "metadata": {
    "colab": {
      "private_outputs": true,
      "provenance": [],
      "authorship_tag": "ABX9TyMIXWk+HghaiGTwJrtUq2g2",
      "include_colab_link": true
    },
    "kernelspec": {
      "name": "python3",
      "display_name": "Python 3"
    },
    "language_info": {
      "name": "python"
    }
  },
  "cells": [
    {
      "cell_type": "markdown",
      "metadata": {
        "id": "view-in-github",
        "colab_type": "text"
      },
      "source": [
        "<a href=\"https://colab.research.google.com/github/OneFineStarstuff/Onefinebot/blob/main/Climate_Modeling_with_Xarray.ipynb\" target=\"_parent\"><img src=\"https://colab.research.google.com/assets/colab-badge.svg\" alt=\"Open In Colab\"/></a>"
      ]
    },
    {
      "cell_type": "code",
      "execution_count": null,
      "metadata": {
        "id": "e52abs_7lqRm"
      },
      "outputs": [],
      "source": [
        "pip install xarray"
      ]
    },
    {
      "cell_type": "code",
      "source": [
        "import xarray as xr\n",
        "import numpy as np\n",
        "import pandas as pd\n",
        "\n",
        "# Create a sample dataset\n",
        "data = np.random.rand(5, 5)\n",
        "times = pd.date_range(\"2021-01-01\", periods=5)\n",
        "latitudes = np.linspace(-90, 90, 5)\n",
        "longitudes = np.linspace(-180, 180, 5)\n",
        "\n",
        "dataset = xr.Dataset(\n",
        "    {\n",
        "        \"temperature\": ([\"time\", \"latitude\"], data),\n",
        "    },\n",
        "    coords={\n",
        "        \"time\": times,\n",
        "        \"latitude\": latitudes,\n",
        "        \"longitude\": longitudes,\n",
        "    },\n",
        ")\n",
        "\n",
        "# Save to a NetCDF file\n",
        "dataset.to_netcdf(\"sample_climate_data.nc\")"
      ],
      "metadata": {
        "id": "NMATMg6rn9oz"
      },
      "execution_count": null,
      "outputs": []
    },
    {
      "cell_type": "code",
      "source": [
        "import xarray as xr\n",
        "\n",
        "# Example climate dataset (NetCDF format)\n",
        "dataset = xr.open_dataset(\"path_to_climate_data.nc\")\n",
        "temperature = dataset[\"temperature\"].mean(dim=\"time\")\n",
        "print(temperature)"
      ],
      "metadata": {
        "id": "hK5eFs9gnGQV"
      },
      "execution_count": null,
      "outputs": []
    }
  ]
}