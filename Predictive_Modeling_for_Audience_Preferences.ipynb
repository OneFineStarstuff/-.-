{
  "nbformat": 4,
  "nbformat_minor": 0,
  "metadata": {
    "colab": {
      "private_outputs": true,
      "provenance": [],
      "authorship_tag": "ABX9TyNqfIZG28LuzMSb454lAG/m",
      "include_colab_link": true
    },
    "kernelspec": {
      "name": "python3",
      "display_name": "Python 3"
    },
    "language_info": {
      "name": "python"
    }
  },
  "cells": [
    {
      "cell_type": "markdown",
      "metadata": {
        "id": "view-in-github",
        "colab_type": "text"
      },
      "source": [
        "<a href=\"https://colab.research.google.com/github/OneFineStarstuff/Onefinebot/blob/main/Predictive_Modeling_for_Audience_Preferences.ipynb\" target=\"_parent\"><img src=\"https://colab.research.google.com/assets/colab-badge.svg\" alt=\"Open In Colab\"/></a>"
      ]
    },
    {
      "cell_type": "code",
      "execution_count": null,
      "metadata": {
        "id": "iuGmIypwi5vf"
      },
      "outputs": [],
      "source": [
        "import random\n",
        "\n",
        "class InteractiveArtRL:\n",
        "    def __init__(self, learning_rate=0.1):\n",
        "        self.preferences = {\"calm\": 0, \"exciting\": 0}\n",
        "        self.learning_rate = learning_rate\n",
        "\n",
        "    def adjust_art_based_on_feedback(self, feedback):\n",
        "        if feedback == \"positive\":\n",
        "            self.preferences[\"exciting\"] += random.uniform(0, 1) * self.learning_rate\n",
        "        elif feedback == \"neutral\":\n",
        "            self.preferences[\"calm\"] += random.uniform(0, 1) * self.learning_rate\n",
        "        elif feedback == \"negative\":\n",
        "            # Penalize exciting preference\n",
        "            self.preferences[\"exciting\"] -= random.uniform(0, 1) * self.learning_rate\n",
        "            # Ensure preferences don't go below 0\n",
        "            self.preferences[\"exciting\"] = max(self.preferences[\"exciting\"], 0)\n",
        "\n",
        "        # Ensure preferences stay within a reasonable range\n",
        "        self.preferences[\"calm\"] = min(max(self.preferences[\"calm\"], 0), 10)\n",
        "        self.preferences[\"exciting\"] = min(max(self.preferences[\"exciting\"], 0), 10)\n",
        "\n",
        "        return self.preferences\n",
        "\n",
        "# Example usage\n",
        "art_rl_agent = InteractiveArtRL()\n",
        "print(\"Initial Preferences:\", art_rl_agent.preferences)\n",
        "\n",
        "# Simulate some feedback\n",
        "feedbacks = [\"positive\", \"neutral\", \"negative\", \"positive\"]\n",
        "for feedback in feedbacks:\n",
        "    updated_preferences = art_rl_agent.adjust_art_based_on_feedback(feedback)\n",
        "    print(f\"After {feedback} feedback: {updated_preferences}\")"
      ]
    }
  ]
}