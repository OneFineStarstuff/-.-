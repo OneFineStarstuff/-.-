{
  "nbformat": 4,
  "nbformat_minor": 0,
  "metadata": {
    "colab": {
      "private_outputs": true,
      "provenance": [],
      "authorship_tag": "ABX9TyOMJ/DJwNCRushIIozXGE5x",
      "include_colab_link": true
    },
    "kernelspec": {
      "name": "python3",
      "display_name": "Python 3"
    },
    "language_info": {
      "name": "python"
    }
  },
  "cells": [
    {
      "cell_type": "markdown",
      "metadata": {
        "id": "view-in-github",
        "colab_type": "text"
      },
      "source": [
        "<a href=\"https://colab.research.google.com/github/OneFineStarstuff/Onefinebot/blob/main/Sound_Synthesis_and_Audio_Manipulation_Using_Neural_Networks.ipynb\" target=\"_parent\"><img src=\"https://colab.research.google.com/assets/colab-badge.svg\" alt=\"Open In Colab\"/></a>"
      ]
    },
    {
      "cell_type": "code",
      "execution_count": null,
      "metadata": {
        "id": "rlCTUJqCHXFr"
      },
      "outputs": [],
      "source": [
        "import torch\n",
        "import torch.nn as nn\n",
        "import numpy as np\n",
        "from scipy.io.wavfile import write\n",
        "\n",
        "# Assuming you have a trained WaveGAN model saved as 'wavegan_generator.pth'\n",
        "class WaveGANGenerator(nn.Module):\n",
        "    def __init__(self):\n",
        "        super(WaveGANGenerator, self).__init__()\n",
        "        # Define the generator layers here, matching the architecture you trained\n",
        "        self.model = nn.Sequential(\n",
        "            nn.ConvTranspose1d(100, 256, 25, stride=4, padding=11),\n",
        "            nn.ReLU(),\n",
        "            nn.ConvTranspose1d(256, 128, 25, stride=4, padding=11),\n",
        "            nn.ReLU(),\n",
        "            nn.ConvTranspose1d(128, 64, 25, stride=4, padding=11),\n",
        "            nn.ReLU(),\n",
        "            nn.ConvTranspose1d(64, 1, 25, stride=4, padding=11),\n",
        "            nn.Tanh()\n",
        "        )\n",
        "\n",
        "    def forward(self, z):\n",
        "        return self.model(z)\n",
        "\n",
        "# Load the trained generator model\n",
        "generator = WaveGANGenerator()\n",
        "generator.load_state_dict(torch.load(\"wavegan_generator.pth\"))\n",
        "generator.eval()  # Set the model to evaluation mode\n",
        "\n",
        "# Generate audio waveform\n",
        "latent_dim = 100\n",
        "z = torch.randn(1, latent_dim, 1)  # Adjust dimensions as per your model\n",
        "wave_output = generator(z).detach().cpu().numpy()\n",
        "\n",
        "# Assuming wave_output is of shape (1, 16384) or similar, matching WaveGAN's typical output shape\n",
        "\n",
        "# Reshape to a 1D array if needed\n",
        "wave_output = wave_output.reshape(-1)\n",
        "\n",
        "# Normalize to the range of int16\n",
        "wave_output = (wave_output * 32767).astype(np.int16)\n",
        "\n",
        "# Save the audio to a file\n",
        "sample_rate = 16000  # Typically used sample rate for WaveGAN\n",
        "write(\"generated_audio.wav\", sample_rate, wave_output)\n",
        "\n",
        "print(\"Generated audio saved as 'generated_audio.wav'\")"
      ]
    }
  ]
}