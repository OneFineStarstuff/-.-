{
  "nbformat": 4,
  "nbformat_minor": 0,
  "metadata": {
    "colab": {
      "private_outputs": true,
      "provenance": [],
      "authorship_tag": "ABX9TyPbQdAbQyI6Rd4f2Z40tlyy",
      "include_colab_link": true
    },
    "kernelspec": {
      "name": "python3",
      "display_name": "Python 3"
    },
    "language_info": {
      "name": "python"
    }
  },
  "cells": [
    {
      "cell_type": "markdown",
      "metadata": {
        "id": "view-in-github",
        "colab_type": "text"
      },
      "source": [
        "<a href=\"https://colab.research.google.com/github/OneFineStarstuff/Onefinebot/blob/main/Example_for_Clause_Extraction.ipynb\" target=\"_parent\"><img src=\"https://colab.research.google.com/assets/colab-badge.svg\" alt=\"Open In Colab\"/></a>"
      ]
    },
    {
      "cell_type": "code",
      "execution_count": null,
      "metadata": {
        "id": "p3Ys90MXRJNM"
      },
      "outputs": [],
      "source": [
        "import re\n",
        "\n",
        "def extract_clauses(document, keywords):\n",
        "    clauses = []\n",
        "    for keyword in keywords:\n",
        "        pattern = rf\"(.*?{keyword}.*?\\.)\"  # Construct regex pattern to match clauses containing the keyword\n",
        "        matches = re.findall(pattern, document, re.IGNORECASE)  # Find all matches (case-insensitive)\n",
        "        clauses.extend(matches)  # Add matches to the clauses list\n",
        "    return clauses\n",
        "\n",
        "# Example Usage\n",
        "doc = \"The tenant shall pay rent on the first of every month. Termination of this lease requires 30 days' notice.\"\n",
        "keywords = [\"rent\", \"termination\"]\n",
        "extracted = extract_clauses(doc, keywords)\n",
        "print(extracted)  # Output: ['The tenant shall pay rent on the first of every month.', \"Termination of this lease requires 30 days' notice.\"]"
      ]
    }
  ]
}