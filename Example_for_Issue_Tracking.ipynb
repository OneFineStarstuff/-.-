{
  "nbformat": 4,
  "nbformat_minor": 0,
  "metadata": {
    "colab": {
      "private_outputs": true,
      "provenance": [],
      "authorship_tag": "ABX9TyMj+HMA39dBOVE5yVzBjvqk",
      "include_colab_link": true
    },
    "kernelspec": {
      "name": "python3",
      "display_name": "Python 3"
    },
    "language_info": {
      "name": "python"
    }
  },
  "cells": [
    {
      "cell_type": "markdown",
      "metadata": {
        "id": "view-in-github",
        "colab_type": "text"
      },
      "source": [
        "<a href=\"https://colab.research.google.com/github/OneFineStarstuff/Onefinebot/blob/main/Example_for_Issue_Tracking.ipynb\" target=\"_parent\"><img src=\"https://colab.research.google.com/assets/colab-badge.svg\" alt=\"Open In Colab\"/></a>"
      ]
    },
    {
      "cell_type": "code",
      "execution_count": null,
      "metadata": {
        "id": "F8V8ygyken7W"
      },
      "outputs": [],
      "source": [
        "class IssueTracker:\n",
        "    def __init__(self):\n",
        "        self.issues = []  # Initialize an empty list to store issues\n",
        "\n",
        "    def log_issue(self, user, issue_description):\n",
        "        # Assign a unique ID to the issue\n",
        "        issue_id = len(self.issues) + 1\n",
        "        # Append the issue details to the issues list\n",
        "        self.issues.append({\"id\": issue_id, \"user\": user, \"issue\": issue_description, \"status\": \"open\"})\n",
        "        return f\"Issue logged with ID: {issue_id}\"\n",
        "\n",
        "    def update_issue(self, issue_id, status):\n",
        "        # Iterate through the issues list to find the issue with the matching ID\n",
        "        for issue in self.issues:\n",
        "            if issue[\"id\"] == issue_id:\n",
        "                # Update the status if the issue is found\n",
        "                issue[\"status\"] = status\n",
        "                return f\"Issue {issue_id} updated to {status}.\"\n",
        "        # Return an error message if the issue is not found\n",
        "        return \"Issue not found.\"\n",
        "\n",
        "# Example Usage\n",
        "tracker = IssueTracker()\n",
        "issue_id = tracker.log_issue(\"John Doe\", \"Unable to login\")\n",
        "tracker.update_issue(issue_id, \"resolved\")\n",
        "print(tracker.issues)\n",
        "# Output: [{'id': 1, 'user': 'John Doe', 'issue': 'Unable to login', 'status': 'resolved'}]"
      ]
    }
  ]
}