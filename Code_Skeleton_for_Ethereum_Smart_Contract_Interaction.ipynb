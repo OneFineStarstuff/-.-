{
  "nbformat": 4,
  "nbformat_minor": 0,
  "metadata": {
    "colab": {
      "private_outputs": true,
      "provenance": [],
      "authorship_tag": "ABX9TyP4ashvA4Pix5UEDEPGw19r",
      "include_colab_link": true
    },
    "kernelspec": {
      "name": "python3",
      "display_name": "Python 3"
    },
    "language_info": {
      "name": "python"
    }
  },
  "cells": [
    {
      "cell_type": "markdown",
      "metadata": {
        "id": "view-in-github",
        "colab_type": "text"
      },
      "source": [
        "<a href=\"https://colab.research.google.com/github/OneFineStarstuff/Onefinebot/blob/main/Code_Skeleton_for_Ethereum_Smart_Contract_Interaction.ipynb\" target=\"_parent\"><img src=\"https://colab.research.google.com/assets/colab-badge.svg\" alt=\"Open In Colab\"/></a>"
      ]
    },
    {
      "cell_type": "code",
      "source": [
        "pip install web3"
      ],
      "metadata": {
        "id": "Lu3TcmAa2ylA"
      },
      "execution_count": null,
      "outputs": []
    },
    {
      "cell_type": "code",
      "execution_count": null,
      "metadata": {
        "id": "LxlftbhO2WUt"
      },
      "outputs": [],
      "source": [
        "from web3 import Web3\n",
        "\n",
        "# Connect to Ethereum Node\n",
        "w3 = Web3(Web3.HTTPProvider(\"https://mainnet.infura.io/v3/YOUR_INFURA_PROJECT_ID\"))\n",
        "\n",
        "# Smart Contract ABI and Address\n",
        "contract_address = \"0xContractAddressHere\"\n",
        "contract_abi = [\n",
        "    # Paste your ABI JSON here\n",
        "]\n",
        "\n",
        "# Connect to Contract\n",
        "contract = w3.eth.contract(address=contract_address, abi=contract_abi)\n",
        "\n",
        "def get_nft_owner(token_id):\n",
        "    return contract.functions.ownerOf(token_id).call()\n",
        "\n",
        "# Example Usage\n",
        "owner = get_nft_owner(1)\n",
        "print(f\"The owner of the NFT is: {owner}\")"
      ]
    }
  ]
}