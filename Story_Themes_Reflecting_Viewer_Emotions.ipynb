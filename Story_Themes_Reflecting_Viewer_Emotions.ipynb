{
  "nbformat": 4,
  "nbformat_minor": 0,
  "metadata": {
    "colab": {
      "private_outputs": true,
      "provenance": [],
      "authorship_tag": "ABX9TyMrKqBIQ05N41M4P8yHHGTF",
      "include_colab_link": true
    },
    "kernelspec": {
      "name": "python3",
      "display_name": "Python 3"
    },
    "language_info": {
      "name": "python"
    }
  },
  "cells": [
    {
      "cell_type": "markdown",
      "metadata": {
        "id": "view-in-github",
        "colab_type": "text"
      },
      "source": [
        "<a href=\"https://colab.research.google.com/github/OneFineStarstuff/Onefinebot/blob/main/Story_Themes_Reflecting_Viewer_Emotions.ipynb\" target=\"_parent\"><img src=\"https://colab.research.google.com/assets/colab-badge.svg\" alt=\"Open In Colab\"/></a>"
      ]
    },
    {
      "cell_type": "code",
      "execution_count": null,
      "metadata": {
        "id": "hEuWQOuenzKN"
      },
      "outputs": [],
      "source": [
        "from transformers import pipeline\n",
        "\n",
        "# Load the text generation model (GPT-2)\n",
        "poetry_model = pipeline(\"text-generation\", model=\"gpt2\")\n",
        "\n",
        "def generate_poetry(prompt):\n",
        "    try:\n",
        "        generated_poetry = poetry_model(prompt, max_length=100, num_return_sequences=1, truncation=True)\n",
        "        return generated_poetry[0][\"generated_text\"]\n",
        "    except Exception as e:\n",
        "        return f\"An error occurred: {e}\"\n",
        "\n",
        "# Example usage\n",
        "prompt = \"Write a poem about the beauty of nature\"\n",
        "poetry = generate_poetry(prompt)\n",
        "print(poetry)"
      ]
    }
  ]
}