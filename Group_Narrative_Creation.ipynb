{
  "nbformat": 4,
  "nbformat_minor": 0,
  "metadata": {
    "colab": {
      "private_outputs": true,
      "provenance": [],
      "authorship_tag": "ABX9TyNyg8qwILC+3/Rt1e9vLLr7",
      "include_colab_link": true
    },
    "kernelspec": {
      "name": "python3",
      "display_name": "Python 3"
    },
    "language_info": {
      "name": "python"
    }
  },
  "cells": [
    {
      "cell_type": "markdown",
      "metadata": {
        "id": "view-in-github",
        "colab_type": "text"
      },
      "source": [
        "<a href=\"https://colab.research.google.com/github/OneFineStarstuff/Onefinebot/blob/main/Group_Narrative_Creation.ipynb\" target=\"_parent\"><img src=\"https://colab.research.google.com/assets/colab-badge.svg\" alt=\"Open In Colab\"/></a>"
      ]
    },
    {
      "cell_type": "code",
      "execution_count": null,
      "metadata": {
        "id": "5nyc7FMImFZF"
      },
      "outputs": [],
      "source": [
        "from transformers import pipeline\n",
        "\n",
        "# Load the text generation model\n",
        "narrative_model = pipeline(\"text-generation\", model=\"gpt2\")\n",
        "\n",
        "def generate_story_prompt(input_text):\n",
        "    try:\n",
        "        prompt = f\"Continue the story: {input_text}\"\n",
        "        generated_story = narrative_model(prompt, max_length=100, num_return_sequences=1)\n",
        "        return generated_story[0][\"generated_text\"]\n",
        "    except Exception as e:\n",
        "        return f\"An error occurred: {e}\"\n",
        "\n",
        "# Example usage\n",
        "input_text = \"Once upon a time in a land far, far away\"\n",
        "story_continuation = generate_story_prompt(input_text)\n",
        "print(story_continuation)"
      ]
    }
  ]
}