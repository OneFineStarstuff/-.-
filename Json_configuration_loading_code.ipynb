{
  "nbformat": 4,
  "nbformat_minor": 0,
  "metadata": {
    "colab": {
      "private_outputs": true,
      "provenance": [],
      "authorship_tag": "ABX9TyPFOqkGtX9hzQFVUsx/qTvD",
      "include_colab_link": true
    },
    "kernelspec": {
      "name": "python3",
      "display_name": "Python 3"
    },
    "language_info": {
      "name": "python"
    }
  },
  "cells": [
    {
      "cell_type": "markdown",
      "metadata": {
        "id": "view-in-github",
        "colab_type": "text"
      },
      "source": [
        "<a href=\"https://colab.research.google.com/github/OneFineStarstuff/Onefinebot/blob/main/Json_configuration_loading_code.ipynb\" target=\"_parent\"><img src=\"https://colab.research.google.com/assets/colab-badge.svg\" alt=\"Open In Colab\"/></a>"
      ]
    },
    {
      "cell_type": "code",
      "execution_count": null,
      "metadata": {
        "id": "3yC65QWNf6Xt"
      },
      "outputs": [],
      "source": [
        "config_content = \"\"\"\n",
        "{\n",
        "    \"celery\": {\n",
        "        \"broker\": \"redis://localhost:6379/0\",\n",
        "        \"backend\": \"redis://localhost:6379/0\"\n",
        "    },\n",
        "    \"rl\": {\n",
        "        \"model_save_path\": \"./ppo_custom_env\"\n",
        "    },\n",
        "    \"paths\": {\n",
        "        \"video_output_dir\": \"./video_frames\",\n",
        "        \"image_path\": \"./sample_image.jpg\"\n",
        "    }\n",
        "}\n",
        "\"\"\"\n",
        "with open(\"config.json\", \"w\") as config_file:\n",
        "    config_file.write(config_content)\n",
        "print(\"config.json created.\")"
      ]
    },
    {
      "cell_type": "code",
      "source": [
        "config = {\n",
        "    \"celery\": {\n",
        "        \"broker\": \"redis://localhost:6379/0\",\n",
        "        \"backend\": \"redis://localhost:6379/0\"\n",
        "    },\n",
        "    \"rl\": {\n",
        "        \"model_save_path\": \"./ppo_custom_env\"\n",
        "    },\n",
        "    \"paths\": {\n",
        "        \"video_output_dir\": \"./video_frames\",\n",
        "        \"image_path\": \"./sample_image.jpg\"\n",
        "    }\n",
        "}"
      ],
      "metadata": {
        "id": "zlct8Ex7f_dm"
      },
      "execution_count": null,
      "outputs": []
    }
  ]
}