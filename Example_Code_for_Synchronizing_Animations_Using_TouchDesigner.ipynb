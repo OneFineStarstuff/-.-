{
  "nbformat": 4,
  "nbformat_minor": 0,
  "metadata": {
    "colab": {
      "private_outputs": true,
      "provenance": [],
      "authorship_tag": "ABX9TyPnnCDzhYtvqsIy92RcY0mB",
      "include_colab_link": true
    },
    "kernelspec": {
      "name": "python3",
      "display_name": "Python 3"
    },
    "language_info": {
      "name": "python"
    }
  },
  "cells": [
    {
      "cell_type": "markdown",
      "metadata": {
        "id": "view-in-github",
        "colab_type": "text"
      },
      "source": [
        "<a href=\"https://colab.research.google.com/github/OneFineStarstuff/Onefinebot/blob/main/Example_Code_for_Synchronizing_Animations_Using_TouchDesigner.ipynb\" target=\"_parent\"><img src=\"https://colab.research.google.com/assets/colab-badge.svg\" alt=\"Open In Colab\"/></a>"
      ]
    },
    {
      "cell_type": "code",
      "execution_count": null,
      "metadata": {
        "id": "1UI4dzP-OjU7"
      },
      "outputs": [],
      "source": [
        "# Example script to control TouchDesigner projectors\n",
        "import touchdesigner as td\n",
        "\n",
        "# Initialize TouchDesigner project\n",
        "project = td.Project()\n",
        "\n",
        "# Load animations for each layer\n",
        "front_layer = project.load_movie('front_layer_animation.mp4')\n",
        "middle_layer = project.load_movie('middle_layer_animation.mp4')\n",
        "back_layer = project.load_movie('back_layer_animation.mp4')\n",
        "\n",
        "# Synchronize the start of animations\n",
        "front_layer.start()\n",
        "middle_layer.start()\n",
        "back_layer.start()\n",
        "\n",
        "# Example function to handle synchronization\n",
        "def synchronize_animations():\n",
        "    while project.is_running():\n",
        "        front_layer.sync_with(middle_layer)\n",
        "        middle_layer.sync_with(back_layer)\n",
        "        project.update()\n",
        "\n",
        "# Run the synchronization function\n",
        "synchronize_animations()"
      ]
    },
    {
      "cell_type": "code",
      "source": [
        "# Access the Movie File In TOPs in TouchDesigner\n",
        "front_layer = op('/project1/moviefilein1')\n",
        "middle_layer = op('/project1/moviefilein2')\n",
        "back_layer = op('/project1/moviefilein3')\n",
        "\n",
        "# Function to start animations\n",
        "def start_animations():\n",
        "    front_layer.par.play = 1\n",
        "    middle_layer.par.play = 1\n",
        "    back_layer.par.play = 1\n",
        "\n",
        "# Function to stop animations\n",
        "def stop_animations():\n",
        "    front_layer.par.play = 0\n",
        "    middle_layer.par.play = 0\n",
        "    back_layer.par.play = 0\n",
        "\n",
        "# Start animations\n",
        "start_animations()"
      ],
      "metadata": {
        "id": "lJ40_SK0PExA"
      },
      "execution_count": null,
      "outputs": []
    }
  ]
}