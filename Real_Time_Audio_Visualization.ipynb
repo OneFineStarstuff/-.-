{
  "nbformat": 4,
  "nbformat_minor": 0,
  "metadata": {
    "colab": {
      "private_outputs": true,
      "provenance": [],
      "authorship_tag": "ABX9TyPELadYB1ItSTfS/ERZeok3",
      "include_colab_link": true
    },
    "kernelspec": {
      "name": "python3",
      "display_name": "Python 3"
    },
    "language_info": {
      "name": "python"
    }
  },
  "cells": [
    {
      "cell_type": "markdown",
      "metadata": {
        "id": "view-in-github",
        "colab_type": "text"
      },
      "source": [
        "<a href=\"https://colab.research.google.com/github/OneFineStarstuff/Onefinebot/blob/main/Real_Time_Audio_Visualization.ipynb\" target=\"_parent\"><img src=\"https://colab.research.google.com/assets/colab-badge.svg\" alt=\"Open In Colab\"/></a>"
      ]
    },
    {
      "cell_type": "code",
      "execution_count": null,
      "metadata": {
        "id": "z_iXH0vXr19r"
      },
      "outputs": [],
      "source": [
        "import numpy as np\n",
        "import sounddevice as sd\n",
        "import matplotlib.pyplot as plt\n",
        "\n",
        "# Audio Input Settings\n",
        "RATE = 44100\n",
        "CHUNK = 1024\n",
        "\n",
        "# Capture audio data\n",
        "def get_audio_data():\n",
        "    data, _ = sd.rec(CHUNK, samplerate=RATE, channels=1, dtype='float32')\n",
        "    sd.wait()\n",
        "    return data.flatten()\n",
        "\n",
        "# Compute frequency spectrum\n",
        "def compute_frequency_spectrum(audio_data):\n",
        "    spectrum = np.fft.fft(audio_data)\n",
        "    frequency = np.fft.fftfreq(len(spectrum), 1/RATE)\n",
        "    return frequency, np.abs(spectrum)\n",
        "\n",
        "# Visualize audio spectrum\n",
        "def visualize_audio_spectrum(frequency, magnitude):\n",
        "    plt.figure(figsize=(10, 6))\n",
        "    plt.plot(frequency[:len(frequency)//2], magnitude[:len(magnitude)//2])\n",
        "    plt.xlabel('Frequency (Hz)')\n",
        "    plt.ylabel('Magnitude')\n",
        "    plt.title('Audio Spectrum')\n",
        "    plt.grid(True)\n",
        "    plt.show()\n",
        "\n",
        "# Main loop for capturing and visualizing audio spectrum\n",
        "def main():\n",
        "    while True:\n",
        "        audio_data = get_audio_data()\n",
        "        frequency, magnitude = compute_frequency_spectrum(audio_data)\n",
        "        visualize_audio_spectrum(frequency, magnitude)\n",
        "        plt.pause(0.1)  # Short pause to keep the loop running smoothly\n",
        "\n",
        "if __name__ == \"__main__\":\n",
        "    main()"
      ]
    }
  ]
}