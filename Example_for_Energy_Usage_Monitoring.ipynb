{
  "nbformat": 4,
  "nbformat_minor": 0,
  "metadata": {
    "colab": {
      "private_outputs": true,
      "provenance": [],
      "authorship_tag": "ABX9TyOxANLZESrP8ut7FIEFoEIM",
      "include_colab_link": true
    },
    "kernelspec": {
      "name": "python3",
      "display_name": "Python 3"
    },
    "language_info": {
      "name": "python"
    }
  },
  "cells": [
    {
      "cell_type": "markdown",
      "metadata": {
        "id": "view-in-github",
        "colab_type": "text"
      },
      "source": [
        "<a href=\"https://colab.research.google.com/github/OneFineStarstuff/Onefinebot/blob/main/Example_for_Energy_Usage_Monitoring.ipynb\" target=\"_parent\"><img src=\"https://colab.research.google.com/assets/colab-badge.svg\" alt=\"Open In Colab\"/></a>"
      ]
    },
    {
      "cell_type": "code",
      "execution_count": null,
      "metadata": {
        "id": "S7E7EknOGrhJ"
      },
      "outputs": [],
      "source": [
        "class EnergyMonitor:\n",
        "    def __init__(self):\n",
        "        self.usage = {}  # Initialize an empty dictionary to store energy usage data\n",
        "\n",
        "    def add_usage(self, device, consumption):\n",
        "        # Add the specified consumption value to the device's total usage\n",
        "        self.usage[device] = self.usage.get(device, 0) + consumption\n",
        "\n",
        "    def get_usage(self):\n",
        "        # Return the current energy usage data for all devices\n",
        "        return self.usage\n",
        "\n",
        "# Example Usage\n",
        "monitor = EnergyMonitor()\n",
        "monitor.add_usage(\"Refrigerator\", 200)\n",
        "monitor.add_usage(\"Air Conditioner\", 500)\n",
        "print(monitor.get_usage())\n",
        "# Output: {'Refrigerator': 200, 'Air Conditioner': 500}"
      ]
    }
  ]
}