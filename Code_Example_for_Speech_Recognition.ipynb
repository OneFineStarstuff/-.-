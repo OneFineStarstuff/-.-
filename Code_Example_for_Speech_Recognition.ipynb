{
  "nbformat": 4,
  "nbformat_minor": 0,
  "metadata": {
    "colab": {
      "private_outputs": true,
      "provenance": [],
      "authorship_tag": "ABX9TyPxlHS9L9DisGVTtSDoyhLE",
      "include_colab_link": true
    },
    "kernelspec": {
      "name": "python3",
      "display_name": "Python 3"
    },
    "language_info": {
      "name": "python"
    }
  },
  "cells": [
    {
      "cell_type": "markdown",
      "metadata": {
        "id": "view-in-github",
        "colab_type": "text"
      },
      "source": [
        "<a href=\"https://colab.research.google.com/github/OneFineStarstuff/Onefinebot/blob/main/Code_Example_for_Speech_Recognition.ipynb\" target=\"_parent\"><img src=\"https://colab.research.google.com/assets/colab-badge.svg\" alt=\"Open In Colab\"/></a>"
      ]
    },
    {
      "cell_type": "code",
      "source": [
        "pip install speechrecognition"
      ],
      "metadata": {
        "id": "snBidh4bGP4m"
      },
      "execution_count": null,
      "outputs": []
    },
    {
      "cell_type": "code",
      "source": [
        "pip install pyaudio"
      ],
      "metadata": {
        "id": "B8dMWGM4GY5A"
      },
      "execution_count": null,
      "outputs": []
    },
    {
      "cell_type": "code",
      "execution_count": null,
      "metadata": {
        "id": "l_UHXuWJGAnX"
      },
      "outputs": [],
      "source": [
        "import speech_recognition as sr\n",
        "\n",
        "def recognize_speech():\n",
        "    recognizer = sr.Recognizer()  # Initialize recognizer\n",
        "    with sr.Microphone() as source:\n",
        "        print(\"Listening...\")  # Prompt user to speak\n",
        "        audio = recognizer.listen(source)  # Capture audio\n",
        "    return recognizer.recognize_google(audio)  # Recognize and return text\n",
        "\n",
        "# Example Usage\n",
        "try:\n",
        "    print(\"You said:\", recognize_speech())  # Print recognized speech\n",
        "except Exception as e:\n",
        "    print(\"Error:\", e)  # Handle errors"
      ]
    }
  ]
}