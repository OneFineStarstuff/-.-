{
  "nbformat": 4,
  "nbformat_minor": 0,
  "metadata": {
    "colab": {
      "private_outputs": true,
      "provenance": [],
      "authorship_tag": "ABX9TyOK+ube3v0jksw1WC6/4R8v",
      "include_colab_link": true
    },
    "kernelspec": {
      "name": "python3",
      "display_name": "Python 3"
    },
    "language_info": {
      "name": "python"
    }
  },
  "cells": [
    {
      "cell_type": "markdown",
      "metadata": {
        "id": "view-in-github",
        "colab_type": "text"
      },
      "source": [
        "<a href=\"https://colab.research.google.com/github/OneFineStarstuff/Onefinebot/blob/main/Implement_a_simple_Matrix_Product_State_(MPS)_to_represent_a_spin_chain.ipynb\" target=\"_parent\"><img src=\"https://colab.research.google.com/assets/colab-badge.svg\" alt=\"Open In Colab\"/></a>"
      ]
    },
    {
      "cell_type": "code",
      "execution_count": null,
      "metadata": {
        "id": "L3E_erxBGppz"
      },
      "outputs": [],
      "source": [
        "import numpy as np\n",
        "\n",
        "# Parameters for a simple spin chain\n",
        "L = 10  # Length of the chain\n",
        "d = 2   # Local dimension (spin-1/2 system)\n",
        "\n",
        "# Initialize random tensors for the MPS\n",
        "tensors = [np.random.rand(d, d) for _ in range(L)]\n",
        "\n",
        "# Function to calculate the expectation value of an operator along the chain\n",
        "def expectation_value(tensors, operator):\n",
        "    result = tensors[0]  # Start with the first tensor\n",
        "    for tensor in tensors[1:]:\n",
        "        result = np.tensordot(result, tensor, axes=1)  # Contract tensors\n",
        "    return np.tensordot(result, operator, axes=1)  # Final contraction with operator\n",
        "\n",
        "# Define a simple operator, such as Pauli Z\n",
        "pauli_z = np.array([[1, 0], [0, -1]])\n",
        "exp_value = expectation_value(tensors, pauli_z)\n",
        "print(\"Expectation value:\", exp_value)"
      ]
    }
  ]
}