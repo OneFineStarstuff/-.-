{
  "nbformat": 4,
  "nbformat_minor": 0,
  "metadata": {
    "colab": {
      "private_outputs": true,
      "provenance": [],
      "authorship_tag": "ABX9TyPDNoX7IKBz288I6t1TCKK7",
      "include_colab_link": true
    },
    "kernelspec": {
      "name": "python3",
      "display_name": "Python 3"
    },
    "language_info": {
      "name": "python"
    }
  },
  "cells": [
    {
      "cell_type": "markdown",
      "metadata": {
        "id": "view-in-github",
        "colab_type": "text"
      },
      "source": [
        "<a href=\"https://colab.research.google.com/github/OneFineStarstuff/Onefinebot/blob/main/Implementing_the_quantum_kicked_rotor_to_analyze_chaotic_behavior.ipynb\" target=\"_parent\"><img src=\"https://colab.research.google.com/assets/colab-badge.svg\" alt=\"Open In Colab\"/></a>"
      ]
    },
    {
      "cell_type": "code",
      "execution_count": null,
      "metadata": {
        "id": "LVld5n7SA2ne"
      },
      "outputs": [],
      "source": [
        "import numpy as np\n",
        "import matplotlib.pyplot as plt\n",
        "from scipy.linalg import expm\n",
        "\n",
        "# Define parameters\n",
        "hbar = 1.0  # Reduced Planck's constant\n",
        "K = 5.0  # Kicking strength\n",
        "N = 100  # Number of states (quantum levels)\n",
        "\n",
        "# Create the quantum propagator matrix for one time step\n",
        "def kicked_rotor_propagator(N, K, hbar):\n",
        "    theta = np.linspace(0, 2 * np.pi, N, endpoint=False)\n",
        "    kinetic = np.diag(np.exp(-1j * hbar * np.arange(N)**2 / 2))\n",
        "    potential = np.diag(np.exp(-1j * K * np.cos(theta)))\n",
        "    return np.dot(kinetic, potential)\n",
        "\n",
        "# Time evolve the initial state\n",
        "psi = np.ones(N) / np.sqrt(N)  # Initial wave packet\n",
        "U = kicked_rotor_propagator(N, K, hbar)\n",
        "for _ in range(50):  # Number of kicks\n",
        "    psi = np.dot(U, psi)\n",
        "\n",
        "# Plot final wave function amplitude\n",
        "plt.plot(np.abs(psi)**2)\n",
        "plt.xlabel(\"Quantum State\")\n",
        "plt.ylabel(\"Probability Amplitude\")\n",
        "plt.title(\"Quantum Kicked Rotor\")\n",
        "plt.show()"
      ]
    }
  ]
}