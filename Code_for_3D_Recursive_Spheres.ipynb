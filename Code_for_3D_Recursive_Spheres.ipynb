{
  "nbformat": 4,
  "nbformat_minor": 0,
  "metadata": {
    "colab": {
      "private_outputs": true,
      "provenance": [],
      "authorship_tag": "ABX9TyONWyYwgLeF0oLjWFe5Tod3",
      "include_colab_link": true
    },
    "kernelspec": {
      "name": "python3",
      "display_name": "Python 3"
    },
    "language_info": {
      "name": "python"
    }
  },
  "cells": [
    {
      "cell_type": "markdown",
      "metadata": {
        "id": "view-in-github",
        "colab_type": "text"
      },
      "source": [
        "<a href=\"https://colab.research.google.com/github/OneFineStarstuff/Onefinebot/blob/main/Code_for_3D_Recursive_Spheres.ipynb\" target=\"_parent\"><img src=\"https://colab.research.google.com/assets/colab-badge.svg\" alt=\"Open In Colab\"/></a>"
      ]
    },
    {
      "cell_type": "code",
      "execution_count": null,
      "metadata": {
        "id": "fK0mevOAsmk4"
      },
      "outputs": [],
      "source": [
        "import numpy as np\n",
        "import matplotlib.pyplot as plt\n",
        "from mpl_toolkits.mplot3d import Axes3D\n",
        "from matplotlib.animation import FuncAnimation\n",
        "\n",
        "# Set up the figure and 3D axis\n",
        "fig = plt.figure(figsize=(8, 8))\n",
        "ax = fig.add_subplot(111, projection=\"3d\")\n",
        "ax.axis(\"off\")\n",
        "\n",
        "# Function to create recursive 3D spheres\n",
        "def create_recursive_spheres(ax, center, radius, depth, angle):\n",
        "    if depth > 0:\n",
        "        x, y, z = center\n",
        "        # Create a 3D sphere at the current depth\n",
        "        phi, theta = np.mgrid[0.0 : 2.0 * np.pi : 20j, 0.0 : np.pi : 10j]\n",
        "        x_sphere = x + radius * np.sin(theta) * np.cos(phi)\n",
        "        y_sphere = y + radius * np.sin(theta) * np.sin(phi)\n",
        "        z_sphere = z + radius * np.cos(theta)\n",
        "\n",
        "        # Choose a color gradient for depth\n",
        "        color = (0.2 + depth * 0.1, 0.4, 1.0 - depth * 0.1, 0.6)\n",
        "        ax.plot_surface(x_sphere, y_sphere, z_sphere, color=color, edgecolor=\"k\", linewidth=0.3)\n",
        "\n",
        "        # Recursive call to add smaller spheres around the main sphere\n",
        "        for i in range(5):\n",
        "            new_radius = radius * 0.6\n",
        "            new_center = (x + new_radius * np.cos(angle + i),\n",
        "                          y + new_radius * np.sin(angle + i),\n",
        "                          z + new_radius * np.sin(angle * 0.5))\n",
        "            create_recursive_spheres(ax, new_center, new_radius, depth - 1, angle + i * 0.3)\n",
        "\n",
        "# Parameters for the recursive spheres\n",
        "create_recursive_spheres(ax, (0, 0, 0), 1, depth=4, angle=np.pi / 4)\n",
        "\n",
        "# Show 3D recursive art\n",
        "plt.show()"
      ]
    }
  ]
}