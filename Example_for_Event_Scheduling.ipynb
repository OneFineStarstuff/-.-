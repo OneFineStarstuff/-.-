{
  "nbformat": 4,
  "nbformat_minor": 0,
  "metadata": {
    "colab": {
      "private_outputs": true,
      "provenance": [],
      "authorship_tag": "ABX9TyP+bh2Skui8aT0qpJAsfivy",
      "include_colab_link": true
    },
    "kernelspec": {
      "name": "python3",
      "display_name": "Python 3"
    },
    "language_info": {
      "name": "python"
    }
  },
  "cells": [
    {
      "cell_type": "markdown",
      "metadata": {
        "id": "view-in-github",
        "colab_type": "text"
      },
      "source": [
        "<a href=\"https://colab.research.google.com/github/OneFineStarstuff/Onefinebot/blob/main/Example_for_Event_Scheduling.ipynb\" target=\"_parent\"><img src=\"https://colab.research.google.com/assets/colab-badge.svg\" alt=\"Open In Colab\"/></a>"
      ]
    },
    {
      "cell_type": "code",
      "execution_count": null,
      "metadata": {
        "id": "iKeAQvULeNlb"
      },
      "outputs": [],
      "source": [
        "class EventScheduler:\n",
        "    def __init__(self):\n",
        "        self.events = []  # Initialize an empty list to store event details\n",
        "\n",
        "    def add_event(self, name, date, time):\n",
        "        # Append the event name, date, and time to the events list\n",
        "        self.events.append({\"name\": name, \"date\": date, \"time\": time})\n",
        "\n",
        "    def get_schedule(self):\n",
        "        # Return the list of all scheduled events\n",
        "        return self.events\n",
        "\n",
        "# Example Usage\n",
        "scheduler = EventScheduler()\n",
        "scheduler.add_event(\"Team Meeting\", \"2024-01-10\", \"10:00 AM\")\n",
        "print(scheduler.get_schedule())\n",
        "# Output: [{'name': 'Team Meeting', 'date': '2024-01-10', 'time': '10:00 AM'}]"
      ]
    }
  ]
}