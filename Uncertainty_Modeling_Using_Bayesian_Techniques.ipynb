{
  "nbformat": 4,
  "nbformat_minor": 0,
  "metadata": {
    "colab": {
      "private_outputs": true,
      "provenance": [],
      "authorship_tag": "ABX9TyNEA7g8EnKpsm6aXKyGY1/D",
      "include_colab_link": true
    },
    "kernelspec": {
      "name": "python3",
      "display_name": "Python 3"
    },
    "language_info": {
      "name": "python"
    }
  },
  "cells": [
    {
      "cell_type": "markdown",
      "metadata": {
        "id": "view-in-github",
        "colab_type": "text"
      },
      "source": [
        "<a href=\"https://colab.research.google.com/github/OneFineStarstuff/Onefinebot/blob/main/Uncertainty_Modeling_Using_Bayesian_Techniques.ipynb\" target=\"_parent\"><img src=\"https://colab.research.google.com/assets/colab-badge.svg\" alt=\"Open In Colab\"/></a>"
      ]
    },
    {
      "cell_type": "code",
      "execution_count": null,
      "metadata": {
        "id": "79416JjyF8kI"
      },
      "outputs": [],
      "source": [
        "pip install pyro-ppl"
      ]
    },
    {
      "cell_type": "code",
      "source": [
        "import torch\n",
        "import pyro\n",
        "import pyro.distributions as dist\n",
        "from pyro.infer import MCMC, NUTS\n",
        "\n",
        "# Bayesian Model\n",
        "def model(data):\n",
        "    mean = pyro.sample(\"mean\", dist.Normal(0, 1))\n",
        "    std_dev = pyro.sample(\"std_dev\", dist.HalfCauchy(1))\n",
        "    with pyro.plate(\"data\", len(data)):\n",
        "        pyro.sample(\"obs\", dist.Normal(mean, std_dev), obs=data)\n",
        "\n",
        "# Perform Inference\n",
        "data = torch.tensor([2.5, 3.1, 2.8, 3.0, 2.7])\n",
        "nuts_kernel = NUTS(model)\n",
        "mcmc = MCMC(nuts_kernel, num_samples=1000, warmup_steps=200)\n",
        "mcmc.run(data)\n",
        "posterior = mcmc.get_samples()\n",
        "\n",
        "print(\"Posterior Mean:\", posterior[\"mean\"].mean().item())\n",
        "print(\"Posterior Std Dev:\", posterior[\"std_dev\"].mean().item())"
      ],
      "metadata": {
        "id": "OXNkPKNpSbM0"
      },
      "execution_count": null,
      "outputs": []
    }
  ]
}