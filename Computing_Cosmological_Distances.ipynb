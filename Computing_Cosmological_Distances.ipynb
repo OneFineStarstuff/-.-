{
  "nbformat": 4,
  "nbformat_minor": 0,
  "metadata": {
    "colab": {
      "private_outputs": true,
      "provenance": [],
      "authorship_tag": "ABX9TyNnY9CKEqCvhRqRnRPDHiku",
      "include_colab_link": true
    },
    "kernelspec": {
      "name": "python3",
      "display_name": "Python 3"
    },
    "language_info": {
      "name": "python"
    }
  },
  "cells": [
    {
      "cell_type": "markdown",
      "metadata": {
        "id": "view-in-github",
        "colab_type": "text"
      },
      "source": [
        "<a href=\"https://colab.research.google.com/github/OneFineStarstuff/Onefinebot/blob/main/Computing_Cosmological_Distances.ipynb\" target=\"_parent\"><img src=\"https://colab.research.google.com/assets/colab-badge.svg\" alt=\"Open In Colab\"/></a>"
      ]
    },
    {
      "cell_type": "code",
      "execution_count": null,
      "metadata": {
        "id": "f7AhUbC4HxrB"
      },
      "outputs": [],
      "source": [
        "from astropy.cosmology import Planck18 as cosmo\n",
        "import numpy as np\n",
        "import matplotlib.pyplot as plt\n",
        "\n",
        "# Define redshift values\n",
        "z_values = np.linspace(0.01, 10, 500)\n",
        "\n",
        "# Calculate different cosmological distances\n",
        "comoving_distance = cosmo.comoving_distance(z_values)\n",
        "proper_distance = cosmo.comoving_transverse_distance(z_values)\n",
        "luminosity_distance = cosmo.luminosity_distance(z_values)\n",
        "\n",
        "# Plot the distances\n",
        "plt.figure(figsize=(10, 6))\n",
        "plt.plot(z_values, comoving_distance, label=\"Comoving Distance\")\n",
        "plt.plot(z_values, proper_distance, label=\"Proper Distance\")\n",
        "plt.plot(z_values, luminosity_distance, label=\"Luminosity Distance\")\n",
        "plt.xlabel(\"Redshift (z)\")\n",
        "plt.ylabel(\"Distance (Mpc)\")\n",
        "plt.yscale(\"log\")\n",
        "plt.title(\"Cosmological Distances as a Function of Redshift\")\n",
        "plt.legend()\n",
        "plt.grid(True)\n",
        "plt.show()"
      ]
    }
  ]
}