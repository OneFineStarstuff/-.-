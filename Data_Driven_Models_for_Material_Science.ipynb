{
  "nbformat": 4,
  "nbformat_minor": 0,
  "metadata": {
    "colab": {
      "private_outputs": true,
      "provenance": [],
      "authorship_tag": "ABX9TyPFKFjc6wigHtNrQ0rCERjT",
      "include_colab_link": true
    },
    "kernelspec": {
      "name": "python3",
      "display_name": "Python 3"
    },
    "language_info": {
      "name": "python"
    }
  },
  "cells": [
    {
      "cell_type": "markdown",
      "metadata": {
        "id": "view-in-github",
        "colab_type": "text"
      },
      "source": [
        "<a href=\"https://colab.research.google.com/github/OneFineStarstuff/Onefinebot/blob/main/Data_Driven_Models_for_Material_Science.ipynb\" target=\"_parent\"><img src=\"https://colab.research.google.com/assets/colab-badge.svg\" alt=\"Open In Colab\"/></a>"
      ]
    },
    {
      "cell_type": "code",
      "execution_count": null,
      "metadata": {
        "id": "rjXB9A0t3LVI"
      },
      "outputs": [],
      "source": [
        "import torch\n",
        "import torch.nn as nn\n",
        "import torch.optim as optim\n",
        "\n",
        "# Example training data: composition (as one-hot encoding) and structural parameters\n",
        "data = [\n",
        "    [1, 0, 0, 0.1, 0.3],  # Composition A, property = 0.5\n",
        "    [0, 1, 0, 0.4, 0.2],  # Composition B, property = 1.2\n",
        "    [0, 0, 1, 0.2, 0.5],  # Composition C, property = 0.8\n",
        "]\n",
        "properties = [0.5, 1.2, 0.8]  # Target properties\n",
        "\n",
        "# Convert data to tensors\n",
        "X_train = torch.tensor(data, dtype=torch.float32)\n",
        "y_train = torch.tensor(properties, dtype=torch.float32).view(-1, 1)\n",
        "\n",
        "# Define the model\n",
        "class MaterialPropertyPredictor(nn.Module):\n",
        "    def __init__(self):\n",
        "        super(MaterialPropertyPredictor, self).__init__()\n",
        "        self.fc1 = nn.Linear(5, 64)\n",
        "        self.fc2 = nn.Linear(64, 64)\n",
        "        self.fc3 = nn.Linear(64, 1)\n",
        "\n",
        "    def forward(self, x):\n",
        "        x = torch.relu(self.fc1(x))\n",
        "        x = torch.relu(self.fc2(x))\n",
        "        return self.fc3(x)\n",
        "\n",
        "# Instantiate the model, loss function, and optimizer\n",
        "model = MaterialPropertyPredictor()\n",
        "criterion = nn.MSELoss()\n",
        "optimizer = optim.Adam(model.parameters(), lr=0.01)\n",
        "\n",
        "# Training loop\n",
        "n_epochs = 1000\n",
        "for epoch in range(n_epochs):\n",
        "    optimizer.zero_grad()\n",
        "    y_pred = model(X_train)\n",
        "    loss = criterion(y_pred, y_train)\n",
        "    loss.backward()\n",
        "    optimizer.step()\n",
        "\n",
        "    if epoch % 100 == 0:\n",
        "        print(f\"Epoch {epoch}, Loss: {loss.item():.4f}\")\n",
        "\n",
        "# Test the model on new data\n",
        "X_test = torch.tensor([[0, 1, 0, 0.3, 0.4]], dtype=torch.float32)  # New material with composition B and properties\n",
        "y_test_pred = model(X_test).item()\n",
        "print(f\"Predicted property for the new material: {y_test_pred:.3f}\")"
      ]
    }
  ]
}