{
  "nbformat": 4,
  "nbformat_minor": 0,
  "metadata": {
    "colab": {
      "private_outputs": true,
      "provenance": [],
      "authorship_tag": "ABX9TyNFrbZfuYZ0PD6BaxQot+a4",
      "include_colab_link": true
    },
    "kernelspec": {
      "name": "python3",
      "display_name": "Python 3"
    },
    "language_info": {
      "name": "python"
    }
  },
  "cells": [
    {
      "cell_type": "markdown",
      "metadata": {
        "id": "view-in-github",
        "colab_type": "text"
      },
      "source": [
        "<a href=\"https://colab.research.google.com/github/OneFineStarstuff/Onefinebot/blob/main/Example_for_Mood_Tracking.ipynb\" target=\"_parent\"><img src=\"https://colab.research.google.com/assets/colab-badge.svg\" alt=\"Open In Colab\"/></a>"
      ]
    },
    {
      "cell_type": "code",
      "execution_count": null,
      "metadata": {
        "id": "PRbzPP0dUVna"
      },
      "outputs": [],
      "source": [
        "class MoodTracker:\n",
        "    def __init__(self):\n",
        "        self.mood_log = []  # Initialize an empty list to store mood entries\n",
        "\n",
        "    def log_mood(self, mood, notes=\"\"):\n",
        "        # Append the mood and optional notes to the mood_log list\n",
        "        self.mood_log.append({\"mood\": mood, \"notes\": notes})\n",
        "\n",
        "    def view_mood_log(self):\n",
        "        # Return the list of all logged moods and notes\n",
        "        return self.mood_log\n",
        "\n",
        "# Example Usage\n",
        "tracker = MoodTracker()\n",
        "tracker.log_mood(\"Happy\", \"Had a great day at work!\")\n",
        "tracker.log_mood(\"Anxious\", \"Feeling stressed about deadlines.\")\n",
        "print(tracker.view_mood_log())\n",
        "# Output: [{'mood': 'Happy', 'notes': 'Had a great day at work!'}, {'mood': 'Anxious', 'notes': 'Feeling stressed about deadlines.'}]"
      ]
    }
  ]
}