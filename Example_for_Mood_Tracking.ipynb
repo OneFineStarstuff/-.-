{
  "nbformat": 4,
  "nbformat_minor": 0,
  "metadata": {
    "colab": {
      "private_outputs": true,
      "provenance": [],
      "authorship_tag": "ABX9TyND7YW71mR4V5yseJg6P/ag",
      "include_colab_link": true
    },
    "kernelspec": {
      "name": "python3",
      "display_name": "Python 3"
    },
    "language_info": {
      "name": "python"
    }
  },
  "cells": [
    {
      "cell_type": "markdown",
      "metadata": {
        "id": "view-in-github",
        "colab_type": "text"
      },
      "source": [
        "<a href=\"https://colab.research.google.com/github/OneFineStarstuff/Onefinebot/blob/main/Example_for_Mood_Tracking.ipynb\" target=\"_parent\"><img src=\"https://colab.research.google.com/assets/colab-badge.svg\" alt=\"Open In Colab\"/></a>"
      ]
    },
    {
      "cell_type": "code",
      "execution_count": null,
      "metadata": {
        "id": "aJdtMKBS3Uzs"
      },
      "outputs": [],
      "source": [
        "class MoodTracker:\n",
        "    def __init__(self):\n",
        "        self.mood_log = {}\n",
        "\n",
        "    def log_mood(self, user, mood):\n",
        "        from datetime import datetime\n",
        "        date = datetime.now().strftime(\"%Y-%m-%d\")\n",
        "        if user not in self.mood_log:\n",
        "            self.mood_log[user] = []\n",
        "        self.mood_log[user].append({\"date\": date, \"mood\": mood})\n",
        "\n",
        "    def get_mood_history(self, user):\n",
        "        return self.mood_log.get(user, \"No mood history available.\")\n",
        "\n",
        "# Example Usage\n",
        "tracker = MoodTracker()\n",
        "tracker.log_mood(\"user123\", \"Happy\")\n",
        "print(tracker.get_mood_history(\"user123\"))  # Output: [{'date': '2024-12-30', 'mood': 'Happy'}]"
      ]
    }
  ]
}