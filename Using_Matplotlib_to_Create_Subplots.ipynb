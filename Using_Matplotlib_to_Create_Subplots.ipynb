{
  "nbformat": 4,
  "nbformat_minor": 0,
  "metadata": {
    "colab": {
      "private_outputs": true,
      "provenance": [],
      "authorship_tag": "ABX9TyO4iKwl72H5DyRGRRENWv+E",
      "include_colab_link": true
    },
    "kernelspec": {
      "name": "python3",
      "display_name": "Python 3"
    },
    "language_info": {
      "name": "python"
    }
  },
  "cells": [
    {
      "cell_type": "markdown",
      "metadata": {
        "id": "view-in-github",
        "colab_type": "text"
      },
      "source": [
        "<a href=\"https://colab.research.google.com/github/OneFineStarstuff/Onefinebot/blob/main/Using_Matplotlib_to_Create_Subplots.ipynb\" target=\"_parent\"><img src=\"https://colab.research.google.com/assets/colab-badge.svg\" alt=\"Open In Colab\"/></a>"
      ]
    },
    {
      "cell_type": "code",
      "execution_count": null,
      "metadata": {
        "id": "WFYF2NX3nM_g"
      },
      "outputs": [],
      "source": [
        "import numpy as np\n",
        "import matplotlib.pyplot as plt\n",
        "\n",
        "# Generate synthetic data\n",
        "x = np.linspace(0, 10, 100)\n",
        "y1 = np.sin(x)\n",
        "y2 = np.cos(x)\n",
        "\n",
        "# Create subplots\n",
        "fig, axs = plt.subplots(2)\n",
        "\n",
        "axs[0].plot(x, y1, color='blue')\n",
        "axs[0].set_title('Sine Wave')\n",
        "axs[0].set_ylabel('sin(x)')\n",
        "axs[0].grid()\n",
        "\n",
        "axs[1].plot(x, y2, color='orange')\n",
        "axs[1].set_title('Cosine Wave')\n",
        "axs[1].set_ylabel('cos(x)')\n",
        "axs[1].set_xlabel('x')\n",
        "axs[1].grid()\n",
        "\n",
        "plt.tight_layout()\n",
        "plt.show()"
      ]
    }
  ]
}