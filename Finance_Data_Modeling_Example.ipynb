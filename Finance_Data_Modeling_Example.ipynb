{
  "nbformat": 4,
  "nbformat_minor": 0,
  "metadata": {
    "colab": {
      "private_outputs": true,
      "provenance": [],
      "authorship_tag": "ABX9TyO8lgy7JyDEqJzR9Fm93Z6a",
      "include_colab_link": true
    },
    "kernelspec": {
      "name": "python3",
      "display_name": "Python 3"
    },
    "language_info": {
      "name": "python"
    }
  },
  "cells": [
    {
      "cell_type": "markdown",
      "metadata": {
        "id": "view-in-github",
        "colab_type": "text"
      },
      "source": [
        "<a href=\"https://colab.research.google.com/github/OneFineStarstuff/Onefinebot/blob/main/Finance_Data_Modeling_Example.ipynb\" target=\"_parent\"><img src=\"https://colab.research.google.com/assets/colab-badge.svg\" alt=\"Open In Colab\"/></a>"
      ]
    },
    {
      "cell_type": "code",
      "execution_count": null,
      "metadata": {
        "id": "kiIPlZ3NcxfY"
      },
      "outputs": [],
      "source": [
        "import yfinance as yf\n",
        "\n",
        "def fetch_stock_data(ticker):\n",
        "    stock = yf.Ticker(ticker)\n",
        "    history = stock.history(period=\"1mo\")\n",
        "    return history\n",
        "\n",
        "data = fetch_stock_data(\"AAPL\")\n",
        "print(data)"
      ]
    }
  ]
}