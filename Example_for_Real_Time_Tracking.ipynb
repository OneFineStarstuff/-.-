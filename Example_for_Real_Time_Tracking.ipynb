{
  "nbformat": 4,
  "nbformat_minor": 0,
  "metadata": {
    "colab": {
      "private_outputs": true,
      "provenance": [],
      "authorship_tag": "ABX9TyN0+paYlvXNrOGK13dxHHas",
      "include_colab_link": true
    },
    "kernelspec": {
      "name": "python3",
      "display_name": "Python 3"
    },
    "language_info": {
      "name": "python"
    }
  },
  "cells": [
    {
      "cell_type": "markdown",
      "metadata": {
        "id": "view-in-github",
        "colab_type": "text"
      },
      "source": [
        "<a href=\"https://colab.research.google.com/github/OneFineStarstuff/Onefinebot/blob/main/Example_for_Real_Time_Tracking.ipynb\" target=\"_parent\"><img src=\"https://colab.research.google.com/assets/colab-badge.svg\" alt=\"Open In Colab\"/></a>"
      ]
    },
    {
      "cell_type": "code",
      "execution_count": null,
      "metadata": {
        "id": "g617Q8xV3Ohg"
      },
      "outputs": [],
      "source": [
        "class PackageTracker:\n",
        "    def __init__(self):\n",
        "        self.packages = {\"123\": \"In Transit\", \"456\": \"Delivered\", \"789\": \"Pending Pickup\"}  # Initialize packages dictionary with predefined tracking IDs and statuses\n",
        "\n",
        "    def track_package(self, tracking_id):\n",
        "        # Retrieve the status of the specified tracking ID\n",
        "        return self.packages.get(tracking_id, \"Tracking ID not found.\")\n",
        "\n",
        "# Example Usage\n",
        "tracker = PackageTracker()\n",
        "print(tracker.track_package(\"123\"))\n",
        "# Output: In Transit"
      ]
    }
  ]
}