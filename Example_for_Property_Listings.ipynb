{
  "nbformat": 4,
  "nbformat_minor": 0,
  "metadata": {
    "colab": {
      "private_outputs": true,
      "provenance": [],
      "authorship_tag": "ABX9TyPOopeK+mFUfQHdyFaT6L7/",
      "include_colab_link": true
    },
    "kernelspec": {
      "name": "python3",
      "display_name": "Python 3"
    },
    "language_info": {
      "name": "python"
    }
  },
  "cells": [
    {
      "cell_type": "markdown",
      "metadata": {
        "id": "view-in-github",
        "colab_type": "text"
      },
      "source": [
        "<a href=\"https://colab.research.google.com/github/OneFineStarstuff/Onefinebot/blob/main/Example_for_Property_Listings.ipynb\" target=\"_parent\"><img src=\"https://colab.research.google.com/assets/colab-badge.svg\" alt=\"Open In Colab\"/></a>"
      ]
    },
    {
      "cell_type": "code",
      "execution_count": null,
      "metadata": {
        "id": "oSfaUSKUgnl3"
      },
      "outputs": [],
      "source": [
        "class PropertyLister:\n",
        "    def __init__(self):\n",
        "        self.properties = [\n",
        "            {\"type\": \"Apartment\", \"location\": \"City Center\", \"price\": 100000},\n",
        "            {\"type\": \"Villa\", \"location\": \"Suburbs\", \"price\": 250000}\n",
        "        ]  # Initialize the properties list with predefined property details\n",
        "\n",
        "    def search_properties(self, location):\n",
        "        # Find and return properties that match the specified location\n",
        "        return [p for p in self.properties if p[\"location\"] == location]\n",
        "\n",
        "# Example Usage\n",
        "lister = PropertyLister()\n",
        "print(lister.search_properties(\"City Center\"))\n",
        "# Output: [{'type': 'Apartment', 'location': 'City Center', 'price': 100000}]"
      ]
    }
  ]
}