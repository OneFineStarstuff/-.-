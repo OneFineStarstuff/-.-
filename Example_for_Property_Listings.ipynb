{
  "nbformat": 4,
  "nbformat_minor": 0,
  "metadata": {
    "colab": {
      "private_outputs": true,
      "provenance": [],
      "authorship_tag": "ABX9TyMaKM4c3BhewCybpqqdyt7R",
      "include_colab_link": true
    },
    "kernelspec": {
      "name": "python3",
      "display_name": "Python 3"
    },
    "language_info": {
      "name": "python"
    }
  },
  "cells": [
    {
      "cell_type": "markdown",
      "metadata": {
        "id": "view-in-github",
        "colab_type": "text"
      },
      "source": [
        "<a href=\"https://colab.research.google.com/github/OneFineStarstuff/Onefinebot/blob/main/Example_for_Property_Listings.ipynb\" target=\"_parent\"><img src=\"https://colab.research.google.com/assets/colab-badge.svg\" alt=\"Open In Colab\"/></a>"
      ]
    },
    {
      "cell_type": "code",
      "execution_count": null,
      "metadata": {
        "id": "WbW03kAG_0ii"
      },
      "outputs": [],
      "source": [
        "class PropertyListing:\n",
        "    def __init__(self):\n",
        "        self.properties = []  # Initialize an empty list to store property details\n",
        "\n",
        "    def add_property(self, name, location, price):\n",
        "        # Append the property's name, location, and price to the properties list\n",
        "        self.properties.append({\"name\": name, \"location\": location, \"price\": price})\n",
        "\n",
        "    def search_properties(self, max_price):\n",
        "        # Filter the properties list to include only those with a price <= max_price\n",
        "        return [p for p in self.properties if p[\"price\"] <= max_price]\n",
        "\n",
        "# Example Usage\n",
        "listing = PropertyListing()\n",
        "listing.add_property(\"Green Villa\", \"New York\", 500000)\n",
        "listing.add_property(\"Ocean View Apartment\", \"Los Angeles\", 700000)\n",
        "print(listing.search_properties(600000))\n",
        "# Output: [{'name': 'Green Villa', 'location': 'New York', 'price': 500000}]"
      ]
    }
  ]
}