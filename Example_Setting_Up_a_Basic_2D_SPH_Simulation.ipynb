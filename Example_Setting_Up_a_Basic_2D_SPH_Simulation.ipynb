{
  "nbformat": 4,
  "nbformat_minor": 0,
  "metadata": {
    "colab": {
      "private_outputs": true,
      "provenance": [],
      "authorship_tag": "ABX9TyMTxvfELKsa9tXacAQDgGnY",
      "include_colab_link": true
    },
    "kernelspec": {
      "name": "python3",
      "display_name": "Python 3"
    },
    "language_info": {
      "name": "python"
    }
  },
  "cells": [
    {
      "cell_type": "markdown",
      "metadata": {
        "id": "view-in-github",
        "colab_type": "text"
      },
      "source": [
        "<a href=\"https://colab.research.google.com/github/OneFineStarstuff/Onefinebot/blob/main/Example_Setting_Up_a_Basic_2D_SPH_Simulation.ipynb\" target=\"_parent\"><img src=\"https://colab.research.google.com/assets/colab-badge.svg\" alt=\"Open In Colab\"/></a>"
      ]
    },
    {
      "cell_type": "code",
      "execution_count": null,
      "metadata": {
        "id": "-Z9kA0NXF8qT"
      },
      "outputs": [],
      "source": [
        "import numpy as np\n",
        "import matplotlib.pyplot as plt\n",
        "\n",
        "# Constants\n",
        "G = 6.67430e-11  # Gravitational constant\n",
        "BLACK_HOLE_MASS = 1e6 * 1.989e30  # Black hole mass in kg (1 million solar masses)\n",
        "TIME_STEP = 1e2  # Time step in seconds\n",
        "NUM_PARTICLES = 100  # Number of SPH particles\n",
        "\n",
        "# Initialize particle positions and velocities around a central black hole\n",
        "np.random.seed(0)\n",
        "positions = np.random.rand(NUM_PARTICLES, 2) * 1e12  # Particle positions in meters\n",
        "velocities = np.random.randn(NUM_PARTICLES, 2) * 1e3  # Random velocities in m/s\n",
        "masses = np.ones(NUM_PARTICLES) * 1e24  # Set particle masses\n",
        "\n",
        "# Gravitational potential and softening to avoid infinity at zero distance\n",
        "def gravitational_force(pos):\n",
        "    r = np.linalg.norm(pos)\n",
        "    f_grav = -G * BLACK_HOLE_MASS / (r**2 + 1e10)\n",
        "    return f_grav * pos / r\n",
        "\n",
        "def update_sph_positions_and_velocities(positions, velocities):\n",
        "    # Update each particle due to central gravitational force\n",
        "    for i in range(NUM_PARTICLES):\n",
        "        pos = positions[i]\n",
        "        force = gravitational_force(pos)\n",
        "        # Euler's update for velocity and position\n",
        "        velocities[i] += force / masses[i] * TIME_STEP\n",
        "        positions[i] += velocities[i] * TIME_STEP\n",
        "    return positions, velocities\n",
        "\n",
        "# Run simulation\n",
        "num_steps = 300\n",
        "plt.ion()\n",
        "for step in range(num_steps):\n",
        "    positions, velocities = update_sph_positions_and_velocities(positions, velocities)\n",
        "    plt.clf()\n",
        "    plt.scatter(positions[:, 0], positions[:, 1], s=5)\n",
        "    plt.title(f\"Accretion Disk Simulation Step {step}\")\n",
        "    plt.xlim(-1e12, 1e12)\n",
        "    plt.ylim(-1e12, 1e12)\n",
        "    plt.pause(0.01)\n",
        "\n",
        "plt.ioff()\n",
        "plt.show()"
      ]
    }
  ]
}