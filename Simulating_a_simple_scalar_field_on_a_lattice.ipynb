{
  "nbformat": 4,
  "nbformat_minor": 0,
  "metadata": {
    "colab": {
      "private_outputs": true,
      "provenance": [],
      "authorship_tag": "ABX9TyPw3FYumO5u8zh+fIQzhcWX",
      "include_colab_link": true
    },
    "kernelspec": {
      "name": "python3",
      "display_name": "Python 3"
    },
    "language_info": {
      "name": "python"
    }
  },
  "cells": [
    {
      "cell_type": "markdown",
      "metadata": {
        "id": "view-in-github",
        "colab_type": "text"
      },
      "source": [
        "<a href=\"https://colab.research.google.com/github/OneFineStarstuff/Onefinebot/blob/main/Simulating_a_simple_scalar_field_on_a_lattice.ipynb\" target=\"_parent\"><img src=\"https://colab.research.google.com/assets/colab-badge.svg\" alt=\"Open In Colab\"/></a>"
      ]
    },
    {
      "cell_type": "code",
      "execution_count": null,
      "metadata": {
        "id": "cHnAlVvvqA2n"
      },
      "outputs": [],
      "source": [
        "import numpy as np\n",
        "import matplotlib.pyplot as plt\n",
        "\n",
        "# Define lattice parameters\n",
        "L = 20  # Lattice size\n",
        "N_steps = 100  # Simulation steps\n",
        "phi = np.random.normal(size=(L, L))  # Initial random field\n",
        "\n",
        "# Update the lattice field configuration\n",
        "def update_lattice(phi, L, beta=0.1):\n",
        "    for i in range(L):\n",
        "        for j in range(L):\n",
        "            delta = np.random.normal(scale=0.1)\n",
        "            new_phi = phi[i, j] + delta\n",
        "            dE = (new_phi - phi[i, j])**2\n",
        "            if dE < 0 or np.exp(-beta * dE) > np.random.rand():\n",
        "                phi[i, j] = new_phi\n",
        "    return phi\n",
        "\n",
        "# Run simulation\n",
        "for _ in range(N_steps):\n",
        "    phi = update_lattice(phi, L)\n",
        "\n",
        "# Visualize the field configuration\n",
        "plt.imshow(phi, cmap=\"viridis\")\n",
        "plt.colorbar(label=\"Field Value\")\n",
        "plt.title(\"2D Scalar Field Configuration\")\n",
        "plt.show()"
      ]
    }
  ]
}