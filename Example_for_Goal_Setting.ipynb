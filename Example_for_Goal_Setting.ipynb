{
  "nbformat": 4,
  "nbformat_minor": 0,
  "metadata": {
    "colab": {
      "private_outputs": true,
      "provenance": [],
      "authorship_tag": "ABX9TyPkWndXuDiBU4KxkZ9R/rYm",
      "include_colab_link": true
    },
    "kernelspec": {
      "name": "python3",
      "display_name": "Python 3"
    },
    "language_info": {
      "name": "python"
    }
  },
  "cells": [
    {
      "cell_type": "markdown",
      "metadata": {
        "id": "view-in-github",
        "colab_type": "text"
      },
      "source": [
        "<a href=\"https://colab.research.google.com/github/OneFineStarstuff/Onefinebot/blob/main/Example_for_Goal_Setting.ipynb\" target=\"_parent\"><img src=\"https://colab.research.google.com/assets/colab-badge.svg\" alt=\"Open In Colab\"/></a>"
      ]
    },
    {
      "cell_type": "code",
      "execution_count": null,
      "metadata": {
        "id": "ew6wP3lPdff3"
      },
      "outputs": [],
      "source": [
        "class GoalTracker:\n",
        "    def __init__(self):\n",
        "        self.goals = {}  # Initialize an empty dictionary to store user goals\n",
        "\n",
        "    def set_goal(self, user, goal):\n",
        "        # Add the goal to the user's list of goals\n",
        "        self.goals.setdefault(user, []).append(goal)\n",
        "\n",
        "    def get_goals(self, user):\n",
        "        # Retrieve the list of goals for the specified user\n",
        "        return self.goals.get(user, \"No goals set.\")\n",
        "\n",
        "# Example Usage\n",
        "tracker = GoalTracker()\n",
        "tracker.set_goal(\"Alice\", \"Learn Python\")\n",
        "print(tracker.get_goals(\"Alice\"))\n",
        "# Output: ['Learn Python']"
      ]
    }
  ]
}