{
  "nbformat": 4,
  "nbformat_minor": 0,
  "metadata": {
    "colab": {
      "private_outputs": true,
      "provenance": [],
      "authorship_tag": "ABX9TyONCLbYbHonXKvv+2IfGelt",
      "include_colab_link": true
    },
    "kernelspec": {
      "name": "python3",
      "display_name": "Python 3"
    },
    "language_info": {
      "name": "python"
    }
  },
  "cells": [
    {
      "cell_type": "markdown",
      "metadata": {
        "id": "view-in-github",
        "colab_type": "text"
      },
      "source": [
        "<a href=\"https://colab.research.google.com/github/OneFineStarstuff/Onefinebot/blob/main/Simple_Monte_Carlo_integration_to_approximate_a_path_integral_for_a_scalar_field.ipynb\" target=\"_parent\"><img src=\"https://colab.research.google.com/assets/colab-badge.svg\" alt=\"Open In Colab\"/></a>"
      ]
    },
    {
      "cell_type": "code",
      "execution_count": null,
      "metadata": {
        "id": "idq1gmvc_WaK"
      },
      "outputs": [],
      "source": [
        "import numpy as np\n",
        "\n",
        "# Parameters for the lattice field theory\n",
        "L = 10  # Lattice size\n",
        "N_samples = 10000  # Number of Monte Carlo samples\n",
        "beta = 0.1  # Coupling constant\n",
        "\n",
        "# Define the action (energy function)\n",
        "def action(phi):\n",
        "    return beta * np.sum((phi[:-1] - phi[1:])**2)\n",
        "\n",
        "# Monte Carlo sampling for path integral\n",
        "def monte_carlo_path_integral(L, N_samples, beta):\n",
        "    phi_samples = []\n",
        "    for _ in range(N_samples):\n",
        "        phi = np.random.normal(size=L)  # Random configuration\n",
        "        S = action(phi)  # Action for this configuration\n",
        "        if np.exp(-S) > np.random.rand():  # Metropolis acceptance criterion\n",
        "            phi_samples.append(phi)\n",
        "    return np.array(phi_samples)\n",
        "\n",
        "# Run Monte Carlo and calculate observables\n",
        "phi_samples = monte_carlo_path_integral(L, N_samples, beta)\n",
        "avg_phi = np.mean(phi_samples, axis=0)\n",
        "print(f\"Average field configuration: {avg_phi}\")"
      ]
    }
  ]
}