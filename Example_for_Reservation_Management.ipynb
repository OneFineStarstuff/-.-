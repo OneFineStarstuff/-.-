{
  "nbformat": 4,
  "nbformat_minor": 0,
  "metadata": {
    "colab": {
      "private_outputs": true,
      "provenance": [],
      "authorship_tag": "ABX9TyPnuQl3t6LXJgfkg+uVyb/5",
      "include_colab_link": true
    },
    "kernelspec": {
      "name": "python3",
      "display_name": "Python 3"
    },
    "language_info": {
      "name": "python"
    }
  },
  "cells": [
    {
      "cell_type": "markdown",
      "metadata": {
        "id": "view-in-github",
        "colab_type": "text"
      },
      "source": [
        "<a href=\"https://colab.research.google.com/github/OneFineStarstuff/Onefinebot/blob/main/Example_for_Reservation_Management.ipynb\" target=\"_parent\"><img src=\"https://colab.research.google.com/assets/colab-badge.svg\" alt=\"Open In Colab\"/></a>"
      ]
    },
    {
      "cell_type": "code",
      "execution_count": null,
      "metadata": {
        "id": "9zCrP4oEJeaz"
      },
      "outputs": [],
      "source": [
        "class ReservationBot:\n",
        "    def __init__(self):\n",
        "        self.reservations = {}  # Initialize an empty dictionary to store reservation details\n",
        "\n",
        "    def book_reservation(self, name, date):\n",
        "        # Add the reservation to the reservations dictionary\n",
        "        self.reservations[name] = date\n",
        "        return f\"Reservation for {name} on {date} confirmed.\"\n",
        "\n",
        "    def view_reservations(self):\n",
        "        # Return the reservations dictionary or a message if no reservations are found\n",
        "        return self.reservations if self.reservations else \"No reservations found.\"\n",
        "\n",
        "# Example Usage\n",
        "reservation_bot = ReservationBot()\n",
        "print(reservation_bot.book_reservation(\"Alice\", \"2024-01-15\"))\n",
        "print(reservation_bot.view_reservations())\n",
        "# Output: Reservation for Alice on 2024-01-15 confirmed.\n",
        "#         {'Alice': '2024-01-15'}"
      ]
    }
  ]
}