{
  "nbformat": 4,
  "nbformat_minor": 0,
  "metadata": {
    "colab": {
      "private_outputs": true,
      "provenance": [],
      "authorship_tag": "ABX9TyORxrsSp+2KOORYkb+orPB/",
      "include_colab_link": true
    },
    "kernelspec": {
      "name": "python3",
      "display_name": "Python 3"
    },
    "language_info": {
      "name": "python"
    }
  },
  "cells": [
    {
      "cell_type": "markdown",
      "metadata": {
        "id": "view-in-github",
        "colab_type": "text"
      },
      "source": [
        "<a href=\"https://colab.research.google.com/github/OneFineStarstuff/Onefinebot/blob/main/Example_for_Movie_Recommendations.ipynb\" target=\"_parent\"><img src=\"https://colab.research.google.com/assets/colab-badge.svg\" alt=\"Open In Colab\"/></a>"
      ]
    },
    {
      "cell_type": "code",
      "execution_count": null,
      "metadata": {
        "id": "Ihxsa6e7D15y"
      },
      "outputs": [],
      "source": [
        "class MovieRecommender:\n",
        "    def __init__(self):\n",
        "        self.movies = {\n",
        "            \"Action\": [\"Mad Max: Fury Road\", \"John Wick\"],\n",
        "            \"Comedy\": [\"Superbad\", \"The Grand Budapest Hotel\"],\n",
        "            \"Drama\": [\"The Shawshank Redemption\", \"The Godfather\"]\n",
        "        }  # Initialize movie genres and titles\n",
        "\n",
        "    def recommend_movies(self, genre):\n",
        "        # Return the movies that match the specified genre\n",
        "        return self.movies.get(genre, \"No movies found for this genre\")\n",
        "\n",
        "# Example Usage\n",
        "recommender = MovieRecommender()\n",
        "print(recommender.recommend_movies(\"Drama\"))\n",
        "# Output: ['The Shawshank Redemption', 'The Godfather']"
      ]
    }
  ]
}