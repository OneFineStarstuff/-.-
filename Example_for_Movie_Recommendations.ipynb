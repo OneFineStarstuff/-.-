{
  "nbformat": 4,
  "nbformat_minor": 0,
  "metadata": {
    "colab": {
      "private_outputs": true,
      "provenance": [],
      "authorship_tag": "ABX9TyMxmYsygkgRd2eEuafysZ+i",
      "include_colab_link": true
    },
    "kernelspec": {
      "name": "python3",
      "display_name": "Python 3"
    },
    "language_info": {
      "name": "python"
    }
  },
  "cells": [
    {
      "cell_type": "markdown",
      "metadata": {
        "id": "view-in-github",
        "colab_type": "text"
      },
      "source": [
        "<a href=\"https://colab.research.google.com/github/OneFineStarstuff/Onefinebot/blob/main/Example_for_Movie_Recommendations.ipynb\" target=\"_parent\"><img src=\"https://colab.research.google.com/assets/colab-badge.svg\" alt=\"Open In Colab\"/></a>"
      ]
    },
    {
      "cell_type": "code",
      "execution_count": null,
      "metadata": {
        "id": "YlMPtPUC6dQC"
      },
      "outputs": [],
      "source": [
        "class MovieRecommender:\n",
        "    def __init__(self):\n",
        "        self.movies = {\n",
        "            \"Action\": [\"Mad Max: Fury Road\", \"John Wick\"],\n",
        "            \"Comedy\": [\"The Grand Budapest Hotel\", \"Superbad\"],\n",
        "            \"Drama\": [\"The Godfather\", \"Forrest Gump\"],\n",
        "        }  # Initialize the movies dictionary with predefined genres and corresponding movie titles\n",
        "\n",
        "    def recommend_movie(self, genre):\n",
        "        # Return the movies that match the specified genre\n",
        "        return self.movies.get(genre, \"No movies found for this genre.\")\n",
        "\n",
        "# Example Usage\n",
        "movie_bot = MovieRecommender()\n",
        "print(movie_bot.recommend_movie(\"Drama\"))\n",
        "# Output: ['The Godfather', 'Forrest Gump']"
      ]
    }
  ]
}