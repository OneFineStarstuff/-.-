{
  "nbformat": 4,
  "nbformat_minor": 0,
  "metadata": {
    "colab": {
      "private_outputs": true,
      "provenance": [],
      "authorship_tag": "ABX9TyPUj3uTnoBytk9DVSLpyNg4",
      "include_colab_link": true
    },
    "kernelspec": {
      "name": "python3",
      "display_name": "Python 3"
    },
    "language_info": {
      "name": "python"
    }
  },
  "cells": [
    {
      "cell_type": "markdown",
      "metadata": {
        "id": "view-in-github",
        "colab_type": "text"
      },
      "source": [
        "<a href=\"https://colab.research.google.com/github/OneFineStarstuff/Onefinebot/blob/main/Basic_implementation_of_the_Einstein_tensor_in_2D_to_demonstrate_curvature_in_a_simplified_gravitational_model.ipynb\" target=\"_parent\"><img src=\"https://colab.research.google.com/assets/colab-badge.svg\" alt=\"Open In Colab\"/></a>"
      ]
    },
    {
      "cell_type": "code",
      "execution_count": null,
      "metadata": {
        "id": "iDjYf0lBfCzm"
      },
      "outputs": [],
      "source": [
        "import numpy as np\n",
        "import matplotlib.pyplot as plt\n",
        "\n",
        "# Parameters for scalar field theory\n",
        "lambda_val = 0.5  # Coupling constant\n",
        "grid_size = 100\n",
        "phi_vals = np.linspace(-5, 5, grid_size)\n",
        "\n",
        "# Define Schwinger-Dyson self-energy function\n",
        "def self_energy(phi):\n",
        "    return lambda_val * phi**3\n",
        "\n",
        "# Approximate solution\n",
        "phi_solution = np.zeros(grid_size)\n",
        "for i, phi in enumerate(phi_vals):\n",
        "    phi_solution[i] = self_energy(phi)\n",
        "\n",
        "# Plot solution\n",
        "plt.plot(phi_vals, phi_solution)\n",
        "plt.xlabel(\"Field Value\")\n",
        "plt.ylabel(\"Self-Energy\")\n",
        "plt.title(\"Approximate Solution of Schwinger-Dyson Equation\")\n",
        "plt.show()"
      ]
    }
  ]
}