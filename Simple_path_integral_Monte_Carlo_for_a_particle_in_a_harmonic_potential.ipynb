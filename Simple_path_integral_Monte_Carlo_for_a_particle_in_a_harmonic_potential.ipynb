{
  "nbformat": 4,
  "nbformat_minor": 0,
  "metadata": {
    "colab": {
      "private_outputs": true,
      "provenance": [],
      "authorship_tag": "ABX9TyPPlm8G7GVq3npvUq74VAM+",
      "include_colab_link": true
    },
    "kernelspec": {
      "name": "python3",
      "display_name": "Python 3"
    },
    "language_info": {
      "name": "python"
    }
  },
  "cells": [
    {
      "cell_type": "markdown",
      "metadata": {
        "id": "view-in-github",
        "colab_type": "text"
      },
      "source": [
        "<a href=\"https://colab.research.google.com/github/OneFineStarstuff/Onefinebot/blob/main/Simple_path_integral_Monte_Carlo_for_a_particle_in_a_harmonic_potential.ipynb\" target=\"_parent\"><img src=\"https://colab.research.google.com/assets/colab-badge.svg\" alt=\"Open In Colab\"/></a>"
      ]
    },
    {
      "cell_type": "code",
      "execution_count": null,
      "metadata": {
        "id": "bcRfidHpQji9"
      },
      "outputs": [],
      "source": [
        "import numpy as np\n",
        "import matplotlib.pyplot as plt\n",
        "\n",
        "# Parameters\n",
        "num_slices = 100\n",
        "beta = 1.0  # Inverse temperature\n",
        "omega = 1.0  # Harmonic oscillator frequency\n",
        "\n",
        "# Initialize path\n",
        "path = np.random.randn(num_slices)\n",
        "\n",
        "def action_difference(path, i, delta, beta, omega):\n",
        "    \"\"\"Compute the change in action due to a small change in the field.\"\"\"\n",
        "    next_i = (i + 1) % num_slices\n",
        "    prev_i = (i - 1) % num_slices\n",
        "\n",
        "    old_action = 0.5 * ((path[i] - path[next_i])**2 + (path[i] - path[prev_i])**2) * beta / num_slices \\\n",
        "                 + 0.5 * omega**2 * path[i]**2 * beta / num_slices\n",
        "\n",
        "    new_path_i = path[i] + delta\n",
        "    new_action = 0.5 * ((new_path_i - path[next_i])**2 + (new_path_i - path[prev_i])**2) * beta / num_slices \\\n",
        "                 + 0.5 * omega**2 * new_path_i**2 * beta / num_slices\n",
        "\n",
        "    return new_action - old_action\n",
        "\n",
        "# Monte Carlo simulation\n",
        "num_steps = 1000\n",
        "for _ in range(num_steps):\n",
        "    i = np.random.randint(num_slices)\n",
        "    old_value = path[i]\n",
        "    delta = np.random.normal() * 0.1\n",
        "    delta_S = action_difference(path, i, delta, beta, omega)\n",
        "    if np.exp(-delta_S) > np.random.rand():\n",
        "        path[i] += delta  # Accept move\n",
        "    else:\n",
        "        path[i] = old_value  # Reject move\n",
        "\n",
        "plt.plot(path)\n",
        "plt.xlabel(\"Slice\")\n",
        "plt.ylabel(\"Position\")\n",
        "plt.title(\"Path Integral Monte Carlo Simulation\")\n",
        "plt.show()"
      ]
    }
  ]
}