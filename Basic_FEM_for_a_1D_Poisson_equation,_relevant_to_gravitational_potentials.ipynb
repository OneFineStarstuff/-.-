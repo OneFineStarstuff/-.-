{
  "nbformat": 4,
  "nbformat_minor": 0,
  "metadata": {
    "colab": {
      "private_outputs": true,
      "provenance": [],
      "authorship_tag": "ABX9TyMbHEIO95qkETRun8dbVEF5",
      "include_colab_link": true
    },
    "kernelspec": {
      "name": "python3",
      "display_name": "Python 3"
    },
    "language_info": {
      "name": "python"
    }
  },
  "cells": [
    {
      "cell_type": "markdown",
      "metadata": {
        "id": "view-in-github",
        "colab_type": "text"
      },
      "source": [
        "<a href=\"https://colab.research.google.com/github/OneFineStarstuff/Onefinebot/blob/main/Basic_FEM_for_a_1D_Poisson_equation%2C_relevant_to_gravitational_potentials.ipynb\" target=\"_parent\"><img src=\"https://colab.research.google.com/assets/colab-badge.svg\" alt=\"Open In Colab\"/></a>"
      ]
    },
    {
      "cell_type": "code",
      "execution_count": null,
      "metadata": {
        "id": "C5J56DK4UzF7"
      },
      "outputs": [],
      "source": [
        "import numpy as np\n",
        "import scipy.sparse as sp\n",
        "import scipy.sparse.linalg as spla\n",
        "import matplotlib.pyplot as plt\n",
        "\n",
        "# Define grid and FEM parameters\n",
        "grid_size = 100\n",
        "length = 1.0\n",
        "h = length / (grid_size - 1)\n",
        "x = np.linspace(0, length, grid_size)\n",
        "f = np.sin(np.pi * x)  # Source term\n",
        "\n",
        "# Build the FEM stiffness matrix and load vector\n",
        "A = sp.diags([1, -2, 1], [-1, 0, 1], shape=(grid_size, grid_size)) / h**2\n",
        "A = A.tocsc()  # Convert to sparse format\n",
        "b = f * h**2\n",
        "\n",
        "# Apply boundary conditions (e.g., Dirichlet)\n",
        "A[0, 0] = A[-1, -1] = 1.0\n",
        "b[0] = b[-1] = 0.0\n",
        "\n",
        "# Solve the linear system\n",
        "u = spla.spsolve(A, b)\n",
        "\n",
        "# Plot solution\n",
        "plt.plot(x, u)\n",
        "plt.xlabel(\"Position\")\n",
        "plt.ylabel(\"Potential\")\n",
        "plt.title(\"FEM Solution of Poisson Equation in 1D\")\n",
        "plt.show()"
      ]
    }
  ]
}