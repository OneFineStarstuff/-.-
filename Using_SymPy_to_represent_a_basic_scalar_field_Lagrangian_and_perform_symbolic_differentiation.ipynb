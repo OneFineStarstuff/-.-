{
  "nbformat": 4,
  "nbformat_minor": 0,
  "metadata": {
    "colab": {
      "private_outputs": true,
      "provenance": [],
      "authorship_tag": "ABX9TyPZbBrva1frGo9QWKUxyh79",
      "include_colab_link": true
    },
    "kernelspec": {
      "name": "python3",
      "display_name": "Python 3"
    },
    "language_info": {
      "name": "python"
    }
  },
  "cells": [
    {
      "cell_type": "markdown",
      "metadata": {
        "id": "view-in-github",
        "colab_type": "text"
      },
      "source": [
        "<a href=\"https://colab.research.google.com/github/OneFineStarstuff/Onefinebot/blob/main/Using_SymPy_to_represent_a_basic_scalar_field_Lagrangian_and_perform_symbolic_differentiation.ipynb\" target=\"_parent\"><img src=\"https://colab.research.google.com/assets/colab-badge.svg\" alt=\"Open In Colab\"/></a>"
      ]
    },
    {
      "cell_type": "code",
      "execution_count": null,
      "metadata": {
        "id": "HKuVtOtcUdTR"
      },
      "outputs": [],
      "source": [
        "from sympy import symbols, diff, Function\n",
        "\n",
        "# Define the field and Lagrangian for a scalar field theory\n",
        "phi = Function('phi')\n",
        "x = symbols('x')\n",
        "m, lambda_ = symbols('m lambda')\n",
        "\n",
        "# Define the Lagrangian density for a ϕ^4 theory: L = 1/2 (∂ϕ)^2 - 1/2 m^2 ϕ^2 - λ ϕ^4\n",
        "L = 0.5 * diff(phi(x), x)**2 - 0.5 * m**2 * phi(x)**2 - lambda_ * phi(x)**4\n",
        "\n",
        "# Compute the equation of motion by varying the action (Euler-Lagrange equation)\n",
        "eom = diff(L, phi(x)) - diff(diff(L, diff(phi(x), x)), x)\n",
        "print(\"Equation of motion for ϕ^4 theory:\", eom.simplify())"
      ]
    }
  ]
}