{
  "nbformat": 4,
  "nbformat_minor": 0,
  "metadata": {
    "colab": {
      "private_outputs": true,
      "provenance": [],
      "authorship_tag": "ABX9TyOEUgnyYn46vTzW1UNw4R3F",
      "include_colab_link": true
    },
    "kernelspec": {
      "name": "python3",
      "display_name": "Python 3"
    },
    "language_info": {
      "name": "python"
    }
  },
  "cells": [
    {
      "cell_type": "markdown",
      "metadata": {
        "id": "view-in-github",
        "colab_type": "text"
      },
      "source": [
        "<a href=\"https://colab.research.google.com/github/OneFineStarstuff/Onefinebot/blob/main/Emotion_Recognition_and_Adaptive_AI_Generated_Art.ipynb\" target=\"_parent\"><img src=\"https://colab.research.google.com/assets/colab-badge.svg\" alt=\"Open In Colab\"/></a>"
      ]
    },
    {
      "cell_type": "code",
      "source": [
        "pip install fer"
      ],
      "metadata": {
        "id": "gqVKy_UsidEr"
      },
      "execution_count": null,
      "outputs": []
    },
    {
      "cell_type": "code",
      "execution_count": null,
      "metadata": {
        "id": "znnOPkyliITQ"
      },
      "outputs": [],
      "source": [
        "import cv2\n",
        "from fer import FER\n",
        "\n",
        "# Initialize the FER detector with MTCNN (Multi-task Cascaded Convolutional Networks)\n",
        "detector = FER(mtcnn=True)\n",
        "\n",
        "# Read the image file\n",
        "img = cv2.imread(\"person.jpg\")\n",
        "\n",
        "# Detect the top emotion from the image\n",
        "emotions = detector.top_emotion(img)\n",
        "\n",
        "# Print the detected emotion and its confidence\n",
        "if emotions:\n",
        "    print(f\"Detected Emotion: {emotions[0]} with confidence {emotions[1]}\")\n",
        "else:\n",
        "    print(\"No emotion detected.\")"
      ]
    }
  ]
}