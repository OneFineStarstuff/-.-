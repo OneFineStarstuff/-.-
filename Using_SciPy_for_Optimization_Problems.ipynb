{
  "nbformat": 4,
  "nbformat_minor": 0,
  "metadata": {
    "colab": {
      "private_outputs": true,
      "provenance": [],
      "authorship_tag": "ABX9TyPHqDDADF66cRSFaUX4jOnc",
      "include_colab_link": true
    },
    "kernelspec": {
      "name": "python3",
      "display_name": "Python 3"
    },
    "language_info": {
      "name": "python"
    }
  },
  "cells": [
    {
      "cell_type": "markdown",
      "metadata": {
        "id": "view-in-github",
        "colab_type": "text"
      },
      "source": [
        "<a href=\"https://colab.research.google.com/github/OneFineStarstuff/Onefinebot/blob/main/Using_SciPy_for_Optimization_Problems.ipynb\" target=\"_parent\"><img src=\"https://colab.research.google.com/assets/colab-badge.svg\" alt=\"Open In Colab\"/></a>"
      ]
    },
    {
      "cell_type": "code",
      "execution_count": null,
      "metadata": {
        "id": "LSr4FVdVOj2S"
      },
      "outputs": [],
      "source": [
        "from scipy.optimize import minimize\n",
        "\n",
        "# Define the objective function to minimize (e.g., a simple quadratic function)\n",
        "def objective_function(x):\n",
        "    return (x[0] - 3)**2 + (x[1] - 2)**2\n",
        "\n",
        "# Initial guess for the variables\n",
        "initial_guess = [0, 0]\n",
        "\n",
        "# Perform optimization using SciPy's minimize function\n",
        "result = minimize(objective_function, initial_guess)\n",
        "\n",
        "print(\"Optimal Variables:\", result.x)\n",
        "print(\"Minimum Value:\", result.fun)"
      ]
    }
  ]
}