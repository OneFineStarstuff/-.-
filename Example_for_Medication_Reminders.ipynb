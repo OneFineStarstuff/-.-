{
  "nbformat": 4,
  "nbformat_minor": 0,
  "metadata": {
    "colab": {
      "private_outputs": true,
      "provenance": [],
      "authorship_tag": "ABX9TyM/RGBQJNsfko6adfwbTxzh",
      "include_colab_link": true
    },
    "kernelspec": {
      "name": "python3",
      "display_name": "Python 3"
    },
    "language_info": {
      "name": "python"
    }
  },
  "cells": [
    {
      "cell_type": "markdown",
      "metadata": {
        "id": "view-in-github",
        "colab_type": "text"
      },
      "source": [
        "<a href=\"https://colab.research.google.com/github/OneFineStarstuff/Onefinebot/blob/main/Example_for_Medication_Reminders.ipynb\" target=\"_parent\"><img src=\"https://colab.research.google.com/assets/colab-badge.svg\" alt=\"Open In Colab\"/></a>"
      ]
    },
    {
      "cell_type": "code",
      "execution_count": null,
      "metadata": {
        "id": "fdP-p5_MFqpa"
      },
      "outputs": [],
      "source": [
        "class MedicationReminder:\n",
        "    def __init__(self):\n",
        "        self.reminders = []  # Initialize an empty list to store reminders\n",
        "\n",
        "    def add_reminder(self, patient, medication, time):\n",
        "        # Append the patient's name, medication, and time to the reminders list\n",
        "        self.reminders.append({\"patient\": patient, \"medication\": medication, \"time\": time})\n",
        "\n",
        "    def get_reminders(self):\n",
        "        # Return the list of all reminders\n",
        "        return self.reminders\n",
        "\n",
        "# Example Usage\n",
        "reminder = MedicationReminder()\n",
        "reminder.add_reminder(\"Alice\", \"Aspirin\", \"08:00 AM\")\n",
        "reminder.add_reminder(\"Bob\", \"Metformin\", \"09:00 PM\")\n",
        "print(reminder.get_reminders())\n",
        "# Output: [{'patient': 'Alice', 'medication': 'Aspirin', 'time': '08:00 AM'}, {'patient': 'Bob', 'medication': 'Metformin', 'time': '09:00 PM'}]"
      ]
    }
  ]
}