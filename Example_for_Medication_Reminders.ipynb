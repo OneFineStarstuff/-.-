{
  "nbformat": 4,
  "nbformat_minor": 0,
  "metadata": {
    "colab": {
      "private_outputs": true,
      "provenance": [],
      "authorship_tag": "ABX9TyMCnzLaywBsbVIGeajF5hAq",
      "include_colab_link": true
    },
    "kernelspec": {
      "name": "python3",
      "display_name": "Python 3"
    },
    "language_info": {
      "name": "python"
    }
  },
  "cells": [
    {
      "cell_type": "markdown",
      "metadata": {
        "id": "view-in-github",
        "colab_type": "text"
      },
      "source": [
        "<a href=\"https://colab.research.google.com/github/OneFineStarstuff/Onefinebot/blob/main/Example_for_Medication_Reminders.ipynb\" target=\"_parent\"><img src=\"https://colab.research.google.com/assets/colab-badge.svg\" alt=\"Open In Colab\"/></a>"
      ]
    },
    {
      "cell_type": "code",
      "execution_count": null,
      "metadata": {
        "id": "jakNL3jVYHTw"
      },
      "outputs": [],
      "source": [
        "import time\n",
        "\n",
        "class MedicationReminder:\n",
        "    def __init__(self):\n",
        "        self.schedule = []  # Initialize an empty list to store reminders\n",
        "\n",
        "    def add_reminder(self, medication, time_to_remind):\n",
        "        # Append the medication and reminder time to the schedule\n",
        "        self.schedule.append({\"medication\": medication, \"time\": time_to_remind})\n",
        "\n",
        "    def get_reminders(self):\n",
        "        # Return the list of scheduled reminders\n",
        "        return self.schedule\n",
        "\n",
        "# Example Usage\n",
        "reminder = MedicationReminder()\n",
        "reminder.add_reminder(\"Vitamin D\", \"8:00 AM\")\n",
        "reminder.add_reminder(\"Blood Pressure Medication\", \"8:00 PM\")\n",
        "print(reminder.get_reminders())\n",
        "# Output: [{'medication': 'Vitamin D', 'time': '8:00 AM'}, {'medication': 'Blood Pressure Medication', 'time': '8:00 PM'}]"
      ]
    }
  ]
}