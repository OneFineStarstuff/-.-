{
  "nbformat": 4,
  "nbformat_minor": 0,
  "metadata": {
    "colab": {
      "private_outputs": true,
      "provenance": [],
      "authorship_tag": "ABX9TyOLAFgbYcTUiMkpxk9FlINh",
      "include_colab_link": true
    },
    "kernelspec": {
      "name": "python3",
      "display_name": "Python 3"
    },
    "language_info": {
      "name": "python"
    }
  },
  "cells": [
    {
      "cell_type": "markdown",
      "metadata": {
        "id": "view-in-github",
        "colab_type": "text"
      },
      "source": [
        "<a href=\"https://colab.research.google.com/github/OneFineStarstuff/Onefinebot/blob/main/Example_for_Medication_Reminders.ipynb\" target=\"_parent\"><img src=\"https://colab.research.google.com/assets/colab-badge.svg\" alt=\"Open In Colab\"/></a>"
      ]
    },
    {
      "cell_type": "code",
      "execution_count": null,
      "metadata": {
        "id": "mP1NsKIf9RwB"
      },
      "outputs": [],
      "source": [
        "class MedicationReminder:\n",
        "    def __init__(self):\n",
        "        self.schedule = {\"Morning\": \"Blood Pressure Medicine\", \"Evening\": \"Vitamin D Supplement\"}  # Initialize schedule with predefined times of the day and corresponding medications\n",
        "\n",
        "    def get_reminders(self, time_of_day):\n",
        "        # Return the medication scheduled for the specified time of day\n",
        "        return self.schedule.get(time_of_day, \"No medications scheduled at this time.\")\n",
        "\n",
        "# Example Usage\n",
        "reminder_bot = MedicationReminder()\n",
        "print(reminder_bot.get_reminders(\"Morning\"))\n",
        "# Output: Blood Pressure Medicine"
      ]
    }
  ]
}