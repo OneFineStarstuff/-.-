{
  "nbformat": 4,
  "nbformat_minor": 0,
  "metadata": {
    "colab": {
      "private_outputs": true,
      "provenance": [],
      "authorship_tag": "ABX9TyOFJ5avOD2OSsrUE5EuJNhS",
      "include_colab_link": true
    },
    "kernelspec": {
      "name": "python3",
      "display_name": "Python 3"
    },
    "language_info": {
      "name": "python"
    }
  },
  "cells": [
    {
      "cell_type": "markdown",
      "metadata": {
        "id": "view-in-github",
        "colab_type": "text"
      },
      "source": [
        "<a href=\"https://colab.research.google.com/github/OneFineStarstuff/Onefinebot/blob/main/Example_for_Medication_Reminders.ipynb\" target=\"_parent\"><img src=\"https://colab.research.google.com/assets/colab-badge.svg\" alt=\"Open In Colab\"/></a>"
      ]
    },
    {
      "cell_type": "code",
      "execution_count": null,
      "metadata": {
        "id": "1Gkg3QOVCGQw"
      },
      "outputs": [],
      "source": [
        "from datetime import datetime, timedelta\n",
        "\n",
        "class MedicationReminder:\n",
        "    def __init__(self):\n",
        "        self.schedule = []  # Initialize an empty list to store reminders\n",
        "\n",
        "    def add_reminder(self, medication, hours_from_now):\n",
        "        # Calculate the reminder time by adding the specified hours to the current time\n",
        "        reminder_time = datetime.now() + timedelta(hours=hours_from_now)\n",
        "        # Append the medication and reminder time to the schedule\n",
        "        self.schedule.append({\"medication\": medication, \"time\": reminder_time.strftime(\"%Y-%m-%d %H:%M:%S\")})\n",
        "\n",
        "    def get_schedule(self):\n",
        "        # Return the list of scheduled reminders\n",
        "        return self.schedule\n",
        "\n",
        "# Example Usage\n",
        "reminder = MedicationReminder()\n",
        "reminder.add_reminder(\"Paracetamol\", 6)\n",
        "print(reminder.get_schedule())  # Output: [{'medication': 'Paracetamol', 'time': '2024-12-30 18:30:00'}]"
      ]
    }
  ]
}