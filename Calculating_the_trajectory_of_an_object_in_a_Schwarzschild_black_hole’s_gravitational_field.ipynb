{
  "nbformat": 4,
  "nbformat_minor": 0,
  "metadata": {
    "colab": {
      "private_outputs": true,
      "provenance": [],
      "authorship_tag": "ABX9TyMEaWIqJnUgIZLVcDu4c/kB",
      "include_colab_link": true
    },
    "kernelspec": {
      "name": "python3",
      "display_name": "Python 3"
    },
    "language_info": {
      "name": "python"
    }
  },
  "cells": [
    {
      "cell_type": "markdown",
      "metadata": {
        "id": "view-in-github",
        "colab_type": "text"
      },
      "source": [
        "<a href=\"https://colab.research.google.com/github/OneFineStarstuff/Onefinebot/blob/main/Calculating_the_trajectory_of_an_object_in_a_Schwarzschild_black_hole%E2%80%99s_gravitational_field.ipynb\" target=\"_parent\"><img src=\"https://colab.research.google.com/assets/colab-badge.svg\" alt=\"Open In Colab\"/></a>"
      ]
    },
    {
      "cell_type": "code",
      "execution_count": null,
      "metadata": {
        "id": "qdtZA1HNod9m"
      },
      "outputs": [],
      "source": [
        "import numpy as np\n",
        "import matplotlib.pyplot as plt\n",
        "\n",
        "# Schwarzschild radius for a black hole of mass M\n",
        "def schwarzschild_radius(M):\n",
        "    G = 6.67430e-11  # Gravitational constant\n",
        "    c = 3.0e8  # Speed of light\n",
        "    return 2 * G * M / c**2\n",
        "\n",
        "# Define parameters\n",
        "M = 1.989e30  # Mass of the black hole in kg (Sun's mass)\n",
        "r_s = schwarzschild_radius(M)\n",
        "r_0 = 3 * r_s  # Initial distance from the black hole\n",
        "phi = np.linspace(0, 2 * np.pi, 1000)  # Angular position\n",
        "\n",
        "# Plot the orbit\n",
        "plt.plot(r_0 * np.cos(phi), r_0 * np.sin(phi), label=\"Orbit at 3 x Schwarzschild Radius\")\n",
        "plt.xlabel(\"x (m)\")\n",
        "plt.ylabel(\"y (m)\")\n",
        "plt.legend()\n",
        "plt.title(\"Orbit around a Schwarzschild Black Hole\")\n",
        "plt.gca().set_aspect('equal', adjustable='box')\n",
        "plt.show()"
      ]
    }
  ]
}