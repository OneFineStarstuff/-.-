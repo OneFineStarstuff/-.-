{
  "nbformat": 4,
  "nbformat_minor": 0,
  "metadata": {
    "colab": {
      "private_outputs": true,
      "provenance": [],
      "authorship_tag": "ABX9TyNY5H/UPemDhP4TnPab9VNh",
      "include_colab_link": true
    },
    "kernelspec": {
      "name": "python3",
      "display_name": "Python 3"
    },
    "language_info": {
      "name": "python"
    }
  },
  "cells": [
    {
      "cell_type": "markdown",
      "metadata": {
        "id": "view-in-github",
        "colab_type": "text"
      },
      "source": [
        "<a href=\"https://colab.research.google.com/github/OneFineStarstuff/Onefinebot/blob/main/Example_for_Leaderboard_Management.ipynb\" target=\"_parent\"><img src=\"https://colab.research.google.com/assets/colab-badge.svg\" alt=\"Open In Colab\"/></a>"
      ]
    },
    {
      "cell_type": "code",
      "execution_count": null,
      "metadata": {
        "id": "NstX4A76drmK"
      },
      "outputs": [],
      "source": [
        "class Leaderboard:\n",
        "    def __init__(self):\n",
        "        self.scores = {}  # Initialize an empty dictionary to store player scores\n",
        "\n",
        "    def add_score(self, player, score):\n",
        "        # Add or update the score for the specified player\n",
        "        self.scores[player] = score\n",
        "\n",
        "    def get_leaderboard(self):\n",
        "        # Sort the players based on their scores in descending order\n",
        "        return sorted(self.scores.items(), key=lambda x: x[1], reverse=True)\n",
        "\n",
        "# Example Usage\n",
        "board = Leaderboard()\n",
        "board.add_score(\"Player1\", 500)\n",
        "board.add_score(\"Player2\", 750)\n",
        "board.add_score(\"Player3\", 600)\n",
        "print(board.get_leaderboard())\n",
        "# Output: [('Player2', 750), ('Player3', 600), ('Player1', 500)]"
      ]
    }
  ]
}