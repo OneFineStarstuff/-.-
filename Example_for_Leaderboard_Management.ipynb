{
  "nbformat": 4,
  "nbformat_minor": 0,
  "metadata": {
    "colab": {
      "private_outputs": true,
      "provenance": [],
      "authorship_tag": "ABX9TyPuhxGqjmoapJzcxAgA0e1j",
      "include_colab_link": true
    },
    "kernelspec": {
      "name": "python3",
      "display_name": "Python 3"
    },
    "language_info": {
      "name": "python"
    }
  },
  "cells": [
    {
      "cell_type": "markdown",
      "metadata": {
        "id": "view-in-github",
        "colab_type": "text"
      },
      "source": [
        "<a href=\"https://colab.research.google.com/github/OneFineStarstuff/Onefinebot/blob/main/Example_for_Leaderboard_Management.ipynb\" target=\"_parent\"><img src=\"https://colab.research.google.com/assets/colab-badge.svg\" alt=\"Open In Colab\"/></a>"
      ]
    },
    {
      "cell_type": "code",
      "execution_count": null,
      "metadata": {
        "id": "46UfwwWE1rqG"
      },
      "outputs": [],
      "source": [
        "class Leaderboard:\n",
        "    def __init__(self):\n",
        "        self.scores = {}\n",
        "\n",
        "    def add_score(self, user, score):\n",
        "        if user not in self.scores:\n",
        "            self.scores[user] = 0\n",
        "        self.scores[user] += score\n",
        "\n",
        "    def get_top_users(self, top_n=3):\n",
        "        return sorted(self.scores.items(), key=lambda x: x[1], reverse=True)[:top_n]\n",
        "\n",
        "# Example Usage\n",
        "board = Leaderboard()\n",
        "board.add_score(\"Alice\", 50)\n",
        "board.add_score(\"Bob\", 30)\n",
        "board.add_score(\"Alice\", 20)\n",
        "print(board.get_top_users())  # Output: [('Alice', 70), ('Bob', 30)]"
      ]
    }
  ]
}