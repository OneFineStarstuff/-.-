{
  "nbformat": 4,
  "nbformat_minor": 0,
  "metadata": {
    "colab": {
      "private_outputs": true,
      "provenance": [],
      "authorship_tag": "ABX9TyPh54SREoEXjCHAVf9z9NS2",
      "include_colab_link": true
    },
    "kernelspec": {
      "name": "python3",
      "display_name": "Python 3"
    },
    "language_info": {
      "name": "python"
    }
  },
  "cells": [
    {
      "cell_type": "markdown",
      "metadata": {
        "id": "view-in-github",
        "colab_type": "text"
      },
      "source": [
        "<a href=\"https://colab.research.google.com/github/OneFineStarstuff/Onefinebot/blob/main/Compressing_Spectral_Data_with_an_Autoencoder.ipynb\" target=\"_parent\"><img src=\"https://colab.research.google.com/assets/colab-badge.svg\" alt=\"Open In Colab\"/></a>"
      ]
    },
    {
      "cell_type": "code",
      "execution_count": null,
      "metadata": {
        "id": "DT1LFY0r7XhP"
      },
      "outputs": [],
      "source": [
        "from tensorflow.keras.layers import Input, Dense\n",
        "from tensorflow.keras.models import Model\n",
        "import numpy as np\n",
        "\n",
        "# Define autoencoder model\n",
        "input_spectrum = Input(shape=(1000,))\n",
        "encoded = Dense(128, activation='relu')(input_spectrum)\n",
        "decoded = Dense(1000, activation='sigmoid')(encoded)\n",
        "\n",
        "autoencoder = Model(input_spectrum, decoded)\n",
        "autoencoder.compile(optimizer='adam', loss='mse')\n",
        "\n",
        "# Train autoencoder with synthetic spectral data\n",
        "spectral_data = np.random.rand(1000, 1000)  # Placeholder spectral data\n",
        "autoencoder.fit(spectral_data, spectral_data, epochs=10, batch_size=32)\n",
        "\n",
        "# Compression representation\n",
        "encoder = Model(input_spectrum, encoded)\n",
        "compressed_data = encoder.predict(spectral_data)"
      ]
    }
  ]
}