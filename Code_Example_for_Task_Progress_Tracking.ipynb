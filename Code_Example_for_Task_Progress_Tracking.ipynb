{
  "nbformat": 4,
  "nbformat_minor": 0,
  "metadata": {
    "colab": {
      "private_outputs": true,
      "provenance": [],
      "authorship_tag": "ABX9TyMN77j8oAkZR0OsZ4kFuGyp",
      "include_colab_link": true
    },
    "kernelspec": {
      "name": "python3",
      "display_name": "Python 3"
    },
    "language_info": {
      "name": "python"
    }
  },
  "cells": [
    {
      "cell_type": "markdown",
      "metadata": {
        "id": "view-in-github",
        "colab_type": "text"
      },
      "source": [
        "<a href=\"https://colab.research.google.com/github/OneFineStarstuff/Onefinebot/blob/main/Code_Example_for_Task_Progress_Tracking.ipynb\" target=\"_parent\"><img src=\"https://colab.research.google.com/assets/colab-badge.svg\" alt=\"Open In Colab\"/></a>"
      ]
    },
    {
      "cell_type": "code",
      "execution_count": null,
      "metadata": {
        "id": "Ig971X5GNgnl"
      },
      "outputs": [],
      "source": [
        "class TaskBot:\n",
        "    def __init__(self):\n",
        "        self.tasks = {}  # Initialize an empty dictionary to store user tasks\n",
        "\n",
        "    def start_task(self, user_id, task):\n",
        "        # Initialize the task for the user with the given task name and set the initial step to 1\n",
        "        self.tasks[user_id] = {\"task\": task, \"step\": 1}\n",
        "\n",
        "    def next_step(self, user_id):\n",
        "        # If the user has an active task, increment the step count by 1 and return the updated task info\n",
        "        if user_id in self.tasks:\n",
        "            self.tasks[user_id][\"step\"] += 1\n",
        "            return self.tasks[user_id]\n",
        "        # If the user has no active task, return a message indicating no active task\n",
        "        return \"No active task.\"\n",
        "\n",
        "# Example Usage\n",
        "bot = TaskBot()\n",
        "bot.start_task(\"user456\", \"book_flight\")\n",
        "print(bot.next_step(\"user456\"))  # Output: {'task': 'book_flight', 'step': 2}"
      ]
    }
  ]
}