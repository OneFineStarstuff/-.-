{
  "nbformat": 4,
  "nbformat_minor": 0,
  "metadata": {
    "colab": {
      "private_outputs": true,
      "provenance": [],
      "authorship_tag": "ABX9TyP3IvTmRaYXbnqXOl38+DfR",
      "include_colab_link": true
    },
    "kernelspec": {
      "name": "python3",
      "display_name": "Python 3"
    },
    "language_info": {
      "name": "python"
    }
  },
  "cells": [
    {
      "cell_type": "markdown",
      "metadata": {
        "id": "view-in-github",
        "colab_type": "text"
      },
      "source": [
        "<a href=\"https://colab.research.google.com/github/OneFineStarstuff/Onefinebot/blob/main/Group_Based_Temporal_Memory.ipynb\" target=\"_parent\"><img src=\"https://colab.research.google.com/assets/colab-badge.svg\" alt=\"Open In Colab\"/></a>"
      ]
    },
    {
      "cell_type": "code",
      "execution_count": null,
      "metadata": {
        "id": "T-DHm57PenTc"
      },
      "outputs": [],
      "source": [
        "# Store viewer preferences based on past interactions\n",
        "memory_profile = {}\n",
        "\n",
        "def update_memory(viewer_id, preferences):\n",
        "    if viewer_id in memory_profile:\n",
        "        # Update existing preferences\n",
        "        memory_profile[viewer_id].update(preferences)\n",
        "    else:\n",
        "        # Add new viewer with preferences\n",
        "        memory_profile[viewer_id] = preferences\n",
        "\n",
        "def get_preferences(viewer_id):\n",
        "    return memory_profile.get(viewer_id, \"No preferences found for this viewer.\")\n",
        "\n",
        "# Example usage\n",
        "viewer_id_1 = \"viewer123\"\n",
        "preferences_1 = {\"color_scheme\": \"vibrant\", \"font_size\": 16}\n",
        "\n",
        "viewer_id_2 = \"viewer456\"\n",
        "preferences_2 = {\"color_scheme\": \"subdued\", \"font_size\": 12}\n",
        "\n",
        "# Updating memory profile\n",
        "update_memory(viewer_id_1, preferences_1)\n",
        "update_memory(viewer_id_2, preferences_2)\n",
        "\n",
        "# Retrieving preferences\n",
        "print(get_preferences(viewer_id_1))  # Output: {'color_scheme': 'vibrant', 'font_size': 16}\n",
        "print(get_preferences(viewer_id_2))  # Output: {'color_scheme': 'subdued', 'font_size': 12}\n",
        "\n",
        "# Updating preferences for an existing viewer\n",
        "update_memory(viewer_id_1, {\"font_size\": 18})\n",
        "print(get_preferences(viewer_id_1))  # Output: {'color_scheme': 'vibrant', 'font_size': 18}"
      ]
    }
  ]
}