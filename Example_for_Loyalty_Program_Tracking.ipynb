{
  "nbformat": 4,
  "nbformat_minor": 0,
  "metadata": {
    "colab": {
      "private_outputs": true,
      "provenance": [],
      "authorship_tag": "ABX9TyM8VfUyJfSQLTxCp1k80VqN",
      "include_colab_link": true
    },
    "kernelspec": {
      "name": "python3",
      "display_name": "Python 3"
    },
    "language_info": {
      "name": "python"
    }
  },
  "cells": [
    {
      "cell_type": "markdown",
      "metadata": {
        "id": "view-in-github",
        "colab_type": "text"
      },
      "source": [
        "<a href=\"https://colab.research.google.com/github/OneFineStarstuff/Onefinebot/blob/main/Example_for_Loyalty_Program_Tracking.ipynb\" target=\"_parent\"><img src=\"https://colab.research.google.com/assets/colab-badge.svg\" alt=\"Open In Colab\"/></a>"
      ]
    },
    {
      "cell_type": "code",
      "execution_count": null,
      "metadata": {
        "id": "3AAwncn8XHl2"
      },
      "outputs": [],
      "source": [
        "class LoyaltyProgram:\n",
        "    def __init__(self):\n",
        "        self.customers = {}  # Initialize an empty dictionary to store customer names and points\n",
        "\n",
        "    def add_customer(self, name):\n",
        "        # Add the customer with an initial points balance of 0\n",
        "        self.customers[name] = 0\n",
        "\n",
        "    def add_points(self, name, points):\n",
        "        # Check if the customer exists in the customers dictionary\n",
        "        if name in self.customers:\n",
        "            # Add the specified points to the customer's account\n",
        "            self.customers[name] += points\n",
        "            return f\"{points} points added to {name}'s account.\"\n",
        "        # Return an error message if the customer is not found\n",
        "        return \"Customer not found.\"\n",
        "\n",
        "    def view_points(self, name):\n",
        "        # Retrieve the points balance for the specified customer\n",
        "        return self.customers.get(name, \"Customer not found.\")\n",
        "\n",
        "# Example Usage\n",
        "loyalty = LoyaltyProgram()\n",
        "loyalty.add_customer(\"John Doe\")\n",
        "loyalty.add_points(\"John Doe\", 100)\n",
        "print(loyalty.view_points(\"John Doe\"))\n",
        "# Output: 100"
      ]
    }
  ]
}