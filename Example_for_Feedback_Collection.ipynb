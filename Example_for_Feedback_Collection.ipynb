{
  "nbformat": 4,
  "nbformat_minor": 0,
  "metadata": {
    "colab": {
      "private_outputs": true,
      "provenance": [],
      "authorship_tag": "ABX9TyM1XOOJUaRHoJzp2xHCbbLu",
      "include_colab_link": true
    },
    "kernelspec": {
      "name": "python3",
      "display_name": "Python 3"
    },
    "language_info": {
      "name": "python"
    }
  },
  "cells": [
    {
      "cell_type": "markdown",
      "metadata": {
        "id": "view-in-github",
        "colab_type": "text"
      },
      "source": [
        "<a href=\"https://colab.research.google.com/github/OneFineStarstuff/Onefinebot/blob/main/Example_for_Feedback_Collection.ipynb\" target=\"_parent\"><img src=\"https://colab.research.google.com/assets/colab-badge.svg\" alt=\"Open In Colab\"/></a>"
      ]
    },
    {
      "cell_type": "code",
      "execution_count": null,
      "metadata": {
        "id": "ZPwbnivyD9tp"
      },
      "outputs": [],
      "source": [
        "class FeedbackCollector:\n",
        "    def __init__(self):\n",
        "        self.feedback_list = []  # Initialize an empty list to store feedback\n",
        "\n",
        "    def collect_feedback(self, user, feedback):\n",
        "        # Append the user's feedback to the feedback list\n",
        "        self.feedback_list.append({\"user\": user, \"feedback\": feedback})\n",
        "\n",
        "    def view_feedback(self):\n",
        "        # Return the list of all collected feedback\n",
        "        return self.feedback_list\n",
        "\n",
        "# Example Usage\n",
        "feedback_bot = FeedbackCollector()\n",
        "feedback_bot.collect_feedback(\"user1\", \"Great service!\")\n",
        "feedback_bot.collect_feedback(\"user2\", \"Product quality could be better.\")\n",
        "print(feedback_bot.view_feedback())"
      ]
    }
  ]
}