{
  "nbformat": 4,
  "nbformat_minor": 0,
  "metadata": {
    "colab": {
      "private_outputs": true,
      "provenance": [],
      "authorship_tag": "ABX9TyNmu4ETJMODx5ZzucZv+kOo",
      "include_colab_link": true
    },
    "kernelspec": {
      "name": "python3",
      "display_name": "Python 3"
    },
    "language_info": {
      "name": "python"
    }
  },
  "cells": [
    {
      "cell_type": "markdown",
      "metadata": {
        "id": "view-in-github",
        "colab_type": "text"
      },
      "source": [
        "<a href=\"https://colab.research.google.com/github/OneFineStarstuff/Onefinebot/blob/main/Emotionally_Intelligent_Chatbots.ipynb\" target=\"_parent\"><img src=\"https://colab.research.google.com/assets/colab-badge.svg\" alt=\"Open In Colab\"/></a>"
      ]
    },
    {
      "cell_type": "code",
      "execution_count": null,
      "metadata": {
        "id": "WvGhS0VRBxih"
      },
      "outputs": [],
      "source": [
        "from transformers import pipeline\n",
        "\n",
        "# Load emotion detection pipeline\n",
        "emotion_detector = pipeline(\"text-classification\", model=\"j-hartmann/emotion-english-distilroberta-base\")\n",
        "\n",
        "def detect_emotion(user_input):\n",
        "    result = emotion_detector(user_input)\n",
        "    return result[0]['label']\n",
        "\n",
        "def respond_emotionally(user_input):\n",
        "    emotion = detect_emotion(user_input)\n",
        "    if emotion == \"joy\":\n",
        "        return \"I'm so glad to hear that! 😊\"\n",
        "    elif emotion == \"sadness\":\n",
        "        return \"I'm here for you. What's on your mind?\"\n",
        "    else:\n",
        "        return \"How can I assist you today?\"\n",
        "\n",
        "# Example Usage\n",
        "response = respond_emotionally(\"I feel a bit down today.\")\n",
        "print(response)  # Output: \"I'm here for you. What's on your mind?\""
      ]
    }
  ]
}