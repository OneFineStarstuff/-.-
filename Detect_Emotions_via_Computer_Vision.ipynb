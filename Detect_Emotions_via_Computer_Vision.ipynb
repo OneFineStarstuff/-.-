{
  "nbformat": 4,
  "nbformat_minor": 0,
  "metadata": {
    "colab": {
      "private_outputs": true,
      "provenance": [],
      "authorship_tag": "ABX9TyP7OYgC3P9rNtICFqeAblv2",
      "include_colab_link": true
    },
    "kernelspec": {
      "name": "python3",
      "display_name": "Python 3"
    },
    "language_info": {
      "name": "python"
    }
  },
  "cells": [
    {
      "cell_type": "markdown",
      "metadata": {
        "id": "view-in-github",
        "colab_type": "text"
      },
      "source": [
        "<a href=\"https://colab.research.google.com/github/OneFineStarstuff/Onefinebot/blob/main/Detect_Emotions_via_Computer_Vision.ipynb\" target=\"_parent\"><img src=\"https://colab.research.google.com/assets/colab-badge.svg\" alt=\"Open In Colab\"/></a>"
      ]
    },
    {
      "cell_type": "code",
      "source": [
        "pip install deepface"
      ],
      "metadata": {
        "id": "4-RAa8xw2FUZ"
      },
      "execution_count": null,
      "outputs": []
    },
    {
      "cell_type": "code",
      "execution_count": null,
      "metadata": {
        "id": "2YTZ00ut1KH6"
      },
      "outputs": [],
      "source": [
        "import cv2\n",
        "from deepface import DeepFace\n",
        "\n",
        "def load_emotion_model():\n",
        "    # Load the pre-trained emotion detection model from DeepFace\n",
        "    return DeepFace\n",
        "\n",
        "def detect_faces(frame):\n",
        "    # Load the Haar cascade for face detection\n",
        "    face_cascade = cv2.CascadeClassifier(cv2.data.haarcascades + 'haarcascade_frontalface_default.xml')\n",
        "    gray_frame = cv2.cvtColor(frame, cv2.COLOR_BGR2GRAY)\n",
        "    faces = face_cascade.detectMultiScale(gray_frame, scaleFactor=1.1, minNeighbors=5, minSize=(30, 30))\n",
        "    return faces\n",
        "\n",
        "def detect_emotion(frame):\n",
        "    emotion_model = load_emotion_model()\n",
        "    faces = detect_faces(frame)\n",
        "    emotions = []\n",
        "    for (x, y, w, h) in faces:\n",
        "        face = frame[y:y+h, x:x+w]\n",
        "        # Predict emotion using the DeepFace library\n",
        "        result = emotion_model.analyze(face, actions=['emotion'])\n",
        "        emotions.append(result['emotion'])\n",
        "    return emotions\n",
        "\n",
        "# Example usage\n",
        "frame = cv2.imread('path_to_image.jpg')\n",
        "emotions = detect_emotion(frame)\n",
        "print(\"Detected emotions:\", emotions)"
      ]
    }
  ]
}