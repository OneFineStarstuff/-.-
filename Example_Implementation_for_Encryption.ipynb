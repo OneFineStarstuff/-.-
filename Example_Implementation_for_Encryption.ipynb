{
  "nbformat": 4,
  "nbformat_minor": 0,
  "metadata": {
    "colab": {
      "private_outputs": true,
      "provenance": [],
      "authorship_tag": "ABX9TyM1x5Xw+umRtakTTMseopKO",
      "include_colab_link": true
    },
    "kernelspec": {
      "name": "python3",
      "display_name": "Python 3"
    },
    "language_info": {
      "name": "python"
    }
  },
  "cells": [
    {
      "cell_type": "markdown",
      "metadata": {
        "id": "view-in-github",
        "colab_type": "text"
      },
      "source": [
        "<a href=\"https://colab.research.google.com/github/OneFineStarstuff/Onefinebot/blob/main/Example_Implementation_for_Encryption.ipynb\" target=\"_parent\"><img src=\"https://colab.research.google.com/assets/colab-badge.svg\" alt=\"Open In Colab\"/></a>"
      ]
    },
    {
      "cell_type": "code",
      "execution_count": null,
      "metadata": {
        "id": "H2ITsxIZB_BT"
      },
      "outputs": [],
      "source": [
        "from cryptography.fernet import Fernet\n",
        "\n",
        "# Generate a key and encrypt data\n",
        "key = Fernet.generate_key()\n",
        "cipher = Fernet(key)\n",
        "\n",
        "def encrypt_data(data):\n",
        "    return cipher.encrypt(data.encode())\n",
        "\n",
        "def decrypt_data(encrypted_data):\n",
        "    return cipher.decrypt(encrypted_data).decode()\n",
        "\n",
        "# Example Usage\n",
        "secure_message = encrypt_data(\"Sensitive user input\")\n",
        "print(decrypt_data(secure_message))  # Output: Sensitive user input"
      ]
    }
  ]
}