{
  "nbformat": 4,
  "nbformat_minor": 0,
  "metadata": {
    "colab": {
      "private_outputs": true,
      "provenance": [],
      "authorship_tag": "ABX9TyOOhYiHArA2GTMCg3dp0lRh",
      "include_colab_link": true
    },
    "kernelspec": {
      "name": "python3",
      "display_name": "Python 3"
    },
    "language_info": {
      "name": "python"
    }
  },
  "cells": [
    {
      "cell_type": "markdown",
      "metadata": {
        "id": "view-in-github",
        "colab_type": "text"
      },
      "source": [
        "<a href=\"https://colab.research.google.com/github/OneFineStarstuff/Onefinebot/blob/main/Example_for_Expense_Tracking.ipynb\" target=\"_parent\"><img src=\"https://colab.research.google.com/assets/colab-badge.svg\" alt=\"Open In Colab\"/></a>"
      ]
    },
    {
      "cell_type": "code",
      "execution_count": null,
      "metadata": {
        "id": "OOV1spZ9SoE0"
      },
      "outputs": [],
      "source": [
        "class ExpenseTracker:\n",
        "    def __init__(self):\n",
        "        self.expenses = {}  # Initialize an empty dictionary to store expenses by category\n",
        "\n",
        "    def add_expense(self, category, amount):\n",
        "        # Add the specified amount to the corresponding category\n",
        "        self.expenses[category] = self.expenses.get(category, 0) + amount\n",
        "\n",
        "    def get_summary(self):\n",
        "        # Return the dictionary of all stored expenses\n",
        "        return self.expenses\n",
        "\n",
        "# Example Usage\n",
        "tracker = ExpenseTracker()\n",
        "tracker.add_expense(\"Groceries\", 200)\n",
        "tracker.add_expense(\"Entertainment\", 150)\n",
        "print(tracker.get_summary())\n",
        "# Output: {'Groceries': 200, 'Entertainment': 150}"
      ]
    }
  ]
}