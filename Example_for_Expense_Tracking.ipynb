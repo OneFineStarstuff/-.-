{
  "nbformat": 4,
  "nbformat_minor": 0,
  "metadata": {
    "colab": {
      "private_outputs": true,
      "provenance": [],
      "authorship_tag": "ABX9TyPFnR/1A4uHBhk/mT7wOdfe",
      "include_colab_link": true
    },
    "kernelspec": {
      "name": "python3",
      "display_name": "Python 3"
    },
    "language_info": {
      "name": "python"
    }
  },
  "cells": [
    {
      "cell_type": "markdown",
      "metadata": {
        "id": "view-in-github",
        "colab_type": "text"
      },
      "source": [
        "<a href=\"https://colab.research.google.com/github/OneFineStarstuff/Onefinebot/blob/main/Example_for_Expense_Tracking.ipynb\" target=\"_parent\"><img src=\"https://colab.research.google.com/assets/colab-badge.svg\" alt=\"Open In Colab\"/></a>"
      ]
    },
    {
      "cell_type": "code",
      "execution_count": null,
      "metadata": {
        "id": "aeDPzAl6xvTY"
      },
      "outputs": [],
      "source": [
        "class ExpenseTracker:\n",
        "    def __init__(self):\n",
        "        self.expenses = {}  # Initialize an empty dictionary to store expenses by category\n",
        "\n",
        "    def add_expense(self, category, amount):\n",
        "        # Add the specified amount to the corresponding category\n",
        "        self.expenses[category] = self.expenses.get(category, 0) + amount\n",
        "        return f\"Added ${amount} to {category}. Total: ${self.expenses[category]}\"\n",
        "\n",
        "    def get_expenses(self):\n",
        "        # Return the dictionary of all stored expenses\n",
        "        return self.expenses\n",
        "\n",
        "# Example Usage\n",
        "tracker = ExpenseTracker()\n",
        "print(tracker.add_expense(\"Groceries\", 50))\n",
        "print(tracker.add_expense(\"Transportation\", 20))\n",
        "print(tracker.get_expenses())\n",
        "# Output: {'Groceries': 50, 'Transportation': 20}"
      ]
    }
  ]
}