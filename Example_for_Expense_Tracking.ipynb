{
  "nbformat": 4,
  "nbformat_minor": 0,
  "metadata": {
    "colab": {
      "private_outputs": true,
      "provenance": [],
      "authorship_tag": "ABX9TyOYaBV5w/z8K0LvvODSCTZK",
      "include_colab_link": true
    },
    "kernelspec": {
      "name": "python3",
      "display_name": "Python 3"
    },
    "language_info": {
      "name": "python"
    }
  },
  "cells": [
    {
      "cell_type": "markdown",
      "metadata": {
        "id": "view-in-github",
        "colab_type": "text"
      },
      "source": [
        "<a href=\"https://colab.research.google.com/github/OneFineStarstuff/Onefinebot/blob/main/Example_for_Expense_Tracking.ipynb\" target=\"_parent\"><img src=\"https://colab.research.google.com/assets/colab-badge.svg\" alt=\"Open In Colab\"/></a>"
      ]
    },
    {
      "cell_type": "code",
      "execution_count": null,
      "metadata": {
        "id": "QCiJP4t3I5FS"
      },
      "outputs": [],
      "source": [
        "class ExpenseTracker:\n",
        "    def __init__(self):\n",
        "        self.expenses = {}  # Initialize an empty dictionary to store categories and expense amounts\n",
        "\n",
        "    def add_expense(self, category, amount):\n",
        "        # Add or update the expense amount for the specified category\n",
        "        if category in self.expenses:\n",
        "            self.expenses[category] += amount\n",
        "        else:\n",
        "            self.expenses[category] = amount\n",
        "        return f\"Added ${amount} to {category}.\"\n",
        "\n",
        "    def view_expenses(self):\n",
        "        # Return the expenses dictionary or a message if no expenses are recorded\n",
        "        return self.expenses if self.expenses else \"No expenses recorded.\"\n",
        "\n",
        "# Example Usage\n",
        "finance_bot = ExpenseTracker()\n",
        "print(finance_bot.add_expense(\"Food\", 100))\n",
        "print(finance_bot.add_expense(\"Travel\", 50))\n",
        "print(finance_bot.view_expenses())\n",
        "# Output: Added $100 to Food.\n",
        "#         Added $50 to Travel.\n",
        "#         {'Food': 100, 'Travel': 50}"
      ]
    }
  ]
}