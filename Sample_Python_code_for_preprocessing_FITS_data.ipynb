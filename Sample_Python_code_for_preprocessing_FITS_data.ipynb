{
  "nbformat": 4,
  "nbformat_minor": 0,
  "metadata": {
    "colab": {
      "private_outputs": true,
      "provenance": [],
      "authorship_tag": "ABX9TyM4Vl+2Vdc8uhCE5AyrN6wq",
      "include_colab_link": true
    },
    "kernelspec": {
      "name": "python3",
      "display_name": "Python 3"
    },
    "language_info": {
      "name": "python"
    }
  },
  "cells": [
    {
      "cell_type": "markdown",
      "metadata": {
        "id": "view-in-github",
        "colab_type": "text"
      },
      "source": [
        "<a href=\"https://colab.research.google.com/github/OneFineStarstuff/Onefinebot/blob/main/Sample_Python_code_for_preprocessing_FITS_data.ipynb\" target=\"_parent\"><img src=\"https://colab.research.google.com/assets/colab-badge.svg\" alt=\"Open In Colab\"/></a>"
      ]
    },
    {
      "cell_type": "code",
      "execution_count": null,
      "metadata": {
        "id": "8SS_nmlYJsyl"
      },
      "outputs": [],
      "source": [
        "from astropy.io import fits\n",
        "import numpy as np\n",
        "\n",
        "# Load FITS data and handle artifacts\n",
        "with fits.open('data.fits') as hdul:\n",
        "    image_data = hdul[0].data\n",
        "\n",
        "# Normalize and clean image data\n",
        "image_data = (image_data - np.mean(image_data)) / np.std(image_data)"
      ]
    }
  ]
}