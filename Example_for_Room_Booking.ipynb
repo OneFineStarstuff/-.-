{
  "nbformat": 4,
  "nbformat_minor": 0,
  "metadata": {
    "colab": {
      "private_outputs": true,
      "provenance": [],
      "authorship_tag": "ABX9TyPgSsqqeTr/E2a2lkKfWhNb",
      "include_colab_link": true
    },
    "kernelspec": {
      "name": "python3",
      "display_name": "Python 3"
    },
    "language_info": {
      "name": "python"
    }
  },
  "cells": [
    {
      "cell_type": "markdown",
      "metadata": {
        "id": "view-in-github",
        "colab_type": "text"
      },
      "source": [
        "<a href=\"https://colab.research.google.com/github/OneFineStarstuff/Onefinebot/blob/main/Example_for_Room_Booking.ipynb\" target=\"_parent\"><img src=\"https://colab.research.google.com/assets/colab-badge.svg\" alt=\"Open In Colab\"/></a>"
      ]
    },
    {
      "cell_type": "code",
      "execution_count": null,
      "metadata": {
        "id": "llbyNwmIKRsC"
      },
      "outputs": [],
      "source": [
        "class RoomBooking:\n",
        "    def __init__(self):\n",
        "        self.rooms = {\"single\": 10, \"double\": 5, \"suite\": 2}  # Initialize room availability\n",
        "\n",
        "    def book_room(self, room_type, quantity):\n",
        "        # Check if enough rooms are available for the specified room type\n",
        "        if self.rooms.get(room_type, 0) >= quantity:\n",
        "            # Reduce the number of available rooms\n",
        "            self.rooms[room_type] -= quantity\n",
        "            return f\"{quantity} {room_type} room(s) booked successfully.\"\n",
        "        # Return a message if not enough rooms are available\n",
        "        return f\"Not enough {room_type} rooms available.\"\n",
        "\n",
        "# Example Usage\n",
        "booking = RoomBooking()\n",
        "print(booking.book_room(\"single\", 3))  # Output: 3 single room(s) booked successfully.\n",
        "print(booking.book_room(\"suite\", 3))   # Output: Not enough suite rooms available."
      ]
    }
  ]
}