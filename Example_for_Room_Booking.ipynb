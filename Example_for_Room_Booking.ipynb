{
  "nbformat": 4,
  "nbformat_minor": 0,
  "metadata": {
    "colab": {
      "private_outputs": true,
      "provenance": [],
      "authorship_tag": "ABX9TyOb7ESusuawdjG2d49SOlvr",
      "include_colab_link": true
    },
    "kernelspec": {
      "name": "python3",
      "display_name": "Python 3"
    },
    "language_info": {
      "name": "python"
    }
  },
  "cells": [
    {
      "cell_type": "markdown",
      "metadata": {
        "id": "view-in-github",
        "colab_type": "text"
      },
      "source": [
        "<a href=\"https://colab.research.google.com/github/OneFineStarstuff/Onefinebot/blob/main/Example_for_Room_Booking.ipynb\" target=\"_parent\"><img src=\"https://colab.research.google.com/assets/colab-badge.svg\" alt=\"Open In Colab\"/></a>"
      ]
    },
    {
      "cell_type": "code",
      "execution_count": null,
      "metadata": {
        "id": "gswFQQYZ2Fct"
      },
      "outputs": [],
      "source": [
        "class HotelBooking:\n",
        "    def __init__(self):\n",
        "        self.rooms = {\n",
        "            \"Single\": {\"price\": 100, \"availability\": 5},\n",
        "            \"Double\": {\"price\": 150, \"availability\": 3},\n",
        "            \"Suite\": {\"price\": 300, \"availability\": 2}\n",
        "        }  # Initialize the rooms dictionary with predefined room types, prices, and availability\n",
        "\n",
        "    def book_room(self, room_type, nights):\n",
        "        # Check if the specified room type exists and if there is availability\n",
        "        if room_type in self.rooms and self.rooms[room_type][\"availability\"] > 0:\n",
        "            # Decrease the availability by one and return a confirmation message with the total cost\n",
        "            self.rooms[room_type][\"availability\"] -= 1\n",
        "            return f\"Booked a {room_type} for {nights} night(s). Total: ${self.rooms[room_type]['price'] * nights}.\"\n",
        "        # Return a message if the room type is unavailable\n",
        "        return \"Room type unavailable.\"\n",
        "\n",
        "# Example Usage\n",
        "booking = HotelBooking()\n",
        "print(booking.book_room(\"Double\", 2))\n",
        "# Output: Booked a Double for 2 night(s). Total: $300."
      ]
    }
  ]
}