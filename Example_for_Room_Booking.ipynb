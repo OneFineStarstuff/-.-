{
  "nbformat": 4,
  "nbformat_minor": 0,
  "metadata": {
    "colab": {
      "private_outputs": true,
      "provenance": [],
      "authorship_tag": "ABX9TyMEniP7Dl3vQtzU+JCo+CuG",
      "include_colab_link": true
    },
    "kernelspec": {
      "name": "python3",
      "display_name": "Python 3"
    },
    "language_info": {
      "name": "python"
    }
  },
  "cells": [
    {
      "cell_type": "markdown",
      "metadata": {
        "id": "view-in-github",
        "colab_type": "text"
      },
      "source": [
        "<a href=\"https://colab.research.google.com/github/OneFineStarstuff/Onefinebot/blob/main/Example_for_Room_Booking.ipynb\" target=\"_parent\"><img src=\"https://colab.research.google.com/assets/colab-badge.svg\" alt=\"Open In Colab\"/></a>"
      ]
    },
    {
      "cell_type": "code",
      "execution_count": null,
      "metadata": {
        "id": "pRE_L7QU8vis"
      },
      "outputs": [],
      "source": [
        "class RoomBooking:\n",
        "    def __init__(self):\n",
        "        self.rooms = {\"Standard\": 10, \"Deluxe\": 5, \"Suite\": 2}  # Initialize room availability\n",
        "\n",
        "    def book_room(self, room_type, count):\n",
        "        # Check if enough rooms are available for the specified room type\n",
        "        if self.rooms.get(room_type, 0) >= count:\n",
        "            # Reduce the number of available rooms\n",
        "            self.rooms[room_type] -= count\n",
        "            return f\"{count} {room_type} room(s) booked successfully.\"\n",
        "        # Return a message if not enough rooms are available\n",
        "        return f\"Not enough {room_type} rooms available.\"\n",
        "\n",
        "    def available_rooms(self):\n",
        "        # Return the current availability of all room types\n",
        "        return self.rooms\n",
        "\n",
        "# Example Usage\n",
        "booking = RoomBooking()\n",
        "print(booking.book_room(\"Deluxe\", 2))\n",
        "print(booking.available_rooms())\n",
        "# Output: {'Standard': 10, 'Deluxe': 3, 'Suite': 2}"
      ]
    }
  ]
}