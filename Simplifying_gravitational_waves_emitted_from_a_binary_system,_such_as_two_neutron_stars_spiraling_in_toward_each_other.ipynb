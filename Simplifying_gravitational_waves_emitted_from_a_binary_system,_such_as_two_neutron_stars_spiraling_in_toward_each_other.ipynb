{
  "nbformat": 4,
  "nbformat_minor": 0,
  "metadata": {
    "colab": {
      "private_outputs": true,
      "provenance": [],
      "authorship_tag": "ABX9TyNho4pUAOx8ltK9W7hsTqPm",
      "include_colab_link": true
    },
    "kernelspec": {
      "name": "python3",
      "display_name": "Python 3"
    },
    "language_info": {
      "name": "python"
    }
  },
  "cells": [
    {
      "cell_type": "markdown",
      "metadata": {
        "id": "view-in-github",
        "colab_type": "text"
      },
      "source": [
        "<a href=\"https://colab.research.google.com/github/OneFineStarstuff/Onefinebot/blob/main/Simplifying_gravitational_waves_emitted_from_a_binary_system%2C_such_as_two_neutron_stars_spiraling_in_toward_each_other.ipynb\" target=\"_parent\"><img src=\"https://colab.research.google.com/assets/colab-badge.svg\" alt=\"Open In Colab\"/></a>"
      ]
    },
    {
      "cell_type": "code",
      "execution_count": null,
      "metadata": {
        "id": "odLfVbl689OP"
      },
      "outputs": [],
      "source": [
        "import numpy as np\n",
        "import matplotlib.pyplot as plt\n",
        "\n",
        "# Parameters for two-body system\n",
        "G = 6.67430e-11  # Gravitational constant\n",
        "M = 1.4 * 1.989e30  # Mass of neutron stars\n",
        "d = 1e9  # Initial separation distance in meters\n",
        "f = 1  # Frequency of orbit in Hz\n",
        "t = np.linspace(0, 5, 1000)  # Time array\n",
        "\n",
        "# Calculate gravitational wave strain\n",
        "def gravitational_wave_strain(M, d, f, t):\n",
        "    h_0 = (4 * G * M / d**2) * np.sin(2 * np.pi * f * t)\n",
        "    return h_0\n",
        "\n",
        "# Simulate strain and plot\n",
        "h = gravitational_wave_strain(M, d, f, t)\n",
        "plt.plot(t, h)\n",
        "plt.xlabel(\"Time (s)\")\n",
        "plt.ylabel(\"Strain\")\n",
        "plt.title(\"Gravitational Wave Signal from Binary System\")\n",
        "plt.show()"
      ]
    }
  ]
}