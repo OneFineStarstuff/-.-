{
  "nbformat": 4,
  "nbformat_minor": 0,
  "metadata": {
    "colab": {
      "private_outputs": true,
      "provenance": [],
      "authorship_tag": "ABX9TyNx2SLi5QReU6+dt2hg1CNd",
      "include_colab_link": true
    },
    "kernelspec": {
      "name": "python3",
      "display_name": "Python 3"
    },
    "language_info": {
      "name": "python"
    }
  },
  "cells": [
    {
      "cell_type": "markdown",
      "metadata": {
        "id": "view-in-github",
        "colab_type": "text"
      },
      "source": [
        "<a href=\"https://colab.research.google.com/github/OneFineStarstuff/Onefinebot/blob/main/Simulating_Quantum_Harmonic_Oscillator_using_Schr%C3%B6dinger's_Equation.ipynb\" target=\"_parent\"><img src=\"https://colab.research.google.com/assets/colab-badge.svg\" alt=\"Open In Colab\"/></a>"
      ]
    },
    {
      "cell_type": "code",
      "execution_count": null,
      "metadata": {
        "id": "UroDsStBnECq"
      },
      "outputs": [],
      "source": [
        "import numpy as np\n",
        "import matplotlib.pyplot as plt\n",
        "from scipy.sparse import diags\n",
        "from scipy.linalg import eigh\n",
        "\n",
        "# Parameters\n",
        "n_points = 1000  # Number of points in the spatial grid\n",
        "x_min, x_max = -5, 5  # Range of x values\n",
        "dx = (x_max - x_min) / n_points  # Grid spacing\n",
        "x = np.linspace(x_min, x_max, n_points)  # x values\n",
        "\n",
        "# Hamiltonian matrix (H = T + V)\n",
        "T = -0.5 * diags([1, -2, 1], [-1, 0, 1], shape=(n_points, n_points)).toarray() / dx**2\n",
        "V = 0.5 * x**2  # Harmonic potential (V = 0.5 * m * omega^2 * x^2)\n",
        "H = T + np.diag(V)\n",
        "\n",
        "# Solve the eigenvalue problem to get energy levels and eigenfunctions\n",
        "energies, wavefuncs = eigh(H)\n",
        "\n",
        "# Plot the first few energy eigenfunctions\n",
        "plt.figure(figsize=(8, 6))\n",
        "for i in range(4):  # Plot first 4 eigenfunctions\n",
        "    plt.plot(x, wavefuncs[:, i]**2, label=f\"Energy Level {i+1}: E = {energies[i]:.3f}\")\n",
        "\n",
        "plt.xlabel(\"Position (x)\")\n",
        "plt.ylabel(\"Probability Density\")\n",
        "plt.legend()\n",
        "plt.title(\"Quantum Harmonic Oscillator Wavefunctions\")\n",
        "plt.show()"
      ]
    }
  ]
}