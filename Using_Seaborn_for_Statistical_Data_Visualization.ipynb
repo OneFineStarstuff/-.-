{
  "nbformat": 4,
  "nbformat_minor": 0,
  "metadata": {
    "colab": {
      "private_outputs": true,
      "provenance": [],
      "authorship_tag": "ABX9TyMRXT7TP71OIL70Nm62dQUK",
      "include_colab_link": true
    },
    "kernelspec": {
      "name": "python3",
      "display_name": "Python 3"
    },
    "language_info": {
      "name": "python"
    }
  },
  "cells": [
    {
      "cell_type": "markdown",
      "metadata": {
        "id": "view-in-github",
        "colab_type": "text"
      },
      "source": [
        "<a href=\"https://colab.research.google.com/github/OneFineStarstuff/Onefinebot/blob/main/Using_Seaborn_for_Statistical_Data_Visualization.ipynb\" target=\"_parent\"><img src=\"https://colab.research.google.com/assets/colab-badge.svg\" alt=\"Open In Colab\"/></a>"
      ]
    },
    {
      "cell_type": "code",
      "execution_count": null,
      "metadata": {
        "id": "lwXYDd7Tp2Iu"
      },
      "outputs": [],
      "source": [
        "import seaborn as sns\n",
        "import matplotlib.pyplot as plt\n",
        "\n",
        "# Load the tips dataset from Seaborn's built-in datasets\n",
        "tips = sns.load_dataset('tips')\n",
        "\n",
        "# Create a bar plot to visualize total bill amounts by day and sex\n",
        "plt.figure(figsize=(10, 6))\n",
        "sns.barplot(x='day', y='total_bill', hue='sex', data=tips)\n",
        "plt.title('Total Bill Amounts by Day and Sex')\n",
        "plt.xlabel('Day')\n",
        "plt.ylabel('Total Bill Amount')\n",
        "plt.grid()\n",
        "plt.show()"
      ]
    }
  ]
}