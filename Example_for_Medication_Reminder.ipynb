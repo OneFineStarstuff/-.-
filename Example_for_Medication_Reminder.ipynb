{
  "nbformat": 4,
  "nbformat_minor": 0,
  "metadata": {
    "colab": {
      "private_outputs": true,
      "provenance": [],
      "authorship_tag": "ABX9TyOdsWwpMCNJmzIX91p+jLEe",
      "include_colab_link": true
    },
    "kernelspec": {
      "name": "python3",
      "display_name": "Python 3"
    },
    "language_info": {
      "name": "python"
    }
  },
  "cells": [
    {
      "cell_type": "markdown",
      "metadata": {
        "id": "view-in-github",
        "colab_type": "text"
      },
      "source": [
        "<a href=\"https://colab.research.google.com/github/OneFineStarstuff/Onefinebot/blob/main/Example_for_Medication_Reminder.ipynb\" target=\"_parent\"><img src=\"https://colab.research.google.com/assets/colab-badge.svg\" alt=\"Open In Colab\"/></a>"
      ]
    },
    {
      "cell_type": "code",
      "source": [
        "pip install schedule"
      ],
      "metadata": {
        "id": "IE4oDLEJSOVv"
      },
      "execution_count": null,
      "outputs": []
    },
    {
      "cell_type": "code",
      "execution_count": null,
      "metadata": {
        "id": "UYiKc6nxR5Br"
      },
      "outputs": [],
      "source": [
        "import schedule\n",
        "import time\n",
        "\n",
        "def send_reminder():\n",
        "    print(\"Time to take your medication!\")  # Reminder message\n",
        "\n",
        "# Schedule reminders\n",
        "schedule.every().day.at(\"09:00\").do(send_reminder)  # Schedule reminder at 9:00 AM daily\n",
        "\n",
        "# Run the scheduler\n",
        "while True:\n",
        "    schedule.run_pending()  # Check for pending scheduled tasks\n",
        "    time.sleep(1)  # Pause for 1 second before checking again"
      ]
    }
  ]
}