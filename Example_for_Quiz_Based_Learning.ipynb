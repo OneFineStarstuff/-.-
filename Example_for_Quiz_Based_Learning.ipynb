{
  "nbformat": 4,
  "nbformat_minor": 0,
  "metadata": {
    "colab": {
      "private_outputs": true,
      "provenance": [],
      "authorship_tag": "ABX9TyO0/t7JbF/x+Nj0IYVR7S3+",
      "include_colab_link": true
    },
    "kernelspec": {
      "name": "python3",
      "display_name": "Python 3"
    },
    "language_info": {
      "name": "python"
    }
  },
  "cells": [
    {
      "cell_type": "markdown",
      "metadata": {
        "id": "view-in-github",
        "colab_type": "text"
      },
      "source": [
        "<a href=\"https://colab.research.google.com/github/OneFineStarstuff/Onefinebot/blob/main/Example_for_Quiz_Based_Learning.ipynb\" target=\"_parent\"><img src=\"https://colab.research.google.com/assets/colab-badge.svg\" alt=\"Open In Colab\"/></a>"
      ]
    },
    {
      "cell_type": "code",
      "execution_count": null,
      "metadata": {
        "id": "JQ0Sq5OVG-8Z"
      },
      "outputs": [],
      "source": [
        "class QuizBot:\n",
        "    def __init__(self):\n",
        "        self.questions = {\n",
        "            \"What is the capital of France?\": \"Paris\",\n",
        "            \"What is 2 + 2?\": \"4\",\n",
        "            \"Who wrote '1984'?\": \"George Orwell\"\n",
        "        }\n",
        "\n",
        "    def ask_question(self):\n",
        "        import random\n",
        "        question = random.choice(list(self.questions.keys()))\n",
        "        print(f\"Question: {question}\")\n",
        "        return question\n",
        "\n",
        "    def check_answer(self, question, user_answer):\n",
        "        correct_answer = self.questions[question]\n",
        "        if user_answer.lower() == correct_answer.lower():\n",
        "            return \"Correct!\"\n",
        "        return f\"Incorrect! The right answer was {correct_answer}.\"\n",
        "\n",
        "# Example Usage\n",
        "bot = QuizBot()\n",
        "q = bot.ask_question()\n",
        "response = input(\"Your Answer: \")\n",
        "print(bot.check_answer(q, response))"
      ]
    }
  ]
}