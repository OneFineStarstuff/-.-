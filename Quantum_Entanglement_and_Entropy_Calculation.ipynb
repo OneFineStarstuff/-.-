{
  "nbformat": 4,
  "nbformat_minor": 0,
  "metadata": {
    "colab": {
      "private_outputs": true,
      "provenance": [],
      "authorship_tag": "ABX9TyPbsyRfEkk79M5/xxbeOg9T",
      "include_colab_link": true
    },
    "kernelspec": {
      "name": "python3",
      "display_name": "Python 3"
    },
    "language_info": {
      "name": "python"
    }
  },
  "cells": [
    {
      "cell_type": "markdown",
      "metadata": {
        "id": "view-in-github",
        "colab_type": "text"
      },
      "source": [
        "<a href=\"https://colab.research.google.com/github/OneFineStarstuff/Onefinebot/blob/main/Quantum_Entanglement_and_Entropy_Calculation.ipynb\" target=\"_parent\"><img src=\"https://colab.research.google.com/assets/colab-badge.svg\" alt=\"Open In Colab\"/></a>"
      ]
    },
    {
      "cell_type": "code",
      "execution_count": null,
      "metadata": {
        "id": "Hd5hwQmTv45-"
      },
      "outputs": [],
      "source": [
        "import numpy as np\n",
        "from scipy.linalg import eigh\n",
        "from scipy.stats import entropy\n",
        "\n",
        "# Define a Bell state (example of an entangled state)\n",
        "psi = np.array([1/np.sqrt(2), 0, 0, 1/np.sqrt(2)])  # |Φ+> = (|00> + |11>) / sqrt(2)\n",
        "\n",
        "# Density matrix of the state\n",
        "density_matrix = np.outer(psi, np.conj(psi))\n",
        "\n",
        "# Partial trace to obtain reduced density matrix for one qubit\n",
        "rho_A = np.array([[density_matrix[0,0] + density_matrix[1,1], density_matrix[0,2] + density_matrix[1,3]],\n",
        "                  [density_matrix[2,0] + density_matrix[3,1], density_matrix[2,2] + density_matrix[3,3]]])\n",
        "\n",
        "# Compute von Neumann entropy\n",
        "eigenvalues = eigh(rho_A, eigvals_only=True)\n",
        "von_neumann_entropy = -np.sum(eigenvalues * np.log2(eigenvalues))\n",
        "\n",
        "print(f\"Von Neumann Entropy (Entanglement Measure): {von_neumann_entropy:.3f}\")"
      ]
    }
  ]
}