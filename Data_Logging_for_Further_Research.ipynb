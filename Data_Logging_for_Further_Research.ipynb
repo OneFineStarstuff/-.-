{
  "nbformat": 4,
  "nbformat_minor": 0,
  "metadata": {
    "colab": {
      "private_outputs": true,
      "provenance": [],
      "authorship_tag": "ABX9TyNREE7jTBy/sE+papkedsLc",
      "include_colab_link": true
    },
    "kernelspec": {
      "name": "python3",
      "display_name": "Python 3"
    },
    "language_info": {
      "name": "python"
    }
  },
  "cells": [
    {
      "cell_type": "markdown",
      "metadata": {
        "id": "view-in-github",
        "colab_type": "text"
      },
      "source": [
        "<a href=\"https://colab.research.google.com/github/OneFineStarstuff/Onefinebot/blob/main/Data_Logging_for_Further_Research.ipynb\" target=\"_parent\"><img src=\"https://colab.research.google.com/assets/colab-badge.svg\" alt=\"Open In Colab\"/></a>"
      ]
    },
    {
      "cell_type": "code",
      "execution_count": null,
      "metadata": {
        "id": "KyAobg-vyd_8"
      },
      "outputs": [],
      "source": [
        "import boto3\n",
        "import json\n",
        "\n",
        "# Initialize a session using Amazon S3\n",
        "s3 = boto3.client('s3')\n",
        "\n",
        "# Example interaction data\n",
        "interaction_data = {\n",
        "    'user_id': 'user123',\n",
        "    'interaction': 'adjust_color_scheme',\n",
        "    'parameters': {\n",
        "        'color_scheme': 'vibrant'\n",
        "    },\n",
        "    'timestamp': '2023-07-21T18:25:43.511Z'\n",
        "}\n",
        "\n",
        "# Convert the interaction data to JSON format\n",
        "json_data = json.dumps(interaction_data)\n",
        "\n",
        "# Specify the S3 bucket and object key\n",
        "bucket_name = 'interaction-data'\n",
        "object_key = 'session.json'\n",
        "\n",
        "# Put the JSON data into the S3 bucket\n",
        "s3.put_object(Body=json_data, Bucket=bucket_name, Key=object_key)\n",
        "\n",
        "print(\"Interaction data has been uploaded to S3.\")"
      ]
    }
  ]
}