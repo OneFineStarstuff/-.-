{
  "nbformat": 4,
  "nbformat_minor": 0,
  "metadata": {
    "colab": {
      "private_outputs": true,
      "provenance": [],
      "authorship_tag": "ABX9TyMC2K+C29YO6z9s4S/qI7Z4",
      "include_colab_link": true
    },
    "kernelspec": {
      "name": "python3",
      "display_name": "Python 3"
    },
    "language_info": {
      "name": "python"
    }
  },
  "cells": [
    {
      "cell_type": "markdown",
      "metadata": {
        "id": "view-in-github",
        "colab_type": "text"
      },
      "source": [
        "<a href=\"https://colab.research.google.com/github/OneFineStarstuff/Onefinebot/blob/main/Implementing_a_Simple_Autoencoder_for_Dimensionality_Reduction.ipynb\" target=\"_parent\"><img src=\"https://colab.research.google.com/assets/colab-badge.svg\" alt=\"Open In Colab\"/></a>"
      ]
    },
    {
      "cell_type": "code",
      "execution_count": null,
      "metadata": {
        "id": "JJbUAldtXWRO"
      },
      "outputs": [],
      "source": [
        "import numpy as np\n",
        "from tensorflow import keras\n",
        "from tensorflow.keras import layers\n",
        "import matplotlib.pyplot as plt\n",
        "\n",
        "# Generate synthetic data (e.g., random points in 2D)\n",
        "data = np.random.rand(1000, 2)\n",
        "\n",
        "# Build an autoencoder model\n",
        "input_layer = layers.Input(shape=(2,))\n",
        "encoded = layers.Dense(1, activation='relu')(input_layer)  # Encoder to 1D\n",
        "decoded = layers.Dense(2)(encoded)  # Decoder back to 2D\n",
        "\n",
        "autoencoder = keras.Model(input_layer, decoded)\n",
        "autoencoder.compile(optimizer='adam', loss='mean_squared_error')\n",
        "\n",
        "# Train the autoencoder\n",
        "autoencoder.fit(data, data, epochs=50)\n",
        "\n",
        "# Encode some data\n",
        "encoded_data = autoencoder.layers[1](data).numpy()\n",
        "\n",
        "# Plotting the original and encoded data\n",
        "plt.figure(figsize=(10, 6))\n",
        "plt.scatter(data[:, 0], data[:, 1], label='Original Data', alpha=0.5)\n",
        "plt.scatter(encoded_data, np.zeros_like(encoded_data), label='Encoded Data', color='red', alpha=0.5)\n",
        "plt.title('Autoencoder: Original vs Encoded Data')\n",
        "plt.xlabel('Feature 1')\n",
        "plt.ylabel('Feature 2')\n",
        "plt.legend()\n",
        "plt.grid()\n",
        "plt.show()"
      ]
    }
  ]
}