{
  "nbformat": 4,
  "nbformat_minor": 0,
  "metadata": {
    "colab": {
      "private_outputs": true,
      "provenance": [],
      "authorship_tag": "ABX9TyNgjPeThrgNa9S4yTATBNQE",
      "include_colab_link": true
    },
    "kernelspec": {
      "name": "python3",
      "display_name": "Python 3"
    },
    "language_info": {
      "name": "python"
    }
  },
  "cells": [
    {
      "cell_type": "markdown",
      "metadata": {
        "id": "view-in-github",
        "colab_type": "text"
      },
      "source": [
        "<a href=\"https://colab.research.google.com/github/OneFineStarstuff/Onefinebot/blob/main/Astrophysics_N_Body_Simulation_of_Galaxy_Formation.ipynb\" target=\"_parent\"><img src=\"https://colab.research.google.com/assets/colab-badge.svg\" alt=\"Open In Colab\"/></a>"
      ]
    },
    {
      "cell_type": "code",
      "execution_count": null,
      "metadata": {
        "id": "3nvLJk-XBYDV"
      },
      "outputs": [],
      "source": [
        "import numpy as np\n",
        "import matplotlib.pyplot as plt\n",
        "\n",
        "# Parameters\n",
        "n_bodies = 100  # Number of particles\n",
        "G = 6.67430e-11  # Gravitational constant\n",
        "dt = 1e4  # Time step in seconds\n",
        "n_steps = 100  # Number of steps in the simulation\n",
        "\n",
        "# Initialize positions and velocities\n",
        "positions = np.random.randn(n_bodies, 2) * 1e20  # Random positions in meters\n",
        "velocities = np.random.randn(n_bodies, 2) * 1e3  # Random velocities in m/s\n",
        "masses = np.random.rand(n_bodies) * 1e30 + 1e30  # Random masses in kg\n",
        "\n",
        "# Simulation loop\n",
        "for step in range(n_steps):\n",
        "    forces = np.zeros((n_bodies, 2))\n",
        "    for i in range(n_bodies):\n",
        "        for j in range(i + 1, n_bodies):\n",
        "            r_vec = positions[j] - positions[i]\n",
        "            r = np.linalg.norm(r_vec)\n",
        "            f = G * masses[i] * masses[j] / r**2 * (r_vec / r)\n",
        "            forces[i] += f\n",
        "            forces[j] -= f  # Newton's third law\n",
        "\n",
        "    # Update velocities and positions\n",
        "    velocities += forces / masses[:, np.newaxis] * dt\n",
        "    positions += velocities * dt\n",
        "\n",
        "# Plot final positions of particles\n",
        "plt.scatter(positions[:, 0], positions[:, 1], s=10)\n",
        "plt.xlabel(\"x Position (m)\")\n",
        "plt.ylabel(\"y Position (m)\")\n",
        "plt.title(\"N-Body Simulation of Galaxy Formation\")\n",
        "plt.show()"
      ]
    }
  ]
}