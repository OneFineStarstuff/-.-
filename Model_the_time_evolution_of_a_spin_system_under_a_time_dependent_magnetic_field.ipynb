{
  "nbformat": 4,
  "nbformat_minor": 0,
  "metadata": {
    "colab": {
      "private_outputs": true,
      "provenance": [],
      "authorship_tag": "ABX9TyPbdbI5648xhtiq/521A6Q3",
      "include_colab_link": true
    },
    "kernelspec": {
      "name": "python3",
      "display_name": "Python 3"
    },
    "language_info": {
      "name": "python"
    }
  },
  "cells": [
    {
      "cell_type": "markdown",
      "metadata": {
        "id": "view-in-github",
        "colab_type": "text"
      },
      "source": [
        "<a href=\"https://colab.research.google.com/github/OneFineStarstuff/Onefinebot/blob/main/Model_the_time_evolution_of_a_spin_system_under_a_time_dependent_magnetic_field.ipynb\" target=\"_parent\"><img src=\"https://colab.research.google.com/assets/colab-badge.svg\" alt=\"Open In Colab\"/></a>"
      ]
    },
    {
      "cell_type": "code",
      "execution_count": null,
      "metadata": {
        "id": "agLRXP02RILa"
      },
      "outputs": [],
      "source": [
        "import numpy as np\n",
        "import matplotlib.pyplot as plt\n",
        "from scipy.linalg import expm\n",
        "\n",
        "# Define a time-dependent Hamiltonian function for a spin-1/2 system\n",
        "def hamiltonian(t):\n",
        "    B = np.sin(t)  # Time-dependent magnetic field\n",
        "    return np.array([[B, 1], [1, -B]])\n",
        "\n",
        "# Initialize a state vector\n",
        "psi = np.array([1, 0])\n",
        "\n",
        "# Time evolution\n",
        "time_steps = 100\n",
        "dt = 0.1\n",
        "magnetization = []\n",
        "\n",
        "for i in range(time_steps):\n",
        "    H = hamiltonian(i * dt)\n",
        "    U = expm(-1j * H * dt)  # Time evolution operator\n",
        "    psi = np.dot(U, psi)\n",
        "    magnetization.append(np.real(np.vdot(psi, np.dot(np.array([[1, 0], [0, -1]]), psi))))  # Measure z-magnetization\n",
        "\n",
        "# Plot magnetization over time\n",
        "plt.plot(np.linspace(0, time_steps * dt, time_steps), magnetization)\n",
        "plt.xlabel(\"Time\")\n",
        "plt.ylabel(\"Magnetization\")\n",
        "plt.title(\"Time Evolution of Magnetization\")\n",
        "plt.show()"
      ]
    }
  ]
}