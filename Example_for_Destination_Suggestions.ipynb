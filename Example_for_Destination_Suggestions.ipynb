{
  "nbformat": 4,
  "nbformat_minor": 0,
  "metadata": {
    "colab": {
      "private_outputs": true,
      "provenance": [],
      "authorship_tag": "ABX9TyMli05OixmDT/onjew4cHjX",
      "include_colab_link": true
    },
    "kernelspec": {
      "name": "python3",
      "display_name": "Python 3"
    },
    "language_info": {
      "name": "python"
    }
  },
  "cells": [
    {
      "cell_type": "markdown",
      "metadata": {
        "id": "view-in-github",
        "colab_type": "text"
      },
      "source": [
        "<a href=\"https://colab.research.google.com/github/OneFineStarstuff/Onefinebot/blob/main/Example_for_Destination_Suggestions.ipynb\" target=\"_parent\"><img src=\"https://colab.research.google.com/assets/colab-badge.svg\" alt=\"Open In Colab\"/></a>"
      ]
    },
    {
      "cell_type": "code",
      "execution_count": null,
      "metadata": {
        "id": "rEY4NWk5y_oR"
      },
      "outputs": [],
      "source": [
        "class TravelRecommender:\n",
        "    def __init__(self):\n",
        "        self.destinations = {\n",
        "            \"Beach\": [\"Maldives\", \"Hawaii\"],\n",
        "            \"Adventure\": [\"Patagonia\", \"Swiss Alps\"],\n",
        "            \"Cultural\": [\"Kyoto\", \"Rome\"]\n",
        "        }  # Initialize the destinations dictionary with predefined interests and travel destinations\n",
        "\n",
        "    def recommend(self, interest):\n",
        "        # Return the destinations that match the specified interest\n",
        "        return self.destinations.get(interest, \"No destinations available for this interest.\")\n",
        "\n",
        "# Example Usage\n",
        "recommender = TravelRecommender()\n",
        "print(recommender.recommend(\"Cultural\"))\n",
        "# Output: ['Kyoto', 'Rome']"
      ]
    }
  ]
}