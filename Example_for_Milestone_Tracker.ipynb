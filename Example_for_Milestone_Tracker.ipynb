{
  "nbformat": 4,
  "nbformat_minor": 0,
  "metadata": {
    "colab": {
      "private_outputs": true,
      "provenance": [],
      "authorship_tag": "ABX9TyMA6yneD18Wg0ELmqNcEuGH",
      "include_colab_link": true
    },
    "kernelspec": {
      "name": "python3",
      "display_name": "Python 3"
    },
    "language_info": {
      "name": "python"
    }
  },
  "cells": [
    {
      "cell_type": "markdown",
      "metadata": {
        "id": "view-in-github",
        "colab_type": "text"
      },
      "source": [
        "<a href=\"https://colab.research.google.com/github/OneFineStarstuff/Onefinebot/blob/main/Example_for_Milestone_Tracker.ipynb\" target=\"_parent\"><img src=\"https://colab.research.google.com/assets/colab-badge.svg\" alt=\"Open In Colab\"/></a>"
      ]
    },
    {
      "cell_type": "code",
      "execution_count": null,
      "metadata": {
        "id": "ktZujvUwbS1v"
      },
      "outputs": [],
      "source": [
        "class MilestoneTracker:\n",
        "    def __init__(self):\n",
        "        self.milestones = {\n",
        "            \"Infant\": [\"Rolling Over\", \"Crawling\"],\n",
        "            \"Toddler\": [\"Walking\", \"Talking\"],\n",
        "            \"Preschool\": [\"Counting\", \"Drawing\"]\n",
        "        }  # Initialize the milestones dictionary with predefined age groups and corresponding milestones\n",
        "\n",
        "    def get_milestones(self, age_group):\n",
        "        # Retrieve the list of milestones for the specified age group\n",
        "        return self.milestones.get(age_group, \"No milestones available for this age group.\")\n",
        "\n",
        "# Example Usage\n",
        "tracker = MilestoneTracker()\n",
        "print(tracker.get_milestones(\"Toddler\"))\n",
        "# Output: ['Walking', 'Talking']"
      ]
    }
  ]
}