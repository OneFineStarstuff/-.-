{
  "nbformat": 4,
  "nbformat_minor": 0,
  "metadata": {
    "colab": {
      "private_outputs": true,
      "provenance": [],
      "authorship_tag": "ABX9TyOSgBUZIYrbQYvjOX47+l2x",
      "include_colab_link": true
    },
    "kernelspec": {
      "name": "python3",
      "display_name": "Python 3"
    },
    "language_info": {
      "name": "python"
    }
  },
  "cells": [
    {
      "cell_type": "markdown",
      "metadata": {
        "id": "view-in-github",
        "colab_type": "text"
      },
      "source": [
        "<a href=\"https://colab.research.google.com/github/OneFineStarstuff/Onefinebot/blob/main/Recursive_Circles.ipynb\" target=\"_parent\"><img src=\"https://colab.research.google.com/assets/colab-badge.svg\" alt=\"Open In Colab\"/></a>"
      ]
    },
    {
      "cell_type": "code",
      "execution_count": null,
      "metadata": {
        "id": "Td2oUS2DLKtE"
      },
      "outputs": [],
      "source": [
        "import numpy as np\n",
        "import matplotlib.pyplot as plt\n",
        "\n",
        "# Recursive function to draw circles\n",
        "def draw_circle(ax, center, radius, depth, color_map):\n",
        "    if depth > 0:\n",
        "        circle = plt.Circle(center, radius, color=color_map[depth % len(color_map)], fill=False, linewidth=1.5)\n",
        "        ax.add_artist(circle)\n",
        "\n",
        "        # Recursive calls with modified positions and radius for patterns\n",
        "        new_radius = radius * 0.5  # Reduce radius\n",
        "        for angle in [0, np.pi / 2, np.pi, 3 * np.pi / 2]:  # 4-way symmetry\n",
        "            x = center[0] + new_radius * np.cos(angle)\n",
        "            y = center[1] + new_radius * np.sin(angle)\n",
        "            draw_circle(ax, (x, y), new_radius, depth - 1, color_map)\n",
        "\n",
        "# Parameters for the artwork\n",
        "fig, ax = plt.subplots(figsize=(6, 6))\n",
        "ax.set_aspect('equal')\n",
        "ax.axis('off')\n",
        "color_map = [\"#1f77b4\", \"#ff7f0e\", \"#2ca02c\", \"#d62728\", \"#9467bd\", \"#8c564b\"]\n",
        "\n",
        "# Start recursive drawing\n",
        "draw_circle(ax, (0, 0), 1, 5, color_map)\n",
        "plt.show()"
      ]
    }
  ]
}