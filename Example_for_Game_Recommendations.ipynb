{
  "nbformat": 4,
  "nbformat_minor": 0,
  "metadata": {
    "colab": {
      "private_outputs": true,
      "provenance": [],
      "authorship_tag": "ABX9TyOQRHhm6OQUWxtT8LFOYBdY",
      "include_colab_link": true
    },
    "kernelspec": {
      "name": "python3",
      "display_name": "Python 3"
    },
    "language_info": {
      "name": "python"
    }
  },
  "cells": [
    {
      "cell_type": "markdown",
      "metadata": {
        "id": "view-in-github",
        "colab_type": "text"
      },
      "source": [
        "<a href=\"https://colab.research.google.com/github/OneFineStarstuff/Onefinebot/blob/main/Example_for_Game_Recommendations.ipynb\" target=\"_parent\"><img src=\"https://colab.research.google.com/assets/colab-badge.svg\" alt=\"Open In Colab\"/></a>"
      ]
    },
    {
      "cell_type": "code",
      "execution_count": null,
      "metadata": {
        "id": "G6GbWEcYDY_J"
      },
      "outputs": [],
      "source": [
        "def recommend_games(genre):\n",
        "    # Simulated game database with genres as keys and game titles as values\n",
        "    game_database = {\n",
        "        \"Action\": [\"The Last of Us\", \"God of War\"],\n",
        "        \"RPG\": [\"The Witcher 3\", \"Cyberpunk 2077\"],\n",
        "        \"Strategy\": [\"Civilization VI\", \"Age of Empires IV\"]\n",
        "    }\n",
        "    # Return the list of games for the specified genre, or a default message if genre not found\n",
        "    return game_database.get(genre, \"No games available for this genre.\")\n",
        "\n",
        "# Example Usage\n",
        "recommendations = recommend_games(\"RPG\")\n",
        "print(recommendations)  # Output: ['The Witcher 3', 'Cyberpunk 2077']"
      ]
    }
  ]
}