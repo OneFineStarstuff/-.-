{
  "nbformat": 4,
  "nbformat_minor": 0,
  "metadata": {
    "colab": {
      "private_outputs": true,
      "provenance": [],
      "authorship_tag": "ABX9TyPNzPn2B1YpA7QyPTlJDZCV",
      "include_colab_link": true
    },
    "kernelspec": {
      "name": "python3",
      "display_name": "Python 3"
    },
    "language_info": {
      "name": "python"
    }
  },
  "cells": [
    {
      "cell_type": "markdown",
      "metadata": {
        "id": "view-in-github",
        "colab_type": "text"
      },
      "source": [
        "<a href=\"https://colab.research.google.com/github/OneFineStarstuff/Onefinebot/blob/main/Example_for_Game_Recommendations.ipynb\" target=\"_parent\"><img src=\"https://colab.research.google.com/assets/colab-badge.svg\" alt=\"Open In Colab\"/></a>"
      ]
    },
    {
      "cell_type": "code",
      "execution_count": null,
      "metadata": {
        "id": "7WLh8eysKENT"
      },
      "outputs": [],
      "source": [
        "class GameRecommender:\n",
        "    def __init__(self):\n",
        "        self.games = {\n",
        "            \"Action\": [\"Call of Duty\", \"God of War\"],\n",
        "            \"Strategy\": [\"Civilization VI\", \"Age of Empires\"],\n",
        "            \"Puzzle\": [\"Portal\", \"Tetris\"],\n",
        "        }  # Initialize the games dictionary with predefined genres and corresponding game titles\n",
        "\n",
        "    def recommend_games(self, genre):\n",
        "        # Return the games that match the specified genre\n",
        "        return self.games.get(genre, \"No games found for this genre.\")\n",
        "\n",
        "# Example Usage\n",
        "game_bot = GameRecommender()\n",
        "print(game_bot.recommend_games(\"Action\"))\n",
        "# Output: ['Call of Duty', 'God of War']"
      ]
    }
  ]
}