{
  "nbformat": 4,
  "nbformat_minor": 0,
  "metadata": {
    "colab": {
      "private_outputs": true,
      "provenance": [],
      "authorship_tag": "ABX9TyNYfLEFiLFzARS9k4z4gy5f",
      "include_colab_link": true
    },
    "kernelspec": {
      "name": "python3",
      "display_name": "Python 3"
    },
    "language_info": {
      "name": "python"
    }
  },
  "cells": [
    {
      "cell_type": "markdown",
      "metadata": {
        "id": "view-in-github",
        "colab_type": "text"
      },
      "source": [
        "<a href=\"https://colab.research.google.com/github/OneFineStarstuff/Onefinebot/blob/main/Example_Code_for_Querying_SDSS.ipynb\" target=\"_parent\"><img src=\"https://colab.research.google.com/assets/colab-badge.svg\" alt=\"Open In Colab\"/></a>"
      ]
    },
    {
      "cell_type": "code",
      "source": [
        "pip install astroquery"
      ],
      "metadata": {
        "id": "tMwio12uLX1m"
      },
      "execution_count": null,
      "outputs": []
    },
    {
      "cell_type": "code",
      "source": [
        "from astroquery.sdss import SDSS\n",
        "from astropy import coordinates as coords\n",
        "from astropy import units as u\n",
        "import matplotlib.pyplot as plt\n",
        "\n",
        "# Define sky coordinates for the search (Adjusting to a different known region)\n",
        "pos = coords.SkyCoord(ra=180.0 * u.deg, dec=0.0 * u.deg, frame='icrs')\n",
        "radius = 3.0 * u.arcmin  # Maximum allowable limit\n",
        "\n",
        "# Query SDSS for objects within the radius around a specific point\n",
        "query = SDSS.query_region(pos, radius=radius, spectro=True)\n",
        "\n",
        "if query is not None:\n",
        "    # Extract necessary parameters for the spectra query\n",
        "    plate = query['plate'].tolist()\n",
        "    mjd = query['mjd'].tolist()\n",
        "    fiberID = query['fiberID'].tolist()\n",
        "\n",
        "    # Get spectra based on the specified parameters\n",
        "    spectra = []\n",
        "    for p, m, f in zip(plate, mjd, fiberID):\n",
        "        spectra.append(SDSS.get_spectra(plate=p, mjd=m, fiberID=f))\n",
        "\n",
        "    # Plot redshift distribution\n",
        "    redshifts = query['z']\n",
        "    plt.hist(redshifts, bins=30, color='purple', alpha=0.7)\n",
        "    plt.xlabel('Redshift (z)')\n",
        "    plt.ylabel('Frequency')\n",
        "    plt.title('Redshift Distribution of SDSS Sample')\n",
        "    plt.show()\n",
        "else:\n",
        "    print(\"No results found for the given query.\")"
      ],
      "metadata": {
        "id": "h8S1FuT4MnaE"
      },
      "execution_count": null,
      "outputs": []
    }
  ]
}