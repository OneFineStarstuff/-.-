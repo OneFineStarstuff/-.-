{
  "nbformat": 4,
  "nbformat_minor": 0,
  "metadata": {
    "colab": {
      "private_outputs": true,
      "provenance": [],
      "authorship_tag": "ABX9TyOORGwrPQbw9G5Ofh/lp6oH",
      "include_colab_link": true
    },
    "kernelspec": {
      "name": "python3",
      "display_name": "Python 3"
    },
    "language_info": {
      "name": "python"
    }
  },
  "cells": [
    {
      "cell_type": "markdown",
      "metadata": {
        "id": "view-in-github",
        "colab_type": "text"
      },
      "source": [
        "<a href=\"https://colab.research.google.com/github/OneFineStarstuff/Onefinebot/blob/main/Hybrid_Quantum_Classical_Workflows.ipynb\" target=\"_parent\"><img src=\"https://colab.research.google.com/assets/colab-badge.svg\" alt=\"Open In Colab\"/></a>"
      ]
    },
    {
      "cell_type": "code",
      "source": [
        "pip install pennylane"
      ],
      "metadata": {
        "id": "I4GgiDYOpqle"
      },
      "execution_count": null,
      "outputs": []
    },
    {
      "cell_type": "code",
      "execution_count": null,
      "metadata": {
        "id": "W_JLLhw1pf0j"
      },
      "outputs": [],
      "source": [
        "import pennylane as qml\n",
        "from pennylane import numpy as np\n",
        "\n",
        "# Define a quantum device\n",
        "n_qubits = 2\n",
        "dev = qml.device(\"default.qubit\", wires=n_qubits)\n",
        "\n",
        "# Define the variational quantum circuit\n",
        "def quantum_circuit(params):\n",
        "    qml.RX(params[0], wires=0)\n",
        "    qml.RY(params[1], wires=1)\n",
        "    qml.CNOT(wires=[0, 1])\n",
        "    return qml.expval(qml.PauliZ(0))\n",
        "\n",
        "# Define the hybrid model\n",
        "@qml.qnode(dev)\n",
        "def hybrid_model(params):\n",
        "    return quantum_circuit(params)\n",
        "\n",
        "# Training loop\n",
        "params = np.array([0.1, 0.2], requires_grad=True)\n",
        "optimizer = qml.GradientDescentOptimizer(stepsize=0.1)\n",
        "\n",
        "epochs = 10\n",
        "for epoch in range(epochs):\n",
        "    params = optimizer.step(lambda p: (hybrid_model(p) - 1)**2, params)\n",
        "    print(f\"Epoch {epoch+1}: params = {params}\")\n",
        "\n",
        "print(\"Trained params:\", params)"
      ]
    }
  ]
}