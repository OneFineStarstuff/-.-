{
  "nbformat": 4,
  "nbformat_minor": 0,
  "metadata": {
    "colab": {
      "private_outputs": true,
      "provenance": [],
      "authorship_tag": "ABX9TyNQBi0cfBDi7qlN8CllnAfM",
      "include_colab_link": true
    },
    "kernelspec": {
      "name": "python3",
      "display_name": "Python 3"
    },
    "language_info": {
      "name": "python"
    }
  },
  "cells": [
    {
      "cell_type": "markdown",
      "metadata": {
        "id": "view-in-github",
        "colab_type": "text"
      },
      "source": [
        "<a href=\"https://colab.research.google.com/github/OneFineStarstuff/Onefinebot/blob/main/Simplified_DMFT_algorithm_for_a_single_site_Hubbard_model_at_half_filling.ipynb\" target=\"_parent\"><img src=\"https://colab.research.google.com/assets/colab-badge.svg\" alt=\"Open In Colab\"/></a>"
      ]
    },
    {
      "cell_type": "code",
      "execution_count": null,
      "metadata": {
        "id": "sf6VMnvJgGqw"
      },
      "outputs": [],
      "source": [
        "import numpy as np\n",
        "\n",
        "# Define DMFT parameters\n",
        "U = 2.0       # Hubbard interaction strength\n",
        "num_iters = 10\n",
        "beta = 10.0   # Inverse temperature\n",
        "epsilon = 1e-4  # Convergence criterion\n",
        "eta = 1e-8    # Small imaginary part to avoid division by zero\n",
        "\n",
        "# Initial Green's function\n",
        "def G0(w):\n",
        "    return 1 / (1j * w + 0.5 * U + eta)\n",
        "\n",
        "# Iterative DMFT loop\n",
        "def G_local(w):\n",
        "    return G0(w)  # Initialize with non-interacting Green's function\n",
        "\n",
        "for i in range(num_iters):\n",
        "    # Self-consistent condition\n",
        "    G_local_value = G_local(1.0)\n",
        "    Sigma = U**2 * G_local_value / (1 + U**2 * G_local_value**2 + eta)\n",
        "    G_new = lambda w: 1 / (1j * w + Sigma + eta)\n",
        "\n",
        "    # Check convergence\n",
        "    if np.abs(G_local(1.0j) - G_new(1.0j)) < epsilon:\n",
        "        break\n",
        "    G_local = G_new\n",
        "\n",
        "print(\"Converged Local Green's Function:\", G_local(1.0j))"
      ]
    }
  ]
}