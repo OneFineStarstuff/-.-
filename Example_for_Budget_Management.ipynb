{
  "nbformat": 4,
  "nbformat_minor": 0,
  "metadata": {
    "colab": {
      "private_outputs": true,
      "provenance": [],
      "authorship_tag": "ABX9TyMeWPYm9azQBfwshWNGa17Z",
      "include_colab_link": true
    },
    "kernelspec": {
      "name": "python3",
      "display_name": "Python 3"
    },
    "language_info": {
      "name": "python"
    }
  },
  "cells": [
    {
      "cell_type": "markdown",
      "metadata": {
        "id": "view-in-github",
        "colab_type": "text"
      },
      "source": [
        "<a href=\"https://colab.research.google.com/github/OneFineStarstuff/Onefinebot/blob/main/Example_for_Budget_Management.ipynb\" target=\"_parent\"><img src=\"https://colab.research.google.com/assets/colab-badge.svg\" alt=\"Open In Colab\"/></a>"
      ]
    },
    {
      "cell_type": "code",
      "execution_count": null,
      "metadata": {
        "id": "_GO7TSt1QNF-"
      },
      "outputs": [],
      "source": [
        "class BudgetManager:\n",
        "    def __init__(self):\n",
        "        self.budget = {}  # Initialize an empty dictionary to store budgeted amounts\n",
        "        self.expenses = {}  # Initialize an empty dictionary to track actual expenses\n",
        "\n",
        "    def set_budget(self, category, amount):\n",
        "        # Set the budget amount for the specified category\n",
        "        self.budget[category] = amount\n",
        "\n",
        "    def add_expense(self, category, amount):\n",
        "        # Check if the category exists in the budget\n",
        "        if category in self.budget:\n",
        "            # Add the expense amount to the category in the expenses dictionary\n",
        "            self.expenses[category] = self.expenses.get(category, 0) + amount\n",
        "            return f\"Added ${amount} to {category} expenses.\"\n",
        "        # Return an error message if the category is not found in the budget\n",
        "        return \"Category not found in budget.\"\n",
        "\n",
        "    def view_summary(self):\n",
        "        summary = {}\n",
        "        # Iterate over the budget dictionary\n",
        "        for category, amount in self.budget.items():\n",
        "            # Calculate the total spent amount using the expenses dictionary\n",
        "            spent = self.expenses.get(category, 0)\n",
        "            # Create a summary dictionary for each category\n",
        "            summary[category] = {\"Budgeted\": amount, \"Spent\": spent, \"Remaining\": amount - spent}\n",
        "        # Return the summary dictionary\n",
        "        return summary\n",
        "\n",
        "# Example Usage\n",
        "manager = BudgetManager()\n",
        "manager.set_budget(\"Food\", 500)\n",
        "manager.set_budget(\"Transport\", 300)\n",
        "manager.add_expense(\"Food\", 150)\n",
        "print(manager.view_summary())\n",
        "# Output: {'Food': {'Budgeted': 500, 'Spent': 150, 'Remaining': 350}, 'Transport': {'Budgeted': 300, 'Spent': 0, 'Remaining': 300}}"
      ]
    }
  ]
}