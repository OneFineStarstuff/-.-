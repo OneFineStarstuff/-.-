{
  "nbformat": 4,
  "nbformat_minor": 0,
  "metadata": {
    "colab": {
      "private_outputs": true,
      "provenance": [],
      "authorship_tag": "ABX9TyMRRD/kjSWuFLsOoUw9QPkD",
      "include_colab_link": true
    },
    "kernelspec": {
      "name": "python3",
      "display_name": "Python 3"
    },
    "language_info": {
      "name": "python"
    }
  },
  "cells": [
    {
      "cell_type": "markdown",
      "metadata": {
        "id": "view-in-github",
        "colab_type": "text"
      },
      "source": [
        "<a href=\"https://colab.research.google.com/github/OneFineStarstuff/Onefinebot/blob/main/Creative_Data_Visualization_with_D3_js_and_Python.ipynb\" target=\"_parent\"><img src=\"https://colab.research.google.com/assets/colab-badge.svg\" alt=\"Open In Colab\"/></a>"
      ]
    },
    {
      "cell_type": "code",
      "execution_count": null,
      "metadata": {
        "id": "NvK93qkKEm2d"
      },
      "outputs": [],
      "source": [
        "import pandas as pd\n",
        "import os\n",
        "\n",
        "# Define the data loading and preprocessing function\n",
        "def load_and_preprocess_data(file_path):\n",
        "    # Check if the file exists\n",
        "    if not os.path.exists(file_path):\n",
        "        print(f\"File not found: {file_path}\")\n",
        "        return None\n",
        "\n",
        "    try:\n",
        "        # Load the JSON data\n",
        "        data = pd.read_json(file_path)\n",
        "        print(\"Data loaded successfully.\")\n",
        "\n",
        "        # Preprocess the data (example: normalize values)\n",
        "        if 'Values' in data.columns:\n",
        "            data['Normalized_Values'] = data['Values'] / data['Values'].sum()\n",
        "            print(\"Data preprocessing completed.\")\n",
        "        else:\n",
        "            print(\"Column 'Values' not found in the data.\")\n",
        "            return None\n",
        "\n",
        "        return data\n",
        "    except Exception as e:\n",
        "        print(f\"Error loading or preprocessing data: {e}\")\n",
        "        return None\n",
        "\n",
        "# Define the function to save the preprocessed data\n",
        "def save_data(data, output_path):\n",
        "    try:\n",
        "        data.to_json(output_path)\n",
        "        print(f\"Data saved successfully to {output_path}\")\n",
        "    except Exception as e:\n",
        "        print(f\"Error saving data: {e}\")\n",
        "\n",
        "# Define the main function\n",
        "def main():\n",
        "    # Define file paths\n",
        "    input_file_path = \"data.json\"\n",
        "    output_file_path = \"preprocessed_data.json\"\n",
        "\n",
        "    # Load and preprocess the data\n",
        "    data = load_and_preprocess_data(input_file_path)\n",
        "\n",
        "    # Save the preprocessed data\n",
        "    if data is not None:\n",
        "        save_data(data, output_file_path)\n",
        "\n",
        "# Run the main function\n",
        "if __name__ == \"__main__\":\n",
        "    main()"
      ]
    }
  ]
}