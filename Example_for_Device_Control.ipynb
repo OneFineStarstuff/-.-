{
  "nbformat": 4,
  "nbformat_minor": 0,
  "metadata": {
    "colab": {
      "private_outputs": true,
      "provenance": [],
      "authorship_tag": "ABX9TyMopLYOVH8D+/w34NLAZC+x",
      "include_colab_link": true
    },
    "kernelspec": {
      "name": "python3",
      "display_name": "Python 3"
    },
    "language_info": {
      "name": "python"
    }
  },
  "cells": [
    {
      "cell_type": "markdown",
      "metadata": {
        "id": "view-in-github",
        "colab_type": "text"
      },
      "source": [
        "<a href=\"https://colab.research.google.com/github/OneFineStarstuff/Onefinebot/blob/main/Example_for_Device_Control.ipynb\" target=\"_parent\"><img src=\"https://colab.research.google.com/assets/colab-badge.svg\" alt=\"Open In Colab\"/></a>"
      ]
    },
    {
      "cell_type": "code",
      "execution_count": null,
      "metadata": {
        "id": "EZW1r7p1-jZm"
      },
      "outputs": [],
      "source": [
        "class SmartHome:\n",
        "    def __init__(self):\n",
        "        self.devices = {\"lights\": \"off\", \"thermostat\": 22}  # Initialize default states for devices\n",
        "\n",
        "    def control_device(self, device, action):\n",
        "        # Check if the device exists in the dictionary\n",
        "        if device in self.devices:\n",
        "            # Update the device state and return a confirmation message\n",
        "            self.devices[device] = action\n",
        "            return f\"{device} set to {action}.\"\n",
        "        # Return a message if the device is not found\n",
        "        return \"Device not found.\"\n",
        "\n",
        "# Example Usage\n",
        "home = SmartHome()\n",
        "print(home.control_device(\"lights\", \"on\"))  # Output: lights set to on.\n",
        "print(home.control_device(\"thermostat\", 24))  # Output: thermostat set to 24."
      ]
    }
  ]
}