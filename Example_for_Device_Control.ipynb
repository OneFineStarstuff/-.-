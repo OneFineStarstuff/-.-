{
  "nbformat": 4,
  "nbformat_minor": 0,
  "metadata": {
    "colab": {
      "private_outputs": true,
      "provenance": [],
      "authorship_tag": "ABX9TyOCPIDs8YV6jsRu3GyrLXso",
      "include_colab_link": true
    },
    "kernelspec": {
      "name": "python3",
      "display_name": "Python 3"
    },
    "language_info": {
      "name": "python"
    }
  },
  "cells": [
    {
      "cell_type": "markdown",
      "metadata": {
        "id": "view-in-github",
        "colab_type": "text"
      },
      "source": [
        "<a href=\"https://colab.research.google.com/github/OneFineStarstuff/Onefinebot/blob/main/Example_for_Device_Control.ipynb\" target=\"_parent\"><img src=\"https://colab.research.google.com/assets/colab-badge.svg\" alt=\"Open In Colab\"/></a>"
      ]
    },
    {
      "cell_type": "code",
      "execution_count": null,
      "metadata": {
        "id": "G84syBIFnGqj"
      },
      "outputs": [],
      "source": [
        "class SmartHomeController:\n",
        "    def __init__(self):\n",
        "        self.devices = {\"Lights\": \"Off\", \"Thermostat\": \"20°C\", \"Camera\": \"Active\"}  # Initialize devices with their initial states\n",
        "\n",
        "    def control_device(self, device, action):\n",
        "        # Check if the specified device exists in the devices dictionary\n",
        "        if device in self.devices:\n",
        "            # Update the device's state to the specified action\n",
        "            self.devices[device] = action\n",
        "            return f\"{device} set to {action}.\"\n",
        "        # Return a message if the device is not found\n",
        "        return \"Device not found.\"\n",
        "\n",
        "# Example Usage\n",
        "controller = SmartHomeController()\n",
        "print(controller.control_device(\"Lights\", \"On\"))\n",
        "# Output: Lights set to On."
      ]
    }
  ]
}