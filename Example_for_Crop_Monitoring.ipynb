{
  "nbformat": 4,
  "nbformat_minor": 0,
  "metadata": {
    "colab": {
      "private_outputs": true,
      "provenance": [],
      "authorship_tag": "ABX9TyNq3Y9o8PCTFRik5INzr99w",
      "include_colab_link": true
    },
    "kernelspec": {
      "name": "python3",
      "display_name": "Python 3"
    },
    "language_info": {
      "name": "python"
    }
  },
  "cells": [
    {
      "cell_type": "markdown",
      "metadata": {
        "id": "view-in-github",
        "colab_type": "text"
      },
      "source": [
        "<a href=\"https://colab.research.google.com/github/OneFineStarstuff/Onefinebot/blob/main/Example_for_Crop_Monitoring.ipynb\" target=\"_parent\"><img src=\"https://colab.research.google.com/assets/colab-badge.svg\" alt=\"Open In Colab\"/></a>"
      ]
    },
    {
      "cell_type": "code",
      "execution_count": null,
      "metadata": {
        "id": "lshQz1AJ5Emo"
      },
      "outputs": [],
      "source": [
        "def monitor_crop_conditions(temp, humidity):\n",
        "    if temp < 15 or temp > 35:\n",
        "        return \"Temperature is not ideal for most crops.\"  # Check if temperature is outside the ideal range\n",
        "    if humidity < 30 or humidity > 70:\n",
        "        return \"Humidity levels are suboptimal.\"  # Check if humidity is outside the ideal range\n",
        "    return \"Conditions are suitable for healthy crop growth.\"  # Return a message if both conditions are ideal\n",
        "\n",
        "# Example Usage\n",
        "condition = monitor_crop_conditions(20, 50)\n",
        "print(condition)  # Output: Conditions are suitable for healthy crop growth."
      ]
    }
  ]
}