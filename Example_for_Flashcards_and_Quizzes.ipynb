{
  "nbformat": 4,
  "nbformat_minor": 0,
  "metadata": {
    "colab": {
      "private_outputs": true,
      "provenance": [],
      "authorship_tag": "ABX9TyMsdV+0xApAhzXiYy6CI9j2",
      "include_colab_link": true
    },
    "kernelspec": {
      "name": "python3",
      "display_name": "Python 3"
    },
    "language_info": {
      "name": "python"
    }
  },
  "cells": [
    {
      "cell_type": "markdown",
      "metadata": {
        "id": "view-in-github",
        "colab_type": "text"
      },
      "source": [
        "<a href=\"https://colab.research.google.com/github/OneFineStarstuff/Onefinebot/blob/main/Example_for_Flashcards_and_Quizzes.ipynb\" target=\"_parent\"><img src=\"https://colab.research.google.com/assets/colab-badge.svg\" alt=\"Open In Colab\"/></a>"
      ]
    },
    {
      "cell_type": "code",
      "execution_count": null,
      "metadata": {
        "id": "hYCIeb6dzq91"
      },
      "outputs": [],
      "source": [
        "class FlashcardQuiz:\n",
        "    def __init__(self):\n",
        "        self.flashcards = {\"Python\": \"A programming language\", \"AI\": \"Artificial Intelligence\"}  # Initialize the flashcards dictionary with predefined terms and definitions\n",
        "\n",
        "    def get_definition(self, term):\n",
        "        # Retrieve the definition of the specified term\n",
        "        return self.flashcards.get(term, \"Term not found.\")\n",
        "\n",
        "# Example Usage\n",
        "quiz = FlashcardQuiz()\n",
        "print(quiz.get_definition(\"Python\"))\n",
        "# Output: A programming language"
      ]
    }
  ]
}