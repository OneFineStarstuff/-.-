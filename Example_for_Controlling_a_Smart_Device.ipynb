{
  "nbformat": 4,
  "nbformat_minor": 0,
  "metadata": {
    "colab": {
      "private_outputs": true,
      "provenance": [],
      "authorship_tag": "ABX9TyNxlL3p8Rc+TN8xJY8e5pLS",
      "include_colab_link": true
    },
    "kernelspec": {
      "name": "python3",
      "display_name": "Python 3"
    },
    "language_info": {
      "name": "python"
    }
  },
  "cells": [
    {
      "cell_type": "markdown",
      "metadata": {
        "id": "view-in-github",
        "colab_type": "text"
      },
      "source": [
        "<a href=\"https://colab.research.google.com/github/OneFineStarstuff/Onefinebot/blob/main/Example_for_Controlling_a_Smart_Device.ipynb\" target=\"_parent\"><img src=\"https://colab.research.google.com/assets/colab-badge.svg\" alt=\"Open In Colab\"/></a>"
      ]
    },
    {
      "cell_type": "code",
      "execution_count": null,
      "metadata": {
        "id": "bEMjW-1JMC9t"
      },
      "outputs": [],
      "source": [
        "import requests\n",
        "\n",
        "def control_device(device_id, action):\n",
        "    # Simulated API request to control a smart device\n",
        "    api_url = f\"https://httpbin.org/post\"\n",
        "    response = requests.post(api_url, json={\"device_id\": device_id, \"action\": action})\n",
        "    return response.json()\n",
        "\n",
        "# Example Usage\n",
        "device_response = control_device(\"light123\", \"turn_on\")\n",
        "print(device_response)"
      ]
    }
  ]
}