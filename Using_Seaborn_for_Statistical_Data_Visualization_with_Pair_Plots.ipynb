{
  "nbformat": 4,
  "nbformat_minor": 0,
  "metadata": {
    "colab": {
      "private_outputs": true,
      "provenance": [],
      "authorship_tag": "ABX9TyPZKzfMFcl53HbUfUp3ZVg3",
      "include_colab_link": true
    },
    "kernelspec": {
      "name": "python3",
      "display_name": "Python 3"
    },
    "language_info": {
      "name": "python"
    }
  },
  "cells": [
    {
      "cell_type": "markdown",
      "metadata": {
        "id": "view-in-github",
        "colab_type": "text"
      },
      "source": [
        "<a href=\"https://colab.research.google.com/github/OneFineStarstuff/Onefinebot/blob/main/Using_Seaborn_for_Statistical_Data_Visualization_with_Pair_Plots.ipynb\" target=\"_parent\"><img src=\"https://colab.research.google.com/assets/colab-badge.svg\" alt=\"Open In Colab\"/></a>"
      ]
    },
    {
      "cell_type": "code",
      "execution_count": null,
      "metadata": {
        "id": "jFtv_kEdTX5A"
      },
      "outputs": [],
      "source": [
        "import seaborn as sns\n",
        "import matplotlib.pyplot as plt\n",
        "\n",
        "# Load the tips dataset from Seaborn's built-in datasets\n",
        "tips = sns.load_dataset('tips')\n",
        "\n",
        "# Create pairwise scatter plots to visualize relationships between features\n",
        "sns.pairplot(tips)\n",
        "plt.title('Pairwise Relationships in Tips Dataset')\n",
        "plt.show()"
      ]
    }
  ]
}