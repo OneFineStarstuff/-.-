{
  "nbformat": 4,
  "nbformat_minor": 0,
  "metadata": {
    "colab": {
      "private_outputs": true,
      "provenance": [],
      "authorship_tag": "ABX9TyMzCahdeF4eZRRQCssvyjp0",
      "include_colab_link": true
    },
    "kernelspec": {
      "name": "python3",
      "display_name": "Python 3"
    },
    "language_info": {
      "name": "python"
    }
  },
  "cells": [
    {
      "cell_type": "markdown",
      "metadata": {
        "id": "view-in-github",
        "colab_type": "text"
      },
      "source": [
        "<a href=\"https://colab.research.google.com/github/OneFineStarstuff/Onefinebot/blob/main/Code_Skeleton_for_Coordination.ipynb\" target=\"_parent\"><img src=\"https://colab.research.google.com/assets/colab-badge.svg\" alt=\"Open In Colab\"/></a>"
      ]
    },
    {
      "cell_type": "code",
      "execution_count": null,
      "metadata": {
        "id": "mAWk8OumCxpB"
      },
      "outputs": [],
      "source": [
        "class FlightBot:\n",
        "    def process(self, data):\n",
        "        return f\"Booking flight to {data['destination']}.\"\n",
        "\n",
        "class HotelBot:\n",
        "    def process(self, data):\n",
        "        return f\"Booking hotel in {data['destination']}.\"\n",
        "\n",
        "class ItineraryBot:\n",
        "    def process(self, data):\n",
        "        return f\"Creating itinerary for {data['destination']}.\"\n",
        "\n",
        "class Coordinator:\n",
        "    def __init__(self):\n",
        "        self.agents = {\"flight\": FlightBot(), \"hotel\": HotelBot(), \"itinerary\": ItineraryBot()}\n",
        "\n",
        "    def handle_request(self, task, data):\n",
        "        agent = self.agents.get(task)\n",
        "        if agent:\n",
        "            return agent.process(data)\n",
        "        else:\n",
        "            return \"Task not supported.\"\n",
        "\n",
        "# Example Usage\n",
        "coordinator = Coordinator()\n",
        "response = coordinator.handle_request(\"flight\", {\"destination\": \"Paris\"})\n",
        "print(response)  # Output: Booking flight to Paris."
      ]
    }
  ]
}