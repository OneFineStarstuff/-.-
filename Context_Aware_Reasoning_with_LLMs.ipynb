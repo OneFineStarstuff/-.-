{
  "nbformat": 4,
  "nbformat_minor": 0,
  "metadata": {
    "colab": {
      "private_outputs": true,
      "provenance": [],
      "authorship_tag": "ABX9TyM1ZvnNFacGBBR8C+Ra8UIO",
      "include_colab_link": true
    },
    "kernelspec": {
      "name": "python3",
      "display_name": "Python 3"
    },
    "language_info": {
      "name": "python"
    }
  },
  "cells": [
    {
      "cell_type": "markdown",
      "metadata": {
        "id": "view-in-github",
        "colab_type": "text"
      },
      "source": [
        "<a href=\"https://colab.research.google.com/github/OneFineStarstuff/Onefinebot/blob/main/Context_Aware_Reasoning_with_LLMs.ipynb\" target=\"_parent\"><img src=\"https://colab.research.google.com/assets/colab-badge.svg\" alt=\"Open In Colab\"/></a>"
      ]
    },
    {
      "cell_type": "code",
      "source": [
        "pip install openai"
      ],
      "metadata": {
        "id": "Im3ulPiANyWm"
      },
      "execution_count": null,
      "outputs": []
    },
    {
      "cell_type": "code",
      "execution_count": null,
      "metadata": {
        "id": "CMbeL8yeNSmv"
      },
      "outputs": [],
      "source": [
        "import openai\n",
        "\n",
        "class ContextAwareReasoning:\n",
        "    def __init__(self, api_key):\n",
        "        openai.api_key = api_key\n",
        "        self.context = []\n",
        "\n",
        "    def add_context(self, user_input):\n",
        "        self.context.append({\"role\": \"user\", \"content\": user_input})\n",
        "\n",
        "    def generate_response(self):\n",
        "        response = openai.ChatCompletion.create(\n",
        "            model=\"gpt-4\",\n",
        "            messages=self.context\n",
        "        )\n",
        "        self.context.append({\"role\": \"assistant\", \"content\": response['choices'][0]['message']['content']})\n",
        "        return response['choices'][0]['message']['content']\n",
        "\n",
        "# Example Usage\n",
        "if __name__ == \"__main__\":\n",
        "    reasoning_module = ContextAwareReasoning(api_key=\"your_api_key\")\n",
        "    reasoning_module.add_context(\"Explain the concept of quantum entanglement.\")\n",
        "    response = reasoning_module.generate_response()\n",
        "    print(\"Reasoning Output:\", response)"
      ]
    }
  ]
}