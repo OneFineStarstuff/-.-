{
  "nbformat": 4,
  "nbformat_minor": 0,
  "metadata": {
    "colab": {
      "private_outputs": true,
      "provenance": [],
      "authorship_tag": "ABX9TyNaESXV88pRjgXpXy+MoNxe",
      "include_colab_link": true
    },
    "kernelspec": {
      "name": "python3",
      "display_name": "Python 3"
    },
    "language_info": {
      "name": "python"
    }
  },
  "cells": [
    {
      "cell_type": "markdown",
      "metadata": {
        "id": "view-in-github",
        "colab_type": "text"
      },
      "source": [
        "<a href=\"https://colab.research.google.com/github/OneFineStarstuff/Onefinebot/blob/main/Example_for_Fitness_Goal_Tracking.ipynb\" target=\"_parent\"><img src=\"https://colab.research.google.com/assets/colab-badge.svg\" alt=\"Open In Colab\"/></a>"
      ]
    },
    {
      "cell_type": "code",
      "execution_count": null,
      "metadata": {
        "id": "OkDJgJ5yEBqa"
      },
      "outputs": [],
      "source": [
        "class FitnessBot:\n",
        "    def __init__(self):\n",
        "        self.goals = {}\n",
        "\n",
        "    def set_goal(self, user, goal):\n",
        "        self.goals[user] = goal\n",
        "\n",
        "    def track_progress(self, user, progress):\n",
        "        if user in self.goals:\n",
        "            return f\"You're {progress/self.goals[user]*100:.2f}% towards your goal!\"\n",
        "\n",
        "# Example Usage\n",
        "bot = FitnessBot()\n",
        "bot.set_goal(\"Alice\", 10000)  # Steps goal\n",
        "print(bot.track_progress(\"Alice\", 4500))  # Output: You're 45.00% towards your goal!"
      ]
    }
  ]
}