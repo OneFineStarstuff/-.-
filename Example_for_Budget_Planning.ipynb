{
  "nbformat": 4,
  "nbformat_minor": 0,
  "metadata": {
    "colab": {
      "private_outputs": true,
      "provenance": [],
      "authorship_tag": "ABX9TyPMgxCoejpOhVpM3M8fnB0t",
      "include_colab_link": true
    },
    "kernelspec": {
      "name": "python3",
      "display_name": "Python 3"
    },
    "language_info": {
      "name": "python"
    }
  },
  "cells": [
    {
      "cell_type": "markdown",
      "metadata": {
        "id": "view-in-github",
        "colab_type": "text"
      },
      "source": [
        "<a href=\"https://colab.research.google.com/github/OneFineStarstuff/Onefinebot/blob/main/Example_for_Budget_Planning.ipynb\" target=\"_parent\"><img src=\"https://colab.research.google.com/assets/colab-badge.svg\" alt=\"Open In Colab\"/></a>"
      ]
    },
    {
      "cell_type": "code",
      "execution_count": null,
      "metadata": {
        "id": "0RcbDGBkBgG-"
      },
      "outputs": [],
      "source": [
        "class BudgetPlanner:\n",
        "    def __init__(self, income):\n",
        "        self.income = income  # Initialize with the given income\n",
        "        self.expenses = []  # Initialize an empty list to store expenses\n",
        "\n",
        "    def add_expense(self, category, amount):\n",
        "        if amount <= self.income:\n",
        "            self.expenses.append({\"category\": category, \"amount\": amount})  # Add the expense\n",
        "            return \"Expense added successfully.\"\n",
        "        return \"Expense exceeds your income!\"  # Return an error message if the expense is too high\n",
        "\n",
        "    def calculate_balance(self):\n",
        "        total_expenses = sum(expense[\"amount\"] for expense in self.expenses)  # Calculate total expenses\n",
        "        return self.income - total_expenses  # Return the remaining balance\n",
        "\n",
        "# Example Usage\n",
        "planner = BudgetPlanner(5000)\n",
        "planner.add_expense(\"Rent\", 1500)\n",
        "planner.add_expense(\"Groceries\", 500)\n",
        "print(f\"Remaining Balance: ${planner.calculate_balance()}\")  # Output: Remaining Balance: $3000"
      ]
    }
  ]
}