{
  "nbformat": 4,
  "nbformat_minor": 0,
  "metadata": {
    "colab": {
      "private_outputs": true,
      "provenance": [],
      "authorship_tag": "ABX9TyMFHmISrV0zOYk/ucztGpfd",
      "include_colab_link": true
    },
    "kernelspec": {
      "name": "python3",
      "display_name": "Python 3"
    },
    "language_info": {
      "name": "python"
    }
  },
  "cells": [
    {
      "cell_type": "markdown",
      "metadata": {
        "id": "view-in-github",
        "colab_type": "text"
      },
      "source": [
        "<a href=\"https://colab.research.google.com/github/OneFineStarstuff/Onefinebot/blob/main/Example_Code_for_Light_Sensor_Input.ipynb\" target=\"_parent\"><img src=\"https://colab.research.google.com/assets/colab-badge.svg\" alt=\"Open In Colab\"/></a>"
      ]
    },
    {
      "cell_type": "code",
      "source": [
        "!sudo apt-get update\n",
        "!sudo apt-get install build-essential python-dev python-openssl\n",
        "!git clone https://github.com/adafruit/Adafruit_Python_DHT.git\n",
        "%cd Adafruit_Python_DHT\n",
        "!sudo python setup.py install"
      ],
      "metadata": {
        "id": "bPIrZJm_xCCm"
      },
      "execution_count": null,
      "outputs": []
    },
    {
      "cell_type": "code",
      "source": [
        "!pip install gpiozero Adafruit_DHT"
      ],
      "metadata": {
        "id": "8jaOKnErxV2U"
      },
      "execution_count": null,
      "outputs": []
    },
    {
      "cell_type": "code",
      "execution_count": null,
      "metadata": {
        "id": "COZ3Ld0BwS5T"
      },
      "outputs": [],
      "source": [
        "from gpiozero import CPUTemperature\n",
        "import Adafruit_DHT\n",
        "import matplotlib.pyplot as plt\n",
        "\n",
        "# Example of using a temperature sensor to adjust visual brightness\n",
        "sensor = Adafruit_DHT.DHT22\n",
        "pin = 4  # Sensor connected to GPIO pin\n",
        "\n",
        "def adjust_visual_brightness(brightness):\n",
        "    # Placeholder function to adjust visual brightness\n",
        "    # Here we simply adjust the brightness of a sample plot for demonstration\n",
        "    fig, ax = plt.subplots()\n",
        "    ax.set_facecolor((brightness, brightness, brightness))  # Adjust brightness\n",
        "    plt.title(f'Brightness: {brightness:.2f}')\n",
        "    plt.show()\n",
        "\n",
        "humidity, temperature = Adafruit_DHT.read_retry(sensor, pin)\n",
        "if temperature:\n",
        "    adjust_visual_brightness(temperature / 30)  # Normalize brightness based on temp\n",
        "else:\n",
        "    print(\"Failed to get temperature reading.\")"
      ]
    }
  ]
}