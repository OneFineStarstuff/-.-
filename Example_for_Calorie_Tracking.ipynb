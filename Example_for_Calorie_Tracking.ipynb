{
  "nbformat": 4,
  "nbformat_minor": 0,
  "metadata": {
    "colab": {
      "private_outputs": true,
      "provenance": [],
      "authorship_tag": "ABX9TyMl6LF1kN7QdVx+OQsw1IP/",
      "include_colab_link": true
    },
    "kernelspec": {
      "name": "python3",
      "display_name": "Python 3"
    },
    "language_info": {
      "name": "python"
    }
  },
  "cells": [
    {
      "cell_type": "markdown",
      "metadata": {
        "id": "view-in-github",
        "colab_type": "text"
      },
      "source": [
        "<a href=\"https://colab.research.google.com/github/OneFineStarstuff/Onefinebot/blob/main/Example_for_Calorie_Tracking.ipynb\" target=\"_parent\"><img src=\"https://colab.research.google.com/assets/colab-badge.svg\" alt=\"Open In Colab\"/></a>"
      ]
    },
    {
      "cell_type": "code",
      "execution_count": null,
      "metadata": {
        "id": "K6QXZhgQ5kPw"
      },
      "outputs": [],
      "source": [
        "class CalorieTracker:\n",
        "    def __init__(self):\n",
        "        self.log = {}\n",
        "\n",
        "    def add_meal(self, user, meal, calories):\n",
        "        if user not in self.log:\n",
        "            self.log[user] = []\n",
        "        self.log[user].append({\"meal\": meal, \"calories\": calories})\n",
        "\n",
        "    def total_calories(self, user):\n",
        "        return sum(item[\"calories\"] for item in self.log.get(user, []))\n",
        "\n",
        "# Example Usage\n",
        "tracker = CalorieTracker()\n",
        "tracker.add_meal(\"user123\", \"Breakfast\", 300)\n",
        "tracker.add_meal(\"user123\", \"Lunch\", 500)\n",
        "print(tracker.total_calories(\"user123\"))  # Output: 800"
      ]
    }
  ]
}