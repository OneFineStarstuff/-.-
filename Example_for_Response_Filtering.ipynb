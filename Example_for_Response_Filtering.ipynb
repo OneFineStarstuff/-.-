{
  "nbformat": 4,
  "nbformat_minor": 0,
  "metadata": {
    "colab": {
      "private_outputs": true,
      "provenance": [],
      "authorship_tag": "ABX9TyPH98414QOyazvtCBCIa/br",
      "include_colab_link": true
    },
    "kernelspec": {
      "name": "python3",
      "display_name": "Python 3"
    },
    "language_info": {
      "name": "python"
    }
  },
  "cells": [
    {
      "cell_type": "markdown",
      "metadata": {
        "id": "view-in-github",
        "colab_type": "text"
      },
      "source": [
        "<a href=\"https://colab.research.google.com/github/OneFineStarstuff/Onefinebot/blob/main/Example_for_Response_Filtering.ipynb\" target=\"_parent\"><img src=\"https://colab.research.google.com/assets/colab-badge.svg\" alt=\"Open In Colab\"/></a>"
      ]
    },
    {
      "cell_type": "code",
      "execution_count": null,
      "metadata": {
        "id": "ZPomWOC12RvT"
      },
      "outputs": [],
      "source": [
        "def filter_response(response, banned_phrases):\n",
        "    # Iterate over each banned phrase\n",
        "    for phrase in banned_phrases:\n",
        "        # Check if the phrase is present in the response\n",
        "        if phrase in response:\n",
        "            return \"Response contains inappropriate content.\"  # Return message if banned phrase is found\n",
        "    return response  # Return the original response if no banned phrases are found\n",
        "\n",
        "# Example Usage\n",
        "response = \"I think this is a dumb question.\"\n",
        "filtered = filter_response(response, [\"dumb\"])\n",
        "print(filtered)  # Output: Response contains inappropriate content."
      ]
    }
  ]
}