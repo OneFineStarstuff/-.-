{
  "nbformat": 4,
  "nbformat_minor": 0,
  "metadata": {
    "colab": {
      "private_outputs": true,
      "provenance": [],
      "authorship_tag": "ABX9TyPVnv+1qBZDSS6cvyDs71TS",
      "include_colab_link": true
    },
    "kernelspec": {
      "name": "python3",
      "display_name": "Python 3"
    },
    "language_info": {
      "name": "python"
    }
  },
  "cells": [
    {
      "cell_type": "markdown",
      "metadata": {
        "id": "view-in-github",
        "colab_type": "text"
      },
      "source": [
        "<a href=\"https://colab.research.google.com/github/OneFineStarstuff/Onefinebot/blob/main/Example_for_Case_Tracking.ipynb\" target=\"_parent\"><img src=\"https://colab.research.google.com/assets/colab-badge.svg\" alt=\"Open In Colab\"/></a>"
      ]
    },
    {
      "cell_type": "code",
      "execution_count": null,
      "metadata": {
        "id": "DkGyPGTMC7gZ"
      },
      "outputs": [],
      "source": [
        "class CaseTracker:\n",
        "    def __init__(self):\n",
        "        self.cases = {}  # Initialize an empty dictionary to store case IDs and statuses\n",
        "\n",
        "    def add_case(self, case_id, status):\n",
        "        # Add the case to the cases dictionary with its initial status\n",
        "        self.cases[case_id] = status\n",
        "\n",
        "    def update_case_status(self, case_id, status):\n",
        "        # Check if the case exists in the cases dictionary\n",
        "        if case_id in self.cases:\n",
        "            # Update the status if the case is found\n",
        "            self.cases[case_id] = status\n",
        "            return f\"Case {case_id} updated to {status}.\"\n",
        "        # Return an error message if the case is not found\n",
        "        return \"Case not found.\"\n",
        "\n",
        "    def get_case_status(self, case_id):\n",
        "        # Retrieve the status of the specified case\n",
        "        return self.cases.get(case_id, \"Case not found\")\n",
        "\n",
        "# Example Usage\n",
        "tracker = CaseTracker()\n",
        "tracker.add_case(\"12345\", \"Pending\")\n",
        "print(tracker.update_case_status(\"12345\", \"Resolved\"))\n",
        "# Output: Case 12345 updated to Resolved."
      ]
    }
  ]
}