{
  "nbformat": 4,
  "nbformat_minor": 0,
  "metadata": {
    "colab": {
      "private_outputs": true,
      "provenance": [],
      "authorship_tag": "ABX9TyP4l2sUb9GBUhNaKazXWXGr",
      "include_colab_link": true
    },
    "kernelspec": {
      "name": "python3",
      "display_name": "Python 3"
    },
    "language_info": {
      "name": "python"
    }
  },
  "cells": [
    {
      "cell_type": "markdown",
      "metadata": {
        "id": "view-in-github",
        "colab_type": "text"
      },
      "source": [
        "<a href=\"https://colab.research.google.com/github/OneFineStarstuff/Onefinebot/blob/main/Example_for_Carbon_Footprint_Calculator.ipynb\" target=\"_parent\"><img src=\"https://colab.research.google.com/assets/colab-badge.svg\" alt=\"Open In Colab\"/></a>"
      ]
    },
    {
      "cell_type": "code",
      "execution_count": null,
      "metadata": {
        "id": "gbIZyHaTltTv"
      },
      "outputs": [],
      "source": [
        "class CarbonCalculator:\n",
        "    def __init__(self):\n",
        "        self.footprint = 0  # Initialize total carbon footprint to 0\n",
        "\n",
        "    def add_activity(self, activity, emissions):\n",
        "        # Add the specified emissions to the total footprint\n",
        "        self.footprint += emissions\n",
        "        return f\"Total Footprint: {self.footprint} kg CO2\"\n",
        "\n",
        "# Example Usage\n",
        "calculator = CarbonCalculator()\n",
        "print(calculator.add_activity(\"Driving 10 km\", 2.3))\n",
        "print(calculator.add_activity(\"Electricity usage 5 kWh\", 0.5))\n",
        "# Output: Total Footprint: 2.8 kg CO2"
      ]
    }
  ]
}