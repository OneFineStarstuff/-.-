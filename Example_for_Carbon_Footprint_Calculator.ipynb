{
  "nbformat": 4,
  "nbformat_minor": 0,
  "metadata": {
    "colab": {
      "private_outputs": true,
      "provenance": [],
      "authorship_tag": "ABX9TyMsTVJeEYsbKs9M03x4tWNj",
      "include_colab_link": true
    },
    "kernelspec": {
      "name": "python3",
      "display_name": "Python 3"
    },
    "language_info": {
      "name": "python"
    }
  },
  "cells": [
    {
      "cell_type": "markdown",
      "metadata": {
        "id": "view-in-github",
        "colab_type": "text"
      },
      "source": [
        "<a href=\"https://colab.research.google.com/github/OneFineStarstuff/Onefinebot/blob/main/Example_for_Carbon_Footprint_Calculator.ipynb\" target=\"_parent\"><img src=\"https://colab.research.google.com/assets/colab-badge.svg\" alt=\"Open In Colab\"/></a>"
      ]
    },
    {
      "cell_type": "code",
      "execution_count": null,
      "metadata": {
        "id": "WBvkmj9kHtH4"
      },
      "outputs": [],
      "source": [
        "class CarbonCalculator:\n",
        "    def calculate_footprint(self, electricity, fuel, flights):\n",
        "        # Calculate the total carbon footprint based on electricity, fuel, and flights\n",
        "        total = electricity * 0.5 + fuel * 2.3 + flights * 0.1\n",
        "        return f\"Your estimated carbon footprint is {total:.2f} kg CO2.\"\n",
        "\n",
        "# Example Usage\n",
        "calc = CarbonCalculator()\n",
        "print(calc.calculate_footprint(300, 100, 5))\n",
        "# Output: Your estimated carbon footprint is 435.50 kg CO2."
      ]
    }
  ]
}