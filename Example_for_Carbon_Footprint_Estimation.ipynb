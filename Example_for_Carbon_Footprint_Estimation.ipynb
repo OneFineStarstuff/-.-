{
  "nbformat": 4,
  "nbformat_minor": 0,
  "metadata": {
    "colab": {
      "private_outputs": true,
      "provenance": [],
      "authorship_tag": "ABX9TyP5dh8SxJq8Bf4ozsaussRu",
      "include_colab_link": true
    },
    "kernelspec": {
      "name": "python3",
      "display_name": "Python 3"
    },
    "language_info": {
      "name": "python"
    }
  },
  "cells": [
    {
      "cell_type": "markdown",
      "metadata": {
        "id": "view-in-github",
        "colab_type": "text"
      },
      "source": [
        "<a href=\"https://colab.research.google.com/github/OneFineStarstuff/Onefinebot/blob/main/Example_for_Carbon_Footprint_Estimation.ipynb\" target=\"_parent\"><img src=\"https://colab.research.google.com/assets/colab-badge.svg\" alt=\"Open In Colab\"/></a>"
      ]
    },
    {
      "cell_type": "code",
      "execution_count": null,
      "metadata": {
        "id": "5MxYGH3j2yYF"
      },
      "outputs": [],
      "source": [
        "def estimate_carbon_footprint(activity, quantity):\n",
        "    emission_factors = {\n",
        "        \"driving\": 0.24,  # kg CO2 per km\n",
        "        \"flying\": 0.09,   # kg CO2 per km\n",
        "        \"electricity\": 0.5 # kg CO2 per kWh\n",
        "    }\n",
        "    if activity in emission_factors:\n",
        "        return quantity * emission_factors[activity]  # Calculate and return carbon footprint\n",
        "    return \"Activity not supported.\"  # Return message if activity is not supported\n",
        "\n",
        "# Example Usage\n",
        "activity = \"driving\"\n",
        "quantity = 100  # 100 km\n",
        "footprint = estimate_carbon_footprint(activity, quantity)\n",
        "print(f\"Your carbon footprint for {quantity} km of {activity}: {footprint} kg CO2\")"
      ]
    }
  ]
}