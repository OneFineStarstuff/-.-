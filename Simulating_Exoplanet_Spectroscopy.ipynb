{
  "nbformat": 4,
  "nbformat_minor": 0,
  "metadata": {
    "colab": {
      "private_outputs": true,
      "provenance": [],
      "authorship_tag": "ABX9TyORo6tQfXU2mwDih5IRUyWS",
      "include_colab_link": true
    },
    "kernelspec": {
      "name": "python3",
      "display_name": "Python 3"
    },
    "language_info": {
      "name": "python"
    }
  },
  "cells": [
    {
      "cell_type": "markdown",
      "metadata": {
        "id": "view-in-github",
        "colab_type": "text"
      },
      "source": [
        "<a href=\"https://colab.research.google.com/github/OneFineStarstuff/Onefinebot/blob/main/Simulating_Exoplanet_Spectroscopy.ipynb\" target=\"_parent\"><img src=\"https://colab.research.google.com/assets/colab-badge.svg\" alt=\"Open In Colab\"/></a>"
      ]
    },
    {
      "cell_type": "code",
      "execution_count": null,
      "metadata": {
        "id": "vGEjUCbHIqwA"
      },
      "outputs": [],
      "source": [
        "import numpy as np\n",
        "import matplotlib.pyplot as plt\n",
        "\n",
        "# Parameters for atmospheric layers and compounds\n",
        "layers = 50  # Number of atmospheric layers\n",
        "wavelengths = np.linspace(0.3, 1.0, 1000)  # Visible to near-infrared range (in micrometers)\n",
        "gas_absorption = {\"CO2\": 0.4, \"O2\": 0.2, \"H2O\": 0.1}  # Absorption coefficients\n",
        "\n",
        "# Generate synthetic spectrum based on gas composition and layers\n",
        "spectrum = np.ones_like(wavelengths)\n",
        "for gas, absorption in gas_absorption.items():\n",
        "    spectrum *= np.exp(-absorption * np.random.uniform(0.9, 1.1, layers).mean())\n",
        "\n",
        "# Simulate atmospheric scattering\n",
        "spectrum += 0.05 * np.sin(5 * wavelengths)  # Adding scattering noise\n",
        "\n",
        "# Plot the simulated exoplanet spectrum\n",
        "plt.plot(wavelengths, spectrum, label=\"Simulated Spectrum\")\n",
        "plt.xlabel(\"Wavelength (micrometers)\")\n",
        "plt.ylabel(\"Intensity\")\n",
        "plt.title(\"Simulated Exoplanetary Atmospheric Spectrum\")\n",
        "plt.legend()\n",
        "plt.show()"
      ]
    }
  ]
}