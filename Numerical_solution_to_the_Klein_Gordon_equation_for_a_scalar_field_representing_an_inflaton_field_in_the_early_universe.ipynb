{
  "nbformat": 4,
  "nbformat_minor": 0,
  "metadata": {
    "colab": {
      "private_outputs": true,
      "provenance": [],
      "authorship_tag": "ABX9TyMD/D60E7sT5NzLJn5ote14",
      "include_colab_link": true
    },
    "kernelspec": {
      "name": "python3",
      "display_name": "Python 3"
    },
    "language_info": {
      "name": "python"
    }
  },
  "cells": [
    {
      "cell_type": "markdown",
      "metadata": {
        "id": "view-in-github",
        "colab_type": "text"
      },
      "source": [
        "<a href=\"https://colab.research.google.com/github/OneFineStarstuff/Onefinebot/blob/main/Numerical_solution_to_the_Klein_Gordon_equation_for_a_scalar_field_representing_an_inflaton_field_in_the_early_universe.ipynb\" target=\"_parent\"><img src=\"https://colab.research.google.com/assets/colab-badge.svg\" alt=\"Open In Colab\"/></a>"
      ]
    },
    {
      "cell_type": "code",
      "execution_count": null,
      "metadata": {
        "id": "f5fZmwYxIBp0"
      },
      "outputs": [],
      "source": [
        "import numpy as np\n",
        "import matplotlib.pyplot as plt\n",
        "\n",
        "# Parameters for the scalar field simulation\n",
        "grid_size = 100\n",
        "dx = 0.1\n",
        "dt = 0.01\n",
        "m = 0.1  # Mass term for the field\n",
        "\n",
        "# Initialize scalar field and momentum\n",
        "field = np.sin(np.linspace(0, 2 * np.pi, grid_size))\n",
        "momentum = np.zeros(grid_size)\n",
        "\n",
        "def laplacian(field):\n",
        "    \"\"\"Compute the Laplacian for the field on a 1D grid with periodic boundary conditions.\"\"\"\n",
        "    return np.roll(field, 1) - 2 * field + np.roll(field, -1)\n",
        "\n",
        "# Time evolution loop\n",
        "for _ in range(200):\n",
        "    lap = laplacian(field)\n",
        "    # Klein-Gordon equation update\n",
        "    field += dt * momentum\n",
        "    momentum += dt * (lap - m**2 * field)\n",
        "\n",
        "plt.plot(field)\n",
        "plt.xlabel(\"Grid point\")\n",
        "plt.ylabel(\"Field value\")\n",
        "plt.title(\"Scalar Field Dynamics in Early Universe Simulation\")\n",
        "plt.show()"
      ]
    }
  ]
}