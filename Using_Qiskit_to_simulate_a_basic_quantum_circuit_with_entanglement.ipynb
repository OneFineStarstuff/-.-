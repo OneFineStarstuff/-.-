{
  "nbformat": 4,
  "nbformat_minor": 0,
  "metadata": {
    "colab": {
      "private_outputs": true,
      "provenance": [],
      "authorship_tag": "ABX9TyPvuHrHNRE9MzWBZla0WONL",
      "include_colab_link": true
    },
    "kernelspec": {
      "name": "python3",
      "display_name": "Python 3"
    },
    "language_info": {
      "name": "python"
    }
  },
  "cells": [
    {
      "cell_type": "markdown",
      "metadata": {
        "id": "view-in-github",
        "colab_type": "text"
      },
      "source": [
        "<a href=\"https://colab.research.google.com/github/OneFineStarstuff/Onefinebot/blob/main/Using_Qiskit_to_simulate_a_basic_quantum_circuit_with_entanglement.ipynb\" target=\"_parent\"><img src=\"https://colab.research.google.com/assets/colab-badge.svg\" alt=\"Open In Colab\"/></a>"
      ]
    },
    {
      "cell_type": "code",
      "source": [
        "pip install qiskit qiskit-aer"
      ],
      "metadata": {
        "id": "aPdP_myHDiKh"
      },
      "execution_count": null,
      "outputs": []
    },
    {
      "cell_type": "code",
      "execution_count": null,
      "metadata": {
        "id": "W8IGzQkvDUzV"
      },
      "outputs": [],
      "source": [
        "from qiskit import QuantumCircuit, Aer, execute\n",
        "\n",
        "# Create a quantum circuit with 2 qubits\n",
        "qc = QuantumCircuit(2)\n",
        "qc.h(0)  # Apply Hadamard gate to qubit 0\n",
        "qc.cx(0, 1)  # Apply CNOT gate with control qubit 0 and target qubit 1 (creates entanglement)\n",
        "\n",
        "# Simulate the circuit\n",
        "simulator = Aer.get_backend('statevector_simulator')\n",
        "result = execute(qc, simulator).result()\n",
        "statevector = result.get_statevector()\n",
        "\n",
        "print(\"Statevector:\", statevector)"
      ]
    }
  ]
}