{
  "nbformat": 4,
  "nbformat_minor": 0,
  "metadata": {
    "colab": {
      "private_outputs": true,
      "provenance": [],
      "authorship_tag": "ABX9TyO1/ekE0gI5OYdQfNgLEdg8",
      "include_colab_link": true
    },
    "kernelspec": {
      "name": "python3",
      "display_name": "Python 3"
    },
    "language_info": {
      "name": "python"
    }
  },
  "cells": [
    {
      "cell_type": "markdown",
      "metadata": {
        "id": "view-in-github",
        "colab_type": "text"
      },
      "source": [
        "<a href=\"https://colab.research.google.com/github/OneFineStarstuff/Onefinebot/blob/main/Calculating_the_scale_factor_over_time_for_a_universe_dominated_by_matter_and_dark_energy.ipynb\" target=\"_parent\"><img src=\"https://colab.research.google.com/assets/colab-badge.svg\" alt=\"Open In Colab\"/></a>"
      ]
    },
    {
      "cell_type": "code",
      "execution_count": null,
      "metadata": {
        "id": "TTS5wgICrLP0"
      },
      "outputs": [],
      "source": [
        "from scipy.integrate import solve_ivp\n",
        "import numpy as np\n",
        "import matplotlib.pyplot as plt\n",
        "\n",
        "# Define the Friedmann equation parameters\n",
        "H0 = 70  # Hubble constant in (km/s)/Mpc\n",
        "Omega_m = 0.3  # Matter density parameter\n",
        "Omega_Lambda = 0.7  # Dark energy density parameter\n",
        "\n",
        "# Define the Friedmann equation as an ODE\n",
        "def friedmann(t, a):\n",
        "    return H0 * np.sqrt(Omega_m / a**3 + Omega_Lambda)\n",
        "\n",
        "# Solve ODE for scale factor 'a' over time\n",
        "t_span = (0, 10)  # Time range (in billions of years)\n",
        "a_0 = 1e-5  # Initial scale factor\n",
        "solution = solve_ivp(friedmann, t_span, [a_0], t_eval=np.linspace(0, 10, 100))\n",
        "\n",
        "# Plot the scale factor over time\n",
        "plt.plot(solution.t, solution.y[0])\n",
        "plt.xlabel(\"Time (billions of years)\")\n",
        "plt.ylabel(\"Scale Factor (a)\")\n",
        "plt.title(\"Cosmological Evolution of the Scale Factor\")\n",
        "plt.show()"
      ]
    }
  ]
}