{
  "nbformat": 4,
  "nbformat_minor": 0,
  "metadata": {
    "colab": {
      "private_outputs": true,
      "provenance": [],
      "authorship_tag": "ABX9TyNbRw7QZl5D6zYLeCtuAtng",
      "include_colab_link": true
    },
    "kernelspec": {
      "name": "python3",
      "display_name": "Python 3"
    },
    "language_info": {
      "name": "python"
    }
  },
  "cells": [
    {
      "cell_type": "markdown",
      "metadata": {
        "id": "view-in-github",
        "colab_type": "text"
      },
      "source": [
        "<a href=\"https://colab.research.google.com/github/OneFineStarstuff/Onefinebot/blob/main/Sentiment_Aware_Chatbots.ipynb\" target=\"_parent\"><img src=\"https://colab.research.google.com/assets/colab-badge.svg\" alt=\"Open In Colab\"/></a>"
      ]
    },
    {
      "cell_type": "code",
      "execution_count": null,
      "metadata": {
        "id": "f4rKb26OzQ7b"
      },
      "outputs": [],
      "source": [
        "from transformers import pipeline\n",
        "\n",
        "# Load sentiment analysis pipeline\n",
        "sentiment_analyzer = pipeline(\"sentiment-analysis\")\n",
        "\n",
        "def analyze_sentiment(user_input):\n",
        "    result = sentiment_analyzer(user_input)\n",
        "    sentiment = result[0]['label']\n",
        "    return sentiment\n",
        "\n",
        "def generate_response(user_input):\n",
        "    sentiment = analyze_sentiment(user_input)\n",
        "    if sentiment == \"POSITIVE\":\n",
        "        return \"I'm glad you're feeling good! How can I assist?\"\n",
        "    elif sentiment == \"NEGATIVE\":\n",
        "        return \"I'm here to help. What's bothering you?\"\n",
        "    else:\n",
        "        return \"How can I assist you today?\"\n",
        "\n",
        "# Example Usage\n",
        "response = generate_response(\"I'm feeling a bit down.\")\n",
        "print(response)  # Output: \"I'm here to help. What's bothering you?\""
      ]
    }
  ]
}