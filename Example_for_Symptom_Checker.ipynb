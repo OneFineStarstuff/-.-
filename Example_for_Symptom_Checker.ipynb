{
  "nbformat": 4,
  "nbformat_minor": 0,
  "metadata": {
    "colab": {
      "private_outputs": true,
      "provenance": [],
      "authorship_tag": "ABX9TyPByFMAnOfRuLWOL51GQ5Dk",
      "include_colab_link": true
    },
    "kernelspec": {
      "name": "python3",
      "display_name": "Python 3"
    },
    "language_info": {
      "name": "python"
    }
  },
  "cells": [
    {
      "cell_type": "markdown",
      "metadata": {
        "id": "view-in-github",
        "colab_type": "text"
      },
      "source": [
        "<a href=\"https://colab.research.google.com/github/OneFineStarstuff/Onefinebot/blob/main/Example_for_Symptom_Checker.ipynb\" target=\"_parent\"><img src=\"https://colab.research.google.com/assets/colab-badge.svg\" alt=\"Open In Colab\"/></a>"
      ]
    },
    {
      "cell_type": "code",
      "execution_count": null,
      "metadata": {
        "id": "BNSFd6fdIUrr"
      },
      "outputs": [],
      "source": [
        "class SymptomChecker:\n",
        "    def __init__(self):\n",
        "        self.conditions = {\n",
        "            \"Fever, Cough\": \"Flu\",\n",
        "            \"Headache, Nausea\": \"Migraine\",\n",
        "            \"Chest Pain, Shortness of Breath\": \"Heart Attack (Seek immediate help!)\",\n",
        "        }  # Initialize the conditions dictionary with predefined symptoms and corresponding conditions\n",
        "\n",
        "    def check_symptoms(self, symptoms):\n",
        "        # Return the condition that matches the specified symptoms\n",
        "        return self.conditions.get(symptoms, \"No condition matched. Please consult a doctor.\")\n",
        "\n",
        "# Example Usage\n",
        "health_bot = SymptomChecker()\n",
        "print(health_bot.check_symptoms(\"Fever, Cough\"))\n",
        "# Output: Flu"
      ]
    }
  ]
}