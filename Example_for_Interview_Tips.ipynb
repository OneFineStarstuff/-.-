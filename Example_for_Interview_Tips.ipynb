{
  "nbformat": 4,
  "nbformat_minor": 0,
  "metadata": {
    "colab": {
      "private_outputs": true,
      "provenance": [],
      "authorship_tag": "ABX9TyPSvCEU4vY8XW4bfzcWgXUy",
      "include_colab_link": true
    },
    "kernelspec": {
      "name": "python3",
      "display_name": "Python 3"
    },
    "language_info": {
      "name": "python"
    }
  },
  "cells": [
    {
      "cell_type": "markdown",
      "metadata": {
        "id": "view-in-github",
        "colab_type": "text"
      },
      "source": [
        "<a href=\"https://colab.research.google.com/github/OneFineStarstuff/Onefinebot/blob/main/Example_for_Interview_Tips.ipynb\" target=\"_parent\"><img src=\"https://colab.research.google.com/assets/colab-badge.svg\" alt=\"Open In Colab\"/></a>"
      ]
    },
    {
      "cell_type": "code",
      "execution_count": null,
      "metadata": {
        "id": "U9uKVqQPMQEq"
      },
      "outputs": [],
      "source": [
        "class HRBot:\n",
        "    def get_tips(self, job_role):\n",
        "        # Return general interview tips tailored for the specified job role\n",
        "        return f\"Tips for {job_role}: Research the company, practice common questions, and dress professionally.\"\n",
        "\n",
        "# Example Usage\n",
        "hr_bot = HRBot()\n",
        "print(hr_bot.get_tips(\"Software Developer\"))\n",
        "# Output: Tips for Software Developer: Research the company, practice common questions, and dress professionally."
      ]
    }
  ]
}