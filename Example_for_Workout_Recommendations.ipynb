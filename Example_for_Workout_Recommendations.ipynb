{
  "nbformat": 4,
  "nbformat_minor": 0,
  "metadata": {
    "colab": {
      "private_outputs": true,
      "provenance": [],
      "authorship_tag": "ABX9TyPNN4S9+WFBEAcKn/tqw1FN",
      "include_colab_link": true
    },
    "kernelspec": {
      "name": "python3",
      "display_name": "Python 3"
    },
    "language_info": {
      "name": "python"
    }
  },
  "cells": [
    {
      "cell_type": "markdown",
      "metadata": {
        "id": "view-in-github",
        "colab_type": "text"
      },
      "source": [
        "<a href=\"https://colab.research.google.com/github/OneFineStarstuff/Onefinebot/blob/main/Example_for_Workout_Recommendations.ipynb\" target=\"_parent\"><img src=\"https://colab.research.google.com/assets/colab-badge.svg\" alt=\"Open In Colab\"/></a>"
      ]
    },
    {
      "cell_type": "code",
      "execution_count": null,
      "metadata": {
        "id": "B384kBj_CBHf"
      },
      "outputs": [],
      "source": [
        "class WorkoutRecommender:\n",
        "    def __init__(self):\n",
        "        self.workouts = {\n",
        "            \"Strength\": [\"Push-ups\", \"Deadlifts\", \"Squats\"],\n",
        "            \"Cardio\": [\"Running\", \"Cycling\", \"Swimming\"],\n",
        "            \"Flexibility\": [\"Yoga\", \"Stretching\"]\n",
        "        }  # Initialize workout categories and exercises\n",
        "\n",
        "    def recommend_workout(self, goal):\n",
        "        # Return the workouts that match the specified goal\n",
        "        return self.workouts.get(goal, \"No workouts available for this goal\")\n",
        "\n",
        "# Example Usage\n",
        "recommender = WorkoutRecommender()\n",
        "print(recommender.recommend_workout(\"Cardio\"))\n",
        "# Output: ['Running', 'Cycling', 'Swimming']"
      ]
    }
  ]
}