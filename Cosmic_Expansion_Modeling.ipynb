{
  "nbformat": 4,
  "nbformat_minor": 0,
  "metadata": {
    "colab": {
      "private_outputs": true,
      "provenance": [],
      "authorship_tag": "ABX9TyPFg92NVxjHrdRDn6w1vWHs",
      "include_colab_link": true
    },
    "kernelspec": {
      "name": "python3",
      "display_name": "Python 3"
    },
    "language_info": {
      "name": "python"
    }
  },
  "cells": [
    {
      "cell_type": "markdown",
      "metadata": {
        "id": "view-in-github",
        "colab_type": "text"
      },
      "source": [
        "<a href=\"https://colab.research.google.com/github/OneFineStarstuff/Onefinebot/blob/main/Cosmic_Expansion_Modeling.ipynb\" target=\"_parent\"><img src=\"https://colab.research.google.com/assets/colab-badge.svg\" alt=\"Open In Colab\"/></a>"
      ]
    },
    {
      "cell_type": "code",
      "execution_count": null,
      "metadata": {
        "id": "kDZVMdjIFkqB"
      },
      "outputs": [],
      "source": [
        "import numpy as np\n",
        "import matplotlib.pyplot as plt\n",
        "from scipy.integrate import odeint\n",
        "\n",
        "# Constants for cosmological parameters\n",
        "H0 = 70  # Hubble constant in (km/s)/Mpc\n",
        "Omega_m = 0.3  # Matter density parameter\n",
        "Omega_Lambda = 0.7  # Dark energy density parameter\n",
        "\n",
        "# Convert H0 to s^-1 for compatibility\n",
        "H0 = H0 * 3.24078e-20  # km/s/Mpc to s^-1\n",
        "\n",
        "# Define the differential equation for the scale factor, a(t)\n",
        "def friedmann(a, t):\n",
        "    return H0 * np.sqrt(Omega_m / a**3 + Omega_Lambda)\n",
        "\n",
        "# Time in seconds (from present to 14 billion years back)\n",
        "time = np.linspace(0, 4.4e17, 1000)  # ~14 billion years in seconds\n",
        "\n",
        "# Solve the Friedmann equation using odeint\n",
        "a_initial = 1e-3  # Start at a small scale factor\n",
        "a_values = odeint(friedmann, a_initial, time)\n",
        "\n",
        "# Plot the results\n",
        "plt.figure(figsize=(10, 6))\n",
        "plt.plot(time / (3.154e+7 * 1e9), a_values, color=\"navy\")\n",
        "plt.title(\"Scale Factor Over Time\")\n",
        "plt.xlabel(\"Time (billion years)\")\n",
        "plt.ylabel(\"Scale Factor (a)\")\n",
        "plt.grid(True)\n",
        "plt.show()"
      ]
    }
  ]
}