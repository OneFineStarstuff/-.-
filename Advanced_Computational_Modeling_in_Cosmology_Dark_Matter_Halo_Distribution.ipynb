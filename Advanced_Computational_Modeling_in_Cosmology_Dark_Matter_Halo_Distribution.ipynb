{
  "nbformat": 4,
  "nbformat_minor": 0,
  "metadata": {
    "colab": {
      "private_outputs": true,
      "provenance": [],
      "authorship_tag": "ABX9TyOenaqUfd1+ZgK5iwGQCeR0",
      "include_colab_link": true
    },
    "kernelspec": {
      "name": "python3",
      "display_name": "Python 3"
    },
    "language_info": {
      "name": "python"
    }
  },
  "cells": [
    {
      "cell_type": "markdown",
      "metadata": {
        "id": "view-in-github",
        "colab_type": "text"
      },
      "source": [
        "<a href=\"https://colab.research.google.com/github/OneFineStarstuff/Onefinebot/blob/main/Advanced_Computational_Modeling_in_Cosmology_Dark_Matter_Halo_Distribution.ipynb\" target=\"_parent\"><img src=\"https://colab.research.google.com/assets/colab-badge.svg\" alt=\"Open In Colab\"/></a>"
      ]
    },
    {
      "cell_type": "code",
      "execution_count": null,
      "metadata": {
        "id": "crvDEP27UqIW"
      },
      "outputs": [],
      "source": [
        "import numpy as np\n",
        "import matplotlib.pyplot as plt\n",
        "\n",
        "# Simulation parameters\n",
        "num_halos = 1000\n",
        "box_size = 100  # in Mpc (megaparsecs)\n",
        "\n",
        "# Generate random positions for halos in 3D space\n",
        "x_positions = np.random.uniform(0, box_size, num_halos)\n",
        "y_positions = np.random.uniform(0, box_size, num_halos)\n",
        "z_positions = np.random.uniform(0, box_size, num_halos)\n",
        "\n",
        "# Plotting a 2D slice of the distribution\n",
        "plt.figure(figsize=(8, 8))\n",
        "plt.scatter(x_positions, y_positions, color='darkblue', s=1)\n",
        "plt.xlabel(\"X Position (Mpc)\")\n",
        "plt.ylabel(\"Y Position (Mpc)\")\n",
        "plt.title(\"Dark Matter Halo Distribution\")\n",
        "plt.gca().set_aspect('equal', adjustable='box')\n",
        "plt.show()"
      ]
    }
  ]
}