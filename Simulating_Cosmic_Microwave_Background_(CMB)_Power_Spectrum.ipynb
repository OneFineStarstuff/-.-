{
  "nbformat": 4,
  "nbformat_minor": 0,
  "metadata": {
    "colab": {
      "private_outputs": true,
      "provenance": [],
      "authorship_tag": "ABX9TyMCz7HtBtlJe0sWaFggOGaw",
      "include_colab_link": true
    },
    "kernelspec": {
      "name": "python3",
      "display_name": "Python 3"
    },
    "language_info": {
      "name": "python"
    }
  },
  "cells": [
    {
      "cell_type": "markdown",
      "metadata": {
        "id": "view-in-github",
        "colab_type": "text"
      },
      "source": [
        "<a href=\"https://colab.research.google.com/github/OneFineStarstuff/Onefinebot/blob/main/Simulating_Cosmic_Microwave_Background_(CMB)_Power_Spectrum.ipynb\" target=\"_parent\"><img src=\"https://colab.research.google.com/assets/colab-badge.svg\" alt=\"Open In Colab\"/></a>"
      ]
    },
    {
      "cell_type": "code",
      "execution_count": null,
      "metadata": {
        "id": "o24z7mlBIiZq"
      },
      "outputs": [],
      "source": [
        "import numpy as np\n",
        "import matplotlib.pyplot as plt\n",
        "\n",
        "# Define parameters for the power spectrum\n",
        "ell_max = 2000  # Maximum multipole moment\n",
        "ell_values = np.arange(2, ell_max)\n",
        "\n",
        "# Generate a simulated power spectrum using a Gaussian profile\n",
        "def cmb_power_spectrum(ell):\n",
        "    return 1 / (ell * (ell + 1)) * np.exp(-ell / 300)\n",
        "\n",
        "# Calculate power spectrum values\n",
        "power_spectrum = cmb_power_spectrum(ell_values)\n",
        "\n",
        "# Plot the power spectrum\n",
        "plt.figure(figsize=(10, 6))\n",
        "plt.plot(ell_values, power_spectrum, color=\"dodgerblue\", label=\"Simulated CMB Power Spectrum\")\n",
        "plt.xlabel(\"Multipole Moment (ℓ)\")\n",
        "plt.ylabel(\"Power Spectrum (ℓ(ℓ+1)C_ℓ)\")\n",
        "plt.yscale(\"log\")\n",
        "plt.title(\"Simulated CMB Power Spectrum\")\n",
        "plt.legend()\n",
        "plt.grid(True)\n",
        "plt.show()"
      ]
    }
  ]
}