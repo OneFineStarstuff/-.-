{
  "nbformat": 4,
  "nbformat_minor": 0,
  "metadata": {
    "colab": {
      "private_outputs": true,
      "provenance": [],
      "authorship_tag": "ABX9TyMMRWC3ipWAqBtxFyB32yP1",
      "include_colab_link": true
    },
    "kernelspec": {
      "name": "python3",
      "display_name": "Python 3"
    },
    "language_info": {
      "name": "python"
    }
  },
  "cells": [
    {
      "cell_type": "markdown",
      "metadata": {
        "id": "view-in-github",
        "colab_type": "text"
      },
      "source": [
        "<a href=\"https://colab.research.google.com/github/OneFineStarstuff/Onefinebot/blob/main/Example_Implementation_for_Session_Context.ipynb\" target=\"_parent\"><img src=\"https://colab.research.google.com/assets/colab-badge.svg\" alt=\"Open In Colab\"/></a>"
      ]
    },
    {
      "cell_type": "code",
      "execution_count": null,
      "metadata": {
        "id": "bhZ-KKv9LJzC"
      },
      "outputs": [],
      "source": [
        "class ContextBot:\n",
        "    def __init__(self):\n",
        "        self.context = {}  # Initialize an empty dictionary to store user context\n",
        "\n",
        "    def update_context(self, user_id, key, value):\n",
        "        if user_id not in self.context:\n",
        "            self.context[user_id] = {}  # Initialize an empty dictionary for new users\n",
        "        self.context[user_id][key] = value  # Update the context with the given key-value pair\n",
        "\n",
        "    def get_context(self, user_id, key):\n",
        "        # Retrieve the value for the given key and user_id, return a default message if not found\n",
        "        return self.context.get(user_id, {}).get(key, \"No context available.\")\n",
        "\n",
        "# Example Usage\n",
        "bot = ContextBot()\n",
        "bot.update_context(\"user123\", \"last_topic\", \"machine learning\")\n",
        "print(bot.get_context(\"user123\", \"last_topic\"))  # Output: machine learning"
      ]
    }
  ]
}