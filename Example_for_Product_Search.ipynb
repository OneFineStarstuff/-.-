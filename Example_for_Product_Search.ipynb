{
  "nbformat": 4,
  "nbformat_minor": 0,
  "metadata": {
    "colab": {
      "private_outputs": true,
      "provenance": [],
      "authorship_tag": "ABX9TyOigWpW7726FrBqXVQRwIM8",
      "include_colab_link": true
    },
    "kernelspec": {
      "name": "python3",
      "display_name": "Python 3"
    },
    "language_info": {
      "name": "python"
    }
  },
  "cells": [
    {
      "cell_type": "markdown",
      "metadata": {
        "id": "view-in-github",
        "colab_type": "text"
      },
      "source": [
        "<a href=\"https://colab.research.google.com/github/OneFineStarstuff/Onefinebot/blob/main/Example_for_Product_Search.ipynb\" target=\"_parent\"><img src=\"https://colab.research.google.com/assets/colab-badge.svg\" alt=\"Open In Colab\"/></a>"
      ]
    },
    {
      "cell_type": "code",
      "execution_count": null,
      "metadata": {
        "id": "bElNjJMb5_OK"
      },
      "outputs": [],
      "source": [
        "class ProductSearch:\n",
        "    def __init__(self):\n",
        "        self.products = []  # Initialize an empty list to store product details\n",
        "\n",
        "    def add_product(self, name, category, price):\n",
        "        # Append the product's name, category, and price to the products list\n",
        "        self.products.append({\"name\": name, \"category\": category, \"price\": price})\n",
        "\n",
        "    def search_by_category(self, category):\n",
        "        # Filter the products list to include only those with a matching category (case-insensitive)\n",
        "        return [p for p in self.products if p[\"category\"].lower() == category.lower()]\n",
        "\n",
        "# Example Usage\n",
        "search = ProductSearch()\n",
        "search.add_product(\"Laptop\", \"Electronics\", 1000)\n",
        "search.add_product(\"Smartphone\", \"Electronics\", 800)\n",
        "search.add_product(\"Desk Chair\", \"Furniture\", 150)\n",
        "print(search.search_by_category(\"Electronics\"))\n",
        "# Output: [{'name': 'Laptop', 'category': 'Electronics', 'price': 1000}, {'name': 'Smartphone', 'category': 'Electronics', 'price': 800}]"
      ]
    }
  ]
}