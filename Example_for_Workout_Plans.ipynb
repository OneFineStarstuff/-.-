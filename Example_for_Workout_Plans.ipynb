{
  "nbformat": 4,
  "nbformat_minor": 0,
  "metadata": {
    "colab": {
      "private_outputs": true,
      "provenance": [],
      "authorship_tag": "ABX9TyNMR39haNI5aCpWW0o7zZiN",
      "include_colab_link": true
    },
    "kernelspec": {
      "name": "python3",
      "display_name": "Python 3"
    },
    "language_info": {
      "name": "python"
    }
  },
  "cells": [
    {
      "cell_type": "markdown",
      "metadata": {
        "id": "view-in-github",
        "colab_type": "text"
      },
      "source": [
        "<a href=\"https://colab.research.google.com/github/OneFineStarstuff/Onefinebot/blob/main/Example_for_Workout_Plans.ipynb\" target=\"_parent\"><img src=\"https://colab.research.google.com/assets/colab-badge.svg\" alt=\"Open In Colab\"/></a>"
      ]
    },
    {
      "cell_type": "code",
      "execution_count": null,
      "metadata": {
        "id": "ClcoFCdiydO_"
      },
      "outputs": [],
      "source": [
        "class WorkoutRecommender:\n",
        "    def __init__(self):\n",
        "        self.workouts = {\n",
        "            \"Weight Loss\": [\"Cardio\", \"HIIT\"],\n",
        "            \"Muscle Gain\": [\"Strength Training\", \"Bodybuilding\"],\n",
        "            \"Flexibility\": [\"Yoga\", \"Pilates\"]\n",
        "        }  # Initialize the workouts dictionary with predefined fitness goals and workout plans\n",
        "\n",
        "    def recommend(self, goal):\n",
        "        # Return the workout plans that match the specified goal\n",
        "        return self.workouts.get(goal, \"No workout plans available for this goal.\")\n",
        "\n",
        "# Example Usage\n",
        "recommender = WorkoutRecommender()\n",
        "print(recommender.recommend(\"Weight Loss\"))\n",
        "# Output: ['Cardio', 'HIIT']"
      ]
    }
  ]
}