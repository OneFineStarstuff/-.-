{
  "nbformat": 4,
  "nbformat_minor": 0,
  "metadata": {
    "colab": {
      "private_outputs": true,
      "provenance": [],
      "authorship_tag": "ABX9TyMP8CMKsow40LdOcxh6sd3a",
      "include_colab_link": true
    },
    "kernelspec": {
      "name": "python3",
      "display_name": "Python 3"
    },
    "language_info": {
      "name": "python"
    }
  },
  "cells": [
    {
      "cell_type": "markdown",
      "metadata": {
        "id": "view-in-github",
        "colab_type": "text"
      },
      "source": [
        "<a href=\"https://colab.research.google.com/github/OneFineStarstuff/Onefinebot/blob/main/Example_for_Workout_Plans.ipynb\" target=\"_parent\"><img src=\"https://colab.research.google.com/assets/colab-badge.svg\" alt=\"Open In Colab\"/></a>"
      ]
    },
    {
      "cell_type": "code",
      "execution_count": null,
      "metadata": {
        "id": "NVx8I4xdEV1t"
      },
      "outputs": [],
      "source": [
        "class FitnessBot:\n",
        "    def __init__(self):\n",
        "        self.plans = {\n",
        "            \"Beginner\": [\"Push-ups\", \"Squats\", \"Plank\"],\n",
        "            \"Intermediate\": [\"Pull-ups\", \"Deadlifts\", \"Bench Press\"],\n",
        "            \"Advanced\": [\"Snatch\", \"Clean and Jerk\", \"Muscle-ups\"],\n",
        "        }  # Initialize the plans dictionary with predefined fitness levels and corresponding workout plans\n",
        "\n",
        "    def get_plan(self, level):\n",
        "        # Return the workout plan that matches the specified fitness level\n",
        "        return self.plans.get(level, \"No plan available for this level.\")\n",
        "\n",
        "# Example Usage\n",
        "fitness_bot = FitnessBot()\n",
        "print(fitness_bot.get_plan(\"Intermediate\"))\n",
        "# Output: ['Pull-ups', 'Deadlifts', 'Bench Press']"
      ]
    }
  ]
}