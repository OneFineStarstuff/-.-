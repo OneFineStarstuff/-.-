{
  "nbformat": 4,
  "nbformat_minor": 0,
  "metadata": {
    "colab": {
      "private_outputs": true,
      "provenance": [],
      "authorship_tag": "ABX9TyPYotJrh/gipoV13RdsHOgv",
      "include_colab_link": true
    },
    "kernelspec": {
      "name": "python3",
      "display_name": "Python 3"
    },
    "language_info": {
      "name": "python"
    }
  },
  "cells": [
    {
      "cell_type": "markdown",
      "metadata": {
        "id": "view-in-github",
        "colab_type": "text"
      },
      "source": [
        "<a href=\"https://colab.research.google.com/github/OneFineStarstuff/Onefinebot/blob/main/Code_for_Dynamic_Color_Gradients.ipynb\" target=\"_parent\"><img src=\"https://colab.research.google.com/assets/colab-badge.svg\" alt=\"Open In Colab\"/></a>"
      ]
    },
    {
      "cell_type": "code",
      "source": [
        "pip install noise"
      ],
      "metadata": {
        "id": "HqevLmV_h7az"
      },
      "execution_count": null,
      "outputs": []
    },
    {
      "cell_type": "code",
      "execution_count": null,
      "metadata": {
        "id": "1uaByeSPhsql"
      },
      "outputs": [],
      "source": [
        "import numpy as np\n",
        "import matplotlib.pyplot as plt\n",
        "from noise import pnoise2\n",
        "\n",
        "def get_noise_color(x, y):\n",
        "    # Generate a color based on Perlin noise, normalize to 0-1 range\n",
        "    r = (100 + 155 * pnoise2(x * 0.3, y * 0.3)) / 255\n",
        "    g = (100 + 155 * pnoise2(x * 0.4, y * 0.4)) / 255\n",
        "    b = (100 + 155 * pnoise2(x * 0.5, y * 0.5)) / 255\n",
        "    return (r, g, b)\n",
        "\n",
        "# Function to create dynamic color gradient circles\n",
        "def draw_gradient_circles(ax, center, radius, depth, alpha):\n",
        "    if depth > 0:\n",
        "        color = get_noise_color(center[0], center[1])\n",
        "        circle = plt.Circle(center, radius, color=color, fill=True, alpha=alpha, linewidth=1.5)\n",
        "        ax.add_artist(circle)\n",
        "\n",
        "        # Recursive call to draw smaller circles with noise-based positions and radius\n",
        "        new_radius = radius * 0.7\n",
        "        for angle in np.linspace(0, 2 * np.pi, num=6, endpoint=False):  # Six-way symmetry\n",
        "            x = center[0] + new_radius * np.cos(angle)\n",
        "            y = center[1] + new_radius * np.sin(angle)\n",
        "            draw_gradient_circles(ax, (x, y), new_radius, depth - 1, alpha * 0.9)\n",
        "\n",
        "# Parameters for the artwork\n",
        "fig, ax = plt.subplots(figsize=(8, 8))\n",
        "ax.set_aspect('equal')\n",
        "ax.axis('off')\n",
        "\n",
        "# Start recursive drawing with gradient-based colors\n",
        "draw_gradient_circles(ax, (0, 0), 1, 5, alpha=0.7)\n",
        "plt.show()"
      ]
    }
  ]
}