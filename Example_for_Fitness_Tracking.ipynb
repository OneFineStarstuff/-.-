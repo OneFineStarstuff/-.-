{
  "nbformat": 4,
  "nbformat_minor": 0,
  "metadata": {
    "colab": {
      "private_outputs": true,
      "provenance": [],
      "authorship_tag": "ABX9TyMaL5XKna8rv3ZUbKv7kN/r",
      "include_colab_link": true
    },
    "kernelspec": {
      "name": "python3",
      "display_name": "Python 3"
    },
    "language_info": {
      "name": "python"
    }
  },
  "cells": [
    {
      "cell_type": "markdown",
      "metadata": {
        "id": "view-in-github",
        "colab_type": "text"
      },
      "source": [
        "<a href=\"https://colab.research.google.com/github/OneFineStarstuff/Onefinebot/blob/main/Example_for_Fitness_Tracking.ipynb\" target=\"_parent\"><img src=\"https://colab.research.google.com/assets/colab-badge.svg\" alt=\"Open In Colab\"/></a>"
      ]
    },
    {
      "cell_type": "code",
      "execution_count": null,
      "metadata": {
        "id": "Wlk5Fvo4M40L"
      },
      "outputs": [],
      "source": [
        "class FitnessTracker:\n",
        "    def __init__(self):\n",
        "        self.activities = []  # Initialize an empty list to store activities and durations\n",
        "\n",
        "    def log_activity(self, activity, duration):\n",
        "        # Append the activity and its duration to the activities list\n",
        "        self.activities.append({\"activity\": activity, \"duration\": duration})\n",
        "\n",
        "    def total_duration(self):\n",
        "        # Calculate the sum of the durations of all activities\n",
        "        return sum(activity[\"duration\"] for activity in self.activities)\n",
        "\n",
        "# Example Usage\n",
        "tracker = FitnessTracker()\n",
        "tracker.log_activity(\"Running\", 30)\n",
        "tracker.log_activity(\"Cycling\", 45)\n",
        "print(f\"Total workout duration: {tracker.total_duration()} minutes\")\n",
        "# Output: Total workout duration: 75 minutes"
      ]
    }
  ]
}