{
  "nbformat": 4,
  "nbformat_minor": 0,
  "metadata": {
    "colab": {
      "private_outputs": true,
      "provenance": [],
      "authorship_tag": "ABX9TyNVdHOs1yEOcBcCKpLBUfrO",
      "include_colab_link": true
    },
    "kernelspec": {
      "name": "python3",
      "display_name": "Python 3"
    },
    "language_info": {
      "name": "python"
    }
  },
  "cells": [
    {
      "cell_type": "markdown",
      "metadata": {
        "id": "view-in-github",
        "colab_type": "text"
      },
      "source": [
        "<a href=\"https://colab.research.google.com/github/OneFineStarstuff/Onefinebot/blob/main/Example_for_Text_to_Speech_(TTS).ipynb\" target=\"_parent\"><img src=\"https://colab.research.google.com/assets/colab-badge.svg\" alt=\"Open In Colab\"/></a>"
      ]
    },
    {
      "cell_type": "code",
      "source": [
        "pip install gtts"
      ],
      "metadata": {
        "id": "72v3_tAt6Xhs"
      },
      "execution_count": null,
      "outputs": []
    },
    {
      "cell_type": "code",
      "execution_count": null,
      "metadata": {
        "id": "bD3pAkDz6Jzn"
      },
      "outputs": [],
      "source": [
        "from gtts import gTTS\n",
        "import os\n",
        "\n",
        "def text_to_speech(text, language=\"en\"):\n",
        "    # Convert text to speech using gTTS\n",
        "    tts = gTTS(text=text, lang=language)\n",
        "    # Save the generated speech to an MP3 file\n",
        "    tts.save(\"output.mp3\")\n",
        "    # Play the MP3 file (command varies by operating system)\n",
        "    os.system(\"start output.mp3\")  # For Windows; use `open` for macOS or `xdg-open` for Linux\n",
        "\n",
        "# Example Usage\n",
        "text_to_speech(\"Hello, how can I assist you?\")"
      ]
    }
  ]
}