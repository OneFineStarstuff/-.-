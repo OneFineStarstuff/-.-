{
  "nbformat": 4,
  "nbformat_minor": 0,
  "metadata": {
    "colab": {
      "private_outputs": true,
      "provenance": [],
      "authorship_tag": "ABX9TyNq6OZ9cq4UREr3g3KcE7Vq",
      "include_colab_link": true
    },
    "kernelspec": {
      "name": "python3",
      "display_name": "Python 3"
    },
    "language_info": {
      "name": "python"
    }
  },
  "cells": [
    {
      "cell_type": "markdown",
      "metadata": {
        "id": "view-in-github",
        "colab_type": "text"
      },
      "source": [
        "<a href=\"https://colab.research.google.com/github/OneFineStarstuff/Onefinebot/blob/main/Blackboard_Implementation.ipynb\" target=\"_parent\"><img src=\"https://colab.research.google.com/assets/colab-badge.svg\" alt=\"Open In Colab\"/></a>"
      ]
    },
    {
      "cell_type": "code",
      "execution_count": null,
      "metadata": {
        "id": "XyopIk7WYFjk"
      },
      "outputs": [],
      "source": [
        "from collections import defaultdict\n",
        "\n",
        "class Blackboard:\n",
        "    def __init__(self):\n",
        "        self.knowledge = defaultdict(list)\n",
        "\n",
        "    def post(self, agent_name, data):\n",
        "        self.knowledge[agent_name].append(data)\n",
        "\n",
        "    def query(self, agent_name=None):\n",
        "        if agent_name:\n",
        "            return self.knowledge[agent_name]\n",
        "        return dict(self.knowledge)\n",
        "\n",
        "# Example Usage\n",
        "if __name__ == \"__main__\":\n",
        "    bb = Blackboard()\n",
        "    bb.post(\"NLP Agent\", {\"input\": \"Explain AI\", \"output\": \"Artificial Intelligence is...\"})\n",
        "    bb.post(\"CV Agent\", {\"input\": \"image1.jpg\", \"output\": \"Cat\"})\n",
        "    print(\"Blackboard Data:\", bb.query())"
      ]
    }
  ]
}