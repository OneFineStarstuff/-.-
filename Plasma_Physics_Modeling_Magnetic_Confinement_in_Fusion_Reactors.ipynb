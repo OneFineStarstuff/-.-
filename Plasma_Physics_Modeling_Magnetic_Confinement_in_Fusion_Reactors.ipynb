{
  "nbformat": 4,
  "nbformat_minor": 0,
  "metadata": {
    "colab": {
      "private_outputs": true,
      "provenance": [],
      "authorship_tag": "ABX9TyPvlHFw62tfPPncQcFvKOia",
      "include_colab_link": true
    },
    "kernelspec": {
      "name": "python3",
      "display_name": "Python 3"
    },
    "language_info": {
      "name": "python"
    }
  },
  "cells": [
    {
      "cell_type": "markdown",
      "metadata": {
        "id": "view-in-github",
        "colab_type": "text"
      },
      "source": [
        "<a href=\"https://colab.research.google.com/github/OneFineStarstuff/Onefinebot/blob/main/Plasma_Physics_Modeling_Magnetic_Confinement_in_Fusion_Reactors.ipynb\" target=\"_parent\"><img src=\"https://colab.research.google.com/assets/colab-badge.svg\" alt=\"Open In Colab\"/></a>"
      ]
    },
    {
      "cell_type": "code",
      "execution_count": null,
      "metadata": {
        "id": "qvy6M_5fCfdC"
      },
      "outputs": [],
      "source": [
        "import numpy as np\n",
        "import matplotlib.pyplot as plt\n",
        "\n",
        "# Parameters for charged particles in a magnetic field\n",
        "n_particles = 100  # Number of particles\n",
        "B = 1.0  # Magnetic field strength (T)\n",
        "charge = 1.6e-19  # Charge of particles (C)\n",
        "mass = 9.11e-31  # Mass of particles (kg)\n",
        "dt = 1e-12  # Time step\n",
        "n_steps = 500  # Number of simulation steps\n",
        "\n",
        "# Initialize particle positions and velocities\n",
        "positions = np.random.rand(n_particles, 2) * 1e-3  # Position in meters\n",
        "velocities = np.random.randn(n_particles, 2) * 1e6  # Velocity in m/s\n",
        "\n",
        "# Simulation loop for charged particle motion in magnetic field\n",
        "for step in range(n_steps):\n",
        "    # Calculate Lorentz force: F = q * v x B\n",
        "    F = charge * (velocities[:, [1, 0]] * np.array([-B, B]))  # Perpendicular force\n",
        "    # Update velocities and positions\n",
        "    velocities += F / mass * dt\n",
        "    positions += velocities * dt\n",
        "\n",
        "# Plot final positions of particles\n",
        "plt.scatter(positions[:, 0], positions[:, 1], s=10, color='b')\n",
        "plt.xlabel(\"x Position (m)\")\n",
        "plt.ylabel(\"y Position (m)\")\n",
        "plt.title(\"Charged Particle Confinement in Magnetic Field (Plasma Simulation)\")\n",
        "plt.show()"
      ]
    }
  ]
}