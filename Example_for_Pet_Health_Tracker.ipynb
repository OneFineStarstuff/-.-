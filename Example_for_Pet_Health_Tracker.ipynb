{
  "nbformat": 4,
  "nbformat_minor": 0,
  "metadata": {
    "colab": {
      "private_outputs": true,
      "provenance": [],
      "authorship_tag": "ABX9TyPzhwXJRf80wXtaCN4WlZ3N",
      "include_colab_link": true
    },
    "kernelspec": {
      "name": "python3",
      "display_name": "Python 3"
    },
    "language_info": {
      "name": "python"
    }
  },
  "cells": [
    {
      "cell_type": "markdown",
      "metadata": {
        "id": "view-in-github",
        "colab_type": "text"
      },
      "source": [
        "<a href=\"https://colab.research.google.com/github/OneFineStarstuff/Onefinebot/blob/main/Example_for_Pet_Health_Tracker.ipynb\" target=\"_parent\"><img src=\"https://colab.research.google.com/assets/colab-badge.svg\" alt=\"Open In Colab\"/></a>"
      ]
    },
    {
      "cell_type": "code",
      "execution_count": null,
      "metadata": {
        "id": "IJx0SofOjtWB"
      },
      "outputs": [],
      "source": [
        "class PetHealthTracker:\n",
        "    def __init__(self):\n",
        "        self.pets = {}  # Initialize an empty dictionary to store pet details\n",
        "\n",
        "    def add_pet(self, name, details):\n",
        "        # Add the pet's name and their corresponding details to the pets dictionary\n",
        "        self.pets[name] = details\n",
        "\n",
        "    def get_pet_details(self, name):\n",
        "        # Retrieve the details for the specified pet\n",
        "        return self.pets.get(name, \"No details found.\")\n",
        "\n",
        "# Example Usage\n",
        "tracker = PetHealthTracker()\n",
        "tracker.add_pet(\"Buddy\", {\"Vaccinations\": \"Up to date\", \"Diet\": \"High protein\"})\n",
        "print(tracker.get_pet_details(\"Buddy\"))\n",
        "# Output: {'Vaccinations': 'Up to date', 'Diet': 'High protein'}"
      ]
    }
  ]
}