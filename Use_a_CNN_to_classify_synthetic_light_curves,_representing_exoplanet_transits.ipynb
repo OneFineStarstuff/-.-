{
  "nbformat": 4,
  "nbformat_minor": 0,
  "metadata": {
    "colab": {
      "private_outputs": true,
      "provenance": [],
      "authorship_tag": "ABX9TyP3dKTBP50SxjS6Njyhcdba",
      "include_colab_link": true
    },
    "kernelspec": {
      "name": "python3",
      "display_name": "Python 3"
    },
    "language_info": {
      "name": "python"
    }
  },
  "cells": [
    {
      "cell_type": "markdown",
      "metadata": {
        "id": "view-in-github",
        "colab_type": "text"
      },
      "source": [
        "<a href=\"https://colab.research.google.com/github/OneFineStarstuff/Onefinebot/blob/main/Use_a_CNN_to_classify_synthetic_light_curves%2C_representing_exoplanet_transits.ipynb\" target=\"_parent\"><img src=\"https://colab.research.google.com/assets/colab-badge.svg\" alt=\"Open In Colab\"/></a>"
      ]
    },
    {
      "cell_type": "code",
      "execution_count": null,
      "metadata": {
        "id": "VEHBJdLnSifV"
      },
      "outputs": [],
      "source": [
        "import torch\n",
        "import torch.nn as nn\n",
        "import torch.optim as optim\n",
        "\n",
        "# Sample data\n",
        "num_samples = 100\n",
        "time_steps = 50\n",
        "data = torch.rand(num_samples, time_steps)\n",
        "labels = torch.randint(0, 2, (num_samples,))\n",
        "\n",
        "# Define a simple CNN model for time-series data\n",
        "class ExoplanetCNN(nn.Module):\n",
        "    def __init__(self):\n",
        "        super(ExoplanetCNN, self).__init__()\n",
        "        self.conv1 = nn.Conv1d(1, 16, kernel_size=3, stride=1)\n",
        "        self.pool = nn.MaxPool1d(kernel_size=2, stride=2)\n",
        "        self.fc1 = nn.Linear(16 * ((time_steps - 2) // 2), 64)\n",
        "        self.fc2 = nn.Linear(64, 2)  # Output layer for binary classification\n",
        "\n",
        "    def forward(self, x):\n",
        "        x = x.unsqueeze(1)  # Add channel dimension\n",
        "        x = self.pool(torch.relu(self.conv1(x)))\n",
        "        x = x.view(-1, 16 * ((time_steps - 2) // 2))\n",
        "        x = torch.relu(self.fc1(x))\n",
        "        x = self.fc2(x)\n",
        "        return x\n",
        "\n",
        "# Instantiate model, loss function, and optimizer\n",
        "model = ExoplanetCNN()\n",
        "criterion = nn.CrossEntropyLoss()\n",
        "optimizer = optim.Adam(model.parameters(), lr=0.001)\n",
        "\n",
        "# Training loop\n",
        "epochs = 20\n",
        "for epoch in range(epochs):\n",
        "    optimizer.zero_grad()\n",
        "    outputs = model(data)\n",
        "    loss = criterion(outputs, labels)\n",
        "    loss.backward()\n",
        "    optimizer.step()\n",
        "    if epoch % 5 == 0:\n",
        "        print(f\"Epoch [{epoch}/{epochs}], Loss: {loss.item():.4f}\")\n",
        "\n",
        "# Testing the model on new synthetic data\n",
        "test_data = torch.rand(10, time_steps)\n",
        "test_outputs = model(test_data)\n",
        "predictions = torch.argmax(test_outputs, dim=1)\n",
        "print(\"Predicted Labels:\", predictions)"
      ]
    }
  ]
}