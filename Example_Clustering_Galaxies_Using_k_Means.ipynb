{
  "nbformat": 4,
  "nbformat_minor": 0,
  "metadata": {
    "colab": {
      "private_outputs": true,
      "provenance": [],
      "authorship_tag": "ABX9TyPgDuMZId2fVZuuQgzpajaZ",
      "include_colab_link": true
    },
    "kernelspec": {
      "name": "python3",
      "display_name": "Python 3"
    },
    "language_info": {
      "name": "python"
    }
  },
  "cells": [
    {
      "cell_type": "markdown",
      "metadata": {
        "id": "view-in-github",
        "colab_type": "text"
      },
      "source": [
        "<a href=\"https://colab.research.google.com/github/OneFineStarstuff/Onefinebot/blob/main/Example_Clustering_Galaxies_Using_k_Means.ipynb\" target=\"_parent\"><img src=\"https://colab.research.google.com/assets/colab-badge.svg\" alt=\"Open In Colab\"/></a>"
      ]
    },
    {
      "cell_type": "code",
      "execution_count": null,
      "metadata": {
        "id": "LNmSTB58MpLN"
      },
      "outputs": [],
      "source": [
        "from sklearn.cluster import KMeans\n",
        "import numpy as np\n",
        "import matplotlib.pyplot as plt\n",
        "\n",
        "# Generate synthetic 3D galaxy coordinates in x, y, z space\n",
        "np.random.seed(42)\n",
        "galaxies = np.random.rand(1000, 3) * 100  # 1000 galaxies randomly spread in a cube of 100 Mpc\n",
        "\n",
        "# Apply k-means clustering to find galaxy clusters\n",
        "kmeans = KMeans(n_clusters=5, random_state=0).fit(galaxies)\n",
        "labels = kmeans.labels_\n",
        "\n",
        "# Plot clusters in 3D space\n",
        "fig = plt.figure()\n",
        "ax = fig.add_subplot(111, projection='3d')\n",
        "sc = ax.scatter(galaxies[:, 0], galaxies[:, 1], galaxies[:, 2], c=labels, cmap='viridis')\n",
        "plt.colorbar(sc, label=\"Cluster Label\")\n",
        "plt.title(\"Galaxy Clustering in 3D Space\")\n",
        "plt.show()"
      ]
    }
  ]
}