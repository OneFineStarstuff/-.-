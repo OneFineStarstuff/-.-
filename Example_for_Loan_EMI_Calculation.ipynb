{
  "nbformat": 4,
  "nbformat_minor": 0,
  "metadata": {
    "colab": {
      "private_outputs": true,
      "provenance": [],
      "authorship_tag": "ABX9TyMLfq1Ye4nwkxuRrjjBEFYu",
      "include_colab_link": true
    },
    "kernelspec": {
      "name": "python3",
      "display_name": "Python 3"
    },
    "language_info": {
      "name": "python"
    }
  },
  "cells": [
    {
      "cell_type": "markdown",
      "metadata": {
        "id": "view-in-github",
        "colab_type": "text"
      },
      "source": [
        "<a href=\"https://colab.research.google.com/github/OneFineStarstuff/Onefinebot/blob/main/Example_for_Loan_EMI_Calculation.ipynb\" target=\"_parent\"><img src=\"https://colab.research.google.com/assets/colab-badge.svg\" alt=\"Open In Colab\"/></a>"
      ]
    },
    {
      "cell_type": "code",
      "execution_count": null,
      "metadata": {
        "id": "d7ytIK2B-l_q"
      },
      "outputs": [],
      "source": [
        "class LoanCalculator:\n",
        "    def __init__(self, principal, rate, tenure):\n",
        "        self.principal = principal  # Principal loan amount\n",
        "        self.rate = rate / (12 * 100)  # Monthly interest rate\n",
        "        self.tenure = tenure * 12  # Loan tenure in months\n",
        "\n",
        "    def calculate_emi(self):\n",
        "        # Calculate EMI using the formula\n",
        "        emi = (self.principal * self.rate * (1 + self.rate) ** self.tenure) / ((1 + self.rate) ** self.tenure - 1)\n",
        "        return round(emi, 2)  # Round the EMI to two decimal places\n",
        "\n",
        "# Example Usage\n",
        "loan = LoanCalculator(50000, 5, 2)  # Principal=50,000; Rate=5%; Tenure=2 years\n",
        "print(f\"EMI: ${loan.calculate_emi()}\")\n",
        "# Output: EMI: $2196.08"
      ]
    }
  ]
}