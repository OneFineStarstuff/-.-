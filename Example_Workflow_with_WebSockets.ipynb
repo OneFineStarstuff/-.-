{
  "nbformat": 4,
  "nbformat_minor": 0,
  "metadata": {
    "colab": {
      "private_outputs": true,
      "provenance": [],
      "authorship_tag": "ABX9TyODILIcPT4mfmhZa99v/5RQ",
      "include_colab_link": true
    },
    "kernelspec": {
      "name": "python3",
      "display_name": "Python 3"
    },
    "language_info": {
      "name": "python"
    }
  },
  "cells": [
    {
      "cell_type": "markdown",
      "metadata": {
        "id": "view-in-github",
        "colab_type": "text"
      },
      "source": [
        "<a href=\"https://colab.research.google.com/github/OneFineStarstuff/Onefinebot/blob/main/Example_Workflow_with_WebSockets.ipynb\" target=\"_parent\"><img src=\"https://colab.research.google.com/assets/colab-badge.svg\" alt=\"Open In Colab\"/></a>"
      ]
    },
    {
      "cell_type": "code",
      "execution_count": null,
      "metadata": {
        "id": "-zZn8iVHBsT2"
      },
      "outputs": [],
      "source": [
        "import asyncio\n",
        "import websockets\n",
        "\n",
        "connected_users = set()\n",
        "\n",
        "async def chatbot(websocket, path):\n",
        "    connected_users.add(websocket)\n",
        "    try:\n",
        "        async for message in websocket:\n",
        "            for user in connected_users:\n",
        "                if user != websocket:\n",
        "                    await user.send(f\"User said: {message}\")\n",
        "    finally:\n",
        "        connected_users.remove(websocket)\n",
        "\n",
        "async def main():\n",
        "    async with websockets.serve(chatbot, \"localhost\", 8001):\n",
        "        await asyncio.Future()  # run forever\n",
        "\n",
        "# Run the main function\n",
        "asyncio.run(main())"
      ]
    }
  ]
}