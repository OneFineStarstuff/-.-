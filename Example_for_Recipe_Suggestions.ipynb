{
  "nbformat": 4,
  "nbformat_minor": 0,
  "metadata": {
    "colab": {
      "private_outputs": true,
      "provenance": [],
      "authorship_tag": "ABX9TyMYRudyHmJUIDCZtMwpYE2c",
      "include_colab_link": true
    },
    "kernelspec": {
      "name": "python3",
      "display_name": "Python 3"
    },
    "language_info": {
      "name": "python"
    }
  },
  "cells": [
    {
      "cell_type": "markdown",
      "metadata": {
        "id": "view-in-github",
        "colab_type": "text"
      },
      "source": [
        "<a href=\"https://colab.research.google.com/github/OneFineStarstuff/Onefinebot/blob/main/Example_for_Recipe_Suggestions.ipynb\" target=\"_parent\"><img src=\"https://colab.research.google.com/assets/colab-badge.svg\" alt=\"Open In Colab\"/></a>"
      ]
    },
    {
      "cell_type": "code",
      "execution_count": null,
      "metadata": {
        "id": "8cPFX1xxLmZC"
      },
      "outputs": [],
      "source": [
        "class RecipeBot:\n",
        "    def __init__(self):\n",
        "        self.recipes = {\n",
        "            \"Pasta\": [\"Tomatoes\", \"Pasta\", \"Cheese\"],\n",
        "            \"Salad\": [\"Lettuce\", \"Cucumber\", \"Dressing\"],\n",
        "        }  # Initialize the recipes dictionary with predefined dish names and corresponding ingredients\n",
        "\n",
        "    def find_recipe(self, ingredient):\n",
        "        # Return a list of dish names that include the specified ingredient\n",
        "        return [dish for dish, ingredients in self.recipes.items() if ingredient in ingredients]\n",
        "\n",
        "# Example Usage\n",
        "recipe_bot = RecipeBot()\n",
        "print(recipe_bot.find_recipe(\"Tomatoes\"))\n",
        "# Output: ['Pasta']"
      ]
    }
  ]
}