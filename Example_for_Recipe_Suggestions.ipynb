{
  "nbformat": 4,
  "nbformat_minor": 0,
  "metadata": {
    "colab": {
      "private_outputs": true,
      "provenance": [],
      "authorship_tag": "ABX9TyNoala1ndCEFkeQq7oJX1bp",
      "include_colab_link": true
    },
    "kernelspec": {
      "name": "python3",
      "display_name": "Python 3"
    },
    "language_info": {
      "name": "python"
    }
  },
  "cells": [
    {
      "cell_type": "markdown",
      "metadata": {
        "id": "view-in-github",
        "colab_type": "text"
      },
      "source": [
        "<a href=\"https://colab.research.google.com/github/OneFineStarstuff/Onefinebot/blob/main/Example_for_Recipe_Suggestions.ipynb\" target=\"_parent\"><img src=\"https://colab.research.google.com/assets/colab-badge.svg\" alt=\"Open In Colab\"/></a>"
      ]
    },
    {
      "cell_type": "code",
      "execution_count": null,
      "metadata": {
        "id": "tGaXLKRuaRm5"
      },
      "outputs": [],
      "source": [
        "class RecipeSuggester:\n",
        "    def __init__(self):\n",
        "        self.recipes = {\n",
        "            \"Pasta\": [\"Tomato Sauce\", \"Cheese\", \"Basil\"],\n",
        "            \"Salad\": [\"Lettuce\", \"Tomato\", \"Cucumber\"],\n",
        "            \"Smoothie\": [\"Banana\", \"Milk\", \"Honey\"]\n",
        "        }  # Initialize the recipes dictionary with predefined recipes and required ingredients\n",
        "\n",
        "    def suggest_recipes(self, ingredients):\n",
        "        # Find recipes that can be made with the provided ingredients\n",
        "        suggestions = [recipe for recipe, req_ingredients in self.recipes.items() if all(item in ingredients for item in req_ingredients)]\n",
        "        return suggestions or \"No matching recipes found.\"\n",
        "\n",
        "# Example Usage\n",
        "suggester = RecipeSuggester()\n",
        "print(suggester.suggest_recipes([\"Tomato Sauce\", \"Cheese\", \"Basil\"]))\n",
        "# Output: ['Pasta']"
      ]
    }
  ]
}