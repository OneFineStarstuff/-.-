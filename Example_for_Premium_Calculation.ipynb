{
  "nbformat": 4,
  "nbformat_minor": 0,
  "metadata": {
    "colab": {
      "private_outputs": true,
      "provenance": [],
      "authorship_tag": "ABX9TyNpALS4T/edDnsxanQ6i/4t",
      "include_colab_link": true
    },
    "kernelspec": {
      "name": "python3",
      "display_name": "Python 3"
    },
    "language_info": {
      "name": "python"
    }
  },
  "cells": [
    {
      "cell_type": "markdown",
      "metadata": {
        "id": "view-in-github",
        "colab_type": "text"
      },
      "source": [
        "<a href=\"https://colab.research.google.com/github/OneFineStarstuff/Onefinebot/blob/main/Example_for_Premium_Calculation.ipynb\" target=\"_parent\"><img src=\"https://colab.research.google.com/assets/colab-badge.svg\" alt=\"Open In Colab\"/></a>"
      ]
    },
    {
      "cell_type": "code",
      "execution_count": null,
      "metadata": {
        "id": "1gCCf4tDAMeA"
      },
      "outputs": [],
      "source": [
        "class PremiumCalculator:\n",
        "    def __init__(self, base_premium, age, coverage):\n",
        "        self.base_premium = base_premium  # Base premium amount\n",
        "        self.age_factor = 1.5 if age > 40 else 1.0  # Age factor\n",
        "        self.coverage_factor = 1.2 if coverage > 50000 else 1.0  # Coverage factor\n",
        "\n",
        "    def calculate_premium(self):\n",
        "        # Calculate the total premium\n",
        "        return round(self.base_premium * self.age_factor * self.coverage_factor, 2)\n",
        "\n",
        "# Example Usage\n",
        "calculator = PremiumCalculator(1000, 45, 60000)\n",
        "print(f\"Premium: ${calculator.calculate_premium()}\")\n",
        "# Output: Premium: $1800.0"
      ]
    }
  ]
}