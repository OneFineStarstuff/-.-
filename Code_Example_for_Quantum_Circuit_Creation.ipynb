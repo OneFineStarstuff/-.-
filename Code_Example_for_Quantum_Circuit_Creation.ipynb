{
  "nbformat": 4,
  "nbformat_minor": 0,
  "metadata": {
    "colab": {
      "private_outputs": true,
      "provenance": [],
      "authorship_tag": "ABX9TyN4mZmJ3vWaiFjfktN486QR",
      "include_colab_link": true
    },
    "kernelspec": {
      "name": "python3",
      "display_name": "Python 3"
    },
    "language_info": {
      "name": "python"
    }
  },
  "cells": [
    {
      "cell_type": "markdown",
      "metadata": {
        "id": "view-in-github",
        "colab_type": "text"
      },
      "source": [
        "<a href=\"https://colab.research.google.com/github/OneFineStarstuff/Onefinebot/blob/main/Code_Example_for_Quantum_Circuit_Creation.ipynb\" target=\"_parent\"><img src=\"https://colab.research.google.com/assets/colab-badge.svg\" alt=\"Open In Colab\"/></a>"
      ]
    },
    {
      "cell_type": "code",
      "source": [
        "pip install qiskit"
      ],
      "metadata": {
        "id": "Fnh-LB1S3poA"
      },
      "execution_count": null,
      "outputs": []
    },
    {
      "cell_type": "code",
      "execution_count": null,
      "metadata": {
        "id": "_K3dggEs3Pwt"
      },
      "outputs": [],
      "source": [
        "from qiskit import QuantumCircuit\n",
        "\n",
        "def create_quantum_circuit():\n",
        "    qc = QuantumCircuit(2)  # Initialize a quantum circuit with 2 qubits\n",
        "    qc.h(0)  # Apply Hadamard gate to the first qubit\n",
        "    qc.cx(0, 1)  # Apply CNOT gate to entangle the first and second qubits\n",
        "    qc.measure_all()  # Measure all qubits\n",
        "    return qc\n",
        "\n",
        "# Example Usage\n",
        "circuit = create_quantum_circuit()\n",
        "print(circuit)"
      ]
    }
  ]
}