{
  "nbformat": 4,
  "nbformat_minor": 0,
  "metadata": {
    "colab": {
      "private_outputs": true,
      "provenance": [],
      "authorship_tag": "ABX9TyNPvtyIonkqM7BEHLMaHn93",
      "include_colab_link": true
    },
    "kernelspec": {
      "name": "python3",
      "display_name": "Python 3"
    },
    "language_info": {
      "name": "python"
    }
  },
  "cells": [
    {
      "cell_type": "markdown",
      "metadata": {
        "id": "view-in-github",
        "colab_type": "text"
      },
      "source": [
        "<a href=\"https://colab.research.google.com/github/OneFineStarstuff/Onefinebot/blob/main/Simulating_Orbital_Mechanics_(Two_Body_Problem).ipynb\" target=\"_parent\"><img src=\"https://colab.research.google.com/assets/colab-badge.svg\" alt=\"Open In Colab\"/></a>"
      ]
    },
    {
      "cell_type": "code",
      "execution_count": null,
      "metadata": {
        "id": "6yRzrq9Q1vRY"
      },
      "outputs": [],
      "source": [
        "import numpy as np\n",
        "from scipy.integrate import solve_ivp\n",
        "import matplotlib.pyplot as plt\n",
        "\n",
        "# Constants\n",
        "G = 6.67430e-11  # gravitational constant, m^3 kg^-1 s^-2\n",
        "M_sun = 1.989e30  # mass of the sun in kg\n",
        "\n",
        "def two_body_equations(t, y):\n",
        "    x, y, vx, vy = y\n",
        "    r = np.sqrt(x**2 + y**2)\n",
        "    ax = -G * M_sun * x / r**3\n",
        "    ay = -G * M_sun * y / r**3\n",
        "    return [vx, vy, ax, ay]\n",
        "\n",
        "# Initial conditions: Earth-like orbit\n",
        "r0 = 1.496e11  # initial distance from the Sun in meters (1 AU)\n",
        "v0 = 29780     # initial orbital velocity in m/s (Earth's average orbital speed)\n",
        "y0 = [r0, 0, 0, v0]\n",
        "\n",
        "# Time span of 1 year in seconds\n",
        "t_span = (0, 365.25 * 24 * 3600)\n",
        "t_eval = np.linspace(*t_span, 1000)\n",
        "\n",
        "# Solve the ODE\n",
        "solution = solve_ivp(two_body_equations, t_span, y0, t_eval=t_eval)\n",
        "\n",
        "# Plotting the orbit\n",
        "plt.plot(solution.y[0], solution.y[1])\n",
        "plt.xlabel(\"x position (m)\")\n",
        "plt.ylabel(\"y position (m)\")\n",
        "plt.title(\"Orbital Simulation of Earth around the Sun\")\n",
        "plt.gca().set_aspect('equal', adjustable='box')\n",
        "plt.show()"
      ]
    }
  ]
}