{
  "nbformat": 4,
  "nbformat_minor": 0,
  "metadata": {
    "colab": {
      "private_outputs": true,
      "provenance": [],
      "authorship_tag": "ABX9TyOl3uJnzmvG3z4Wk4BUFYkl",
      "include_colab_link": true
    },
    "kernelspec": {
      "name": "python3",
      "display_name": "Python 3"
    },
    "language_info": {
      "name": "python"
    }
  },
  "cells": [
    {
      "cell_type": "markdown",
      "metadata": {
        "id": "view-in-github",
        "colab_type": "text"
      },
      "source": [
        "<a href=\"https://colab.research.google.com/github/OneFineStarstuff/Onefinebot/blob/main/Using_Qiskit_to_implement_a_basic_VQE_for_finding_the_ground_state_of_a_simple_Hamiltonian.ipynb\" target=\"_parent\"><img src=\"https://colab.research.google.com/assets/colab-badge.svg\" alt=\"Open In Colab\"/></a>"
      ]
    },
    {
      "cell_type": "code",
      "source": [
        "!pip install --upgrade qiskit qiskit-aer"
      ],
      "metadata": {
        "id": "lH8WpKroPAB3"
      },
      "execution_count": null,
      "outputs": []
    },
    {
      "cell_type": "code",
      "execution_count": null,
      "metadata": {
        "id": "EBEZBXqIOPS1"
      },
      "outputs": [],
      "source": [
        "from qiskit import Aer, transpile\n",
        "from qiskit.circuit.library import TwoLocal\n",
        "from qiskit.algorithms import VQE\n",
        "from qiskit.algorithms.optimizers import COBYLA\n",
        "from qiskit.opflow import Z, I\n",
        "\n",
        "# Define a simple Hamiltonian (e.g., H = Z + I)\n",
        "hamiltonian = (Z ^ I) + (I ^ Z)\n",
        "\n",
        "# Define a variational circuit with two qubits\n",
        "ansatz = TwoLocal(2, 'ry', 'cz', entanglement='full')\n",
        "\n",
        "# Choose an optimizer\n",
        "optimizer = COBYLA(maxiter=100)\n",
        "\n",
        "# Set up the VQE algorithm\n",
        "vqe = VQE(ansatz, optimizer, quantum_instance=Aer.get_backend('statevector_simulator'))\n",
        "result = vqe.compute_minimum_eigenvalue(hamiltonian)\n",
        "\n",
        "# Output the ground state energy\n",
        "print(\"Ground state energy:\", result.eigenvalue)"
      ]
    }
  ]
}