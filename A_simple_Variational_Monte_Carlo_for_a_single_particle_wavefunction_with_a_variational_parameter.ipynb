{
  "nbformat": 4,
  "nbformat_minor": 0,
  "metadata": {
    "colab": {
      "private_outputs": true,
      "provenance": [],
      "authorship_tag": "ABX9TyNqoAYdf4MgjT9PhAIq1UbZ",
      "include_colab_link": true
    },
    "kernelspec": {
      "name": "python3",
      "display_name": "Python 3"
    },
    "language_info": {
      "name": "python"
    }
  },
  "cells": [
    {
      "cell_type": "markdown",
      "metadata": {
        "id": "view-in-github",
        "colab_type": "text"
      },
      "source": [
        "<a href=\"https://colab.research.google.com/github/OneFineStarstuff/Onefinebot/blob/main/A_simple_Variational_Monte_Carlo_for_a_single_particle_wavefunction_with_a_variational_parameter.ipynb\" target=\"_parent\"><img src=\"https://colab.research.google.com/assets/colab-badge.svg\" alt=\"Open In Colab\"/></a>"
      ]
    },
    {
      "cell_type": "code",
      "execution_count": null,
      "metadata": {
        "id": "coer1cusNLBJ"
      },
      "outputs": [],
      "source": [
        "import numpy as np\n",
        "\n",
        "# Define parameters\n",
        "num_samples = 1000\n",
        "alpha = 0.5  # Variational parameter\n",
        "\n",
        "def wavefunction(x, alpha):\n",
        "    \"\"\"Trial wavefunction with variational parameter alpha.\"\"\"\n",
        "    return np.exp(-alpha * x**2)\n",
        "\n",
        "def local_energy(x, alpha):\n",
        "    \"\"\"Local energy for a simple harmonic oscillator potential.\"\"\"\n",
        "    kinetic = -0.5 * (-2 * alpha + 4 * alpha**2 * x**2)\n",
        "    potential = 0.5 * x**2\n",
        "    return kinetic + potential\n",
        "\n",
        "# Monte Carlo sampling\n",
        "samples = []\n",
        "energies = []\n",
        "for _ in range(num_samples):\n",
        "    x = np.random.normal()  # Random sample from normal distribution\n",
        "    samples.append(x)\n",
        "    energies.append(local_energy(x, alpha))\n",
        "\n",
        "# Calculate expected energy\n",
        "avg_energy = np.mean(energies)\n",
        "print(\"Expected energy:\", avg_energy)"
      ]
    }
  ]
}